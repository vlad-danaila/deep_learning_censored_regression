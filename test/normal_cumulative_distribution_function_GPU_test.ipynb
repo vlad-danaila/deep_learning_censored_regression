{
  "nbformat": 4,
  "nbformat_minor": 0,
  "metadata": {
    "colab": {
      "name": "normal_cumulative_distribution_function_GPU_test",
      "provenance": []
    },
    "kernelspec": {
      "name": "python3",
      "display_name": "Python 3"
    },
    "accelerator": "GPU"
  },
  "cells": [
    {
      "cell_type": "code",
      "metadata": {
        "id": "8fUXqams1AJz",
        "colab_type": "code",
        "colab": {
          "base_uri": "https://localhost:8080/",
          "height": 1000
        },
        "outputId": "1235f0c7-0dca-41c6-c6f0-9c821189480b"
      },
      "source": [
        "!rm -vrf '/content/tobit_loss'"
      ],
      "execution_count": 1,
      "outputs": [
        {
          "output_type": "stream",
          "text": [
            "removed '/content/tobit_loss/test/normal_cumulative_distribution_function_test.py'\n",
            "removed '/content/tobit_loss/test/__init__.py'\n",
            "removed directory '/content/tobit_loss/test'\n",
            "removed '/content/tobit_loss/implementation/__init__.py'\n",
            "removed '/content/tobit_loss/implementation/util.py'\n",
            "removed '/content/tobit_loss/implementation/normal_cumulative_distribution_function.py'\n",
            "removed '/content/tobit_loss/implementation/__pycache__/__init__.cpython-36.pyc'\n",
            "removed '/content/tobit_loss/implementation/__pycache__/normal_cumulative_distribution_function.cpython-36.pyc'\n",
            "removed '/content/tobit_loss/implementation/__pycache__/util.cpython-36.pyc'\n",
            "removed directory '/content/tobit_loss/implementation/__pycache__'\n",
            "removed '/content/tobit_loss/implementation/tobit_loss_module.py'\n",
            "removed directory '/content/tobit_loss/implementation'\n",
            "removed '/content/tobit_loss/tobit_loss.py'\n",
            "removed '/content/tobit_loss/README.md'\n",
            "removed '/content/tobit_loss/LICENSE'\n",
            "removed '/content/tobit_loss/.gitignore'\n",
            "removed directory '/content/tobit_loss/.git/branches'\n",
            "removed '/content/tobit_loss/.git/logs/HEAD'\n",
            "removed '/content/tobit_loss/.git/logs/refs/heads/master'\n",
            "removed directory '/content/tobit_loss/.git/logs/refs/heads'\n",
            "removed '/content/tobit_loss/.git/logs/refs/remotes/origin/HEAD'\n",
            "removed directory '/content/tobit_loss/.git/logs/refs/remotes/origin'\n",
            "removed directory '/content/tobit_loss/.git/logs/refs/remotes'\n",
            "removed directory '/content/tobit_loss/.git/logs/refs'\n",
            "removed directory '/content/tobit_loss/.git/logs'\n",
            "removed '/content/tobit_loss/.git/description'\n",
            "removed '/content/tobit_loss/.git/objects/92/8c058ddbbbee2c85463c1de4e83e306471b89c'\n",
            "removed directory '/content/tobit_loss/.git/objects/92'\n",
            "removed '/content/tobit_loss/.git/objects/18/3b26cdd58bd6c8b5c47a0aeab9015811e9c7a5'\n",
            "removed directory '/content/tobit_loss/.git/objects/18'\n",
            "removed '/content/tobit_loss/.git/objects/ca/e5c560002912a269491af62cd0bd9d8cda815b'\n",
            "removed directory '/content/tobit_loss/.git/objects/ca'\n",
            "removed '/content/tobit_loss/.git/objects/85/6a1c54405e8d11eee59068a80c138173b7467a'\n",
            "removed directory '/content/tobit_loss/.git/objects/85'\n",
            "removed '/content/tobit_loss/.git/objects/52/648a35dadf63e71112b5a2d903a407e3f898d4'\n",
            "removed directory '/content/tobit_loss/.git/objects/52'\n",
            "removed '/content/tobit_loss/.git/objects/63/b228813f3368386578b7f81fb7b5b53419f6a2'\n",
            "removed directory '/content/tobit_loss/.git/objects/63'\n",
            "removed '/content/tobit_loss/.git/objects/98/8c8e845ea569eb37917a30c92ee4e7ad850190'\n",
            "removed directory '/content/tobit_loss/.git/objects/98'\n",
            "removed '/content/tobit_loss/.git/objects/d3/590f0e1579bd0b4154006a8a3bf48c4ddce553'\n",
            "removed directory '/content/tobit_loss/.git/objects/d3'\n",
            "removed '/content/tobit_loss/.git/objects/e9/7efda734219fd5ed9e1257e9ddf2e570c6363c'\n",
            "removed directory '/content/tobit_loss/.git/objects/e9'\n",
            "removed '/content/tobit_loss/.git/objects/e6/9de29bb2d1d6434b8b29ae775ad8c2e48c5391'\n",
            "removed directory '/content/tobit_loss/.git/objects/e6'\n",
            "removed '/content/tobit_loss/.git/objects/0e/94e23ac1b74a4aba5765dd9554a72b038266e2'\n",
            "removed directory '/content/tobit_loss/.git/objects/0e'\n",
            "removed '/content/tobit_loss/.git/objects/2d/6a691bef7dd7a85693d2b6acd4b5156ac61b22'\n",
            "removed directory '/content/tobit_loss/.git/objects/2d'\n",
            "removed '/content/tobit_loss/.git/objects/66/2422fd8d10d0cab316ac64621a9bba26c9efe6'\n",
            "removed directory '/content/tobit_loss/.git/objects/66'\n",
            "removed '/content/tobit_loss/.git/objects/68/63f102754098a3210b31ffebec309139735b11'\n",
            "removed directory '/content/tobit_loss/.git/objects/68'\n",
            "removed '/content/tobit_loss/.git/objects/1d/4e7389d3a3afc6a269e7e2ef175cea4d2b857e'\n",
            "removed directory '/content/tobit_loss/.git/objects/1d'\n",
            "removed '/content/tobit_loss/.git/objects/46/cf4241790e2dc7143a3fe1ab0d80b98066e295'\n",
            "removed directory '/content/tobit_loss/.git/objects/46'\n",
            "removed '/content/tobit_loss/.git/objects/d2/dab7fd65746e0adaacde5532d76506f0391450'\n",
            "removed directory '/content/tobit_loss/.git/objects/d2'\n",
            "removed directory '/content/tobit_loss/.git/objects/info'\n",
            "removed directory '/content/tobit_loss/.git/objects/pack'\n",
            "removed '/content/tobit_loss/.git/objects/96/17dc79c6a529695b53a0aaf401be572a46c563'\n",
            "removed directory '/content/tobit_loss/.git/objects/96'\n",
            "removed '/content/tobit_loss/.git/objects/b6/e47617de110dea7ca47e087ff1347cc2646eda'\n",
            "removed directory '/content/tobit_loss/.git/objects/b6'\n",
            "removed '/content/tobit_loss/.git/objects/d8/bc7263ce9421a559109e3c04d2d6029abdbf4c'\n",
            "removed directory '/content/tobit_loss/.git/objects/d8'\n",
            "removed '/content/tobit_loss/.git/objects/33/2461797f32e9b3a686cfd78b991215613950ad'\n",
            "removed directory '/content/tobit_loss/.git/objects/33'\n",
            "removed '/content/tobit_loss/.git/objects/24/cd92ba1f3381a4fed14a63c48772e888da60df'\n",
            "removed directory '/content/tobit_loss/.git/objects/24'\n",
            "removed '/content/tobit_loss/.git/objects/21/c45ed4b12b4242400bc28dfe25f7ddee7461bf'\n",
            "removed directory '/content/tobit_loss/.git/objects/21'\n",
            "removed '/content/tobit_loss/.git/objects/5e/cb7887981513cb7b2dd2937de7e15c02959686'\n",
            "removed directory '/content/tobit_loss/.git/objects/5e'\n",
            "removed directory '/content/tobit_loss/.git/objects'\n",
            "removed '/content/tobit_loss/.git/config'\n",
            "removed '/content/tobit_loss/.git/packed-refs'\n",
            "removed '/content/tobit_loss/.git/hooks/pre-receive.sample'\n",
            "removed '/content/tobit_loss/.git/hooks/post-update.sample'\n",
            "removed '/content/tobit_loss/.git/hooks/pre-commit.sample'\n",
            "removed '/content/tobit_loss/.git/hooks/update.sample'\n",
            "removed '/content/tobit_loss/.git/hooks/pre-applypatch.sample'\n",
            "removed '/content/tobit_loss/.git/hooks/pre-push.sample'\n",
            "removed '/content/tobit_loss/.git/hooks/fsmonitor-watchman.sample'\n",
            "removed '/content/tobit_loss/.git/hooks/commit-msg.sample'\n",
            "removed '/content/tobit_loss/.git/hooks/pre-rebase.sample'\n",
            "removed '/content/tobit_loss/.git/hooks/applypatch-msg.sample'\n",
            "removed '/content/tobit_loss/.git/hooks/prepare-commit-msg.sample'\n",
            "removed directory '/content/tobit_loss/.git/hooks'\n",
            "removed '/content/tobit_loss/.git/info/exclude'\n",
            "removed directory '/content/tobit_loss/.git/info'\n",
            "removed '/content/tobit_loss/.git/index'\n",
            "removed '/content/tobit_loss/.git/HEAD'\n",
            "removed '/content/tobit_loss/.git/refs/heads/master'\n",
            "removed directory '/content/tobit_loss/.git/refs/heads'\n",
            "removed '/content/tobit_loss/.git/refs/remotes/origin/HEAD'\n",
            "removed directory '/content/tobit_loss/.git/refs/remotes/origin'\n",
            "removed directory '/content/tobit_loss/.git/refs/remotes'\n",
            "removed directory '/content/tobit_loss/.git/refs/tags'\n",
            "removed directory '/content/tobit_loss/.git/refs'\n",
            "removed directory '/content/tobit_loss/.git'\n",
            "removed directory '/content/tobit_loss'\n"
          ],
          "name": "stdout"
        }
      ]
    },
    {
      "cell_type": "code",
      "metadata": {
        "id": "rQRGAk0nR4kF",
        "colab_type": "code",
        "colab": {
          "base_uri": "https://localhost:8080/",
          "height": 119
        },
        "outputId": "3cc3b46b-9dcb-4db2-d1ee-c67865270705"
      },
      "source": [
        "!git clone https://github.com/vlad-danaila/tobit_loss.git"
      ],
      "execution_count": 2,
      "outputs": [
        {
          "output_type": "stream",
          "text": [
            "Cloning into 'tobit_loss'...\n",
            "remote: Enumerating objects: 24, done.\u001b[K\n",
            "remote: Counting objects:   4% (1/24)\u001b[K\rremote: Counting objects:   8% (2/24)\u001b[K\rremote: Counting objects:  12% (3/24)\u001b[K\rremote: Counting objects:  16% (4/24)\u001b[K\rremote: Counting objects:  20% (5/24)\u001b[K\rremote: Counting objects:  25% (6/24)\u001b[K\rremote: Counting objects:  29% (7/24)\u001b[K\rremote: Counting objects:  33% (8/24)\u001b[K\rremote: Counting objects:  37% (9/24)\u001b[K\rremote: Counting objects:  41% (10/24)\u001b[K\rremote: Counting objects:  45% (11/24)\u001b[K\rremote: Counting objects:  50% (12/24)\u001b[K\rremote: Counting objects:  54% (13/24)\u001b[K\rremote: Counting objects:  58% (14/24)\u001b[K\rremote: Counting objects:  62% (15/24)\u001b[K\rremote: Counting objects:  66% (16/24)\u001b[K\rremote: Counting objects:  70% (17/24)\u001b[K\rremote: Counting objects:  75% (18/24)\u001b[K\rremote: Counting objects:  79% (19/24)\u001b[K\rremote: Counting objects:  83% (20/24)\u001b[K\rremote: Counting objects:  87% (21/24)\u001b[K\rremote: Counting objects:  91% (22/24)\u001b[K\rremote: Counting objects:  95% (23/24)\u001b[K\rremote: Counting objects: 100% (24/24)\u001b[K\rremote: Counting objects: 100% (24/24), done.\u001b[K\n",
            "remote: Compressing objects:   5% (1/17)\u001b[K\rremote: Compressing objects:  11% (2/17)\u001b[K\rremote: Compressing objects:  17% (3/17)\u001b[K\rremote: Compressing objects:  23% (4/17)\u001b[K\rremote: Compressing objects:  29% (5/17)\u001b[K\rremote: Compressing objects:  35% (6/17)\u001b[K\rremote: Compressing objects:  41% (7/17)\u001b[K\rremote: Compressing objects:  47% (8/17)\u001b[K\rremote: Compressing objects:  52% (9/17)\u001b[K\rremote: Compressing objects:  58% (10/17)\u001b[K\rremote: Compressing objects:  64% (11/17)\u001b[K\rremote: Compressing objects:  70% (12/17)\u001b[K\rremote: Compressing objects:  76% (13/17)\u001b[K\rremote: Compressing objects:  82% (14/17)\u001b[K\rremote: Compressing objects:  88% (15/17)\u001b[K\rremote: Compressing objects:  94% (16/17)\u001b[K\rremote: Compressing objects: 100% (17/17)\u001b[K\rremote: Compressing objects: 100% (17/17), done.\u001b[K\n",
            "remote: Total 24 (delta 8), reused 18 (delta 6), pack-reused 0\u001b[K\n",
            "Unpacking objects:   4% (1/24)   \rUnpacking objects:   8% (2/24)   \rUnpacking objects:  12% (3/24)   \rUnpacking objects:  16% (4/24)   \rUnpacking objects:  20% (5/24)   \rUnpacking objects:  25% (6/24)   \rUnpacking objects:  29% (7/24)   \rUnpacking objects:  33% (8/24)   \rUnpacking objects:  37% (9/24)   \rUnpacking objects:  41% (10/24)   \rUnpacking objects:  45% (11/24)   \rUnpacking objects:  50% (12/24)   \rUnpacking objects:  54% (13/24)   \rUnpacking objects:  58% (14/24)   \rUnpacking objects:  62% (15/24)   \rUnpacking objects:  66% (16/24)   \rUnpacking objects:  70% (17/24)   \rUnpacking objects:  75% (18/24)   \rUnpacking objects:  79% (19/24)   \rUnpacking objects:  83% (20/24)   \rUnpacking objects:  87% (21/24)   \rUnpacking objects:  91% (22/24)   \rUnpacking objects:  95% (23/24)   \rUnpacking objects: 100% (24/24)   \rUnpacking objects: 100% (24/24), done.\n"
          ],
          "name": "stdout"
        }
      ]
    },
    {
      "cell_type": "code",
      "metadata": {
        "id": "PwUDEV3quwFq",
        "colab_type": "code",
        "colab": {}
      },
      "source": [
        "import sys\n",
        "sys.path.insert(0, '/content/tobit_loss')\n",
        "from implementation.normal_cumulative_distribution_function import cdf"
      ],
      "execution_count": 3,
      "outputs": []
    },
    {
      "cell_type": "code",
      "metadata": {
        "id": "s36APid5wCNf",
        "colab_type": "code",
        "colab": {}
      },
      "source": [
        "from implementation.util import to_torch, to_numpy, normalize\n",
        "import torch as t\n",
        "from scipy.stats import norm\n",
        "import unittest\n",
        "import numpy as np\n",
        "from implementation.normal_cumulative_distribution_function import cdf\n",
        "from numpy.testing import assert_almost_equal\n",
        "\n",
        "input = [10, 15, 20, 25, 30]\n",
        "\n",
        "# manual gradient computing\n",
        "x = np.array(input)\n",
        "mean, std = x.mean(), x.std()\n",
        "x_normalized = normalize(x, mean, std)\n",
        "expected_cdf = norm.cdf(x_normalized)\n",
        "expected_log_likelihood = np.log(expected_cdf)\n",
        "expected_grad_log_likelihood_by_x = norm.pdf(x_normalized) / (expected_cdf * std)\n",
        "\n",
        "# automatic gradient computing\n",
        "x = to_torch(input, grad = True, device = 'cuda:0')\n",
        "# in this test mean & std are considered constants\n",
        "x_normalized = normalize(x, mean, std)\n",
        "cdf_result = cdf(x_normalized)\n",
        "assert_almost_equal(to_numpy(cdf_result), expected_cdf)\n",
        "\n",
        "log_likelihood_result = t.log(cdf_result)\n",
        "assert_almost_equal(to_numpy(log_likelihood_result), expected_log_likelihood)\n",
        "\n",
        "loss = t.sum(log_likelihood_result)\n",
        "loss.backward()\n",
        "\n",
        "assert_almost_equal(to_numpy(x.grad), expected_grad_log_likelihood_by_x)"
      ],
      "execution_count": 4,
      "outputs": []
    }
  ]
}