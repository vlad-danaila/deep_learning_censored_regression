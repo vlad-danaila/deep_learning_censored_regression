{
  "nbformat": 4,
  "nbformat_minor": 0,
  "metadata": {
    "colab": {
      "name": "Scaled Tobit Loss - Real Data.ipynb",
      "provenance": [],
      "collapsed_sections": [],
      "toc_visible": true
    },
    "kernelspec": {
      "display_name": "Python 3",
      "language": "python",
      "name": "python3"
    },
    "language_info": {
      "codemirror_mode": {
        "name": "ipython",
        "version": 3
      },
      "file_extension": ".py",
      "mimetype": "text/x-python",
      "name": "python",
      "nbconvert_exporter": "python",
      "pygments_lexer": "ipython3",
      "version": "3.6.9"
    },
    "gpuClass": "standard"
  },
  "cells": [
    {
      "cell_type": "markdown",
      "metadata": {
        "id": "6ZVteeZHM_f7"
      },
      "source": [
        "# Citations"
      ]
    },
    {
      "cell_type": "markdown",
      "metadata": {
        "id": "8VGoPzpJNEV-"
      },
      "source": [
        "This notebook uses the Beijing PM2.5 Data Data Set downloaded from the UCI Machine Learning Repository:\n",
        "https://archive.ics.uci.edu/ml/datasets/Beijing+PM2.5+Data\n",
        "\n",
        "**Dataset citation:**\n",
        "Liang, X., Zou, T., Guo, B., Li, S., Zhang, H., Zhang, S., Huang, H. and Chen, S. X. (2015). Assessing Beijing's PM2.5 pollution: severity, weather impact, APEC and winter heating. Proceedings of the Royal Society A, 471, 20150257.\n",
        "\n",
        "**UCI Machine Learning Repository citation:**\n",
        "re3data.org: UCI Machine Learning Repository; editing status 2017-10-30; re3data.org - Registry of Research Data Repositories. http://doi.org/10.17616/R3T91Q last accessed: 2020-12-20"
      ]
    },
    {
      "cell_type": "markdown",
      "metadata": {
        "id": "btSh7YlEbkiV"
      },
      "source": [
        "# General Setup"
      ]
    },
    {
      "cell_type": "code",
      "metadata": {
        "colab": {
          "base_uri": "https://localhost:8080/"
        },
        "id": "qFfU7l-Ebqea",
        "outputId": "acbcdcc9-5494-4ac9-ad33-02f079b1c636"
      },
      "source": [
        "!pip install scipy sklearn pandas 'torch-lr-finder==0.2.0'\n",
        "!rm -R '/content/tobit_loss'\n",
        "!git clone https://github.com/vlad-danaila/tobit_loss.git"
      ],
      "execution_count": null,
      "outputs": [
        {
          "output_type": "stream",
          "name": "stdout",
          "text": [
            "Looking in indexes: https://pypi.org/simple, https://us-python.pkg.dev/colab-wheels/public/simple/\n",
            "Requirement already satisfied: scipy in /usr/local/lib/python3.7/dist-packages (1.5.4)\n",
            "Requirement already satisfied: sklearn in /usr/local/lib/python3.7/dist-packages (0.0)\n",
            "Requirement already satisfied: pandas in /usr/local/lib/python3.7/dist-packages (1.3.5)\n",
            "Requirement already satisfied: torch-lr-finder==0.2.0 in /usr/local/lib/python3.7/dist-packages (0.2.0)\n",
            "Requirement already satisfied: packaging in /usr/local/lib/python3.7/dist-packages (from torch-lr-finder==0.2.0) (21.3)\n",
            "Requirement already satisfied: tqdm in /usr/local/lib/python3.7/dist-packages (from torch-lr-finder==0.2.0) (4.64.0)\n",
            "Requirement already satisfied: matplotlib in /usr/local/lib/python3.7/dist-packages (from torch-lr-finder==0.2.0) (3.2.2)\n",
            "Requirement already satisfied: torch>=0.4.1 in /usr/local/lib/python3.7/dist-packages (from torch-lr-finder==0.2.0) (1.12.0+cu113)\n",
            "Requirement already satisfied: numpy in /usr/local/lib/python3.7/dist-packages (from torch-lr-finder==0.2.0) (1.21.6)\n",
            "Requirement already satisfied: typing-extensions in /usr/local/lib/python3.7/dist-packages (from torch>=0.4.1->torch-lr-finder==0.2.0) (4.1.1)\n",
            "Requirement already satisfied: scikit-learn in /usr/local/lib/python3.7/dist-packages (from sklearn) (1.0.2)\n",
            "Requirement already satisfied: pytz>=2017.3 in /usr/local/lib/python3.7/dist-packages (from pandas) (2022.1)\n",
            "Requirement already satisfied: python-dateutil>=2.7.3 in /usr/local/lib/python3.7/dist-packages (from pandas) (2.8.2)\n",
            "Requirement already satisfied: six>=1.5 in /usr/local/lib/python3.7/dist-packages (from python-dateutil>=2.7.3->pandas) (1.15.0)\n",
            "Requirement already satisfied: cycler>=0.10 in /usr/local/lib/python3.7/dist-packages (from matplotlib->torch-lr-finder==0.2.0) (0.11.0)\n",
            "Requirement already satisfied: kiwisolver>=1.0.1 in /usr/local/lib/python3.7/dist-packages (from matplotlib->torch-lr-finder==0.2.0) (1.4.3)\n",
            "Requirement already satisfied: pyparsing!=2.0.4,!=2.1.2,!=2.1.6,>=2.0.1 in /usr/local/lib/python3.7/dist-packages (from matplotlib->torch-lr-finder==0.2.0) (3.0.9)\n",
            "Requirement already satisfied: joblib>=0.11 in /usr/local/lib/python3.7/dist-packages (from scikit-learn->sklearn) (1.1.0)\n",
            "Requirement already satisfied: threadpoolctl>=2.0.0 in /usr/local/lib/python3.7/dist-packages (from scikit-learn->sklearn) (3.1.0)\n",
            "Cloning into 'tobit_loss'...\n",
            "remote: Enumerating objects: 154, done.\u001b[K\n",
            "remote: Counting objects: 100% (154/154), done.\u001b[K\n",
            "remote: Compressing objects: 100% (107/107), done.\u001b[K\n",
            "remote: Total 154 (delta 92), reused 95 (delta 43), pack-reused 0\u001b[K\n",
            "Receiving objects: 100% (154/154), 33.09 KiB | 1.50 MiB/s, done.\n",
            "Resolving deltas: 100% (92/92), done.\n"
          ]
        }
      ]
    },
    {
      "cell_type": "markdown",
      "metadata": {
        "id": "qLGXhtwT84YZ"
      },
      "source": [
        "Add the Tobit loss to Python path."
      ]
    },
    {
      "cell_type": "code",
      "metadata": {
        "id": "ShX4Mc1H8vy7"
      },
      "source": [
        "import sys\n",
        "sys.path.insert(0, './tobit_loss')"
      ],
      "execution_count": null,
      "outputs": []
    },
    {
      "cell_type": "markdown",
      "metadata": {
        "id": "24sQN6HpC0gb"
      },
      "source": [
        "Imports"
      ]
    },
    {
      "cell_type": "code",
      "metadata": {
        "id": "bEo1lLmv9BOA"
      },
      "source": [
        "import torch as t\n",
        "from deep_tobit.util import to_torch, to_numpy, normalize, unnormalize, distinguish_censored_versus_observed_data\n",
        "from deep_tobit.loss import Scaled_Tobit_Loss\n",
        "from deep_tobit.normal_cumulative_distribution_function import cdf\n",
        "import numpy as np\n",
        "import matplotlib.pyplot as plt\n",
        "from scipy.stats import beta\n",
        "import random\n",
        "import sklearn as sk\n",
        "import sklearn.metrics\n",
        "import math\n",
        "from sklearn.model_selection import ParameterGrid\n",
        "from torch_lr_finder import LRFinder, TrainDataLoaderIter, ValDataLoaderIter\n",
        "import os\n",
        "import numpy.random\n",
        "import collections\n",
        "import pandas as pd\n",
        "import requests\n",
        "import sklearn.decomposition\n",
        "import traceback\n",
        "from scipy.stats import norm\n",
        "from typing import Tuple, Union"
      ],
      "execution_count": null,
      "outputs": []
    },
    {
      "cell_type": "markdown",
      "metadata": {
        "id": "6Gvvee1ORB-9"
      },
      "source": [
        "Constants"
      ]
    },
    {
      "cell_type": "code",
      "metadata": {
        "id": "w-p4kq80REIS"
      },
      "source": [
        "URL_BEIJING_PM_2_5_DATA_SET = 'https://archive.ics.uci.edu/ml/machine-learning-databases/00381/PRSA_data_2010.1.1-2014.12.31.csv'\n",
        "DATASET_FILE = 'Beijing PM2.5 dataset.csv'\n",
        "\n",
        "GRID_RESULTS_FILE = 'grid_results.tar'\n",
        "\n",
        "CHECKPOINT_DEEP_TOBIT_SCALED = 'scaled deep tobit model'\n",
        "CHECKPOINT_DEEP_TOBIT_SCALED_TRUNCATED = 'scaled truncated deep tobit model'\n",
        "CHECKPOINT_LINEAR_TOBIT_SCALED = 'scaled linear tobit model'\n",
        "CHECKPOINT_LINEAR_TRUNCATED_TOBIT_SCALED = 'scaled truncated linear tobit model'\n",
        "\n",
        "CENSOR_LOW_BOUND = 75\n",
        "CENSOR_HIGH_BOUND = 300\n",
        "LAYER_SIZE = 10\n",
        "CHECKPOINT_FREQUENCY = 10\n",
        "\n",
        "CUDA = t.cuda.is_available()\n",
        "\n",
        "# GRADIENT_CLIP = 1000"
      ],
      "execution_count": null,
      "outputs": []
    },
    {
      "cell_type": "markdown",
      "metadata": {
        "id": "I8WJLGKcQAzb"
      },
      "source": [
        "Reproducible experiments"
      ]
    },
    {
      "cell_type": "code",
      "metadata": {
        "id": "9cQ7XazCQAOA"
      },
      "source": [
        "SEED = 0\n",
        "t.manual_seed(SEED)\n",
        "t.cuda.manual_seed(SEED)\n",
        "t.cuda.manual_seed_all(SEED)\n",
        "t.backends.cudnn.deterministic = True\n",
        "t.backends.cudnn.benchmark = False\n",
        "np.random.seed(SEED)\n",
        "random.seed(SEED)"
      ],
      "execution_count": null,
      "outputs": []
    },
    {
      "cell_type": "markdown",
      "metadata": {
        "id": "xr20oFx6bf4m"
      },
      "source": [
        "# Model"
      ]
    },
    {
      "cell_type": "code",
      "metadata": {
        "id": "l3wmC7JXJyge"
      },
      "source": [
        "class DenseNetwork(t.nn.Module):\n",
        "\n",
        "  def __init__(self):\n",
        "    super().__init__()\n",
        "    self.layer_in = t.nn.Linear(46, LAYER_SIZE)\n",
        "    self.norm_1 = t.nn.BatchNorm1d(LAYER_SIZE, affine = False, momentum = None)\n",
        "    self.drop_1 = t.nn.Dropout(p = .2)\n",
        "    self.layer_hidden_1 = t.nn.Linear(LAYER_SIZE, LAYER_SIZE)\n",
        "    self.norm_2 = t.nn.BatchNorm1d(LAYER_SIZE, affine = False, momentum = None)\n",
        "    self.drop_2 = t.nn.Dropout(p = .2)\n",
        "    self.layer_out = t.nn.Linear(LAYER_SIZE, 1)\n",
        "\n",
        "  def forward(self, x):\n",
        "    x = t.nn.functional.relu(self.norm_1(self.layer_in(x)))\n",
        "    x = self.drop_1(x)\n",
        "    x = t.nn.functional.relu(self.norm_2(self.layer_hidden_1(x)))\n",
        "    x = self.drop_2(x)\n",
        "    x = self.layer_out(x)\n",
        "    return x"
      ],
      "execution_count": null,
      "outputs": []
    },
    {
      "cell_type": "code",
      "metadata": {
        "id": "g478W-6TN6sO"
      },
      "source": [
        "def get_model(cuda = CUDA, net = None):  \n",
        "  if net == None:\n",
        "    net = DenseNetwork()\n",
        "  if cuda:\n",
        "    net = net.cuda()\n",
        "  net = t.nn.DataParallel(net)\n",
        "  return net"
      ],
      "execution_count": null,
      "outputs": []
    },
    {
      "cell_type": "code",
      "metadata": {
        "id": "SVzRUi1FOkR1"
      },
      "source": [
        "def get_device(cuda = CUDA):\n",
        "  return 'cuda:0' if cuda else 'cpu'"
      ],
      "execution_count": null,
      "outputs": []
    },
    {
      "cell_type": "code",
      "metadata": {
        "id": "vhn3Ge0uGVap"
      },
      "source": [
        "def get_sigma(cuda = CUDA):\n",
        "  return t.tensor(1., requires_grad = True, device = get_device())"
      ],
      "execution_count": null,
      "outputs": []
    },
    {
      "cell_type": "markdown",
      "metadata": {
        "id": "KZOvdckibSUD"
      },
      "source": [
        "# Datasets"
      ]
    },
    {
      "cell_type": "code",
      "metadata": {
        "colab": {
          "base_uri": "https://localhost:8080/"
        },
        "id": "XXrlgscCFu9O",
        "outputId": "7c0d1cd1-b15b-46e7-eb6f-c7e36c179e11"
      },
      "source": [
        "r = requests.get(URL_BEIJING_PM_2_5_DATA_SET, allow_redirects=True)\n",
        "open(DATASET_FILE, 'wb').write(r.content)"
      ],
      "execution_count": null,
      "outputs": [
        {
          "output_type": "execute_result",
          "data": {
            "text/plain": [
              "2010494"
            ]
          },
          "metadata": {},
          "execution_count": 10
        }
      ]
    },
    {
      "cell_type": "code",
      "metadata": {
        "id": "ljPR58qokpdU"
      },
      "source": [
        "def load_dataframe(filter_null = True):\n",
        "  df = pd.read_csv(DATASET_FILE)\n",
        "  # exclude records without a measured pm2.5\n",
        "  if filter_null:\n",
        "    df = df[df['pm2.5'].notnull()]\n",
        "  return df"
      ],
      "execution_count": null,
      "outputs": []
    },
    {
      "cell_type": "code",
      "metadata": {
        "id": "iXYTKtm8X999"
      },
      "source": [
        "df = load_dataframe()"
      ],
      "execution_count": null,
      "outputs": []
    },
    {
      "cell_type": "code",
      "metadata": {
        "id": "r_EUZXQPGK3W"
      },
      "source": [
        "def train_df(df: pd.DataFrame):\n",
        "  return df[ df.year.isin([2010, 2011, 2012]) ]\n",
        "\n",
        "def val_df(df: pd.DataFrame):\n",
        "  return df[ df.year.isin([2013]) ]\n",
        "\n",
        "def test_df(df: pd.DataFrame):\n",
        "  return df[ df.year.isin([2014]) ]"
      ],
      "execution_count": null,
      "outputs": []
    },
    {
      "cell_type": "code",
      "metadata": {
        "id": "bWv4hFNzij1H",
        "colab": {
          "base_uri": "https://localhost:8080/"
        },
        "outputId": "19d0faa1-8e45-4ea3-9f06-945c06a10a2b"
      },
      "source": [
        "def y_train_mean_std(max_iterations = 10_000, early_stop_patience = 5, lr = 1e-6, epsilon = 1e-6):\n",
        "  df = train_df(load_dataframe())\n",
        "  ys = df['pm2.5'].values\n",
        "\n",
        "  real_mean, real_std = ys.mean(), ys.std()\n",
        "\n",
        "  y_single_valued, y_left_censored, y_right_censored = [], [], []\n",
        "  \n",
        "  for y in ys:\n",
        "    if y > CENSOR_LOW_BOUND and y < CENSOR_HIGH_BOUND:\n",
        "      y_single_valued.append(y)\n",
        "    elif y <= CENSOR_LOW_BOUND:\n",
        "      y_left_censored.append(CENSOR_LOW_BOUND)\n",
        "    elif y >= CENSOR_HIGH_BOUND:\n",
        "      y_right_censored.append(CENSOR_HIGH_BOUND)\n",
        "    else:\n",
        "      raise Exception('y outside of valid values, y = {}'.format(y[0]))\n",
        "\n",
        "  all = np.array(y_single_valued + y_left_censored + y_right_censored)\n",
        "  data_mean, data_std = all.mean(), all.std()\n",
        "\n",
        "  return data_mean.item(), data_std.item()\n",
        "\n",
        "y_mean, y_std = y_train_mean_std()\n",
        "print(f'mean = {y_mean}; std = {y_std}')"
      ],
      "execution_count": null,
      "outputs": [
        {
          "output_type": "stream",
          "name": "stdout",
          "text": [
            "mean = 115.89409452043574; std = 63.0676161648441\n"
          ]
        }
      ]
    },
    {
      "cell_type": "code",
      "metadata": {
        "id": "kPDm9XIKnMPD"
      },
      "source": [
        "bound_min = normalize(CENSOR_LOW_BOUND, y_mean, y_std)\n",
        "bound_max = normalize(CENSOR_HIGH_BOUND, y_mean, y_std)\n",
        "zero_normalized = normalize(0, y_mean, y_std)"
      ],
      "execution_count": null,
      "outputs": []
    },
    {
      "cell_type": "code",
      "metadata": {
        "id": "YJJJ_BdybdsI"
      },
      "source": [
        "numeric_features_column_names = ['DEWP', 'TEMP', 'PRES', 'Iws', 'Is', 'Ir']"
      ],
      "execution_count": null,
      "outputs": []
    },
    {
      "cell_type": "code",
      "metadata": {
        "id": "vhphcpYVbGs9"
      },
      "source": [
        "def x_numeric_fatures_train_mean_std():\n",
        "  df = train_df(load_dataframe())\n",
        "  numeric_fetures = df[numeric_features_column_names].values\n",
        "  mean, std = numeric_fetures.mean(axis = 0), numeric_fetures.std(axis = 0)\n",
        "  return mean, std\n",
        "\n",
        "x_numeric_fetures_mean, x_numeric_fetures_std = x_numeric_fatures_train_mean_std()"
      ],
      "execution_count": null,
      "outputs": []
    },
    {
      "cell_type": "code",
      "metadata": {
        "id": "8-ZxjvhD9WVH"
      },
      "source": [
        "def extract_features(df: pd.DataFrame, lower_bound = -math.inf, upper_bound = math.inf):\n",
        "  assert lower_bound <= upper_bound\n",
        "  # handle categorical features (one hot encoding)\n",
        "  one_hot = sk.preprocessing.OneHotEncoder(sparse = False)\n",
        "  month_one_hot = one_hot.fit_transform(np.expand_dims(df['month'].values, 1))\n",
        "  # day_one_hot = one_hot.fit_transform(np.expand_dims(df['day'].values, 1))\n",
        "  hour_one_hot = one_hot.fit_transform(np.expand_dims(df['hour'].values, 1))\n",
        "  combined_wind_direction_one_hot = one_hot.fit_transform(np.expand_dims(df['cbwd'].values, 1))\n",
        "  \n",
        "  # extract the numeric variables\n",
        "  numeric_fetures = df[numeric_features_column_names].values\n",
        "  numeric_fetures = normalize(numeric_fetures, x_numeric_fetures_mean, x_numeric_fetures_std)\n",
        "\n",
        "  # unite all features\n",
        "  x = np.hstack((month_one_hot, hour_one_hot, combined_wind_direction_one_hot, numeric_fetures))\n",
        "\n",
        "  # extract the results\n",
        "  y = df['pm2.5'].values\n",
        "  y = np.clip(y, lower_bound, upper_bound)\n",
        "  y = normalize(y, y_mean, y_std)\n",
        "  y = np.expand_dims(y, 1)\n",
        "\n",
        "  return x, y"
      ],
      "execution_count": null,
      "outputs": []
    },
    {
      "cell_type": "code",
      "metadata": {
        "id": "t__RqHjyA4OY"
      },
      "source": [
        "class PM_2_5_Dataset(t.utils.data.Dataset):\n",
        "  \n",
        "  def __init__(self, x: np.array, y: np.array, cuda = CUDA):\n",
        "    super().__init__()\n",
        "    self.x = t.tensor(x, requires_grad = True, dtype=t.float32)\n",
        "    self.y = t.tensor(y, requires_grad = True, dtype=t.float32)\n",
        "    if cuda:\n",
        "      self.x = self.x.cuda()\n",
        "      self.y = self.y.cuda()\n",
        "    \n",
        "  def __getitem__(self, i):\n",
        "    return self.x[i], self.y[i]\n",
        "\n",
        "  def __len__(self):\n",
        "    return len(self.y)"
      ],
      "execution_count": null,
      "outputs": []
    },
    {
      "cell_type": "code",
      "metadata": {
        "id": "tbZhSOY6Ysnx"
      },
      "source": [
        "def parse_datasets():\n",
        "  df = load_dataframe()\n",
        "  \n",
        "  # split into training / validation / test\n",
        "  df_train = train_df(df)\n",
        "  df_val = val_df(df)\n",
        "  df_test = test_df(df)\n",
        "\n",
        "  dataset_train = PM_2_5_Dataset(*extract_features(df_train, lower_bound = CENSOR_LOW_BOUND, upper_bound = CENSOR_HIGH_BOUND))\n",
        "  dataset_val = PM_2_5_Dataset(*extract_features(df_val, lower_bound = CENSOR_LOW_BOUND, upper_bound = CENSOR_HIGH_BOUND))\n",
        "  dataset_test = PM_2_5_Dataset(*extract_features(df_test))\n",
        "\n",
        "  return dataset_train, dataset_val, dataset_test\n",
        "\n",
        "dataset_train, dataset_val, dataset_test = parse_datasets()"
      ],
      "execution_count": null,
      "outputs": []
    },
    {
      "cell_type": "code",
      "metadata": {
        "id": "F5DNWKyXC1Rk"
      },
      "source": [
        "def pca(x, n_components = 1):\n",
        "  pca_encoder = sk.decomposition.PCA(n_components = n_components)\n",
        "  return pca_encoder.fit_transform(x)"
      ],
      "execution_count": null,
      "outputs": []
    },
    {
      "cell_type": "markdown",
      "metadata": {
        "id": "WKMHYoHCa5bW"
      },
      "source": [
        "# Plotting"
      ]
    },
    {
      "cell_type": "code",
      "metadata": {
        "id": "4hRXFDQ_aEp7"
      },
      "source": [
        "def plot_full_dataset(df: pd.DataFrame, size = 0.3, label = None, censored = False):\n",
        "  if censored:\n",
        "    x, y = extract_features(df, lower_bound = CENSOR_LOW_BOUND, upper_bound = CENSOR_HIGH_BOUND)\n",
        "  else:\n",
        "    x, y = extract_features(df)\n",
        "  x = pca(x)\n",
        "  if not censored:\n",
        "    min_max = [min(x), max(x)]\n",
        "    plt.plot(min_max, [bound_min] * 2, color = 'red')\n",
        "    plt.plot(min_max, [bound_max] * 2, color = 'red')\n",
        "    plt.plot(min_max, [zero_normalized] * 2, color = 'red')\n",
        "  plt.scatter(x, y, s = size, label = label)\n",
        "  plt.xlabel('unidimensional PCA')\n",
        "  plt.ylabel('PM2.5 (standardized)')\n",
        "  # plt.savefig(label + '.pdf', dpi = 300, format = 'pdf')"
      ],
      "execution_count": null,
      "outputs": []
    },
    {
      "cell_type": "code",
      "metadata": {
        "id": "SYG6v2BQqDHC"
      },
      "source": [
        "LOSS = 0\n",
        "ABS_ERR = 1\n",
        "R_SQUARED = 2"
      ],
      "execution_count": null,
      "outputs": []
    },
    {
      "cell_type": "code",
      "metadata": {
        "id": "hvQgu2vfuCjr"
      },
      "source": [
        "def plot_train_test(train, test, title, y_title):\n",
        "    plt.plot(range(len(train)), train, label = 'Train')\n",
        "    plt.plot(range(len(test)), test, label = 'Test')\n",
        "    plt.xlabel('Epochs')\n",
        "    plt.ylabel(y_title)\n",
        "    plt.title(title)\n",
        "    plt.legend()\n",
        "    # plt.savefig(title + '.png', dpi = 300, format = 'png')\n",
        "    plt.show()"
      ],
      "execution_count": null,
      "outputs": []
    },
    {
      "cell_type": "code",
      "metadata": {
        "id": "8nWeaULRuGF-"
      },
      "source": [
        "def plot_epochs(train_metrics_list, test_metrics_list):\n",
        "  test_r2 = list(map(lambda m: m[R_SQUARED], test_metrics_list))\n",
        "  test_err = list(map(lambda m: m[ABS_ERR], test_metrics_list))\n",
        "  test_loss = list(map(lambda m: m[LOSS], test_metrics_list))\n",
        "  train_r2 = list(map(lambda m: m[R_SQUARED], train_metrics_list))\n",
        "  train_err = list(map(lambda m: m[ABS_ERR], train_metrics_list))\n",
        "  train_loss = list(map(lambda m: m[LOSS], train_metrics_list))\n",
        "  plot_train_test(train_loss, test_loss, 'Loss', 'Loss')\n",
        "  plot_train_test(train_err, test_err, 'Absolute error', 'Absolute error')\n",
        "  plot_train_test(train_r2, test_r2, 'R squared', 'R squared')"
      ],
      "execution_count": null,
      "outputs": []
    },
    {
      "cell_type": "code",
      "metadata": {
        "id": "eQP63BJieGHN"
      },
      "source": [
        "def plot_net(model, df: pd.DataFrame, sigma = None, label = 'model prediction', with_std = False):\n",
        "  model.eval()\n",
        "  x, y_real = extract_features(df)\n",
        "  x_pca = pca(x)\n",
        "  dataset = PM_2_5_Dataset(x, y_real)\n",
        "  y_list = []\n",
        "  for i in range(len(dataset)):\n",
        "    x, _ = dataset[i]\n",
        "    y_pred = model.forward(x.reshape(1, -1))\n",
        "    # if sigma:\n",
        "      # y_pred = y_pred * sigma\n",
        "    y_list.append(y_pred[0].item())\n",
        "\n",
        "  x_pca = np.squeeze(x_pca)\n",
        "  np_y = np.array(y_list)\n",
        "  indices_sorted = np.argsort(x_pca)\n",
        "  \n",
        "  x_pca_sorted = x_pca[indices_sorted]\n",
        "  np_y_sorted = np_y[indices_sorted]\n",
        "\n",
        "  # plt.scatter(x_pca, y_list, s = .1, label = label)\n",
        "  \n",
        "  if with_std and sigma:\n",
        "    std = sigma.item()\n",
        "    print('Std is ', std)\n",
        "    plt.fill_between(x_pca_sorted, np_y_sorted + std, np_y_sorted - std, facecolor='gray', alpha=.6, label = 'Tobit std')\n",
        "\n",
        "  plt.scatter(x_pca_sorted, np_y_sorted, s = .1, label = label)"
      ],
      "execution_count": null,
      "outputs": []
    },
    {
      "cell_type": "code",
      "metadata": {
        "id": "LafAfqlaAXuP"
      },
      "source": [
        "def plot_std(model, df: pd.DataFrame, sigma = None):\n",
        "  model.eval()\n",
        "  x, y_real = extract_features(df)\n",
        "  x_pca = pca(x)\n",
        "  dataset = PM_2_5_Dataset(x, y_real)\n",
        "  x_list, y_list = [], []\n",
        "  for i in range(len(dataset)):\n",
        "    x, _ = dataset[i]\n",
        "    y_pred = model.forward(x.reshape(1, -1))\n",
        "    x_list.append(to_numpy(x))\n",
        "    y_list.append(y_pred[0].item())\n",
        "\n",
        "  x_list = np.array(x_list).squeeze()\n",
        "  x_pca = np.squeeze(x_pca)\n",
        "  np_y = np.array(y_list)\n",
        "  indices_sorted = np.argsort(x_pca)\n",
        "  \n",
        "  x_pca_sorted = x_pca[indices_sorted]\n",
        "  np_y_sorted = np_y[indices_sorted]\n",
        "  \n",
        "  std = sigma.item()\n",
        "  plt.fill_between(x_pca_sorted, np_y_sorted + std, np_y_sorted - std, facecolor='gray', alpha=.6, label = 'Tobit std')\n",
        "  min_max = [x_pca_sorted[0], x_pca_sorted[-1]]\n",
        "  plt.plot(min_max, [bound_min] * 2, color = 'red')\n",
        "  plt.plot(min_max, [bound_max] * 2, color = 'red')\n",
        "  plt.plot(min_max, [zero_normalized] * 2, color = 'red')"
      ],
      "execution_count": null,
      "outputs": []
    },
    {
      "cell_type": "markdown",
      "metadata": {
        "id": "iFb_01Z2avwQ"
      },
      "source": [
        "# Training"
      ]
    },
    {
      "cell_type": "code",
      "metadata": {
        "colab": {
          "base_uri": "https://localhost:8080/"
        },
        "id": "BWgGzkLHFlC5",
        "outputId": "4a6177d9-33cc-4453-999d-9cf227757b35"
      },
      "source": [
        "# n is the nb of samples, k is the nb of regressors (features)\n",
        "n = len(dataset_train)\n",
        "k = len(dataset_train[0][0])\n",
        "print(f'While calculating the adjusted R2, n = {n} and k = {k}')\n",
        "\n",
        "def adjusted_R2(y, y_pred):\n",
        "  r2 = sk.metrics.r2_score(y, y_pred)\n",
        "  return 1 - ( ( (1 - r2) * (n - 1) ) / (n - k - 1) )"
      ],
      "execution_count": null,
      "outputs": [
        {
          "output_type": "stream",
          "name": "stdout",
          "text": [
            "While calculating the adjusted R2, n = 24418 and k = 46\n"
          ]
        }
      ]
    },
    {
      "cell_type": "code",
      "metadata": {
        "id": "741SKP5JfZzH"
      },
      "source": [
        "def eval_network(model, loader, loss_fn, batch_size, is_eval_bounded = True):\n",
        "  model.eval()\n",
        "  with t.no_grad():\n",
        "    metrics = np.zeros(3)\n",
        "    total_weight = 0\n",
        "    for x, y, single_valued_indexes, left_censored_indexes, right_censored_indexes in loader:\n",
        "      y_single_valued = y[single_valued_indexes]\n",
        "      y_left_censored = y[left_censored_indexes]\n",
        "      y_right_censored = y[right_censored_indexes]\n",
        "      y_tuple = y_single_valued, y_left_censored, y_right_censored\n",
        "      y_pred = model.forward(x)\n",
        "      y_pred_single_valued = y_pred[single_valued_indexes]\n",
        "      y_pred_left_censored = y_pred[left_censored_indexes]\n",
        "      y_pred_right_censored = y_pred[right_censored_indexes]\n",
        "      y_pred_tuple = y_pred_single_valued, y_pred_left_censored, y_pred_right_censored\n",
        "      loss = loss_fn(y_pred_tuple, y_tuple)\n",
        "      # y_pred = y_pred * (loss_fn.sigma)\n",
        "      if is_eval_bounded:\n",
        "        y_pred = t.clamp(y_pred, min = bound_min, max = bound_max)\n",
        "      y_pred, y = to_numpy(y_pred), to_numpy(y)\n",
        "      weight = len(y) / batch_size\n",
        "      metrics[LOSS] += (loss.item() * weight)\n",
        "      metrics[ABS_ERR] += (sk.metrics.mean_absolute_error(y, y_pred) * weight)\n",
        "      metrics[R_SQUARED] += (adjusted_R2(y, y_pred) * weight)\n",
        "      total_weight += weight\n",
        "    metrics /= total_weight\n",
        "    return metrics"
      ],
      "execution_count": null,
      "outputs": []
    },
    {
      "cell_type": "code",
      "metadata": {
        "id": "H9_ebC0HraIU"
      },
      "source": [
        "def train_network(model, loss_fn, optimizer, scheduler, loader_train, loader_val, checkpoint_name, \n",
        "                  batch_size_train, batch_size_val, epochs, log = True):\n",
        "  metrics_train_per_epochs, metrics_test_per_epochs = [], []\n",
        "  best = [math.inf, math.inf, -math.inf]\n",
        "  try:\n",
        "    counter = 0\n",
        "    total_weight = 0\n",
        "    train_metrics = np.zeros(3)  \n",
        "    for epoch in range(epochs):    \n",
        "      try:\n",
        "        model.train()        \n",
        "        for x, y, single_valued_indexes, left_censored_indexes, right_censored_indexes in loader_train:\n",
        "          counter += 1\n",
        "          y_single_valued = y[single_valued_indexes]\n",
        "          y_left_censored = y[left_censored_indexes]\n",
        "          y_right_censored = y[right_censored_indexes]\n",
        "          y_tuple = y_single_valued, y_left_censored, y_right_censored\n",
        "          y_pred = model.forward(x)\n",
        "          y_pred_single_valued = y_pred[single_valued_indexes]\n",
        "          y_pred_left_censored = y_pred[left_censored_indexes]\n",
        "          y_pred_right_censored = y_pred[right_censored_indexes]\n",
        "          y_pred_tuple = y_pred_single_valued, y_pred_left_censored, y_pred_right_censored\n",
        "          loss = loss_fn(y_pred_tuple, y_tuple)\n",
        "          loss.backward()\n",
        "          # t.nn.utils.clip_grad_norm_(model.parameters(), GRADIENT_CLIP)\n",
        "          # t.nn.utils.clip_grad_norm_(loss_fn.sigma, GRADIENT_CLIP)\n",
        "          optimizer.step()\n",
        "          optimizer.zero_grad()\n",
        "          # y_pred = y_pred * (loss_fn.sigma)\n",
        "          y_pred = t.clamp(y_pred, min = bound_min, max = bound_max)\n",
        "          y_pred, y = to_numpy(y_pred), to_numpy(y)\n",
        "          weight = len(y) / batch_size_train\n",
        "          train_metrics[LOSS] += (loss.item() * weight)\n",
        "          train_metrics[ABS_ERR] += (sk.metrics.mean_absolute_error(y, y_pred) * weight)\n",
        "          train_metrics[R_SQUARED] += (adjusted_R2(y, y_pred) * weight)\n",
        "          total_weight += weight\n",
        "          scheduler.step()\n",
        "          if counter % CHECKPOINT_FREQUENCY == 0:\n",
        "            train_metrics /= total_weight  \n",
        "            metrics_train_per_epochs.append(train_metrics)\n",
        "            train_metrics = np.zeros(3)\n",
        "            total_weight = 0\n",
        "            test_metrics = eval_network(model, loader_val, loss_fn, batch_size_val)\n",
        "            metrics_test_per_epochs.append(test_metrics)\n",
        "            # if test_metrics[R_SQUARED] > best[R_SQUARED]:\n",
        "            if test_metrics[ABS_ERR] < best[ABS_ERR]:  \n",
        "              best = test_metrics\n",
        "              checkpoint_dict = {'model': model.state_dict()}\n",
        "              checkpoint_dict['sigma'] = loss_fn.sigma\n",
        "              t.save(checkpoint_dict, '{}.tar'.format(checkpoint_name))\n",
        "            if log:\n",
        "              print('Iteration {} abs err {} R2 {}'.format(counter, test_metrics[ABS_ERR], test_metrics[R_SQUARED]))\n",
        "      except:\n",
        "        traceback.print_exc() \n",
        "        break\n",
        "    print('Best absolute error:', best[ABS_ERR], 'R2:', best[R_SQUARED])\n",
        "    return metrics_train_per_epochs, metrics_test_per_epochs, best\n",
        "  except KeyboardInterrupt as e:\n",
        "    print('Training interrupted at epoch', epoch)"
      ],
      "execution_count": null,
      "outputs": []
    },
    {
      "cell_type": "markdown",
      "metadata": {
        "id": "bvSeai3n2cdp"
      },
      "source": [
        "# Learning Rate Range Test Setup"
      ]
    },
    {
      "cell_type": "code",
      "metadata": {
        "id": "qOZN9k1hESSx"
      },
      "source": [
        "def lr_iterator_callback(batch_data):\n",
        "  x, y, single_valued_indexes, left_censored_indexes, right_censored_indexes = batch_data\n",
        "  x_single_valued, y_single_valued = x[single_valued_indexes], y[single_valued_indexes]\n",
        "  x_left_censored, y_left_censored = x[left_censored_indexes], y[left_censored_indexes]\n",
        "  x_right_censored, y_right_censored = x[right_censored_indexes], y[right_censored_indexes]\n",
        "      \n",
        "  # Duplicate records if group contains only one record, otherwise it will not work with the normalisation layers of the model. \n",
        "  # It does not make sense to normalize a group of one element, and if doing so will throw an error.\n",
        "  if len(x_single_valued) == 1:\n",
        "    x_single_valued = t.cat((x_single_valued, x_single_valued))\n",
        "    y_single_valued = t.cat((y_single_valued, y_single_valued))\n",
        "  if len(x_left_censored) == 1:\n",
        "    x_left_censored = t.cat((x_left_censored, x_left_censored))\n",
        "    y_left_censored = t.cat((y_left_censored, y_left_censored))\n",
        "  if len(x_right_censored) == 1:\n",
        "    x_right_censored = t.cat((x_right_censored, x_right_censored))\n",
        "    y_right_censored = t.cat((y_right_censored, y_right_censored))\n",
        "\n",
        "  x_tuple = x_single_valued, x_left_censored, x_right_censored\n",
        "  y_tuple = y_single_valued, y_left_censored, y_right_censored\n",
        "  return x_tuple, y_tuple\n",
        "\n",
        "class CustomTrainIter(TrainDataLoaderIter):\n",
        "    def inputs_labels_from_batch(self, batch_data):\n",
        "        return lr_iterator_callback(batch_data)\n",
        "\n",
        "class CustomValIter(ValDataLoaderIter):\n",
        "    def inputs_labels_from_batch(self, batch_data):\n",
        "        return lr_iterator_callback(batch_data)"
      ],
      "execution_count": null,
      "outputs": []
    },
    {
      "cell_type": "code",
      "metadata": {
        "id": "hlhj97nwa0o6"
      },
      "source": [
        "class TobitModelWrapper(t.nn.Module):\n",
        "\n",
        "  def __init__(self, model):\n",
        "    super().__init__()\n",
        "    self.model = model\n",
        "\n",
        "  def forward(self, x):\n",
        "    # must be a list of single valued, left censored and right censored data\n",
        "    assert len(x) == 3\n",
        "    result = []\n",
        "    for i in range(3):\n",
        "      if x[i] is not None and len(x[i]) > 0:\n",
        "        result.append(self.model.forward(x[i]))\n",
        "      else:\n",
        "        result.append(t.tensor([], dtype = t.float32, device = get_device()))\n",
        "    return result"
      ],
      "execution_count": null,
      "outputs": []
    },
    {
      "cell_type": "code",
      "metadata": {
        "id": "BaJdZUEiEb7X"
      },
      "source": [
        "def lr_range_test_CEnsored(tobit_loader_train, tobit_loader_val, model = None, batch_size = 128, epochs = 5, start_lr = 1e-8, end_lr = 10, log_view = False, plt_file_name = '', cuda = CUDA, truncated_low = None, truncated_high = None):\n",
        "  if model == None:\n",
        "    model = get_model()\n",
        "  model = TobitModelWrapper(model)\n",
        "  device = get_device(cuda)\n",
        "  custom_train_iter = CustomTrainIter(tobit_loader_train)\n",
        "  custom_val_iter = CustomValIter(tobit_loader_val)\n",
        "  sigma = get_sigma(cuda)\n",
        "  loss_fn = Scaled_Tobit_Loss(sigma, device, truncated_low = truncated_low, truncated_high = truncated_high)\n",
        "  params = [\n",
        "    {'params': model.parameters()},\n",
        "    {'params': sigma}\n",
        "  ]\n",
        "  optimizer = t.optim.SGD(params, lr = start_lr)\n",
        "  try:\n",
        "    lr_finder = LRFinder(model, optimizer, loss_fn, device = device)\n",
        "    lr_finder.range_test(custom_train_iter, val_loader = custom_val_iter, end_lr = end_lr, num_iter = len(tobit_loader_train) * epochs, step_mode = \"linear\")\n",
        "    lr_range_test_plot = lr_finder.plot(skip_start = 0, skip_end = 0, log_lr = log_view)\n",
        "    lr_range_test_plot.figure.savefig('lr_range_test_{}.pdf'.format(plt_file_name), dpi = 300, format = 'pdf')\n",
        "    lr_finder.reset()\n",
        "  except:\n",
        "    traceback.print_exc() "
      ],
      "execution_count": null,
      "outputs": []
    },
    {
      "cell_type": "markdown",
      "metadata": {
        "id": "uw214cctyA5t"
      },
      "source": [
        "# Grid Search Setup"
      ]
    },
    {
      "cell_type": "code",
      "metadata": {
        "id": "VCoFR-BjkyQ_"
      },
      "source": [
        "def grid_search(grid_config, train_callback, checkpoint_name, nb_iterations = 1, conf_validation = None):\n",
        "  configs = ParameterGrid(grid_config)\n",
        "  configs_len = len(configs)\n",
        "  counter = 0\n",
        "  checkpoint_file = checkpoint_name + '.tar'\n",
        "  grid_checkpoint_file = 'grid ' + checkpoint_file\n",
        "  try:\n",
        "    resume_grid_search = t.load(GRID_RESULTS_FILE)\n",
        "  except FileNotFoundError:\n",
        "    resume_grid_search = None\n",
        "\n",
        "  results = {}\n",
        "  best = [math.inf, math.inf, -math.inf]\n",
        "  if resume_grid_search is not None and 'best' in resume_grid_search:\n",
        "    best_conf = resume_grid_search['best']\n",
        "    print('Best previous configuration', best_conf)\n",
        "    best = resume_grid_search[str(best_conf)]\n",
        "    print(f'Best previous metrics abs err = {best[ABS_ERR]}, R2 = {best[R_SQUARED]}')\n",
        "    results = resume_grid_search\n",
        "\n",
        "  for conf in ParameterGrid(grid_config):\n",
        "    counter += 1\n",
        "    \n",
        "    if resume_grid_search is not None and str(conf) in resume_grid_search:\n",
        "        print('Allready evaluated configuration', conf)\n",
        "        continue\n",
        "\n",
        "    if not conf_validation(conf):\n",
        "      print('Skipping over configuration', conf)\n",
        "      results[str(conf)] = 'invalid'\n",
        "      continue\n",
        "    \n",
        "    print('-' * 5, 'grid search {}/{}'.format(counter, configs_len), '-' * 5)\n",
        "    print('Config:', conf)\n",
        "    \n",
        "    best_from_iterations = [math.inf, math.inf, -math.inf]\n",
        "    \n",
        "    for i in range(nb_iterations):\n",
        "      if nb_iterations != 1:\n",
        "        print('Iteration', i + 1)\n",
        "      metrics = train_callback(conf)\n",
        "      \n",
        "      # if metrics[R_SQUARED] > best[R_SQUARED]:\n",
        "      if metrics[ABS_ERR] < best[ABS_ERR]:  \n",
        "        best_from_iterations = metrics\n",
        "\n",
        "      # if metrics[R_SQUARED] > best[R_SQUARED]:\n",
        "      if metrics[ABS_ERR] < best[ABS_ERR]:  \n",
        "        best = metrics\n",
        "        results['best'] = conf\n",
        "        if os.path.exists(grid_checkpoint_file):\n",
        "          os.remove(grid_checkpoint_file)\n",
        "        os.rename(checkpoint_file, grid_checkpoint_file)  \n",
        "    else:\n",
        "      results[str(conf)] = best_from_iterations\n",
        "      t.save(results, GRID_RESULTS_FILE)\n",
        "    \n",
        "  return best"
      ],
      "execution_count": null,
      "outputs": []
    },
    {
      "cell_type": "code",
      "metadata": {
        "id": "ne5cZSv4Habn"
      },
      "source": [
        "def train_and_evaluate_CEnsored(checkpoint, model_fn = get_model, plot = False, log = True, cuda = CUDA, truncated_low = None, truncated_high = None):\n",
        "  def grid_callback(conf):\n",
        "    loader_train = t.utils.data.DataLoader(dataset_train, batch_size = conf['batch'], shuffle = True, num_workers = 0, collate_fn = censored_collate_fn)\n",
        "    loader_val = t.utils.data.DataLoader(dataset_val, batch_size = len(dataset_val), shuffle = False, num_workers = 0, collate_fn = censored_collate_fn)\n",
        "\n",
        "    model = model_fn()\n",
        "    sigma = get_sigma(cuda)\n",
        "    loss_fn = Scaled_Tobit_Loss(sigma, get_device(cuda), truncated_low = truncated_low, truncated_high = truncated_high)\n",
        "    params = [\n",
        "      {'params': model.parameters()},\n",
        "      {'params': sigma}\n",
        "    ]\n",
        "    optimizer = t.optim.SGD(params, lr = conf['max_lr'] / conf['div_factor'], momentum = conf['max_momentum'], weight_decay = conf['weight_decay'])\n",
        "    scheduler = t.optim.lr_scheduler.OneCycleLR(\n",
        "      optimizer, \n",
        "      max_lr = conf['max_lr'], \n",
        "      steps_per_epoch = len(loader_train), \n",
        "      epochs = conf['epochs'],\n",
        "      pct_start = conf['pct_start'],\n",
        "      anneal_strategy = conf['anneal_strategy'],\n",
        "      base_momentum = conf['base_momentum'],\n",
        "      max_momentum = conf['max_momentum'],\n",
        "      div_factor = conf['div_factor'],\n",
        "      final_div_factor = conf['final_div_factor']\n",
        "    )\n",
        "    train_metrics, val_metrics, best = train_network(\n",
        "        model, loss_fn, optimizer, scheduler, loader_train, loader_val, checkpoint, conf['batch'], len(dataset_val), conf['epochs'], log = log)\n",
        "    if plot:\n",
        "      plot_epochs(train_metrics, val_metrics)\n",
        "    return best\n",
        "  return grid_callback"
      ],
      "execution_count": null,
      "outputs": []
    },
    {
      "cell_type": "code",
      "metadata": {
        "id": "xMFl7-RVzKq1"
      },
      "source": [
        "def config_validation(conf):\n",
        "  return conf['div_factor'] <= conf['final_div_factor'] and conf['max_momentum'] >= conf['base_momentum']"
      ],
      "execution_count": null,
      "outputs": []
    },
    {
      "cell_type": "markdown",
      "metadata": {
        "id": "uNEONLmCeB3v"
      },
      "source": [
        "# Plot Selected(With Grid) Model"
      ]
    },
    {
      "cell_type": "code",
      "metadata": {
        "id": "zQODjvFmA_TU"
      },
      "source": [
        "def plot_and_evaluate_CEnsored(checkpoint_name, isGrid = True, model_fn = get_model, truncated_low = None, truncated_high = None):\n",
        "  checkpoint = t.load(('grid ' if isGrid else '') + checkpoint_name + '.tar', map_location=t.device('cpu'))\n",
        "  model = model_fn()\n",
        "  model.load_state_dict(checkpoint['model'])\n",
        "  plot_full_dataset(test_df(df), size = .3, label = 'ground truth')\n",
        "  plot_net(model, test_df(df), sigma = checkpoint['sigma'])\n",
        "  plt.xlabel('unidimensional PCA')\n",
        "  plt.ylabel('PM2.5 (standardized)')\n",
        "  plt.ylim([-6, 9])\n",
        "  lgnd = plt.legend(loc='upper left')\n",
        "  lgnd.legendHandles[0]._sizes = [10]\n",
        "  lgnd.legendHandles[1]._sizes = [10]\n",
        "  plt.savefig('{}.pdf'.format(checkpoint_name), dpi = 300, format = 'pdf')\n",
        "  plt.savefig('{}.svg'.format(checkpoint_name), dpi = 300, format = 'svg')\n",
        "  plt.savefig('{}.png'.format(checkpoint_name), dpi = 200, format = 'png')\n",
        "  plt.show()\n",
        "\n",
        "  plot_full_dataset(test_df(df), size = .3, label = 'ground truth')\n",
        "  plot_net(model, test_df(df), sigma = checkpoint['sigma'], with_std = True)\n",
        "  plt.xlabel('unidimensional PCA')\n",
        "  plt.ylabel('PM2.5 (standardized)')\n",
        "  plt.ylim([-6, 9])\n",
        "  lgnd = plt.legend(loc='upper left')\n",
        "  lgnd.legendHandles[0]._sizes = [10]\n",
        "  lgnd.legendHandles[1]._sizes = [10]\n",
        "  lgnd.legendHandles[2]._sizes = [10]\n",
        "  plt.savefig('{}-with-std.pdf'.format(checkpoint_name), dpi = 300, format = 'pdf')\n",
        "  plt.savefig('{}-with-std.svg'.format(checkpoint_name), dpi = 300, format = 'svg')\n",
        "  plt.savefig('{}-with-std.png'.format(checkpoint_name), dpi = 200, format = 'png')\n",
        "  plt.show()\n",
        "\n",
        "  plot_std(model, test_df(df), sigma = checkpoint['sigma'])\n",
        "  plt.ylim([-6, 9])\n",
        "  plt.xlabel('unidimensional PCA')\n",
        "  plt.ylabel('PM2.5 (standardized)')\n",
        "  plt.ylim([-5, 9])\n",
        "  lgnd = plt.legend(loc='upper left')\n",
        "  lgnd.legendHandles[0]._sizes = [10]\n",
        "  plt.savefig('{}-std-only.pdf'.format(checkpoint_name), dpi = 300, format = 'pdf')\n",
        "  plt.savefig('{}-std-only.svg'.format(checkpoint_name), dpi = 300, format = 'svg')\n",
        "  plt.savefig('{}-std-only.png'.format(checkpoint_name), dpi = 200, format = 'png')\n",
        "  plt.show()\n",
        "\n",
        "  loss_fn = Scaled_Tobit_Loss(checkpoint['sigma'], get_device(), truncated_low = truncated_low, truncated_high = truncated_high)\n",
        "\n",
        "  loader_val = t.utils.data.DataLoader(dataset_val, batch_size = len(dataset_val), shuffle = False, num_workers = 0, collate_fn = censored_collate_fn)\n",
        "  val_metrics = eval_network(model, loader_val, loss_fn, len(dataset_val))\n",
        "  print('Absolute error - validation', val_metrics[ABS_ERR])\n",
        "  print('R2 - validation', val_metrics[R_SQUARED])\n",
        "\n",
        "  loader_test = t.utils.data.DataLoader(dataset_test, batch_size = len(dataset_test), shuffle = False, num_workers = 0, collate_fn = uncensored_collate_fn)\n",
        "  test_metrics = eval_network(model, loader_test, loss_fn, len(dataset_test), is_eval_bounded = False)\n",
        "  print('Absolute error - test', test_metrics[ABS_ERR])\n",
        "  print('R2 - test', test_metrics[R_SQUARED])\n",
        "  print('Std', checkpoint['sigma'])"
      ],
      "execution_count": null,
      "outputs": []
    },
    {
      "cell_type": "markdown",
      "metadata": {
        "id": "DpBVq2yam9OQ"
      },
      "source": [
        "# Common Tobit Setup"
      ]
    },
    {
      "cell_type": "code",
      "metadata": {
        "id": "22hdOEeTAoVz"
      },
      "source": [
        "class PM_2_5_Raw_Dataset(t.utils.data.Dataset):\n",
        "  \n",
        "  def __init__(self, x: np.array, y: np.array, cuda = CUDA):\n",
        "    super().__init__()\n",
        "    self.x = x\n",
        "    self.y = y\n",
        "    \n",
        "  def __getitem__(self, i):\n",
        "    return self.x[i], self.y[i]\n",
        "\n",
        "  def __len__(self):\n",
        "    return len(self.y)"
      ],
      "execution_count": null,
      "outputs": []
    },
    {
      "cell_type": "code",
      "metadata": {
        "id": "HuEGt4uDwz0K"
      },
      "source": [
        "censored_collate_fn = distinguish_censored_versus_observed_data(bound_min, bound_max)\n",
        "uncensored_collate_fn = distinguish_censored_versus_observed_data(-math.inf, math.inf)"
      ],
      "execution_count": null,
      "outputs": []
    },
    {
      "cell_type": "code",
      "metadata": {
        "id": "WoXcVqPnSH0E"
      },
      "source": [
        "def plot_tobit_loader(loader):\n",
        "  x_list, y_list = [], []\n",
        "  for x, y, single_valued_indexes, left_censored_indexes, right_censored_indexes in loader:\n",
        "      for k in range(len(x)):\n",
        "        x_list.append(to_numpy(x[k]))\n",
        "        y_list.append(y[k].item())\n",
        "  x_pca = pca(x_list)\n",
        "  plt.scatter(x_pca, y_list, s = .01)\n",
        "  plt.show()"
      ],
      "execution_count": null,
      "outputs": []
    },
    {
      "cell_type": "code",
      "metadata": {
        "id": "70NHV_CvrWFy"
      },
      "source": [
        "tobit_loader_train = t.utils.data.DataLoader(dataset_train, batch_size = 100, shuffle = True, num_workers = 0, collate_fn = censored_collate_fn)\n",
        "tobit_loader_val = t.utils.data.DataLoader(dataset_val, batch_size = len(dataset_val), shuffle = False, num_workers = 0, collate_fn = censored_collate_fn)\n",
        "tobit_loader_test = t.utils.data.DataLoader(dataset_test, batch_size = len(dataset_test), shuffle = False, num_workers = 0, collate_fn = uncensored_collate_fn)"
      ],
      "execution_count": null,
      "outputs": []
    },
    {
      "cell_type": "code",
      "metadata": {
        "id": "5GDZ2rN9SX5g"
      },
      "source": [
        "# plot_tobit_loader(tobit_loader_train)\n",
        "# plot_tobit_loader(tobit_loader_val)\n",
        "# plot_tobit_loader(tobit_loader_test)"
      ],
      "execution_count": null,
      "outputs": []
    },
    {
      "cell_type": "markdown",
      "metadata": {
        "id": "3XEy3G3_FgQe"
      },
      "source": [
        "# Scaled Deep Tobit"
      ]
    },
    {
      "cell_type": "markdown",
      "metadata": {
        "id": "2z-GIF1Tmhsn"
      },
      "source": [
        "## Learning Rate Range Test"
      ]
    },
    {
      "cell_type": "code",
      "metadata": {
        "id": "mv3DusxdO5wX"
      },
      "source": [
        "# lr_range_test_CEnsored(tobit_loader_train, tobit_loader_val, batch_size = 100, epochs = 1, start_lr = 1e-8, end_lr = 1e-1, log_view = False, plt_file_name = 'deep_tobit')"
      ],
      "execution_count": null,
      "outputs": []
    },
    {
      "cell_type": "markdown",
      "metadata": {
        "id": "64m45RoD4GC6"
      },
      "source": [
        "## Grid Search"
      ]
    },
    {
      "cell_type": "code",
      "metadata": {
        "id": "DVJI0U_AyOr-"
      },
      "source": [
        "train_and_evaluate_net = train_and_evaluate_CEnsored(CHECKPOINT_DEEP_TOBIT_SCALED, model_fn = get_model, plot = False, log = False)"
      ],
      "execution_count": null,
      "outputs": []
    },
    {
      "cell_type": "code",
      "metadata": {
        "id": "J03sqm5VxqlY"
      },
      "source": [
        "# conf = {\n",
        "#     'max_lr': 1e-4,\n",
        "#     'epochs': 10,\n",
        "#     'batch': 100,\n",
        "#     'pct_start': 0.3,\n",
        "#     'anneal_strategy': 'linear',\n",
        "#     'base_momentum': 0.85,\n",
        "#     'max_momentum': 0.95,\n",
        "#     'div_factor': 5,\n",
        "#     'final_div_factor': 1e4,\n",
        "#     'weight_decay': 0\n",
        "# }\n",
        "# train_and_evaluate_net(conf)"
      ],
      "execution_count": null,
      "outputs": []
    },
    {
      "cell_type": "code",
      "metadata": {
        "id": "yaA0fend1pnR"
      },
      "source": [
        "# grid_config = [{\n",
        "#     'max_lr': [1e-5, 5e-5, 1e-4, 5e-4, 1e-3, 5e-3],\n",
        "#     'epochs': [10, 20],\n",
        "#     'batch': [100, 200],\n",
        "#     'pct_start': [0.45],\n",
        "#     'anneal_strategy': ['linear'],\n",
        "#     'base_momentum': [0.85],\n",
        "#     'max_momentum': [0.95],\n",
        "#     'div_factor': [10, 5, 2],\n",
        "#     'final_div_factor': [1e4],\n",
        "#     'weight_decay': [0]\n",
        "# }]\n",
        "\n",
        "# grid_best = grid_search(grid_config, train_and_evaluate_net, CHECKPOINT_DEEP_TOBIT_SCALED, conf_validation = config_validation)\n",
        "# print(grid_best)"
      ],
      "execution_count": null,
      "outputs": []
    },
    {
      "cell_type": "code",
      "metadata": {
        "id": "Rgtzmp4DyPDO"
      },
      "source": [
        "# plot_and_evaluate_CEnsored(CHECKPOINT_DEEP_TOBIT_SCALED, model_fn = get_model, isGrid = False)\n",
        "# plot_and_evaluate_CEnsored(CHECKPOINT_DEEP_TOBIT_SCALED, model_fn = get_model, isGrid = True)"
      ],
      "execution_count": null,
      "outputs": []
    },
    {
      "cell_type": "code",
      "metadata": {
        "id": "WEhYP9-98oJb"
      },
      "source": [
        "# grid_results = t.load(GRID_RESULTS_FILE)\n",
        "# best_config = grid_results['best']\n",
        "# best_metrics = grid_results[str(best_config)]\n",
        "# print(best_config)\n",
        "# print(best_metrics)"
      ],
      "execution_count": null,
      "outputs": []
    },
    {
      "cell_type": "markdown",
      "metadata": {
        "id": "WqjahEPSms8K"
      },
      "source": [
        "# Scaled Deep Tobit With Truncation"
      ]
    },
    {
      "cell_type": "markdown",
      "metadata": {
        "id": "9KE0CmK0rzfA"
      },
      "source": [
        "## Learning Rate Range Test"
      ]
    },
    {
      "cell_type": "code",
      "metadata": {
        "id": "5j-ID4OUr3Q-"
      },
      "source": [
        "# lr_range_test_CEnsored(tobit_loader_train, tobit_loader_val, batch_size = 100, epochs = 1, start_lr = 1e-8, end_lr = 1e-1, log_view = False, plt_file_name = 'deep_tobit', truncated_low = zero_normalized)"
      ],
      "execution_count": null,
      "outputs": []
    },
    {
      "cell_type": "markdown",
      "metadata": {
        "id": "6N5yKYTenXqn"
      },
      "source": [
        "## Grid Search"
      ]
    },
    {
      "cell_type": "code",
      "metadata": {
        "id": "tYzzyL--nbjD"
      },
      "source": [
        "train_and_evaluate_net = train_and_evaluate_CEnsored(CHECKPOINT_DEEP_TOBIT_SCALED_TRUNCATED, model_fn = get_model, plot = False, log = False, truncated_low = zero_normalized)"
      ],
      "execution_count": null,
      "outputs": []
    },
    {
      "cell_type": "code",
      "metadata": {
        "id": "NQ_OAfpFnqxb"
      },
      "source": [
        "# conf = {\n",
        "#     'max_lr': 1e-4,\n",
        "#     'epochs': 10,\n",
        "#     'batch': 100,\n",
        "#     'pct_start': 0.3,\n",
        "#     'anneal_strategy': 'linear',\n",
        "#     'base_momentum': 0.85,\n",
        "#     'max_momentum': 0.95,\n",
        "#     'div_factor': 5,\n",
        "#     'final_div_factor': 1e4,\n",
        "#     'weight_decay': 0\n",
        "# }\n",
        "# train_and_evaluate_net(conf)"
      ],
      "execution_count": null,
      "outputs": []
    },
    {
      "cell_type": "code",
      "metadata": {
        "id": "BBZ1g0O5nuVi"
      },
      "source": [
        "# grid_config = [{\n",
        "#     'max_lr': [1e-5, 5e-5, 1e-4, 5e-4, 1e-3, 5e-3],\n",
        "#     'epochs': [10, 20],\n",
        "#     'batch': [100, 200],\n",
        "#     'pct_start': [0.45],\n",
        "#     'anneal_strategy': ['linear'],\n",
        "#     'base_momentum': [0.85],\n",
        "#     'max_momentum': [0.95],\n",
        "#     'div_factor': [10, 5, 2],\n",
        "#     'final_div_factor': [1e4],\n",
        "#     'weight_decay': [0]\n",
        "# }]\n",
        "\n",
        "# grid_best = grid_search(grid_config, train_and_evaluate_net, CHECKPOINT_DEEP_TOBIT_SCALED_TRUNCATED, conf_validation = config_validation, nb_iterations = 1)\n",
        "# print(grid_best)"
      ],
      "execution_count": null,
      "outputs": []
    },
    {
      "cell_type": "code",
      "metadata": {
        "id": "sAjkvBM5n4k_",
        "colab": {
          "base_uri": "https://localhost:8080/",
          "height": 907
        },
        "outputId": "e78f30f3-95f4-4439-a52b-a93f35093fe5"
      },
      "source": [
        "# plot_and_evaluate_CEnsored(CHECKPOINT_DEEP_TOBIT_SCALED_TRUNCATED, model_fn = get_model, isGrid = False)\n",
        "plot_and_evaluate_CEnsored(CHECKPOINT_DEEP_TOBIT_SCALED_TRUNCATED, model_fn = get_model, isGrid = True)"
      ],
      "execution_count": null,
      "outputs": [
        {
          "output_type": "display_data",
          "data": {
            "text/plain": [
              "<Figure size 432x288 with 1 Axes>"
            ],
            "image/png": "[encoded data removed]"
          },
          "metadata": {
            "needs_background": "light"
          }
        },
        {
          "output_type": "stream",
          "name": "stdout",
          "text": [
            "Std is  0.9013664126396179\n"
          ]
        },
        {
          "output_type": "display_data",
          "data": {
            "text/plain": [
              "<Figure size 432x288 with 1 Axes>"
            ],
            "image/png": "[encoded data removed]"
          },
          "metadata": {
            "needs_background": "light"
          }
        },
        {
          "output_type": "display_data",
          "data": {
            "text/plain": [
              "<Figure size 432x288 with 1 Axes>"
            ],
            "image/png": "[encoded data removed]"
          },
          "metadata": {
            "needs_background": "light"
          }
        },
        {
          "output_type": "stream",
          "name": "stdout",
          "text": [
            "Absolute error - validation 0.45042353868484497\n",
            "R2 - validation 0.41497463863270456\n",
            "Absolute error - test 0.7443013787269592\n",
            "R2 - test 0.468842546759325\n",
            "Std tensor(0.9014, requires_grad=True)\n"
          ]
        }
      ]
    },
    {
      "cell_type": "code",
      "metadata": {
        "id": "DSUUJB5OpP5a"
      },
      "source": [
        "# results = t.load('/content/grid_results.tar')\n",
        "# print(len(results))\n",
        "# print(results['best'])\n",
        "# print(results[str(results['best'])])"
      ],
      "execution_count": null,
      "outputs": []
    },
    {
      "cell_type": "markdown",
      "metadata": {
        "id": "-9oonGlQuCku"
      },
      "source": [
        "# Scaled Linear Tobit"
      ]
    },
    {
      "cell_type": "code",
      "metadata": {
        "id": "aJEAVDMViXi4"
      },
      "source": [
        "def linear_model():\n",
        "  model = t.nn.Linear(46, 1)\n",
        "  if CUDA:\n",
        "    model = model.cuda()\n",
        "  return model"
      ],
      "execution_count": null,
      "outputs": []
    },
    {
      "cell_type": "markdown",
      "metadata": {
        "id": "R0U_I6RVyYiW"
      },
      "source": [
        "## Learning Rate Range Test"
      ]
    },
    {
      "cell_type": "code",
      "metadata": {
        "id": "QYu8jKrIuSA7"
      },
      "source": [
        "# lr_range_test_CEnsored(tobit_loader_train, tobit_loader_val, model = linear_model(), batch_size = 100, epochs = 1, start_lr = 1e-3, end_lr = 1e-1, log_view = False, plt_file_name = 'linear_tobit')"
      ],
      "execution_count": null,
      "outputs": []
    },
    {
      "cell_type": "markdown",
      "metadata": {
        "id": "MX8Bqhmoy-s4"
      },
      "source": [
        "## Grid Search"
      ]
    },
    {
      "cell_type": "code",
      "metadata": {
        "id": "JY7y2ZLozBfA"
      },
      "source": [
        "train_and_evaluate_net = train_and_evaluate_CEnsored(CHECKPOINT_LINEAR_TOBIT_SCALED, linear_model, plot = False, log = False)"
      ],
      "execution_count": null,
      "outputs": []
    },
    {
      "cell_type": "code",
      "metadata": {
        "id": "2oZ3u05QzwU4"
      },
      "source": [
        "# conf = {\n",
        "#     'max_lr': 1e-4,\n",
        "#     'epochs': 10,\n",
        "#     'batch': 100,\n",
        "#     'pct_start': 0.3,\n",
        "#     'anneal_strategy': 'linear',\n",
        "#     'base_momentum': 0.85,\n",
        "#     'max_momentum': 0.95,\n",
        "#     'div_factor': 5,\n",
        "#     'final_div_factor': 1e4,\n",
        "#     'weight_decay': 0\n",
        "# }\n",
        "# train_and_evaluate_net(conf)"
      ],
      "execution_count": null,
      "outputs": []
    },
    {
      "cell_type": "code",
      "metadata": {
        "id": "W6KbFlLAzvqX"
      },
      "source": [
        "# grid_config = [{\n",
        "#     'max_lr': [1e-5, 5e-5, 1e-4, 5e-4, 1e-3, 5e-3],\n",
        "#     'epochs': [10, 20],\n",
        "#     'batch': [100, 200],\n",
        "#     'pct_start': [0.45],\n",
        "#     'anneal_strategy': ['linear'],\n",
        "#     'base_momentum': [0.85],\n",
        "#     'max_momentum': [0.95],\n",
        "#     'div_factor': [10, 5, 2],\n",
        "#     'final_div_factor': [1e4],\n",
        "#     'weight_decay': [0]\n",
        "# }]\n",
        "\n",
        "# grid_best = grid_search(grid_config, train_and_evaluate_net, CHECKPOINT_LINEAR_TOBIT_SCALED, conf_validation = config_validation)\n",
        "# print(grid_best)"
      ],
      "execution_count": null,
      "outputs": []
    },
    {
      "cell_type": "code",
      "metadata": {
        "id": "y7Lo_7aO0pG3"
      },
      "source": [
        "# plot_and_evaluate_CEnsored(CHECKPOINT_LINEAR_TOBIT_SCALED, model_fn = linear_model, isGrid = False)\n",
        "# plot_and_evaluate_CEnsored(CHECKPOINT_LINEAR_TOBIT_SCALED, model_fn = linear_model, isGrid = True)"
      ],
      "execution_count": null,
      "outputs": []
    },
    {
      "cell_type": "code",
      "metadata": {
        "id": "SPKg4xfzpaGu"
      },
      "source": [
        "# results = t.load('/content/grid_results.tar')\n",
        "# print(len(results))\n",
        "# print(results['best'])\n",
        "# print(results[str(results['best'])])"
      ],
      "execution_count": null,
      "outputs": []
    },
    {
      "cell_type": "markdown",
      "metadata": {
        "id": "Cm8Xhw0AxlBK"
      },
      "source": [
        "# Scaled Linear Tobit With Truncation"
      ]
    },
    {
      "cell_type": "markdown",
      "metadata": {
        "id": "8k1QJaMZxvyV"
      },
      "source": [
        "## Learning Rate Range Test"
      ]
    },
    {
      "cell_type": "code",
      "metadata": {
        "id": "ZPXNQwX8x3OP"
      },
      "source": [
        "# lr_range_test_CEnsored(tobit_loader_train, tobit_loader_val, model = linear_model(), batch_size = 100, \n",
        "#                        epochs = 1, start_lr = 1e-3, end_lr = 1e-1, log_view = False, plt_file_name = 'linear_tobit', truncated_low = zero_normalized)"
      ],
      "execution_count": null,
      "outputs": []
    },
    {
      "cell_type": "markdown",
      "metadata": {
        "id": "hIg_9O2HyAau"
      },
      "source": [
        "## Grid Search"
      ]
    },
    {
      "cell_type": "code",
      "metadata": {
        "id": "veXmEN8ryFjA"
      },
      "source": [
        "train_and_evaluate_net = train_and_evaluate_CEnsored(CHECKPOINT_LINEAR_TRUNCATED_TOBIT_SCALED, linear_model, plot = False, log = False, truncated_low = zero_normalized)"
      ],
      "execution_count": null,
      "outputs": []
    },
    {
      "cell_type": "code",
      "metadata": {
        "id": "OGbBuys_yLDD"
      },
      "source": [
        "# conf = {\n",
        "#     'max_lr': 5e-5,\n",
        "#     'epochs': 10,\n",
        "#     'batch': 100,\n",
        "#     'pct_start': 0.3,\n",
        "#     'anneal_strategy': 'linear',\n",
        "#     'base_momentum': 0.85,\n",
        "#     'max_momentum': 0.95,\n",
        "#     'div_factor': 5,\n",
        "#     'final_div_factor': 1e4,\n",
        "#     'weight_decay': 0\n",
        "# }\n",
        "# train_and_evaluate_net(conf)"
      ],
      "execution_count": null,
      "outputs": []
    },
    {
      "cell_type": "code",
      "metadata": {
        "id": "3l90wswIyNq4"
      },
      "source": [
        "# grid_config = [{\n",
        "#     'max_lr': [1e-5, 5e-5, 1e-4, 5e-4, 1e-3, 5e-3],\n",
        "#     'epochs': [10, 20],\n",
        "#     'batch': [100, 200],\n",
        "#     'pct_start': [0.45],\n",
        "#     'anneal_strategy': ['linear'],\n",
        "#     'base_momentum': [0.85],\n",
        "#     'max_momentum': [0.95],\n",
        "#     'div_factor': [10, 5, 2],\n",
        "#     'final_div_factor': [1e4],\n",
        "#     'weight_decay': [0]\n",
        "# }]\n",
        "\n",
        "# grid_best = grid_search(grid_config, train_and_evaluate_net, CHECKPOINT_LINEAR_TRUNCATED_TOBIT_SCALED, conf_validation = config_validation)\n",
        "# print(grid_best)"
      ],
      "execution_count": null,
      "outputs": []
    },
    {
      "cell_type": "code",
      "metadata": {
        "id": "IqVJy9t_yQE6"
      },
      "source": [
        "# plot_and_evaluate_CEnsored(CHECKPOINT_LINEAR_TRUNCATED_TOBIT_SCALED, model_fn = linear_model, isGrid = False)\n",
        "# plot_and_evaluate_CEnsored(CHECKPOINT_LINEAR_TRUNCATED_TOBIT_SCALED, model_fn = linear_model, isGrid = True)"
      ],
      "execution_count": null,
      "outputs": []
    },
    {
      "cell_type": "code",
      "metadata": {
        "id": "pKDdm_3Zqr1l"
      },
      "source": [
        "# results = t.load('/content/grid_results.tar')\n",
        "# print(len(results))\n",
        "# print(results['best'])\n",
        "# print(results[str(results['best'])])"
      ],
      "execution_count": null,
      "outputs": []
    }
  ]
}