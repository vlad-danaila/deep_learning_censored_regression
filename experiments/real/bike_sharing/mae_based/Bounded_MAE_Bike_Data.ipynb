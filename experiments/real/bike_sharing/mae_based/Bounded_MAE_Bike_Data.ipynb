{
  "nbformat": 4,
  "nbformat_minor": 0,
  "metadata": {
    "colab": {
      "name": "Bounded MAE - Bike Data.ipynb",
      "provenance": [],
      "collapsed_sections": [
        "1e9uSUY_cJoH"
      ]
    },
    "kernelspec": {
      "display_name": "Python 3",
      "language": "python",
      "name": "python3"
    },
    "language_info": {
      "codemirror_mode": {
        "name": "ipython",
        "version": 3
      },
      "file_extension": ".py",
      "mimetype": "text/x-python",
      "name": "python",
      "nbconvert_exporter": "python",
      "pygments_lexer": "ipython3",
      "version": "3.6.9"
    },
    "gpuClass": "standard"
  },
  "cells": [
    {
      "cell_type": "markdown",
      "metadata": {
        "id": "6ZVteeZHM_f7"
      },
      "source": [
        "# Citations"
      ]
    },
    {
      "cell_type": "markdown",
      "metadata": {
        "id": "8VGoPzpJNEV-"
      },
      "source": [
        "This notebook uses the Seoul Bike Sharing Demand Data Set downloaded from the UCI Machine Learning Repository:\n",
        "https://archive.ics.uci.edu/ml/datasets/Seoul+Bike+Sharing+Demand\n",
        "\n",
        "**Dataset citation:**\n",
        "\n",
        "[1] Sathishkumar V E, Jangwoo Park, and Yongyun Cho. 'Using data mining techniques for bike sharing demand prediction in metropolitan city.' Computer Communications, Vol.153, pp.353-366, March, 2020\n",
        "\n",
        "[2] Sathishkumar V E and Yongyun Cho. 'A rule-based model for Seoul Bike sharing demand prediction using weather data' European Journal of Remote Sensing, pp. 1-18, Feb, 2020\n",
        "\n",
        "**UCI Machine Learning Repository citation:**\n",
        "re3data.org: UCI Machine Learning Repository; editing status 2017-10-30; re3data.org - Registry of Research Data Repositories. http://doi.org/10.17616/R3T91Q last accessed: 2020-12-20"
      ]
    },
    {
      "cell_type": "markdown",
      "metadata": {
        "id": "btSh7YlEbkiV"
      },
      "source": [
        "# General Setup"
      ]
    },
    {
      "cell_type": "code",
      "metadata": {
        "colab": {
          "base_uri": "https://localhost:8080/"
        },
        "id": "qFfU7l-Ebqea",
        "outputId": "1b13b15a-f8d7-45aa-db90-417074f30fbc"
      },
      "source": [
        "!pip install scipy sklearn pandas 'torch-lr-finder==0.2.0'\n",
        "# !rm -vrf '/tobit_loss'\n",
        "!git clone https://github.com/vlad-danaila/tobit_loss.git"
      ],
      "execution_count": null,
      "outputs": [
        {
          "output_type": "stream",
          "name": "stdout",
          "text": [
            "Looking in indexes: https://pypi.org/simple, https://us-python.pkg.dev/colab-wheels/public/simple/\n",
            "Requirement already satisfied: scipy in /usr/local/lib/python3.7/dist-packages (1.7.3)\n",
            "Requirement already satisfied: sklearn in /usr/local/lib/python3.7/dist-packages (0.0)\n",
            "Requirement already satisfied: pandas in /usr/local/lib/python3.7/dist-packages (1.3.5)\n",
            "Requirement already satisfied: torch-lr-finder==0.2.0 in /usr/local/lib/python3.7/dist-packages (0.2.0)\n",
            "Requirement already satisfied: torch>=0.4.1 in /usr/local/lib/python3.7/dist-packages (from torch-lr-finder==0.2.0) (1.12.0+cu113)\n",
            "Requirement already satisfied: numpy in /usr/local/lib/python3.7/dist-packages (from torch-lr-finder==0.2.0) (1.21.6)\n",
            "Requirement already satisfied: tqdm in /usr/local/lib/python3.7/dist-packages (from torch-lr-finder==0.2.0) (4.64.0)\n",
            "Requirement already satisfied: packaging in /usr/local/lib/python3.7/dist-packages (from torch-lr-finder==0.2.0) (21.3)\n",
            "Requirement already satisfied: matplotlib in /usr/local/lib/python3.7/dist-packages (from torch-lr-finder==0.2.0) (3.2.2)\n",
            "Requirement already satisfied: typing-extensions in /usr/local/lib/python3.7/dist-packages (from torch>=0.4.1->torch-lr-finder==0.2.0) (4.1.1)\n",
            "Requirement already satisfied: scikit-learn in /usr/local/lib/python3.7/dist-packages (from sklearn) (1.0.2)\n",
            "Requirement already satisfied: pytz>=2017.3 in /usr/local/lib/python3.7/dist-packages (from pandas) (2022.1)\n",
            "Requirement already satisfied: python-dateutil>=2.7.3 in /usr/local/lib/python3.7/dist-packages (from pandas) (2.8.2)\n",
            "Requirement already satisfied: six>=1.5 in /usr/local/lib/python3.7/dist-packages (from python-dateutil>=2.7.3->pandas) (1.15.0)\n",
            "Requirement already satisfied: cycler>=0.10 in /usr/local/lib/python3.7/dist-packages (from matplotlib->torch-lr-finder==0.2.0) (0.11.0)\n",
            "Requirement already satisfied: kiwisolver>=1.0.1 in /usr/local/lib/python3.7/dist-packages (from matplotlib->torch-lr-finder==0.2.0) (1.4.3)\n",
            "Requirement already satisfied: pyparsing!=2.0.4,!=2.1.2,!=2.1.6,>=2.0.1 in /usr/local/lib/python3.7/dist-packages (from matplotlib->torch-lr-finder==0.2.0) (3.0.9)\n",
            "Requirement already satisfied: threadpoolctl>=2.0.0 in /usr/local/lib/python3.7/dist-packages (from scikit-learn->sklearn) (3.1.0)\n",
            "Requirement already satisfied: joblib>=0.11 in /usr/local/lib/python3.7/dist-packages (from scikit-learn->sklearn) (1.1.0)\n",
            "fatal: destination path 'tobit_loss' already exists and is not an empty directory.\n"
          ]
        }
      ]
    },
    {
      "cell_type": "markdown",
      "metadata": {
        "id": "qLGXhtwT84YZ"
      },
      "source": [
        "Add the Tobit loss to Python path."
      ]
    },
    {
      "cell_type": "code",
      "metadata": {
        "id": "ShX4Mc1H8vy7"
      },
      "source": [
        "import sys\n",
        "sys.path.insert(0, './tobit_loss')"
      ],
      "execution_count": null,
      "outputs": []
    },
    {
      "cell_type": "markdown",
      "metadata": {
        "id": "24sQN6HpC0gb"
      },
      "source": [
        "Imports"
      ]
    },
    {
      "cell_type": "code",
      "metadata": {
        "id": "bEo1lLmv9BOA"
      },
      "source": [
        "import torch as t\n",
        "from deep_tobit.util import to_torch, to_numpy, normalize, unnormalize\n",
        "from deep_tobit.normal_cumulative_distribution_function import cdf\n",
        "import numpy as np\n",
        "import matplotlib.pyplot as plt\n",
        "from scipy.stats import beta\n",
        "import random\n",
        "import sklearn as sk\n",
        "import sklearn.metrics\n",
        "import math\n",
        "from sklearn.model_selection import ParameterGrid\n",
        "from torch_lr_finder import LRFinder, TrainDataLoaderIter, ValDataLoaderIter\n",
        "import os\n",
        "import numpy.random\n",
        "import collections\n",
        "import pandas as pd\n",
        "import requests\n",
        "import sklearn.decomposition\n",
        "import traceback\n",
        "from scipy.stats import norm"
      ],
      "execution_count": null,
      "outputs": []
    },
    {
      "cell_type": "markdown",
      "metadata": {
        "id": "6Gvvee1ORB-9"
      },
      "source": [
        "Constants"
      ]
    },
    {
      "cell_type": "code",
      "metadata": {
        "id": "w-p4kq80REIS"
      },
      "source": [
        "URL_DATA_SET = 'https://archive.ics.uci.edu/ml/machine-learning-databases/00560/SeoulBikeData.csv'\n",
        "DATASET_FILE = 'dataset.csv'\n",
        "\n",
        "CHECKPOINT_MAE = 'mae model'\n",
        "CHECKPOINT_BOUNDED_MAE = 'mae bounded model'\n",
        "CHECKPOINT_BOUNDED_MAE_WITH_PENALTY = 'mae bounded with penalty model'\n",
        "\n",
        "CENSOR_LOW_BOUND = 200 \n",
        "CENSOR_HIGH_BOUND = 2000 \n",
        "LAYER_SIZE = 10\n",
        "CHECKPOINT_FREQUENCY = 10\n",
        "\n",
        "GRID_RESULTS_FILE = 'grid_results.tar'\n",
        "\n",
        "y_variable_label = 'Rented Bike Count'\n",
        "\n",
        "CUDA = t.cuda.is_available()"
      ],
      "execution_count": null,
      "outputs": []
    },
    {
      "cell_type": "markdown",
      "metadata": {
        "id": "I8WJLGKcQAzb"
      },
      "source": [
        "Reproducible experiments"
      ]
    },
    {
      "cell_type": "code",
      "metadata": {
        "id": "9cQ7XazCQAOA"
      },
      "source": [
        "SEED = 0\n",
        "t.manual_seed(SEED)\n",
        "t.cuda.manual_seed(SEED)\n",
        "t.cuda.manual_seed_all(SEED)\n",
        "t.backends.cudnn.deterministic = True\n",
        "t.backends.cudnn.benchmark = False\n",
        "np.random.seed(SEED)\n",
        "random.seed(SEED)"
      ],
      "execution_count": null,
      "outputs": []
    },
    {
      "cell_type": "markdown",
      "metadata": {
        "id": "xr20oFx6bf4m"
      },
      "source": [
        "# Model"
      ]
    },
    {
      "cell_type": "code",
      "metadata": {
        "id": "l3wmC7JXJyge"
      },
      "source": [
        "class DenseNetwork(t.nn.Module):\n",
        "\n",
        "  def __init__(self):\n",
        "    super().__init__()\n",
        "    self.layer_in = t.nn.Linear(40, LAYER_SIZE)\n",
        "    self.norm_1 = t.nn.BatchNorm1d(LAYER_SIZE, affine = False, momentum = None)\n",
        "    self.drop_1 = t.nn.Dropout(p = .2)\n",
        "    self.layer_hidden_1 = t.nn.Linear(LAYER_SIZE, LAYER_SIZE)\n",
        "    self.norm_2 = t.nn.BatchNorm1d(LAYER_SIZE, affine = False, momentum = None)\n",
        "    self.drop_2 = t.nn.Dropout(p = .2)\n",
        "    self.layer_out = t.nn.Linear(LAYER_SIZE, 1)\n",
        "\n",
        "  def forward(self, x):\n",
        "    x = t.nn.functional.relu(self.norm_1(self.layer_in(x)))\n",
        "    x = self.drop_1(x)\n",
        "    x = t.nn.functional.relu(self.norm_2(self.layer_hidden_1(x)))\n",
        "    x = self.drop_2(x)\n",
        "    x = self.layer_out(x)\n",
        "    return x"
      ],
      "execution_count": null,
      "outputs": []
    },
    {
      "cell_type": "code",
      "metadata": {
        "id": "g478W-6TN6sO"
      },
      "source": [
        "def get_model(cuda = CUDA, net = None):  \n",
        "  if net == None:\n",
        "    net = DenseNetwork()\n",
        "  if cuda:\n",
        "    net = net.cuda()\n",
        "  net = t.nn.DataParallel(net)\n",
        "  return net\n",
        "\n",
        "def get_device(cuda = CUDA):\n",
        "  return 'cuda:0' if cuda else 'cpu'\n",
        "\n",
        "def get_gamma(cuda = CUDA):\n",
        "  gamma = t.tensor(1., requires_grad = True, device = get_device())\n",
        "  return gamma"
      ],
      "execution_count": null,
      "outputs": []
    },
    {
      "cell_type": "markdown",
      "metadata": {
        "id": "KZOvdckibSUD"
      },
      "source": [
        "# Datasets"
      ]
    },
    {
      "cell_type": "code",
      "metadata": {
        "id": "XXrlgscCFu9O"
      },
      "source": [
        "# r = requests.get(URL_BEIJING_PM_2_5_DATA_SET, allow_redirects=True)\n",
        "# open(DATASET_FILE, 'wb').write(r.content)"
      ],
      "execution_count": null,
      "outputs": []
    },
    {
      "cell_type": "code",
      "metadata": {
        "id": "ljPR58qokpdU"
      },
      "source": [
        "def load_dataframe(filter_null = True):\n",
        "  df = pd.read_csv(DATASET_FILE)\n",
        "  return df"
      ],
      "execution_count": null,
      "outputs": []
    },
    {
      "cell_type": "code",
      "metadata": {
        "id": "Ok9K-dDr-QwS"
      },
      "source": [
        "df = load_dataframe()"
      ],
      "execution_count": null,
      "outputs": []
    },
    {
      "cell_type": "code",
      "metadata": {
        "id": "r_EUZXQPGK3W"
      },
      "source": [
        "train_samples = set(range(len(df)))\n",
        "val_samples = set(range(2, len(df), 5))\n",
        "test_samples = set(range(5, len(df), 5))\n",
        "train_samples = train_samples - val_samples\n",
        "train_samples = train_samples - test_samples\n",
        "\n",
        "def train_df(df: pd.DataFrame):\n",
        "  return df[ df.index.isin(train_samples) ]\n",
        "\n",
        "def val_df(df: pd.DataFrame):\n",
        "  return df[ df.index.isin(val_samples) ]\n",
        "\n",
        "def test_df(df: pd.DataFrame):\n",
        "  return df[ df.index.isin(test_samples) ]"
      ],
      "execution_count": null,
      "outputs": []
    },
    {
      "cell_type": "code",
      "metadata": {
        "id": "bWv4hFNzij1H",
        "colab": {
          "base_uri": "https://localhost:8080/"
        },
        "outputId": "42aababe-ad94-4a90-c0d2-e9fede82bf0e"
      },
      "source": [
        "def y_train_mean_std(max_iterations = 10_000, early_stop_patience = 5, lr = 1e-6, epsilon = 1e-6):\n",
        "  df = train_df(load_dataframe())\n",
        "  ys = df[y_variable_label].values\n",
        "\n",
        "  real_mean, real_std = ys.mean(), ys.std()\n",
        "\n",
        "  y_single_valued, y_left_censored, y_right_censored = [], [], []\n",
        "  \n",
        "  for y in ys:\n",
        "    if y > CENSOR_LOW_BOUND and y < CENSOR_HIGH_BOUND:\n",
        "      y_single_valued.append(y)\n",
        "    elif y <= CENSOR_LOW_BOUND:\n",
        "      y_left_censored.append(CENSOR_LOW_BOUND)\n",
        "    elif y >= CENSOR_HIGH_BOUND:\n",
        "      y_right_censored.append(CENSOR_HIGH_BOUND)\n",
        "    else:\n",
        "      raise Exception('y outside of valid values, y = {}'.format(y[0]))\n",
        "\n",
        "  all = np.array(y_single_valued + y_left_censored + y_right_censored)\n",
        "  data_mean, data_std = all.mean(), all.std()\n",
        "\n",
        "  return data_mean.item(), data_std.item()\n",
        "\n",
        "y_mean, y_std = y_train_mean_std()\n",
        "print(f'mean = {y_mean}; std = {y_std}')"
      ],
      "execution_count": null,
      "outputs": [
        {
          "output_type": "stream",
          "name": "stdout",
          "text": [
            "mean = 712.3214761270686; std = 566.997850800606\n"
          ]
        }
      ]
    },
    {
      "cell_type": "code",
      "metadata": {
        "id": "kPDm9XIKnMPD"
      },
      "source": [
        "bound_min = normalize(CENSOR_LOW_BOUND, y_mean, y_std)\n",
        "bound_max = normalize(CENSOR_HIGH_BOUND, y_mean, y_std)\n",
        "zero_normalized = normalize(0, y_mean, y_std)"
      ],
      "execution_count": null,
      "outputs": []
    },
    {
      "cell_type": "code",
      "metadata": {
        "id": "YJJJ_BdybdsI"
      },
      "source": [
        "numeric_features_column_names = ['Temperature(C)',\t'Humidity(%)',\t'Wind speed (m/s)',\t'Visibility (10m)',\t'Dew point temperature(C)',\t'Solar Radiation (MJ/m2)',\t'Rainfall(mm)',\t'Snowfall (cm)']"
      ],
      "execution_count": null,
      "outputs": []
    },
    {
      "cell_type": "code",
      "metadata": {
        "id": "vhphcpYVbGs9"
      },
      "source": [
        "def x_numeric_fatures_train_mean_std():\n",
        "  df = train_df(load_dataframe())\n",
        "  numeric_fetures = df[numeric_features_column_names].values\n",
        "  mean, std = numeric_fetures.mean(axis = 0), numeric_fetures.std(axis = 0)\n",
        "  return mean, std\n",
        "\n",
        "x_numeric_fetures_mean, x_numeric_fetures_std = x_numeric_fatures_train_mean_std()"
      ],
      "execution_count": null,
      "outputs": []
    },
    {
      "cell_type": "code",
      "metadata": {
        "id": "8-ZxjvhD9WVH"
      },
      "source": [
        "def extract_features(df: pd.DataFrame, lower_bound = -math.inf, upper_bound = math.inf):\n",
        "  assert lower_bound <= upper_bound\n",
        "  # handle categorical features (one hot encoding)\n",
        "  one_hot = sk.preprocessing.OneHotEncoder(sparse = False)\n",
        "  hour_one_hot = one_hot.fit_transform(np.expand_dims(df['Hour'].values, 1))\n",
        "  seansons_one_hot = one_hot.fit_transform(np.expand_dims(df['Seasons'].values, 1))\n",
        "  holiday_one_hot = one_hot.fit_transform(np.expand_dims(df['Holiday'].values, 1))\n",
        "  functioning_day_one_hot = one_hot.fit_transform(np.expand_dims(df['Functioning Day'].values, 1))\n",
        "  \n",
        "  # extract the numeric variables\n",
        "  numeric_fetures = df[numeric_features_column_names].values\n",
        "  numeric_fetures = normalize(numeric_fetures, x_numeric_fetures_mean, x_numeric_fetures_std)\n",
        "\n",
        "  # unite all features\n",
        "  x = np.hstack((hour_one_hot, seansons_one_hot, holiday_one_hot, functioning_day_one_hot, numeric_fetures))\n",
        "\n",
        "  # extract the results\n",
        "  y = df['Rented Bike Count'].values\n",
        "  y = np.clip(y, lower_bound, upper_bound)\n",
        "  y = normalize(y, y_mean, y_std)\n",
        "  y = np.expand_dims(y, 1)\n",
        "\n",
        "  return x, y"
      ],
      "execution_count": null,
      "outputs": []
    },
    {
      "cell_type": "code",
      "metadata": {
        "id": "t__RqHjyA4OY"
      },
      "source": [
        "class PM_2_5_Dataset(t.utils.data.Dataset):\n",
        "  \n",
        "  def __init__(self, x: np.array, y: np.array, cuda = CUDA):\n",
        "    super().__init__()\n",
        "    self.x = t.tensor(x, requires_grad = True, dtype=t.float32)\n",
        "    self.y = t.tensor(y, requires_grad = True, dtype=t.float32)\n",
        "    if cuda:\n",
        "      self.x = self.x.cuda()\n",
        "      self.y = self.y.cuda()\n",
        "    \n",
        "  def __getitem__(self, i):\n",
        "    return self.x[i], self.y[i]\n",
        "\n",
        "  def __len__(self):\n",
        "    return len(self.y)"
      ],
      "execution_count": null,
      "outputs": []
    },
    {
      "cell_type": "code",
      "metadata": {
        "id": "tbZhSOY6Ysnx"
      },
      "source": [
        "def parse_datasets():\n",
        "  df = load_dataframe()\n",
        "  \n",
        "  # split into training / validation / test\n",
        "  df_train = train_df(df)\n",
        "  df_val = val_df(df)\n",
        "  df_test = test_df(df)\n",
        "\n",
        "  dataset_train = PM_2_5_Dataset(*extract_features(df_train, lower_bound = CENSOR_LOW_BOUND, upper_bound = CENSOR_HIGH_BOUND))\n",
        "  dataset_val = PM_2_5_Dataset(*extract_features(df_val, lower_bound = CENSOR_LOW_BOUND, upper_bound = CENSOR_HIGH_BOUND))\n",
        "  dataset_test = PM_2_5_Dataset(*extract_features(df_test))\n",
        "\n",
        "  return dataset_train, dataset_val, dataset_test\n",
        "\n",
        "dataset_train, dataset_val, dataset_test = parse_datasets()"
      ],
      "execution_count": null,
      "outputs": []
    },
    {
      "cell_type": "code",
      "metadata": {
        "id": "F5DNWKyXC1Rk"
      },
      "source": [
        "def pca(x, n_components = 1):\n",
        "  pca_encoder = sk.decomposition.PCA(n_components = n_components)\n",
        "  return pca_encoder.fit_transform(x)"
      ],
      "execution_count": null,
      "outputs": []
    },
    {
      "cell_type": "markdown",
      "metadata": {
        "id": "WKMHYoHCa5bW"
      },
      "source": [
        "# Plotting"
      ]
    },
    {
      "cell_type": "code",
      "metadata": {
        "id": "4hRXFDQ_aEp7"
      },
      "source": [
        "def plot_full_dataset(df: pd.DataFrame, size = 0.01, label = None, censored = False):\n",
        "  if censored:\n",
        "    x, y = extract_features(df, lower_bound = CENSOR_LOW_BOUND, upper_bound = CENSOR_HIGH_BOUND)\n",
        "  else:\n",
        "    x, y = extract_features(df)\n",
        "  x = pca(x)\n",
        "  if not censored:\n",
        "    min_max = [min(x), max(x)]\n",
        "    plt.plot(min_max, [bound_min] * 2, color = 'red')\n",
        "    plt.plot(min_max, [bound_max] * 2, color = 'red')\n",
        "    plt.plot(min_max, [zero_normalized] * 2, color = 'red')\n",
        "  plt.scatter(x, y, s = size, label = label)\n",
        "  plt.xlabel('unidimensional PCA')\n",
        "  plt.ylabel('PM2.5 (standardized)')\n",
        "  # plt.savefig(label + '.pdf', dpi = 300, format = 'pdf')"
      ],
      "execution_count": null,
      "outputs": []
    },
    {
      "cell_type": "code",
      "metadata": {
        "id": "SYG6v2BQqDHC"
      },
      "source": [
        "LOSS = 0\n",
        "ABS_ERR = 1\n",
        "R_SQUARED = 2"
      ],
      "execution_count": null,
      "outputs": []
    },
    {
      "cell_type": "code",
      "metadata": {
        "id": "hvQgu2vfuCjr"
      },
      "source": [
        "def plot_train_test(train, test, title, y_title):\n",
        "    plt.plot(range(len(train)), train, label = 'Train')\n",
        "    plt.plot(range(len(test)), test, label = 'Test')\n",
        "    plt.xlabel('Epochs')\n",
        "    plt.ylabel(y_title)\n",
        "    plt.title(title)\n",
        "    plt.legend()\n",
        "    # plt.savefig(title + '.png', dpi = 300, format = 'png')\n",
        "    plt.show()"
      ],
      "execution_count": null,
      "outputs": []
    },
    {
      "cell_type": "code",
      "metadata": {
        "id": "8nWeaULRuGF-"
      },
      "source": [
        "def plot_epochs(train_metrics_list, test_metrics_list):\n",
        "  test_r2 = list(map(lambda m: m[R_SQUARED], test_metrics_list))\n",
        "  test_err = list(map(lambda m: m[ABS_ERR], test_metrics_list))\n",
        "  test_loss = list(map(lambda m: m[LOSS], test_metrics_list))\n",
        "  train_r2 = list(map(lambda m: m[R_SQUARED], train_metrics_list))\n",
        "  train_err = list(map(lambda m: m[ABS_ERR], train_metrics_list))\n",
        "  train_loss = list(map(lambda m: m[LOSS], train_metrics_list))\n",
        "  plot_train_test(train_loss, test_loss, 'Loss', 'Loss')\n",
        "  plot_train_test(train_err, test_err, 'Absolute error', 'Absolute error')\n",
        "  plot_train_test(train_r2, test_r2, 'R squared', 'R squared')"
      ],
      "execution_count": null,
      "outputs": []
    },
    {
      "cell_type": "code",
      "metadata": {
        "id": "eQP63BJieGHN"
      },
      "source": [
        "def plot_net(model, df: pd.DataFrame, label = 'model prediction', with_std = False):\n",
        "  model.eval()\n",
        "  x, y_real = extract_features(df)\n",
        "  x_pca = pca(x)\n",
        "  dataset = PM_2_5_Dataset(x, y_real)\n",
        "  y_list = []\n",
        "  for i in range(len(dataset)):\n",
        "    x, _ = dataset[i]\n",
        "    y_pred = model.forward(x.reshape(1, -1))\n",
        "    y_list.append(y_pred[0].item())\n",
        "  plt.scatter(x_pca, y_list, s = .3, label = label)"
      ],
      "execution_count": null,
      "outputs": []
    },
    {
      "cell_type": "markdown",
      "metadata": {
        "id": "iFb_01Z2avwQ"
      },
      "source": [
        "# Training"
      ]
    },
    {
      "cell_type": "code",
      "metadata": {
        "colab": {
          "base_uri": "https://localhost:8080/"
        },
        "id": "BWgGzkLHFlC5",
        "outputId": "01bb9c2e-b21d-40b0-fdb6-7e06d41e3a7b"
      },
      "source": [
        "# n is the nb of samples, k is the nb of regressors (features)\n",
        "n = len(dataset_train)\n",
        "k = len(dataset_train[0][0])\n",
        "print(f'While calculating the adjusted R2, n = {n} and k = {k}')\n",
        "\n",
        "def adjusted_R2(y, y_pred):\n",
        "  r2 = sk.metrics.r2_score(y, y_pred)\n",
        "  return 1 - ( ( (1 - r2) * (n - 1) ) / (n - k - 1) )"
      ],
      "execution_count": null,
      "outputs": [
        {
          "output_type": "stream",
          "name": "stdout",
          "text": [
            "While calculating the adjusted R2, n = 5257 and k = 40\n"
          ]
        }
      ]
    },
    {
      "cell_type": "code",
      "metadata": {
        "id": "741SKP5JfZzH"
      },
      "source": [
        "def eval_network(model, loader, loss_fn, batch_size, is_eval_bounded = True):\n",
        "  model.eval()\n",
        "  with t.no_grad():\n",
        "    metrics = np.zeros(3)\n",
        "    total_weight = 0\n",
        "    for x, y in loader:\n",
        "      y_pred = model.forward(x)\n",
        "      loss = loss_fn(y_pred, y)\n",
        "      if is_eval_bounded:\n",
        "        y_pred = t.clamp(y_pred, min = bound_min, max = bound_max)\n",
        "      y_pred, y = to_numpy(y_pred), to_numpy(y)\n",
        "      weight = len(y) / batch_size\n",
        "      metrics[LOSS] += (loss.item() * weight)\n",
        "      metrics[ABS_ERR] += (sk.metrics.mean_absolute_error(y, y_pred) * weight)\n",
        "      metrics[R_SQUARED] += (adjusted_R2(y, y_pred) * weight)\n",
        "      total_weight += weight\n",
        "    metrics /= total_weight\n",
        "    return metrics"
      ],
      "execution_count": null,
      "outputs": []
    },
    {
      "cell_type": "code",
      "metadata": {
        "id": "H9_ebC0HraIU"
      },
      "source": [
        "def train_network(model, loss_fn, optimizer, scheduler, loader_train, loader_val, checkpoint_name, \n",
        "                  batch_size_train, batch_size_val, epochs, log = True):\n",
        "  metrics_train_per_epochs, metrics_test_per_epochs = [], []\n",
        "  best = [math.inf, math.inf, -math.inf]\n",
        "  try:\n",
        "    counter = 0\n",
        "    total_weight = 0\n",
        "    train_metrics = np.zeros(3)  \n",
        "    for epoch in range(epochs):    \n",
        "      try:\n",
        "        model.train()        \n",
        "        for x, y in loader_train:\n",
        "          counter += 1\n",
        "          y_pred = model.forward(x)\n",
        "          loss = loss_fn(y_pred, y)\n",
        "          loss.backward()\n",
        "          optimizer.step()\n",
        "          optimizer.zero_grad()\n",
        "          y_pred = t.clamp(y_pred, min = bound_min, max = bound_max)\n",
        "          y_pred, y = to_numpy(y_pred), to_numpy(y)\n",
        "          weight = len(y) / batch_size_train\n",
        "          train_metrics[LOSS] += (loss.item() * weight)\n",
        "          train_metrics[ABS_ERR] += (sk.metrics.mean_absolute_error(y, y_pred) * weight)\n",
        "          train_metrics[R_SQUARED] += (adjusted_R2(y, y_pred) * weight)\n",
        "          total_weight += weight\n",
        "          scheduler.step()\n",
        "          if counter % CHECKPOINT_FREQUENCY == 0:\n",
        "            train_metrics /= total_weight  \n",
        "            metrics_train_per_epochs.append(train_metrics)\n",
        "            train_metrics = np.zeros(3)\n",
        "            total_weight = 0\n",
        "            test_metrics = eval_network(model, loader_val, loss_fn, batch_size_val)\n",
        "            metrics_test_per_epochs.append(test_metrics)\n",
        "            # if test_metrics[R_SQUARED] > best[R_SQUARED]:\n",
        "            if test_metrics[ABS_ERR] < best[ABS_ERR]:  \n",
        "            # if test_metrics[LOSS] < best[LOSS]: \n",
        "              best = test_metrics\n",
        "              checkpoint_dict = {'model': model.state_dict()}\n",
        "              t.save(checkpoint_dict, '{}.tar'.format(checkpoint_name))\n",
        "            if log:\n",
        "              print('Iteration {} abs err {} R2 {}'.format(counter, test_metrics[ABS_ERR], test_metrics[R_SQUARED]))\n",
        "      except:\n",
        "        traceback.print_exc() \n",
        "        break\n",
        "    print('Best absolute error:', best[ABS_ERR], 'R2:', best[R_SQUARED])\n",
        "    return metrics_train_per_epochs, metrics_test_per_epochs, best\n",
        "  except KeyboardInterrupt as e:\n",
        "    print('Training interrupted at epoch', epoch)"
      ],
      "execution_count": null,
      "outputs": []
    },
    {
      "cell_type": "markdown",
      "metadata": {
        "id": "bvSeai3n2cdp"
      },
      "source": [
        "# Learning Rate Range Test Setup"
      ]
    },
    {
      "cell_type": "code",
      "metadata": {
        "id": "qOZN9k1hESSx"
      },
      "source": [
        "class CustomTrainIter(TrainDataLoaderIter):\n",
        "    def inputs_labels_from_batch(self, batch_data):\n",
        "        return batch_data\n",
        "\n",
        "class CustomValIter(ValDataLoaderIter):\n",
        "    def inputs_labels_from_batch(self, batch_data):\n",
        "        return batch_data"
      ],
      "execution_count": null,
      "outputs": []
    },
    {
      "cell_type": "code",
      "metadata": {
        "id": "_A_rb28w2hZ0"
      },
      "source": [
        "def lr_range_test_UNcensored(criterion, model = None, batch_size = 128, epochs = 5, \n",
        "    start_lr = 1e-8, end_lr = 10, log_view = True, loader_train = None, loader_val = None, plt_file_name = '', cuda = CUDA):\n",
        "  try:\n",
        "    if model == None:\n",
        "        model = get_model()\n",
        "    loss_fn = criterion()\n",
        "    params = model.parameters()\n",
        "    optimizer = t.optim.SGD(params, lr = start_lr)\n",
        "    if not loader_train:\n",
        "      loader_train = t.utils.data.DataLoader(dataset_train, batch_size, shuffle = True, num_workers = 0)\n",
        "    if not loader_val:\n",
        "      loader_val = t.utils.data.DataLoader(dataset_val, batch_size, shuffle = False, num_workers = 0)\n",
        "    lr_finder = LRFinder(model, optimizer, loss_fn, device = get_device(cuda))\n",
        "    lr_finder.range_test(loader_train, val_loader = loader_val, end_lr = end_lr, num_iter = len(loader_train) * epochs, step_mode=\"linear\")\n",
        "    lr_range_test_plot = lr_finder.plot(skip_start = 0, skip_end = 0, log_lr = log_view)\n",
        "    lr_range_test_plot.figure.savefig('lr_range_test_{}.pdf'.format(plt_file_name), dpi = 300, format = 'pdf')\n",
        "    lr_finder.reset()\n",
        "  except:\n",
        "    traceback.print_exc()"
      ],
      "execution_count": null,
      "outputs": []
    },
    {
      "cell_type": "markdown",
      "metadata": {
        "id": "uw214cctyA5t"
      },
      "source": [
        "# Grid Search Setup"
      ]
    },
    {
      "cell_type": "code",
      "metadata": {
        "id": "VCoFR-BjkyQ_"
      },
      "source": [
        "def grid_search(grid_config, train_callback, checkpoint_name, nb_iterations = 1, conf_validation = None):\n",
        "  configs = ParameterGrid(grid_config)\n",
        "  configs_len = len(configs)\n",
        "  counter = 0\n",
        "  checkpoint_file = checkpoint_name + '.tar'\n",
        "  grid_checkpoint_file = 'grid ' + checkpoint_file\n",
        "  try:\n",
        "    resume_grid_search = t.load(GRID_RESULTS_FILE)\n",
        "  except FileNotFoundError:\n",
        "    resume_grid_search = None\n",
        "\n",
        "  results = {}\n",
        "  best = [math.inf, math.inf, -math.inf]\n",
        "  if resume_grid_search is not None and 'best' in resume_grid_search:\n",
        "    best_conf = resume_grid_search['best']\n",
        "    print('Best previous configuration', best_conf)\n",
        "    best = resume_grid_search[str(best_conf)]\n",
        "    print(f'Best previous metrics abs err = {best[ABS_ERR]}, R2 = {best[R_SQUARED]}')\n",
        "    results = resume_grid_search\n",
        "\n",
        "  for conf in ParameterGrid(grid_config):\n",
        "    counter += 1\n",
        "    \n",
        "    if resume_grid_search is not None and str(conf) in resume_grid_search:\n",
        "        print('Allready evaluated configuration', conf)\n",
        "        continue\n",
        "\n",
        "    if not conf_validation(conf):\n",
        "      print('Skipping over configuration', conf)\n",
        "      results[str(conf)] = 'invalid'\n",
        "      continue\n",
        "    \n",
        "    print('-' * 5, 'grid search {}/{}'.format(counter, configs_len), '-' * 5)\n",
        "    print('Config:', conf)\n",
        "    \n",
        "    best_from_iterations = [math.inf, math.inf, -math.inf]\n",
        "    \n",
        "    for i in range(nb_iterations):\n",
        "      if nb_iterations != 1:\n",
        "        print('Iteration', i + 1)\n",
        "      metrics = train_callback(conf)\n",
        "      \n",
        "      # if metrics[R_SQUARED] > best[R_SQUARED]:\n",
        "      if metrics[ABS_ERR] < best[ABS_ERR]:  \n",
        "        best_from_iterations = metrics\n",
        "\n",
        "      # if metrics[R_SQUARED] > best[R_SQUARED]:\n",
        "      if metrics[ABS_ERR] < best[ABS_ERR]:  \n",
        "        best = metrics\n",
        "        results['best'] = conf\n",
        "        if os.path.exists(grid_checkpoint_file):\n",
        "          os.remove(grid_checkpoint_file)\n",
        "        os.rename(checkpoint_file, grid_checkpoint_file)  \n",
        "    else:\n",
        "      results[str(conf)] = best_from_iterations\n",
        "      t.save(results, GRID_RESULTS_FILE)\n",
        "    \n",
        "  return best"
      ],
      "execution_count": null,
      "outputs": []
    },
    {
      "cell_type": "code",
      "metadata": {
        "id": "HqtAMBVGunuK"
      },
      "source": [
        "def train_and_evaluate_UNcensored(checkpoint, criterion, model_fn = get_model, plot = False, log = True, loader_train_fn = None, loader_val_fn = None, cuda = CUDA):\n",
        "  def grid_callback(conf):\n",
        "    model = model_fn()\n",
        "    if not loader_train_fn:\n",
        "      loader_train = t.utils.data.DataLoader(dataset_train, conf['batch'], shuffle = True, num_workers = 0)\n",
        "    else:\n",
        "      loader_train = loader_train_fn(conf['batch'])\n",
        "    if not loader_val_fn:\n",
        "      loader_val = t.utils.data.DataLoader(dataset_val, len(dataset_val), shuffle = False, num_workers = 0)\n",
        "    else:\n",
        "      loader_val = loader_val_fn(len(dataset_val))\n",
        "    loss_fn = criterion()\n",
        "    params = model.parameters()\n",
        "    optimizer = t.optim.SGD(params, lr = conf['max_lr'] / conf['div_factor'], momentum = conf['max_momentum'], weight_decay = conf['weight_decay'])\n",
        "    scheduler = t.optim.lr_scheduler.OneCycleLR(\n",
        "      optimizer, \n",
        "      max_lr = conf['max_lr'], \n",
        "      steps_per_epoch = len(loader_train), \n",
        "      epochs = conf['epochs'],\n",
        "      pct_start = conf['pct_start'],\n",
        "      anneal_strategy = conf['anneal_strategy'],\n",
        "      base_momentum = conf['base_momentum'],\n",
        "      max_momentum = conf['max_momentum'],\n",
        "      div_factor = conf['div_factor'],\n",
        "      final_div_factor = conf['final_div_factor']\n",
        "    )\n",
        "    train_metrics, val_metrics, best = train_network(\n",
        "        model, loss_fn, optimizer, scheduler, loader_train, loader_val, checkpoint, conf['batch'], len(dataset_val), conf['epochs'], log = log)    \n",
        "    if plot:\n",
        "      plot_epochs(train_metrics, val_metrics)\n",
        "    return best\n",
        "  return grid_callback"
      ],
      "execution_count": null,
      "outputs": []
    },
    {
      "cell_type": "code",
      "metadata": {
        "id": "xMFl7-RVzKq1"
      },
      "source": [
        "def config_validation(conf):\n",
        "  return conf['div_factor'] <= conf['final_div_factor'] and conf['max_momentum'] >= conf['base_momentum']"
      ],
      "execution_count": null,
      "outputs": []
    },
    {
      "cell_type": "markdown",
      "metadata": {
        "id": "uNEONLmCeB3v"
      },
      "source": [
        "# Plot Selected(With Grid) Model"
      ]
    },
    {
      "cell_type": "code",
      "metadata": {
        "id": "XeVazIfzyGyf"
      },
      "source": [
        "def plot_and_evaluate_model_UNcensored(checkpoint_name, criterion, isGrid = True, model_fn = get_model, loader_val = None):\n",
        "  model = model_fn()\n",
        "  checkpoint = t.load(('grid ' if isGrid else '') + checkpoint_name + '.tar')\n",
        "  model.load_state_dict(checkpoint['model'])\n",
        "  plot_full_dataset(test_df(df), size = .3, label = 'ground truth')\n",
        "  plot_net(model, test_df(df))\n",
        "  loss_fn = criterion()\n",
        "  plt.xlabel('unidimensional PCA')\n",
        "  plt.ylabel('rented bike count (standardized)')\n",
        "  plt.ylim([-3, 4])\n",
        "  lgnd = plt.legend()\n",
        "  lgnd.legendHandles[0]._sizes = [10]\n",
        "  lgnd.legendHandles[1]._sizes = [10]\n",
        "  plt.savefig('{}.pdf'.format(checkpoint_name), dpi = 300, format = 'pdf')\n",
        "  plt.savefig('{}.svg'.format(checkpoint_name), dpi = 300, format = 'svg')\n",
        "  plt.savefig('{}.png'.format(checkpoint_name), dpi = 200, format = 'png')\n",
        "  plt.show()\n",
        "\n",
        "  if not loader_val:\n",
        "    loader_val = t.utils.data.DataLoader(dataset_val, len(dataset_val), shuffle = False, num_workers = 0)\n",
        "  val_metrics = eval_network(model, loader_val, loss_fn, len(dataset_val))\n",
        "  print('Absolute error - validation', val_metrics[ABS_ERR])\n",
        "  print('R2 - validation', val_metrics[R_SQUARED])\n",
        "\n",
        "  loader_test = t.utils.data.DataLoader(dataset_test, len(dataset_test), shuffle = False, num_workers = 0)\n",
        "  test_metrics = eval_network(model, loader_test, loss_fn, len(dataset_test), is_eval_bounded = False)\n",
        "  print('Absolute error - test', test_metrics[ABS_ERR])\n",
        "  print('R2 - test', test_metrics[R_SQUARED])"
      ],
      "execution_count": null,
      "outputs": []
    },
    {
      "cell_type": "markdown",
      "metadata": {
        "id": "_PkZAPgei9zh"
      },
      "source": [
        "# MAE"
      ]
    },
    {
      "cell_type": "code",
      "metadata": {
        "id": "qCGZ2EoXBbLx"
      },
      "source": [
        "mae = t.nn.L1Loss()\n",
        "\n",
        "def below_zero_mae_penalty(y_pred):\n",
        "  y_below_zero = t.clamp(y_pred, min = -math.inf, max = zero_normalized)\n",
        "  return mae(y_below_zero, t.full_like(y_below_zero, zero_normalized))\n",
        "\n",
        "def mae_with_penalty(y_pred, y):\n",
        "  return mae(y_pred, y) + below_zero_mae_penalty(y_pred)"
      ],
      "execution_count": null,
      "outputs": []
    },
    {
      "cell_type": "markdown",
      "metadata": {
        "id": "1e9uSUY_cJoH"
      },
      "source": [
        "### Learning Rate Rage Text"
      ]
    },
    {
      "cell_type": "code",
      "metadata": {
        "id": "yshjlfZtbgkV"
      },
      "source": [
        "# lr_range_test_UNcensored(t.nn.L1Loss, batch_size = 100, epochs = 1, start_lr = 1e-2, end_lr = 1e-1, log_view = False, plt_file_name = 'mae')"
      ],
      "execution_count": null,
      "outputs": []
    },
    {
      "cell_type": "markdown",
      "metadata": {
        "id": "Pek-f3V9egUO"
      },
      "source": [
        "### Grid Search"
      ]
    },
    {
      "cell_type": "code",
      "metadata": {
        "id": "luvBv9LMuWPN"
      },
      "source": [
        "train_and_evaluate_net = train_and_evaluate_UNcensored(CHECKPOINT_MAE, t.nn.L1Loss, plot = False, log = False)"
      ],
      "execution_count": null,
      "outputs": []
    },
    {
      "cell_type": "markdown",
      "metadata": {
        "id": "tgLaGgkNhmoL"
      },
      "source": [
        "Train once with default settings"
      ]
    },
    {
      "cell_type": "code",
      "metadata": {
        "id": "cRzvUFIEimLQ"
      },
      "source": [
        "# conf = {\n",
        "#     'max_lr': 5e-2,\n",
        "#     'epochs': 10,\n",
        "#     'batch': 100,\n",
        "#     'pct_start': 0.3,\n",
        "#     'anneal_strategy': 'linear',\n",
        "#     'base_momentum': 0.85,\n",
        "#     'max_momentum': 0.95,\n",
        "#     'div_factor': 5,\n",
        "#     'final_div_factor': 1e4,\n",
        "#     'weight_decay': 0\n",
        "# }\n",
        "# train_and_evaluate_net(conf)"
      ],
      "execution_count": null,
      "outputs": []
    },
    {
      "cell_type": "markdown",
      "metadata": {
        "id": "vsLkUTl0hvDm"
      },
      "source": [
        "Grid search"
      ]
    },
    {
      "cell_type": "code",
      "metadata": {
        "id": "WXetQnVZhxGI"
      },
      "source": [
        "# grid_config = [{\n",
        "#     'max_lr': [1e-5, 5e-5, 1e-4, 5e-4, 1e-3, 5e-3],\n",
        "#     'epochs': [10, 20],\n",
        "#     'batch': [100, 200],\n",
        "#     'pct_start': [0.45],\n",
        "#     'anneal_strategy': ['linear'],\n",
        "#     'base_momentum': [0.85],\n",
        "#     'max_momentum': [0.95],\n",
        "#     'div_factor': [10, 5, 2],\n",
        "#     'final_div_factor': [1e4],\n",
        "#     'weight_decay': [0]\n",
        "# }]\n",
        "# grid_best = grid_search(grid_config, train_and_evaluate_net, CHECKPOINT_MAE, conf_validation = config_validation)"
      ],
      "execution_count": null,
      "outputs": []
    },
    {
      "cell_type": "markdown",
      "metadata": {
        "id": "XKB-nJdSd52B"
      },
      "source": [
        "Load the best model"
      ]
    },
    {
      "cell_type": "code",
      "metadata": {
        "id": "T78KNN5mdIZB",
        "colab": {
          "base_uri": "https://localhost:8080/",
          "height": 352
        },
        "outputId": "8f548cdd-e087-44b2-c3ba-54fe2ca7b018"
      },
      "source": [
        "# plot_and_evaluate_model_UNcensored(CHECKPOINT_MAE, t.nn.L1Loss, isGrid = False)\n",
        "plot_and_evaluate_model_UNcensored(CHECKPOINT_MAE, t.nn.L1Loss, isGrid = True)"
      ],
      "execution_count": null,
      "outputs": [
        {
          "output_type": "display_data",
          "data": {
            "text/plain": [
              "<Figure size 432x288 with 1 Axes>"
            ],
            "image/png": "[encoded data removed]"
          },
          "metadata": {
            "needs_background": "light"
          }
        },
        {
          "output_type": "stream",
          "name": "stdout",
          "text": [
            "Absolute error - validation 0.2299935221672058\n",
            "R2 - validation 0.8366422445161911\n",
            "Absolute error - test 0.3140450119972229\n",
            "R2 - test 0.8267776590252238\n"
          ]
        }
      ]
    },
    {
      "cell_type": "code",
      "metadata": {
        "id": "FGskMYMZIpKo"
      },
      "source": [
        "# grid_results = t.load(GRID_RESULTS_FILE)\n",
        "# best_config = grid_results['best']\n",
        "# best_metrics = grid_results[str(best_config)]\n",
        "# print(best_config)\n",
        "# print(best_metrics)"
      ],
      "execution_count": null,
      "outputs": []
    },
    {
      "cell_type": "markdown",
      "metadata": {
        "id": "zrdbnNnsjRqn"
      },
      "source": [
        "# Bounded MAE"
      ]
    },
    {
      "cell_type": "code",
      "metadata": {
        "id": "1X-4lqknpoyU"
      },
      "source": [
        "def bounded_loss(y_pred, y):\n",
        "  y_pred = t.clamp(y_pred, min = bound_min, max = bound_max)\n",
        "  return mae(y_pred, y)"
      ],
      "execution_count": null,
      "outputs": []
    },
    {
      "cell_type": "markdown",
      "metadata": {
        "id": "uPS8NyO8Oscf"
      },
      "source": [
        "### Learning Rate Range Test"
      ]
    },
    {
      "cell_type": "code",
      "metadata": {
        "id": "1riRXO5QO07V"
      },
      "source": [
        "# lr_range_test_UNcensored(lambda: bounded_loss, batch_size = 100, epochs = 1, start_lr = 1e-2, end_lr = 1e-1, log_view = False, plt_file_name = 'bounded_mae')"
      ],
      "execution_count": null,
      "outputs": []
    },
    {
      "cell_type": "markdown",
      "metadata": {
        "id": "b4IyppMWQiuh"
      },
      "source": [
        "### Grid Search"
      ]
    },
    {
      "cell_type": "code",
      "metadata": {
        "id": "bC2ia-lERvwM"
      },
      "source": [
        "train_and_evaluate_net = train_and_evaluate_UNcensored(CHECKPOINT_BOUNDED_MAE, lambda: bounded_loss, plot = False, log = False)"
      ],
      "execution_count": null,
      "outputs": []
    },
    {
      "cell_type": "code",
      "metadata": {
        "id": "BXR5RbHKRx72"
      },
      "source": [
        "# conf = {\n",
        "#     'max_lr': 5e-3,\n",
        "#     'epochs': 10,\n",
        "#     'batch': 100,\n",
        "#     'pct_start': 0.3,\n",
        "#     'anneal_strategy': 'linear',\n",
        "#     'base_momentum': 0.85,\n",
        "#     'max_momentum': 0.95,\n",
        "#     'div_factor': 5,\n",
        "#     'final_div_factor': 1e4,\n",
        "#     'weight_decay': 0\n",
        "# }\n",
        "# train_and_evaluate_net(conf)"
      ],
      "execution_count": null,
      "outputs": []
    },
    {
      "cell_type": "code",
      "metadata": {
        "id": "u2MNNsjeR7dn"
      },
      "source": [
        "# grid_config = [{\n",
        "#     'max_lr': [1e-5, 5e-5, 1e-4, 5e-4, 1e-3, 5e-3],\n",
        "#     'epochs': [10, 20],\n",
        "#     'batch': [100, 200],\n",
        "#     'pct_start': [0.45],\n",
        "#     'anneal_strategy': ['linear'],\n",
        "#     'base_momentum': [0.85],\n",
        "#     'max_momentum': [0.95],\n",
        "#     'div_factor': [10, 5, 2],\n",
        "#     'final_div_factor': [1e4],\n",
        "#     'weight_decay': [0]\n",
        "# }]\n",
        "# grid_best = grid_search(grid_config, train_and_evaluate_net, CHECKPOINT_BOUNDED_MAE, conf_validation = config_validation)"
      ],
      "execution_count": null,
      "outputs": []
    },
    {
      "cell_type": "code",
      "metadata": {
        "id": "amnoDMFnsJ16"
      },
      "source": [
        "# grid_results = t.load(GRID_RESULTS_FILE)\n",
        "# best_config = grid_results['best']\n",
        "# best_metrics = grid_results[str(best_config)]\n",
        "# print(best_config)\n",
        "# print(best_metrics)"
      ],
      "execution_count": null,
      "outputs": []
    },
    {
      "cell_type": "code",
      "metadata": {
        "id": "e76wZkVDR4Bk"
      },
      "source": [
        "# plot_and_evaluate_model_UNcensored(CHECKPOINT_BOUNDED_MAE, lambda: bounded_loss, isGrid = False)\n",
        "# plot_and_evaluate_model_UNcensored(CHECKPOINT_BOUNDED_MAE, lambda: bounded_loss, isGrid = True)"
      ],
      "execution_count": null,
      "outputs": []
    },
    {
      "cell_type": "markdown",
      "metadata": {
        "id": "7NFgEyBRGQCw"
      },
      "source": [
        "# Bounded MAE With Penalty"
      ]
    },
    {
      "cell_type": "code",
      "metadata": {
        "id": "EWDXOA_3GeUT"
      },
      "source": [
        "def bounded_loss_with_penalty(y_pred, y):\n",
        "  return bounded_loss(y_pred, y) + below_zero_mae_penalty(y_pred)"
      ],
      "execution_count": null,
      "outputs": []
    },
    {
      "cell_type": "markdown",
      "metadata": {
        "id": "qnSsGazgGnFq"
      },
      "source": [
        "### Learning Rate Range Test"
      ]
    },
    {
      "cell_type": "code",
      "metadata": {
        "id": "E6rj_zD3Gy_L"
      },
      "source": [
        "# lr_range_test_UNcensored(lambda: bounded_loss_with_penalty, batch_size = 100, epochs = 1, start_lr = 1e-2, end_lr = 1e-1, log_view = False, plt_file_name = 'bounded_mae')"
      ],
      "execution_count": null,
      "outputs": []
    },
    {
      "cell_type": "markdown",
      "metadata": {
        "id": "0U3qsGQ3G62I"
      },
      "source": [
        "### Grid Search"
      ]
    },
    {
      "cell_type": "code",
      "metadata": {
        "id": "WipFLrcYHMp4"
      },
      "source": [
        "train_and_evaluate_net = train_and_evaluate_UNcensored(CHECKPOINT_BOUNDED_MAE_WITH_PENALTY, lambda: bounded_loss_with_penalty, plot = False, log = False)"
      ],
      "execution_count": null,
      "outputs": []
    },
    {
      "cell_type": "code",
      "metadata": {
        "id": "lgQwBqAjHeBN"
      },
      "source": [
        "# conf = {\n",
        "#     'max_lr': 5e-3,\n",
        "#     'epochs': 10,\n",
        "#     'batch': 100,\n",
        "#     'pct_start': 0.3,\n",
        "#     'anneal_strategy': 'linear',\n",
        "#     'base_momentum': 0.85,\n",
        "#     'max_momentum': 0.95,\n",
        "#     'div_factor': 5,\n",
        "#     'final_div_factor': 1e4,\n",
        "#     'weight_decay': 0\n",
        "# }\n",
        "# train_and_evaluate_net(conf)"
      ],
      "execution_count": null,
      "outputs": []
    },
    {
      "cell_type": "code",
      "metadata": {
        "id": "zkyh7fDsHgqc"
      },
      "source": [
        "# grid_config = [{\n",
        "#     'max_lr': [1e-5, 5e-5, 1e-4, 5e-4, 1e-3, 5e-3],\n",
        "#     'epochs': [10, 20],\n",
        "#     'batch': [100, 200],\n",
        "#     'pct_start': [0.45],\n",
        "#     'anneal_strategy': ['linear'],\n",
        "#     'base_momentum': [0.85],\n",
        "#     'max_momentum': [0.95],\n",
        "#     'div_factor': [10, 5, 2],\n",
        "#     'final_div_factor': [1e4],\n",
        "#     'weight_decay': [0]\n",
        "# }]\n",
        "# grid_best = grid_search(grid_config, train_and_evaluate_net, CHECKPOINT_BOUNDED_MAE_WITH_PENALTY, conf_validation = config_validation)"
      ],
      "execution_count": null,
      "outputs": []
    },
    {
      "cell_type": "code",
      "metadata": {
        "id": "pTjeHH1AHjWn"
      },
      "source": [
        "# plot_and_evaluate_model_UNcensored(CHECKPOINT_BOUNDED_MAE_WITH_PENALTY, lambda: bounded_loss_with_penalty, isGrid = False)\n",
        "# plot_and_evaluate_model_UNcensored(CHECKPOINT_BOUNDED_MAE_WITH_PENALTY, lambda: bounded_loss_with_penalty, isGrid = True)"
      ],
      "execution_count": null,
      "outputs": []
    },
    {
      "cell_type": "code",
      "metadata": {
        "id": "JT9-NFC_qvst"
      },
      "source": [
        "# grid_results = t.load(GRID_RESULTS_FILE)\n",
        "# best_config = grid_results['best']\n",
        "# best_metrics = grid_results[str(best_config)]\n",
        "# print(best_config)\n",
        "# print(best_metrics)"
      ],
      "execution_count": null,
      "outputs": []
    }
  ]
}