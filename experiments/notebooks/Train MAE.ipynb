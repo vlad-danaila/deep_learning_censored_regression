{
 "cells": [
  {
   "cell_type": "code",
   "execution_count": null,
   "id": "5eb41470",
   "metadata": {},
   "outputs": [],
   "source": [
    "import sys\n",
    "import os\n",
    "sys.path.insert(0, '/workspace/deep_learning_censored_regression')\n",
    "os.chdir('/workspace/deep_learning_censored_regression')\n",
    "os.getcwd()"
   ]
  },
  {
   "cell_type": "code",
   "execution_count": null,
   "id": "9bdc2498",
   "metadata": {},
   "outputs": [],
   "source": [
    "import experiments.synthetic.constant_noise.mae_based.mae_based_synthetic_const_noise as mae"
   ]
  },
  {
   "cell_type": "code",
   "execution_count": null,
   "id": "9addc629",
   "metadata": {},
   "outputs": [],
   "source": [
    "mae.tpe_opt_mae_simple()"
   ]
  },
  {
   "cell_type": "code",
   "execution_count": null,
   "id": "aeda115a",
   "metadata": {},
   "outputs": [],
   "source": []
  }
 ],
 "metadata": {
  "kernelspec": {
   "display_name": "Python 3 (ipykernel)",
   "language": "python",
   "name": "python3"
  },
  "language_info": {
   "codemirror_mode": {
    "name": "ipython",
    "version": 3
   },
   "file_extension": ".py",
   "mimetype": "text/x-python",
   "name": "python",
   "nbconvert_exporter": "python",
   "pygments_lexer": "ipython3",
   "version": "3.7.10"
  }
 },
 "nbformat": 4,
 "nbformat_minor": 5
}
