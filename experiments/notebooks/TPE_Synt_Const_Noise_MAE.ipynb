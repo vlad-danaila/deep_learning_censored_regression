{
  "cells": [
    {
      "cell_type": "code",
      "source": [
        "# !pip install sklearn matplotlib optuna"
      ],
      "metadata": {
        "id": "Y_dWNxPAM-dU"
      },
      "id": "Y_dWNxPAM-dU",
      "execution_count": null,
      "outputs": []
    },
    {
      "cell_type": "code",
      "source": [
        "rm -r /content/deep_learning_censored_regression"
      ],
      "metadata": {
        "id": "9uZt-JwjO5Qz"
      },
      "id": "9uZt-JwjO5Qz",
      "execution_count": null,
      "outputs": []
    },
    {
      "cell_type": "code",
      "source": [
        "!git clone -b mdpi_entropy https://github.com/vlad-danaila/deep_learning_censored_regression.git "
      ],
      "metadata": {
        "id": "ntzpJbPCNBAC"
      },
      "id": "ntzpJbPCNBAC",
      "execution_count": null,
      "outputs": []
    },
    {
      "cell_type": "code",
      "source": [
        "rm /content/deep_learning_censored_regression/experiments/synthetic/constant_noise/mae_based/mae_simple/*"
      ],
      "metadata": {
        "id": "EAMT_5KkPtP0"
      },
      "id": "EAMT_5KkPtP0",
      "execution_count": null,
      "outputs": []
    },
    {
      "cell_type": "code",
      "source": [
        "rm /content/deep_learning_censored_regression/experiments/synthetic/constant_noise/mae_based/mae_cens_NO_trunc/*"
      ],
      "metadata": {
        "id": "0wSxaDEWQUuy"
      },
      "id": "0wSxaDEWQUuy",
      "execution_count": null,
      "outputs": []
    },
    {
      "cell_type": "code",
      "source": [
        "rm /content/deep_learning_censored_regression/experiments/synthetic/constant_noise/mae_based/mae_cens_WITH_trunc/*"
      ],
      "metadata": {
        "id": "GGgQ9NOrQV_y"
      },
      "id": "GGgQ9NOrQV_y",
      "execution_count": null,
      "outputs": []
    },
    {
      "cell_type": "code",
      "execution_count": null,
      "id": "5eb41470",
      "metadata": {
        "id": "5eb41470"
      },
      "outputs": [],
      "source": [
        "# If using Vastai\n",
        "# root = 'workspace'\n",
        "# If using Colab\n",
        "root = 'content'\n",
        "\n",
        "import sys\n",
        "import os\n",
        "sys.path.insert(0, f'/{root}/deep_learning_censored_regression')\n",
        "os.chdir(f'/{root}/deep_learning_censored_regression')\n",
        "os.getcwd()"
      ]
    },
    {
      "cell_type": "code",
      "execution_count": null,
      "id": "9bdc2498",
      "metadata": {
        "id": "9bdc2498"
      },
      "outputs": [],
      "source": [
        "import experiments.synthetic.constant_noise.mae_based.mae_based_synthetic_const_noise as mae"
      ]
    },
    {
      "cell_type": "code",
      "execution_count": null,
      "id": "9addc629",
      "metadata": {
        "id": "9addc629"
      },
      "outputs": [],
      "source": [
        "mae.tpe_opt_mae_simple()"
      ]
    },
    {
      "cell_type": "code",
      "execution_count": null,
      "id": "aeda115a",
      "metadata": {
        "id": "aeda115a"
      },
      "outputs": [],
      "source": [
        "mae.eval_mae_simple()"
      ]
    },
    {
      "cell_type": "code",
      "source": [
        "!tar -cf /content/experiments_mae.tar /content/deep_learning_censored_regression/experiments/synthetic/constant_noise/mae_based"
      ],
      "metadata": {
        "id": "llolJO4dhpED"
      },
      "id": "llolJO4dhpED",
      "execution_count": null,
      "outputs": []
    }
  ],
  "metadata": {
    "kernelspec": {
      "display_name": "Python 3 (ipykernel)",
      "language": "python",
      "name": "python3"
    },
    "language_info": {
      "codemirror_mode": {
        "name": "ipython",
        "version": 3
      },
      "file_extension": ".py",
      "mimetype": "text/x-python",
      "name": "python",
      "nbconvert_exporter": "python",
      "pygments_lexer": "ipython3",
      "version": "3.7.10"
    },
    "colab": {
      "provenance": [],
      "collapsed_sections": []
    }
  },
  "nbformat": 4,
  "nbformat_minor": 5
}