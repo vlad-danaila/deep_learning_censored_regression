{
 "cells": [
  {
   "cell_type": "code",
   "execution_count": null,
   "id": "Y_dWNxPAM-dU",
   "metadata": {
    "colab": {
     "base_uri": "https://localhost:8080/"
    },
    "executionInfo": {
     "elapsed": 10035,
     "status": "ok",
     "timestamp": 1662808114598,
     "user": {
      "displayName": "Vlad Danaila",
      "userId": "16049478229633186858"
     },
     "user_tz": -180
    },
    "id": "Y_dWNxPAM-dU",
    "outputId": "ee4d4cc7-5270-4db5-cbb4-372fa68074a9"
   },
   "outputs": [],
   "source": [
    "# !pip install sklearn matplotlib optuna pandas"
   ]
  },
  {
   "cell_type": "code",
   "execution_count": null,
   "id": "9uZt-JwjO5Qz",
   "metadata": {
    "id": "9uZt-JwjO5Qz"
   },
   "outputs": [],
   "source": [
    "# rm -r /content/deep_learning_censored_regression"
   ]
  },
  {
   "cell_type": "code",
   "execution_count": null,
   "id": "ntzpJbPCNBAC",
   "metadata": {
    "colab": {
     "base_uri": "https://localhost:8080/"
    },
    "executionInfo": {
     "elapsed": 6819,
     "status": "ok",
     "timestamp": 1662808133318,
     "user": {
      "displayName": "Vlad Danaila",
      "userId": "16049478229633186858"
     },
     "user_tz": -180
    },
    "id": "ntzpJbPCNBAC",
    "outputId": "7e83a177-8570-4b89-848e-b126aee3024e"
   },
   "outputs": [],
   "source": [
    "# !git clone -b mdpi_entropy https://github.com/vlad-danaila/deep_learning_censored_regression.git "
   ]
  },
  {
   "cell_type": "code",
   "execution_count": null,
   "id": "EAMT_5KkPtP0",
   "metadata": {
    "id": "EAMT_5KkPtP0"
   },
   "outputs": [],
   "source": [
    "# rm /content/deep_learning_censored_regression/experiments/synthetic/constant_noise/mse_based/mse_simple/*"
   ]
  },
  {
   "cell_type": "code",
   "execution_count": null,
   "id": "0wSxaDEWQUuy",
   "metadata": {
    "id": "0wSxaDEWQUuy"
   },
   "outputs": [],
   "source": [
    "# rm /content/deep_learning_censored_regression/experiments/synthetic/constant_noise/mse_based/mse_cens_NO_trunc/*"
   ]
  },
  {
   "cell_type": "code",
   "execution_count": null,
   "id": "GGgQ9NOrQV_y",
   "metadata": {
    "id": "GGgQ9NOrQV_y"
   },
   "outputs": [],
   "source": [
    "# rm /content/deep_learning_censored_regression/experiments/synthetic/constant_noise/mse_based/mse_cens_WITH_trunc/*"
   ]
  },
  {
   "cell_type": "code",
   "execution_count": null,
   "id": "5eb41470",
   "metadata": {
    "colab": {
     "base_uri": "https://localhost:8080/",
     "height": 35
    },
    "executionInfo": {
     "elapsed": 258,
     "status": "ok",
     "timestamp": 1662808326874,
     "user": {
      "displayName": "Vlad Danaila",
      "userId": "16049478229633186858"
     },
     "user_tz": -180
    },
    "id": "5eb41470",
    "outputId": "c4a57a1e-0ae4-4623-c875-c0bff805562b"
   },
   "outputs": [],
   "source": [
    "# If using Vastai\n",
    "root = 'workspace'\n",
    "# If using Colab\n",
    "# root = 'content'\n",
    "\n",
    "import sys\n",
    "import os\n",
    "sys.path.insert(0, f'/{root}/deep_learning_censored_regression')\n",
    "os.chdir(f'/{root}/deep_learning_censored_regression')\n",
    "os.getcwd()"
   ]
  },
  {
   "cell_type": "code",
   "execution_count": null,
   "id": "fqKVLm7XGbKB",
   "metadata": {
    "id": "fqKVLm7XGbKB"
   },
   "outputs": [],
   "source": [
    "# from experiments.real.bike_sharing.mae_based.mae_based_bike import tpe_opt_mae_simple, tpe_opt_mae_cens_NO_trunc, tpe_opt_mae_cens_WITH_trunc\n",
    "# from experiments.real.bike_sharing.mse_based.mse_based_bike import tpe_opt_mse_simple, tpe_opt_mse_cens_NO_trunc, tpe_opt_mse_cens_WITH_trunc\n",
    "# from experiments.real.bike_sharing.tobit_based.scaled_fixed_std.scaled_gll_bike import tpe_opt_gll_scaled\n",
    "# from experiments.real.bike_sharing.tobit_based.scaled_fixed_std.scaled_tobit_bike import tpe_opt_deep_NO_trunc, tpe_opt_deep_WITH_trunc, \\\n",
    "#     tpe_opt_lin_NO_trunc, tpe_opt_lin_WITH_trunc\n",
    "# from experiments.real.bike_sharing.tobit_based.reparam_fixed_std.reparam_gll_bike import tpe_opt_gll_reparam\n",
    "# from experiments.real.bike_sharing.tobit_based.reparam_fixed_std.reparametrized_tobit_bike import tpe_opt_deep_NO_trunc_reparam, \\\n",
    "#     tpe_opt_deep_WITH_trunc_reparam, tpe_opt_lin_NO_trunc_reparam, tpe_opt_lin_WITH_trunc_reparam\n",
    "# from experiments.real.bike_sharing.tobit_based.scaled_dynamic_std.scaled_tobit_loss_dynamic_std_bike import tpe_opt_deep_WITH_trunc_dyn_std\n",
    "# from experiments.real.bike_sharing.tobit_based.reparam_dynamic_std.reparametrized_tobit_loss_dynamic_std_bike import tpe_opt_deep_WITH_trunc_dyn_std_reparam"
   ]
  },
  {
   "cell_type": "code",
   "execution_count": null,
   "id": "RBb6FbgQGe8p",
   "metadata": {
    "id": "RBb6FbgQGe8p"
   },
   "outputs": [],
   "source": [
    "# # MAE Based\n",
    "# tpe_opt_mae_simple()\n",
    "# tpe_opt_mae_cens_NO_trunc()\n",
    "# tpe_opt_mae_cens_WITH_trunc()\n",
    "\n",
    "# # MSE Based\n",
    "# tpe_opt_mse_simple()\n",
    "# tpe_opt_mse_cens_NO_trunc()\n",
    "# tpe_opt_mse_cens_WITH_trunc()\n",
    "\n",
    "# # Tobit\n",
    "\n",
    "# # Scaled, Fixed Std\n",
    "# print('-' * 20, 'tpe_opt_gll_scaled', '-' * 20)\n",
    "# tpe_opt_gll_scaled()\n",
    "# print('-' * 20, 'tpe_opt_deep_NO_trunc', '-' * 20)\n",
    "# tpe_opt_deep_NO_trunc()\n",
    "# print('-' * 20, 'tpe_opt_deep_WITH_trunc', '-' * 20)\n",
    "# tpe_opt_deep_WITH_trunc()\n",
    "# print('-' * 20, 'tpe_opt_lin_NO_trunc', '-' * 20)\n",
    "# tpe_opt_lin_NO_trunc()\n",
    "# print('-' * 20, 'tpe_opt_lin_WITH_trunc', '-' * 20)\n",
    "# tpe_opt_lin_WITH_trunc()\n",
    "\n",
    "# # Reparametrized\n",
    "# print('-' * 20, 'tpe_opt_gll_reparam', '-' * 20)\n",
    "# tpe_opt_gll_reparam()\n",
    "# print('-' * 20, 'tpe_opt_deep_NO_trunc_reparam', '-' * 20)\n",
    "# tpe_opt_deep_NO_trunc_reparam()\n",
    "# print('-' * 20, 'tpe_opt_deep_WITH_trunc_reparam', '-' * 20)\n",
    "# tpe_opt_deep_WITH_trunc_reparam()\n",
    "# print('-' * 20, 'tpe_opt_lin_NO_trunc_reparam', '-' * 20)\n",
    "# tpe_opt_lin_NO_trunc_reparam()\n",
    "# print('-' * 20, 'tpe_opt_lin_WITH_trunc_reparam', '-' * 20)\n",
    "# tpe_opt_lin_WITH_trunc_reparam()\n",
    "\n",
    "# # Dynamic Std Scaled\n",
    "# print('-' * 20, 'tpe_opt_deep_WITH_trunc_dyn_std', '-' * 20)\n",
    "# tpe_opt_deep_WITH_trunc_dyn_std()\n",
    "\n",
    "# # Dynamic Std Reparametrized\n",
    "# print('-' * 20, 'tpe_opt_deep_WITH_trunc_reparam_dyn_std', '-' * 20)\n",
    "# tpe_opt_deep_WITH_trunc_dyn_std_reparam()"
   ]
  },
  {
   "cell_type": "code",
   "execution_count": null,
   "id": "312618a3",
   "metadata": {},
   "outputs": [],
   "source": [
    "from experiments.real.pm25.mae_based.mae_based_pm25 import tpe_opt_mae_simple, tpe_opt_mae_cens_NO_trunc, tpe_opt_mae_cens_WITH_trunc\n",
    "from experiments.real.pm25.mse_based.mse_based_pm25 import tpe_opt_mse_simple, tpe_opt_mse_cens_NO_trunc, tpe_opt_mse_cens_WITH_trunc\n",
    "from experiments.real.pm25.tobit_based.scaled_fixed_std.scaled_gll_pm25 import tpe_opt_gll_scaled\n",
    "from experiments.real.pm25.tobit_based.scaled_fixed_std.scaled_tobit_pm25 import tpe_opt_deep_NO_trunc, tpe_opt_deep_WITH_trunc, \\\n",
    "    tpe_opt_lin_NO_trunc, tpe_opt_lin_WITH_trunc\n",
    "from experiments.real.pm25.tobit_based.reparam_fixed_std.reparam_gll_pm25 import tpe_opt_gll_reparam\n",
    "from experiments.real.pm25.tobit_based.reparam_fixed_std.reparametrized_tobit_pm25 import tpe_opt_deep_NO_trunc_reparam, \\\n",
    "    tpe_opt_deep_WITH_trunc_reparam, tpe_opt_lin_NO_trunc_reparam, tpe_opt_lin_WITH_trunc_reparam\n",
    "from experiments.real.pm25.tobit_based.scaled_dynamic_std.scaled_tobit_loss_dynamic_std_pm25 import tpe_opt_deep_WITH_trunc_dyn_std\n",
    "from experiments.real.pm25.tobit_based.reparam_dynamic_std.reparametrized_tobit_loss_dynamic_std_pm25 import tpe_opt_deep_WITH_trunc_dyn_std_reparam"
   ]
  },
  {
   "cell_type": "code",
   "execution_count": null,
   "id": "6fcdaad2",
   "metadata": {},
   "outputs": [],
   "source": [
    "# MAE Based\n",
    "tpe_opt_mae_simple()\n",
    "tpe_opt_mae_cens_NO_trunc()\n",
    "tpe_opt_mae_cens_WITH_trunc()\n",
    "\n",
    "# MSE Based\n",
    "tpe_opt_mse_simple()\n",
    "tpe_opt_mse_cens_NO_trunc()\n",
    "tpe_opt_mse_cens_WITH_trunc()\n",
    "\n",
    "# Tobit\n",
    "\n",
    "# Scaled, Fixed Std\n",
    "print('-' * 20, 'tpe_opt_gll_scaled', '-' * 20)\n",
    "tpe_opt_gll_scaled()\n",
    "print('-' * 20, 'tpe_opt_deep_NO_trunc', '-' * 20)\n",
    "tpe_opt_deep_NO_trunc()\n",
    "print('-' * 20, 'tpe_opt_deep_WITH_trunc', '-' * 20)\n",
    "tpe_opt_deep_WITH_trunc()\n",
    "print('-' * 20, 'tpe_opt_lin_NO_trunc', '-' * 20)\n",
    "tpe_opt_lin_NO_trunc()\n",
    "print('-' * 20, 'tpe_opt_lin_WITH_trunc', '-' * 20)\n",
    "tpe_opt_lin_WITH_trunc()\n",
    "\n",
    "# Reparametrized\n",
    "print('-' * 20, 'tpe_opt_gll_reparam', '-' * 20)\n",
    "tpe_opt_gll_reparam()\n",
    "print('-' * 20, 'tpe_opt_deep_NO_trunc_reparam', '-' * 20)\n",
    "tpe_opt_deep_NO_trunc_reparam()\n",
    "print('-' * 20, 'tpe_opt_deep_WITH_trunc_reparam', '-' * 20)\n",
    "tpe_opt_deep_WITH_trunc_reparam()\n",
    "print('-' * 20, 'tpe_opt_lin_NO_trunc_reparam', '-' * 20)\n",
    "tpe_opt_lin_NO_trunc_reparam()\n",
    "print('-' * 20, 'tpe_opt_lin_WITH_trunc_reparam', '-' * 20)\n",
    "tpe_opt_lin_WITH_trunc_reparam()\n",
    "\n",
    "# Dynamic Std Scaled\n",
    "print('-' * 20, 'tpe_opt_deep_WITH_trunc_dyn_std', '-' * 20)\n",
    "tpe_opt_deep_WITH_trunc_dyn_std()\n",
    "\n",
    "# Dynamic Std Reparametrized\n",
    "print('-' * 20, 'tpe_opt_deep_WITH_trunc_reparam_dyn_std', '-' * 20)\n",
    "tpe_opt_deep_WITH_trunc_dyn_std_reparam()"
   ]
  },
  {
   "cell_type": "code",
   "execution_count": null,
   "id": "gSOQon90vk3m",
   "metadata": {
    "colab": {
     "base_uri": "https://localhost:8080/"
    },
    "executionInfo": {
     "elapsed": 291,
     "status": "ok",
     "timestamp": 1662826153689,
     "user": {
      "displayName": "Vlad Danaila",
      "userId": "16049478229633186858"
     },
     "user_tz": -180
    },
    "id": "gSOQon90vk3m",
    "outputId": "4ef4d9a8-5cd5-4edb-d38e-67d5fb632889"
   },
   "outputs": [],
   "source": [
    "!tar -cf /{root}/experiments.tar /{root}/deep_learning_censored_regression/experiments/real/bike_sharing"
   ]
  }
 ],
 "metadata": {
  "colab": {
   "collapsed_sections": [],
   "provenance": []
  },
  "kernelspec": {
   "display_name": "Python 3 (ipykernel)",
   "language": "python",
   "name": "python3"
  },
  "language_info": {
   "codemirror_mode": {
    "name": "ipython",
    "version": 3
   },
   "file_extension": ".py",
   "mimetype": "text/x-python",
   "name": "python",
   "nbconvert_exporter": "python",
   "pygments_lexer": "ipython3",
   "version": "3.7.10"
  }
 },
 "nbformat": 4,
 "nbformat_minor": 5
}
