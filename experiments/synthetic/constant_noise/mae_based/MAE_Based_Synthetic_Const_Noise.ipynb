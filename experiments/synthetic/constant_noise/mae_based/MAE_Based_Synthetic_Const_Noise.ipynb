{
  "nbformat": 4,
  "nbformat_minor": 0,
  "metadata": {
    "colab": {
      "name": "Bounded MAE - Synthetic Cont Noise.ipynb",
      "provenance": [],
      "collapsed_sections": []
    },
    "kernelspec": {
      "name": "python3",
      "display_name": "Python 3"
    }
  },
  "cells": [
    {
      "cell_type": "markdown",
      "metadata": {
        "id": "btSh7YlEbkiV"
      },
      "source": [
        "# General Setup"
      ]
    },
    {
      "cell_type": "code",
      "metadata": {
        "id": "qFfU7l-Ebqea",
        "colab": {
          "base_uri": "https://localhost:8080/"
        },
        "outputId": "49d3705c-041f-4cca-dbe6-a4764e412f76"
      },
      "source": [
        "!pip install 'torch-lr-finder==0.2.0'\n",
        "!rm -vrf '/content/tobit_loss'\n",
        "!git clone https://github.com/vlad-danaila/tobit_loss.git"
      ],
      "execution_count": null,
      "outputs": [
        {
          "output_type": "stream",
          "name": "stdout",
          "text": [
            "Looking in indexes: https://pypi.org/simple, https://us-python.pkg.dev/colab-wheels/public/simple/\n",
            "Requirement already satisfied: torch-lr-finder==0.2.0 in /usr/local/lib/python3.7/dist-packages (0.2.0)\n",
            "Requirement already satisfied: tqdm in /usr/local/lib/python3.7/dist-packages (from torch-lr-finder==0.2.0) (4.64.0)\n",
            "Requirement already satisfied: numpy in /usr/local/lib/python3.7/dist-packages (from torch-lr-finder==0.2.0) (1.21.6)\n",
            "Requirement already satisfied: torch>=0.4.1 in /usr/local/lib/python3.7/dist-packages (from torch-lr-finder==0.2.0) (1.12.0+cu113)\n",
            "Requirement already satisfied: packaging in /usr/local/lib/python3.7/dist-packages (from torch-lr-finder==0.2.0) (21.3)\n",
            "Requirement already satisfied: matplotlib in /usr/local/lib/python3.7/dist-packages (from torch-lr-finder==0.2.0) (3.2.2)\n",
            "Requirement already satisfied: typing-extensions in /usr/local/lib/python3.7/dist-packages (from torch>=0.4.1->torch-lr-finder==0.2.0) (4.1.1)\n",
            "Requirement already satisfied: python-dateutil>=2.1 in /usr/local/lib/python3.7/dist-packages (from matplotlib->torch-lr-finder==0.2.0) (2.8.2)\n",
            "Requirement already satisfied: pyparsing!=2.0.4,!=2.1.2,!=2.1.6,>=2.0.1 in /usr/local/lib/python3.7/dist-packages (from matplotlib->torch-lr-finder==0.2.0) (3.0.9)\n",
            "Requirement already satisfied: cycler>=0.10 in /usr/local/lib/python3.7/dist-packages (from matplotlib->torch-lr-finder==0.2.0) (0.11.0)\n",
            "Requirement already satisfied: kiwisolver>=1.0.1 in /usr/local/lib/python3.7/dist-packages (from matplotlib->torch-lr-finder==0.2.0) (1.4.3)\n",
            "Requirement already satisfied: six>=1.5 in /usr/local/lib/python3.7/dist-packages (from python-dateutil>=2.1->matplotlib->torch-lr-finder==0.2.0) (1.15.0)\n",
            "removed '/content/tobit_loss/censored_mae_mse/loss.py'\n",
            "removed '/content/tobit_loss/censored_mae_mse/__init__.py'\n",
            "removed '/content/tobit_loss/censored_mae_mse/test/censored_mse_with_truncation_clamp_all_test.py'\n",
            "removed '/content/tobit_loss/censored_mae_mse/test/censored_mae_with_truncation_clamp_all_test.py'\n",
            "removed '/content/tobit_loss/censored_mae_mse/test/censored_mae_with_truncation_clamp_censored_test.py'\n",
            "removed '/content/tobit_loss/censored_mae_mse/test/__init__.py'\n",
            "removed '/content/tobit_loss/censored_mae_mse/test/censored_mse_with_truncation_clamp_censored_test.py'\n",
            "removed directory '/content/tobit_loss/censored_mae_mse/test'\n",
            "removed directory '/content/tobit_loss/censored_mae_mse'\n",
            "removed '/content/tobit_loss/LICENSE'\n",
            "removed '/content/tobit_loss/deep_tobit/__pycache__/__init__.cpython-37.pyc'\n",
            "removed '/content/tobit_loss/deep_tobit/__pycache__/util.cpython-37.pyc'\n",
            "removed directory '/content/tobit_loss/deep_tobit/__pycache__'\n",
            "removed '/content/tobit_loss/deep_tobit/normal_cumulative_distribution_function.py'\n",
            "removed '/content/tobit_loss/deep_tobit/loss.py'\n",
            "removed '/content/tobit_loss/deep_tobit/__init__.py'\n",
            "removed '/content/tobit_loss/deep_tobit/test/normal_cumulative_distribution_function_GPU_test.ipynb'\n",
            "removed '/content/tobit_loss/deep_tobit/test/normal_cumulative_distribution_function_test.py'\n",
            "removed '/content/tobit_loss/deep_tobit/test/unscaled_tobit_loss_mean_std_test.py'\n",
            "removed '/content/tobit_loss/deep_tobit/test/reparametrized_scaled_tobit_loss_mean_std_test.py'\n",
            "removed '/content/tobit_loss/deep_tobit/test/__init__.py'\n",
            "removed '/content/tobit_loss/deep_tobit/test/scaled_tobit_loss_mean_std_test.py'\n",
            "removed directory '/content/tobit_loss/deep_tobit/test'\n",
            "removed '/content/tobit_loss/deep_tobit/util.py'\n",
            "removed '/content/tobit_loss/deep_tobit/examples/__init__.py'\n",
            "removed directory '/content/tobit_loss/deep_tobit/examples'\n",
            "removed directory '/content/tobit_loss/deep_tobit'\n",
            "removed '/content/tobit_loss/README.md'\n",
            "removed '/content/tobit_loss/.gitignore'\n",
            "removed '/content/tobit_loss/.git/config'\n",
            "removed '/content/tobit_loss/.git/logs/refs/heads/master'\n",
            "removed directory '/content/tobit_loss/.git/logs/refs/heads'\n",
            "removed '/content/tobit_loss/.git/logs/refs/remotes/origin/HEAD'\n",
            "removed directory '/content/tobit_loss/.git/logs/refs/remotes/origin'\n",
            "removed directory '/content/tobit_loss/.git/logs/refs/remotes'\n",
            "removed directory '/content/tobit_loss/.git/logs/refs'\n",
            "removed '/content/tobit_loss/.git/logs/HEAD'\n",
            "removed directory '/content/tobit_loss/.git/logs'\n",
            "removed '/content/tobit_loss/.git/refs/heads/master'\n",
            "removed directory '/content/tobit_loss/.git/refs/heads'\n",
            "removed '/content/tobit_loss/.git/refs/remotes/origin/HEAD'\n",
            "removed directory '/content/tobit_loss/.git/refs/remotes/origin'\n",
            "removed directory '/content/tobit_loss/.git/refs/remotes'\n",
            "removed directory '/content/tobit_loss/.git/refs/tags'\n",
            "removed directory '/content/tobit_loss/.git/refs'\n",
            "removed directory '/content/tobit_loss/.git/objects/info'\n",
            "removed '/content/tobit_loss/.git/objects/pack/pack-3cccfab28380cfed88caafef919b6f66a77e9d63.pack'\n",
            "removed '/content/tobit_loss/.git/objects/pack/pack-3cccfab28380cfed88caafef919b6f66a77e9d63.idx'\n",
            "removed directory '/content/tobit_loss/.git/objects/pack'\n",
            "removed directory '/content/tobit_loss/.git/objects'\n",
            "removed '/content/tobit_loss/.git/HEAD'\n",
            "removed '/content/tobit_loss/.git/index'\n",
            "removed '/content/tobit_loss/.git/packed-refs'\n",
            "removed directory '/content/tobit_loss/.git/branches'\n",
            "removed '/content/tobit_loss/.git/description'\n",
            "removed '/content/tobit_loss/.git/info/exclude'\n",
            "removed directory '/content/tobit_loss/.git/info'\n",
            "removed '/content/tobit_loss/.git/hooks/applypatch-msg.sample'\n",
            "removed '/content/tobit_loss/.git/hooks/commit-msg.sample'\n",
            "removed '/content/tobit_loss/.git/hooks/post-update.sample'\n",
            "removed '/content/tobit_loss/.git/hooks/fsmonitor-watchman.sample'\n",
            "removed '/content/tobit_loss/.git/hooks/prepare-commit-msg.sample'\n",
            "removed '/content/tobit_loss/.git/hooks/pre-applypatch.sample'\n",
            "removed '/content/tobit_loss/.git/hooks/update.sample'\n",
            "removed '/content/tobit_loss/.git/hooks/pre-push.sample'\n",
            "removed '/content/tobit_loss/.git/hooks/pre-rebase.sample'\n",
            "removed '/content/tobit_loss/.git/hooks/pre-receive.sample'\n",
            "removed '/content/tobit_loss/.git/hooks/pre-commit.sample'\n",
            "removed directory '/content/tobit_loss/.git/hooks'\n",
            "removed directory '/content/tobit_loss/.git'\n",
            "removed directory '/content/tobit_loss'\n",
            "Cloning into 'tobit_loss'...\n",
            "remote: Enumerating objects: 154, done.\u001b[K\n",
            "remote: Counting objects: 100% (154/154), done.\u001b[K\n",
            "remote: Compressing objects: 100% (107/107), done.\u001b[K\n",
            "remote: Total 154 (delta 92), reused 95 (delta 43), pack-reused 0\u001b[K\n",
            "Receiving objects: 100% (154/154), 33.09 KiB | 6.62 MiB/s, done.\n",
            "Resolving deltas: 100% (92/92), done.\n"
          ]
        }
      ]
    },
    {
      "cell_type": "markdown",
      "metadata": {
        "id": "qLGXhtwT84YZ"
      },
      "source": [
        "Add the Tobit loss to Python path."
      ]
    },
    {
      "cell_type": "code",
      "metadata": {
        "id": "ShX4Mc1H8vy7"
      },
      "source": [
        "import sys\n",
        "sys.path.insert(0, '/content/tobit_loss')"
      ],
      "execution_count": null,
      "outputs": []
    },
    {
      "cell_type": "markdown",
      "metadata": {
        "id": "24sQN6HpC0gb"
      },
      "source": [
        "Imports"
      ]
    },
    {
      "cell_type": "code",
      "metadata": {
        "id": "bEo1lLmv9BOA"
      },
      "source": [
        "import torch as t\n",
        "from deep_tobit.util import to_torch, to_numpy, normalize, unnormalize\n",
        "import numpy as np\n",
        "import matplotlib.pyplot as plt\n",
        "from scipy.stats import beta\n",
        "import random\n",
        "import numpy as np\n",
        "import sklearn as sk\n",
        "import sklearn.metrics\n",
        "import math\n",
        "from sklearn.model_selection import ParameterGrid\n",
        "from torch_lr_finder import LRFinder, TrainDataLoaderIter, ValDataLoaderIter\n",
        "import os\n",
        "import numpy.random\n",
        "import collections"
      ],
      "execution_count": null,
      "outputs": []
    },
    {
      "cell_type": "markdown",
      "metadata": {
        "id": "6Gvvee1ORB-9"
      },
      "source": [
        "Constants"
      ]
    },
    {
      "cell_type": "code",
      "metadata": {
        "id": "w-p4kq80REIS"
      },
      "source": [
        "CHECKPOINT_MAE = 'mae model'\n",
        "CHECKPOINT_BOUNDED_MAE = 'mae bounded model'\n",
        "CHECKPOINT_BOUNDED_MAE_WITH_PENALTY = 'mae bounded with penalty model'\n",
        "CENSOR_LOW_BOUND = 0.3\n",
        "CENSOR_HIGH_BOUND = 1.7\n",
        "ALPHA = 2\n",
        "BETA = 4\n",
        "NOISE = 0.3\n",
        "LAYER_SIZE = 10\n",
        "DATASET_LEN = 10_000\n",
        "BINS_LEN = 100\n",
        "CHECKPOINT_FREQUENCY = 10\n",
        "GRID_RESULTS_FILE = 'grid_results.tar'"
      ],
      "execution_count": null,
      "outputs": []
    },
    {
      "cell_type": "markdown",
      "metadata": {
        "id": "I8WJLGKcQAzb"
      },
      "source": [
        "Reproducible experiments"
      ]
    },
    {
      "cell_type": "code",
      "metadata": {
        "id": "9cQ7XazCQAOA"
      },
      "source": [
        "SEED = 0\n",
        "t.manual_seed(SEED)\n",
        "t.cuda.manual_seed(SEED)\n",
        "t.cuda.manual_seed_all(SEED)\n",
        "t.backends.cudnn.deterministic = True\n",
        "t.backends.cudnn.benchmark = False\n",
        "np.random.seed(SEED)\n",
        "random.seed(SEED)"
      ],
      "execution_count": null,
      "outputs": []
    },
    {
      "cell_type": "markdown",
      "metadata": {
        "id": "xr20oFx6bf4m"
      },
      "source": [
        "# Model"
      ]
    },
    {
      "cell_type": "code",
      "metadata": {
        "id": "l3wmC7JXJyge"
      },
      "source": [
        "class DenseNetwork(t.nn.Module):\n",
        "\n",
        "  def __init__(self):\n",
        "    super().__init__()\n",
        "    self.layer_in = t.nn.Linear(1, LAYER_SIZE)\n",
        "    self.norm_1 = t.nn.BatchNorm1d(LAYER_SIZE, affine = False)\n",
        "    self.layer_hidden_1 = t.nn.Linear(LAYER_SIZE, LAYER_SIZE)\n",
        "    self.norm_2 = t.nn.BatchNorm1d(LAYER_SIZE, affine = False)\n",
        "    self.layer_out = t.nn.Linear(LAYER_SIZE, 1)\n",
        "\n",
        "  def forward(self, x):\n",
        "    x = t.nn.functional.relu(self.norm_1(self.layer_in(x)))\n",
        "    x = t.nn.functional.relu(self.norm_2(self.layer_hidden_1(x)))\n",
        "    x = self.layer_out(x)\n",
        "    return x"
      ],
      "execution_count": null,
      "outputs": []
    },
    {
      "cell_type": "markdown",
      "metadata": {
        "id": "KZOvdckibSUD"
      },
      "source": [
        "# Datasets"
      ]
    },
    {
      "cell_type": "code",
      "metadata": {
        "id": "P9z0FjI9GzXc",
        "colab": {
          "base_uri": "https://localhost:8080/"
        },
        "outputId": "3ba5dfc8-1ed2-4938-ee28-624cba616c33"
      },
      "source": [
        "def calculate_mean_std(lower_bound = -math.inf, upper_bound = math.inf, nb_samples = DATASET_LEN, distribution_alpha = ALPHA, distribution_beta = BETA, start = 0, end = 1, noise = NOISE):\n",
        "    assert lower_bound <= upper_bound\n",
        "    beta_distribution = beta(a = distribution_alpha, b = distribution_beta)\n",
        "    x = np.linspace(start, end, nb_samples)\n",
        "    y = beta_distribution.pdf(x)\n",
        "    y += np.random.normal(0, noise, nb_samples)\n",
        "    y = np.clip(y, lower_bound, upper_bound) \n",
        "    return x.mean(), x.std(), y.mean(), y.std()\n",
        "\n",
        "x_mean, x_std, y_mean, y_std = calculate_mean_std(lower_bound = CENSOR_LOW_BOUND, upper_bound = CENSOR_HIGH_BOUND)\n",
        "print('x mean =', x_mean, 'x std =', x_std, 'y mean =', y_mean, 'y std =', y_std)"
      ],
      "execution_count": null,
      "outputs": [
        {
          "output_type": "stream",
          "name": "stdout",
          "text": [
            "x mean = 0.5 x std = 0.2887040035517924 y mean = 0.9890484101333353 y std = 0.58598128548115\n"
          ]
        }
      ]
    },
    {
      "cell_type": "code",
      "metadata": {
        "id": "-vbA4ilEOaOZ"
      },
      "source": [
        "class TruncatedBetaDistributionDataset(t.utils.data.Dataset):\n",
        "\n",
        "  def __init__(self, lower_bound = -math.inf, upper_bound = math.inf, nb_samples = DATASET_LEN, distribution_alpha = ALPHA, distribution_beta = BETA, noise = NOISE):\n",
        "    super().__init__()\n",
        "    assert lower_bound <= upper_bound\n",
        "    self.beta_distribution = beta(a = distribution_alpha, b = distribution_beta)\n",
        "    self.lower_bound = lower_bound\n",
        "    self.upper_bound = upper_bound\n",
        "    self.noise = noise\n",
        "    self.nb_samples = nb_samples\n",
        "  \n",
        "  def __getitem__(self, i):\n",
        "    x = random.uniform(0, 1)\n",
        "    y = self.beta_distribution.pdf(x)\n",
        "    y += random.gauss(0, self.noise)\n",
        "    y = np.clip(y, self.lower_bound, self.upper_bound)\n",
        "    x = normalize(x, mean = x_mean, std = x_std)\n",
        "    y = normalize(y, mean = y_mean, std = y_std)\n",
        "    return t.tensor([x], requires_grad = True, dtype=t.float32), t.tensor([y], requires_grad = True, dtype=t.float32)\n",
        "\n",
        "  def __len__(self):\n",
        "    return self.nb_samples"
      ],
      "execution_count": null,
      "outputs": []
    },
    {
      "cell_type": "code",
      "metadata": {
        "id": "DtKXaeOA_BCg"
      },
      "source": [
        "class TruncatedBetaDistributionValidationDataset(TruncatedBetaDistributionDataset):\n",
        "\n",
        "  def __init__(self, lower_bound = -math.inf, upper_bound = math.inf, nb_samples = DATASET_LEN, distribution_alpha = ALPHA, distribution_beta = BETA, start = 0, end = 1, noise = NOISE):\n",
        "    super().__init__(lower_bound, upper_bound, nb_samples, distribution_alpha, distribution_beta)\n",
        "    self.x = np.linspace(start, end, nb_samples)\n",
        "    self.y = self.beta_distribution.pdf(self.x)\n",
        "    self.y += np.random.normal(0, noise, nb_samples)\n",
        "    self.y = np.clip(self.y, self.lower_bound, self.upper_bound)\n",
        "    self.x = normalize(self.x, mean = x_mean, std = x_std)\n",
        "    self.y = normalize(self.y, mean = y_mean, std = y_std)\n",
        "    self.x = np.expand_dims(self.x, axis = 1)\n",
        "    self.y = np.expand_dims(self.y, axis = 1)\n",
        "    self.x = t.tensor(self.x, requires_grad = False, dtype = t.float32)\n",
        "    self.y = t.tensor(self.y, requires_grad = False, dtype = t.float32)\n",
        "\n",
        "  def __getitem__(self, i):\n",
        "    return self.x[i], self.y[i]"
      ],
      "execution_count": null,
      "outputs": []
    },
    {
      "cell_type": "code",
      "metadata": {
        "id": "G2S5-awAOqV-"
      },
      "source": [
        "dataset_train = TruncatedBetaDistributionDataset(lower_bound = CENSOR_LOW_BOUND, upper_bound = CENSOR_HIGH_BOUND)\n",
        "dataset_val = TruncatedBetaDistributionValidationDataset(lower_bound = CENSOR_LOW_BOUND, upper_bound = CENSOR_HIGH_BOUND, nb_samples = 1000)\n",
        "dataset_test = TruncatedBetaDistributionValidationDataset()"
      ],
      "execution_count": null,
      "outputs": []
    },
    {
      "cell_type": "markdown",
      "metadata": {
        "id": "WKMHYoHCa5bW"
      },
      "source": [
        "# Plotting"
      ]
    },
    {
      "cell_type": "code",
      "metadata": {
        "id": "0mrFyPZdQ8Tn"
      },
      "source": [
        "def plot_beta(lower = -math.inf, upper = math.inf, color = None, label = None, std = None):\n",
        "  x = np.linspace(0, 1, 1000)\n",
        "  beta_distribution = beta(a = ALPHA, b = BETA)\n",
        "  y = beta_distribution.pdf(x)\n",
        "  y = np.clip(y, lower, upper)\n",
        "  x = normalize(x, x_mean, x_std)\n",
        "  y = normalize(y, y_mean, y_std)\n",
        "  plt.scatter(x, y, s = .1, color = color, label = label)\n",
        "  if std:\n",
        "    plt.fill_between(x, y + std, y - std, facecolor='blue', alpha=0.1, label = 'real std')"
      ],
      "execution_count": null,
      "outputs": []
    },
    {
      "cell_type": "code",
      "metadata": {
        "id": "4hRXFDQ_aEp7"
      },
      "source": [
        "def plot_dataset(dataset, size = .01, label = None):\n",
        "  x_list, y_list = [], []\n",
        "  for i in range(len(dataset)):\n",
        "    x, y = dataset[i]\n",
        "    x_list.append(x[0].item())\n",
        "    y_list.append(y[0].item())\n",
        "  plt.scatter(x_list, y_list, s = size, label = label)"
      ],
      "execution_count": null,
      "outputs": []
    },
    {
      "cell_type": "code",
      "metadata": {
        "id": "SYG6v2BQqDHC"
      },
      "source": [
        "LOSS = 0\n",
        "ABS_ERR = 1\n",
        "R_SQUARED = 2"
      ],
      "execution_count": null,
      "outputs": []
    },
    {
      "cell_type": "code",
      "metadata": {
        "id": "hvQgu2vfuCjr"
      },
      "source": [
        "def plot_train_test(train, test, title, y_title):\n",
        "    plt.plot(range(len(train)), train, label = 'Train')\n",
        "    plt.plot(range(len(test)), test, label = 'Test')\n",
        "    plt.xlabel('Epochs')\n",
        "    plt.ylabel(y_title)\n",
        "    plt.title(title)\n",
        "    plt.legend()\n",
        "    # plt.savefig(title + '.png', dpi = 300, format = 'png')\n",
        "    plt.show()"
      ],
      "execution_count": null,
      "outputs": []
    },
    {
      "cell_type": "code",
      "metadata": {
        "id": "8nWeaULRuGF-"
      },
      "source": [
        "def plot_epochs(train_metrics_list, test_metrics_list):\n",
        "  test_err = list(map(lambda m: m[ABS_ERR], test_metrics_list))\n",
        "  test_loss = list(map(lambda m: m[LOSS], test_metrics_list))\n",
        "  train_err = list(map(lambda m: m[ABS_ERR], train_metrics_list))\n",
        "  train_loss = list(map(lambda m: m[LOSS], train_metrics_list))\n",
        "  plot_train_test(train_loss, test_loss, 'Loss', 'Loss')\n",
        "  plot_train_test(train_err, test_err, 'Absolute error', 'Absolute error')"
      ],
      "execution_count": null,
      "outputs": []
    },
    {
      "cell_type": "code",
      "metadata": {
        "id": "eQP63BJieGHN"
      },
      "source": [
        "def plot_net(model, start = 0, end = 1, gamma = None, label = 'model prediction', with_std = False):\n",
        "  model.eval()\n",
        "  x_list, y_list = [], []\n",
        "  for i in range(len(dataset_val)):\n",
        "    x, _ = dataset_val[i]\n",
        "    y = model.forward(x.reshape(1, 1))\n",
        "    if gamma:\n",
        "      y = y / gamma\n",
        "    x_list.append(x[0].item())\n",
        "    y_list.append(y[0].item())\n",
        "  plt.scatter(x_list, y_list, s = .1, label = label)\n",
        "  if with_std and gamma:\n",
        "    std = 1 / gamma.item()\n",
        "    np_y = np.array(y_list)\n",
        "    plt.fill_between(x_list, np_y + std, np_y - std, facecolor='gray', alpha=0.1, label = 'Tobit std')"
      ],
      "execution_count": null,
      "outputs": []
    },
    {
      "cell_type": "markdown",
      "metadata": {
        "id": "iFb_01Z2avwQ"
      },
      "source": [
        "# Training"
      ]
    },
    {
      "cell_type": "code",
      "metadata": {
        "id": "BWgGzkLHFlC5",
        "colab": {
          "base_uri": "https://localhost:8080/"
        },
        "outputId": "2bd1d76d-eea7-4110-b433-3851d6368117"
      },
      "source": [
        "# n is the nb of samples, k is the nb of regressors (features)\n",
        "n = len(dataset_train)\n",
        "k = len(dataset_train[0][0])\n",
        "print(f'While calculating the adjusted R2, n = {n} and k = {k}')\n",
        "\n",
        "def adjusted_R2(y, y_pred):\n",
        "  r2 = sk.metrics.r2_score(y, y_pred)\n",
        "  return 1 - ( ( (1 - r2) * (n - 1) ) / (n - k - 1) )"
      ],
      "execution_count": null,
      "outputs": [
        {
          "output_type": "stream",
          "name": "stdout",
          "text": [
            "While calculating the adjusted R2, n = 10000 and k = 1\n"
          ]
        }
      ]
    },
    {
      "cell_type": "code",
      "metadata": {
        "id": "kPDm9XIKnMPD"
      },
      "source": [
        "bound_min = normalize(CENSOR_LOW_BOUND, y_mean, y_std)\n",
        "bound_max = normalize(CENSOR_HIGH_BOUND, y_mean, y_std)\n",
        "zero_normalized = normalize(0, y_mean, y_std)"
      ],
      "execution_count": null,
      "outputs": []
    },
    {
      "cell_type": "code",
      "metadata": {
        "id": "741SKP5JfZzH"
      },
      "source": [
        "def eval_network(model, loader, loss_fn, batch_size, is_eval_bounded = True):\n",
        "  model.eval()\n",
        "  with t.no_grad():\n",
        "    metrics = np.zeros(3)\n",
        "    total_weight = 0\n",
        "    for x, y in loader:\n",
        "      y_pred = model.forward(x)\n",
        "      loss = loss_fn(y_pred, y)\n",
        "      if is_eval_bounded:\n",
        "        y_pred = t.clamp(y_pred, min = bound_min, max = bound_max)\n",
        "      y_pred, y = to_numpy(y_pred), to_numpy(y)\n",
        "      weight = len(y) / batch_size\n",
        "      metrics[LOSS] += (loss.item() * weight)\n",
        "      metrics[ABS_ERR] += (sk.metrics.mean_absolute_error(y, y_pred) * weight)\n",
        "      metrics[R_SQUARED] += (adjusted_R2(y, y_pred) * weight)\n",
        "      total_weight += weight\n",
        "    metrics /= total_weight\n",
        "    return metrics"
      ],
      "execution_count": null,
      "outputs": []
    },
    {
      "cell_type": "code",
      "metadata": {
        "id": "H9_ebC0HraIU"
      },
      "source": [
        "def train_network(model, loss_fn, optimizer, scheduler, loader_train, loader_val, checkpoint_name, batch_size_train, batch_size_val, epochs, log = True):\n",
        "  metrics_train_per_epochs, metrics_test_per_epochs = [], []\n",
        "  best = [math.inf, math.inf, -math.inf]\n",
        "  try:\n",
        "    counter = 0\n",
        "    total_weight = 0\n",
        "    train_metrics = np.zeros(3)  \n",
        "    for epoch in range(epochs):    \n",
        "      try:\n",
        "        model.train()        \n",
        "        for x, y in loader_train:\n",
        "          counter += 1\n",
        "          y_pred = model.forward(x)\n",
        "          loss = loss_fn(y_pred, y)\n",
        "          loss.backward()\n",
        "          optimizer.step()\n",
        "          optimizer.zero_grad()\n",
        "          y_pred = t.clamp(y_pred, min = bound_min, max = bound_max)\n",
        "          y_pred, y = to_numpy(y_pred), to_numpy(y)\n",
        "          weight = len(y) / batch_size_train\n",
        "          train_metrics[LOSS] += (loss.item() * weight)\n",
        "          train_metrics[ABS_ERR] += (sk.metrics.mean_absolute_error(y, y_pred) * weight)\n",
        "          train_metrics[R_SQUARED] += (adjusted_R2(y, y_pred) * weight)\n",
        "          total_weight += weight\n",
        "          scheduler.step()\n",
        "          if counter % CHECKPOINT_FREQUENCY == 0:\n",
        "            train_metrics /= total_weight  \n",
        "            metrics_train_per_epochs.append(train_metrics)\n",
        "            train_metrics = np.zeros(3)\n",
        "            total_weight = 0\n",
        "            test_metrics = eval_network(model, loader_val, loss_fn, batch_size_val)\n",
        "            metrics_test_per_epochs.append(test_metrics)\n",
        "            # if test_metrics[R_SQUARED] > best[R_SQUARED]:\n",
        "            if test_metrics[ABS_ERR] < best[ABS_ERR]:\n",
        "              best = test_metrics\n",
        "              checkpoint_dict = {'model': model.state_dict()}\n",
        "              if hasattr(loss_fn, 'gamma'):\n",
        "                checkpoint_dict['gamma'] = loss_fn.gamma\n",
        "              t.save(checkpoint_dict, '{}.tar'.format(checkpoint_name))\n",
        "            if log:\n",
        "              print('Iteration {} abs err {} R2 {}'.format(counter, test_metrics[ABS_ERR], test_metrics[R_SQUARED]))\n",
        "      except Exception as e:\n",
        "        print(e)\n",
        "        break\n",
        "    print('Best absolute error:', best[ABS_ERR], 'R2:', best[R_SQUARED])\n",
        "    return metrics_train_per_epochs, metrics_test_per_epochs, best\n",
        "  except KeyboardInterrupt as e:\n",
        "    print('Training interrupted at epoch', epoch)"
      ],
      "execution_count": null,
      "outputs": []
    },
    {
      "cell_type": "markdown",
      "metadata": {
        "id": "bvSeai3n2cdp"
      },
      "source": [
        "# Learning Rate Range Test Setup"
      ]
    },
    {
      "cell_type": "code",
      "metadata": {
        "id": "qOZN9k1hESSx"
      },
      "source": [
        "class CustomTrainIter(TrainDataLoaderIter):\n",
        "    def inputs_labels_from_batch(self, batch_data):\n",
        "        return batch_data\n",
        "\n",
        "class CustomValIter(ValDataLoaderIter):\n",
        "    def inputs_labels_from_batch(self, batch_data):\n",
        "        return batch_data"
      ],
      "execution_count": null,
      "outputs": []
    },
    {
      "cell_type": "code",
      "metadata": {
        "id": "_A_rb28w2hZ0"
      },
      "source": [
        "def lr_range_test_UNcensored(criterion, model = None, batch_size = 128, epochs = 5, \n",
        "  start_lr = 1e-8, end_lr = 10, is_gamma = False, device = 'cpu', log_view = True, loader_train = None, loader_val = None, plt_file_name = ''):\n",
        "  if model == None:\n",
        "    model = DenseNetwork()\n",
        "  loss_fn = criterion()\n",
        "  params = model.parameters()\n",
        "  optimizer = t.optim.SGD(params, lr = start_lr)\n",
        "  if not loader_train:\n",
        "    loader_train = t.utils.data.DataLoader(dataset_train, batch_size, shuffle = False, num_workers = 0)\n",
        "  if not loader_val:\n",
        "    loader_val = t.utils.data.DataLoader(dataset_val, batch_size, shuffle = False, num_workers = 0)\n",
        "  lr_finder = LRFinder(model, optimizer, loss_fn, device = device)\n",
        "  lr_finder.range_test(loader_train, val_loader = loader_val, end_lr = end_lr, num_iter = len(loader_train) * epochs, step_mode=\"linear\")\n",
        "  lr_range_test_plot = lr_finder.plot(skip_start=0, skip_end=0, log_lr = log_view)\n",
        "  lr_range_test_plot.figure.savefig('lr_range_test_{}.pdf'.format(plt_file_name), dpi = 300, format = 'pdf')\n",
        "  lr_finder.reset()"
      ],
      "execution_count": null,
      "outputs": []
    },
    {
      "cell_type": "markdown",
      "metadata": {
        "id": "uw214cctyA5t"
      },
      "source": [
        "# Grid Search Setup"
      ]
    },
    {
      "cell_type": "code",
      "metadata": {
        "id": "VCoFR-BjkyQ_"
      },
      "source": [
        "def grid_search(grid_config, train_callback, checkpoint_name, nb_iterations = 1, conf_validation = None):\n",
        "  configs = ParameterGrid(grid_config)\n",
        "  configs_len = len(configs)\n",
        "  counter = 0\n",
        "  checkpoint_file = checkpoint_name + '.tar'\n",
        "  grid_checkpoint_file = 'grid ' + checkpoint_file\n",
        "  try:\n",
        "    resume_grid_search = t.load(GRID_RESULTS_FILE)\n",
        "  except FileNotFoundError:\n",
        "    resume_grid_search = None\n",
        "\n",
        "  results = {}\n",
        "  best = [math.inf, math.inf, -math.inf]\n",
        "  if resume_grid_search is not None and 'best' in resume_grid_search:\n",
        "    best_conf = resume_grid_search['best']\n",
        "    print('Best previous configuration', best_conf)\n",
        "    best = resume_grid_search[str(best_conf)]\n",
        "    print(f'Best previous metrics abs err = {best[ABS_ERR]}, R2 = {best[R_SQUARED]}')\n",
        "    results = resume_grid_search\n",
        "\n",
        "  for conf in ParameterGrid(grid_config):\n",
        "    counter += 1\n",
        "    \n",
        "    if resume_grid_search is not None and str(conf) in resume_grid_search:\n",
        "        print('Allready evaluated configuration', conf)\n",
        "        continue\n",
        "\n",
        "    if not conf_validation(conf):\n",
        "      print('Skipping over configuration', conf)\n",
        "      results[str(conf)] = 'invalid'\n",
        "      continue\n",
        "    \n",
        "    print('-' * 5, 'grid search {}/{}'.format(counter, configs_len), '-' * 5)\n",
        "    print('Config:', conf)\n",
        "    \n",
        "    best_from_iterations = [math.inf, math.inf, -math.inf]\n",
        "    \n",
        "    for i in range(nb_iterations):\n",
        "      if nb_iterations != 1:\n",
        "        print('Iteration', i + 1)\n",
        "      metrics = train_callback(conf)\n",
        "      \n",
        "      # if metrics[R_SQUARED] > best[R_SQUARED]:\n",
        "      if metrics[ABS_ERR] < best[ABS_ERR]:  \n",
        "        best_from_iterations = metrics\n",
        "\n",
        "      # if metrics[R_SQUARED] > best[R_SQUARED]:\n",
        "      if metrics[ABS_ERR] < best[ABS_ERR] and not (math.isnan(metrics[LOSS] or math.isnan(metrics[ABS_ERR]) or math.isnan(metrics[R_SQUARED]))):  \n",
        "        best = metrics\n",
        "        results['best'] = conf\n",
        "        if os.path.exists(grid_checkpoint_file):\n",
        "          os.remove(grid_checkpoint_file)\n",
        "        os.rename(checkpoint_file, grid_checkpoint_file)  \n",
        "    else:\n",
        "      results[str(conf)] = best_from_iterations\n",
        "      t.save(results, GRID_RESULTS_FILE)\n",
        "    \n",
        "  return best"
      ],
      "execution_count": null,
      "outputs": []
    },
    {
      "cell_type": "code",
      "metadata": {
        "id": "HqtAMBVGunuK"
      },
      "source": [
        "def train_and_evaluate_UNcensored(checkpoint, criterion, model_fn = DenseNetwork, plot = False, log = True, is_gamma = False, loader_train_fn = None, loader_val_fn = None):\n",
        "  def grid_callback(conf):\n",
        "    model = model_fn()\n",
        "    if not loader_train_fn:\n",
        "      loader_train = t.utils.data.DataLoader(dataset_train, conf['batch'], shuffle = False, num_workers = 0)\n",
        "    else:\n",
        "      loader_train = loader_train_fn(conf['batch'])\n",
        "    if not loader_val_fn:\n",
        "      loader_val = t.utils.data.DataLoader(dataset_val, len(dataset_val), shuffle = False, num_workers = 0)\n",
        "    else:\n",
        "      loader_val = loader_val_fn(len(dataset_val))\n",
        "    loss_fn = criterion()\n",
        "    params = model.parameters()\n",
        "    optimizer = t.optim.SGD(params, lr = conf['max_lr'] / conf['div_factor'], momentum = conf['max_momentum'], weight_decay = conf['weight_decay'])\n",
        "    scheduler = t.optim.lr_scheduler.OneCycleLR(\n",
        "      optimizer, \n",
        "      max_lr = conf['max_lr'], \n",
        "      steps_per_epoch = len(loader_train), \n",
        "      epochs = conf['epochs'],\n",
        "      pct_start = conf['pct_start'],\n",
        "      anneal_strategy = conf['anneal_strategy'],\n",
        "      base_momentum = conf['base_momentum'],\n",
        "      max_momentum = conf['max_momentum'],\n",
        "      div_factor = conf['div_factor'],\n",
        "      final_div_factor = conf['final_div_factor']\n",
        "    )\n",
        "    train_metrics, val_metrics, best = train_network(\n",
        "        model, loss_fn, optimizer, scheduler, loader_train, loader_val, checkpoint, conf['batch'], len(dataset_val), conf['epochs'], log = log)    \n",
        "    if plot:\n",
        "      plot_epochs(train_metrics, val_metrics)\n",
        "    return best\n",
        "  return grid_callback"
      ],
      "execution_count": null,
      "outputs": []
    },
    {
      "cell_type": "code",
      "metadata": {
        "id": "xMFl7-RVzKq1"
      },
      "source": [
        "def config_validation(conf):\n",
        "  return conf['div_factor'] <= conf['final_div_factor'] and conf['max_momentum'] >= conf['base_momentum']"
      ],
      "execution_count": null,
      "outputs": []
    },
    {
      "cell_type": "markdown",
      "metadata": {
        "id": "uNEONLmCeB3v"
      },
      "source": [
        "# Plot Selected(With Grid) Model"
      ]
    },
    {
      "cell_type": "code",
      "metadata": {
        "id": "XeVazIfzyGyf"
      },
      "source": [
        "def plot_and_evaluate_model_UNcensored(checkpoint_name, criterion, isGrid = True, model_fn = DenseNetwork, is_gamma = False, loader_val = None):\n",
        "  model = model_fn()\n",
        "  checkpoint = t.load(('grid ' if isGrid else '') + checkpoint_name + '.tar')\n",
        "  model.load_state_dict(checkpoint['model'])\n",
        "  plot_beta(label = 'true distribution')\n",
        "  # plot_dataset(dataset_test, size = .3, label = 'test data')\n",
        "  plot_dataset(dataset_val, size = .3, label = 'validation data')\n",
        "  plot_net(model)\n",
        "  loss_fn = criterion()\n",
        "  plt.xlabel('input (standardized)')\n",
        "  plt.ylabel('outcome (standardized)')\n",
        "  plt.ylim((-2.5, 2.5))\n",
        "  lgnd = plt.legend()\n",
        "  lgnd.legendHandles[0]._sizes = [10]\n",
        "  lgnd.legendHandles[1]._sizes = [10]\n",
        "  lgnd.legendHandles[2]._sizes = [10]\n",
        "  plt.savefig('{}.pdf'.format(checkpoint_name), dpi = 300, format = 'pdf')\n",
        "  plt.savefig('{}.svg'.format(checkpoint_name), dpi = 300, format = 'svg')\n",
        "  plt.savefig('{}.png'.format(checkpoint_name), dpi = 200, format = 'png')\n",
        "  plt.show()\n",
        "\n",
        "  if not loader_val:\n",
        "    loader_val = t.utils.data.DataLoader(dataset_val, len(dataset_val), shuffle = False, num_workers = 0)\n",
        "  val_metrics = eval_network(model, loader_val, loss_fn, len(dataset_val))\n",
        "  print('Absolute error - validation', val_metrics[ABS_ERR])\n",
        "  print('R2 - validation', val_metrics[R_SQUARED])\n",
        "\n",
        "  loader_test = t.utils.data.DataLoader(dataset_test, len(dataset_test), shuffle = False, num_workers = 0)\n",
        "  test_metrics = eval_network(model, loader_test, loss_fn, len(dataset_test), is_eval_bounded = False)\n",
        "  print('Absolute error - test', test_metrics[ABS_ERR])\n",
        "  print('R2 - test', test_metrics[R_SQUARED])"
      ],
      "execution_count": null,
      "outputs": []
    },
    {
      "cell_type": "code",
      "metadata": {
        "id": "fyrS-ceCyMit"
      },
      "source": [
        "def real_y_std():\n",
        "  real_x_mean, real_x_std, real_y_mean, real_y_std = calculate_mean_std()\n",
        "  return real_y_std"
      ],
      "execution_count": null,
      "outputs": []
    },
    {
      "cell_type": "markdown",
      "metadata": {
        "id": "_PkZAPgei9zh"
      },
      "source": [
        "# MAE"
      ]
    },
    {
      "cell_type": "markdown",
      "metadata": {
        "id": "1e9uSUY_cJoH"
      },
      "source": [
        "### Learning Rate Rage Text"
      ]
    },
    {
      "cell_type": "code",
      "metadata": {
        "id": "yshjlfZtbgkV"
      },
      "source": [
        "# lr_range_test_UNcensored(t.nn.L1Loss, batch_size = 100, epochs = 2, start_lr = 1e-2, end_lr = 1e-1, log_view = False, plt_file_name = 'mae')"
      ],
      "execution_count": null,
      "outputs": []
    },
    {
      "cell_type": "markdown",
      "metadata": {
        "id": "Pek-f3V9egUO"
      },
      "source": [
        "### Grid Search"
      ]
    },
    {
      "cell_type": "code",
      "metadata": {
        "id": "luvBv9LMuWPN"
      },
      "source": [
        "train_and_evaluate_net = train_and_evaluate_UNcensored(CHECKPOINT_MAE, t.nn.L1Loss, plot = False, log = False)"
      ],
      "execution_count": null,
      "outputs": []
    },
    {
      "cell_type": "markdown",
      "metadata": {
        "id": "tgLaGgkNhmoL"
      },
      "source": [
        "Train once with default settings"
      ]
    },
    {
      "cell_type": "code",
      "metadata": {
        "id": "cRzvUFIEimLQ"
      },
      "source": [
        "# conf = {\n",
        "#     'max_lr': 3e-2,\n",
        "#     'epochs': 10,\n",
        "#     'batch': 100,\n",
        "#     'pct_start': 0.3,\n",
        "#     'anneal_strategy': 'linear',\n",
        "#     'base_momentum': 0.85,\n",
        "#     'max_momentum': 0.95,\n",
        "#     'div_factor': 3,\n",
        "#     'final_div_factor': 1e4,\n",
        "#     'weight_decay': 0\n",
        "# }\n",
        "# train_and_evaluate_net(conf)"
      ],
      "execution_count": null,
      "outputs": []
    },
    {
      "cell_type": "markdown",
      "metadata": {
        "id": "vsLkUTl0hvDm"
      },
      "source": [
        "Grid search"
      ]
    },
    {
      "cell_type": "code",
      "metadata": {
        "id": "WXetQnVZhxGI"
      },
      "source": [
        "# grid_config = [{\n",
        "#     'max_lr': [1e-5, 5e-5, 1e-4, 5e-4, 1e-3, 5e-3],\n",
        "#     'epochs': [10, 20],\n",
        "#     'batch': [100, 200],\n",
        "#     'pct_start': [0.45],\n",
        "#     'anneal_strategy': ['linear'],\n",
        "#     'base_momentum': [0.85],\n",
        "#     'max_momentum': [0.95],\n",
        "#     'div_factor': [10, 5, 2],\n",
        "#     'final_div_factor': [1e4],\n",
        "#     'weight_decay': [0]\n",
        "# }]\n",
        "# grid_best = grid_search(grid_config, train_and_evaluate_net, CHECKPOINT_MAE, conf_validation = config_validation)"
      ],
      "execution_count": null,
      "outputs": []
    },
    {
      "cell_type": "markdown",
      "metadata": {
        "id": "XKB-nJdSd52B"
      },
      "source": [
        "Load the best model"
      ]
    },
    {
      "cell_type": "code",
      "metadata": {
        "id": "T78KNN5mdIZB",
        "colab": {
          "base_uri": "https://localhost:8080/",
          "height": 348
        },
        "outputId": "2ec8c4b2-f4b4-4e96-b1dc-2fdf36a5e347"
      },
      "source": [
        "# plot_and_evaluate_model_UNcensored(CHECKPOINT_MAE, t.nn.L1Loss, isGrid = False)\n",
        "plot_and_evaluate_model_UNcensored(CHECKPOINT_MAE, t.nn.L1Loss, isGrid = True)"
      ],
      "execution_count": null,
      "outputs": [
        {
          "output_type": "display_data",
          "data": {
            "text/plain": [
              "<Figure size 432x288 with 1 Axes>"
            ],
            "image/png": "[encoded data removed]"
          },
          "metadata": {
            "needs_background": "light"
          }
        },
        {
          "output_type": "stream",
          "name": "stdout",
          "text": [
            "Absolute error - validation 0.21360494196414948\n",
            "R2 - validation 0.8799768590181234\n",
            "Absolute error - test 0.5005257725715637\n",
            "R2 - test 0.8021194154846059\n"
          ]
        }
      ]
    },
    {
      "cell_type": "code",
      "metadata": {
        "id": "ttyzqYlhuTW0"
      },
      "source": [
        "# grid_results = t.load(GRID_RESULTS_FILE)\n",
        "# best_config = grid_results['best']\n",
        "# best_metrics = grid_results[str(best_config)]\n",
        "# print(best_config)\n",
        "# print(best_metrics)"
      ],
      "execution_count": null,
      "outputs": []
    },
    {
      "cell_type": "markdown",
      "metadata": {
        "id": "zrdbnNnsjRqn"
      },
      "source": [
        "# Bounded MAE"
      ]
    },
    {
      "cell_type": "code",
      "metadata": {
        "id": "1X-4lqknpoyU"
      },
      "source": [
        "mae = t.nn.L1Loss()\n",
        "\n",
        "def bounded_loss(y_pred, y):\n",
        "  y_pred = t.clamp(y_pred, min = bound_min, max = bound_max)\n",
        "  return mae(y_pred, y)"
      ],
      "execution_count": null,
      "outputs": []
    },
    {
      "cell_type": "markdown",
      "metadata": {
        "id": "uPS8NyO8Oscf"
      },
      "source": [
        "### Learning Rate Range Test"
      ]
    },
    {
      "cell_type": "code",
      "metadata": {
        "id": "1riRXO5QO07V"
      },
      "source": [
        "# lr_range_test_UNcensored(lambda: bounded_loss, batch_size = 100, epochs = 2, start_lr = 1e-2, end_lr = 1e-1, log_view = False, plt_file_name = 'bounded_mae')"
      ],
      "execution_count": null,
      "outputs": []
    },
    {
      "cell_type": "markdown",
      "metadata": {
        "id": "b4IyppMWQiuh"
      },
      "source": [
        "### Grid Search"
      ]
    },
    {
      "cell_type": "code",
      "metadata": {
        "id": "bC2ia-lERvwM"
      },
      "source": [
        "train_and_evaluate_net = train_and_evaluate_UNcensored(CHECKPOINT_BOUNDED_MAE, lambda: bounded_loss, plot = False, log = False)"
      ],
      "execution_count": null,
      "outputs": []
    },
    {
      "cell_type": "code",
      "metadata": {
        "id": "BXR5RbHKRx72"
      },
      "source": [
        "# conf = {\n",
        "#     'max_lr': 3e-2,\n",
        "#     'epochs': 10,\n",
        "#     'batch': 100,\n",
        "#     'pct_start': 0.3,\n",
        "#     'anneal_strategy': 'linear',\n",
        "#     'base_momentum': 0.85,\n",
        "#     'max_momentum': 0.95,\n",
        "#     'div_factor': 3,\n",
        "#     'final_div_factor': 1e4,\n",
        "#     'weight_decay': 0\n",
        "# }\n",
        "# train_and_evaluate_net(conf)"
      ],
      "execution_count": null,
      "outputs": []
    },
    {
      "cell_type": "code",
      "metadata": {
        "id": "u2MNNsjeR7dn"
      },
      "source": [
        "# grid_config = [{\n",
        "#     'max_lr': [1e-5, 5e-5, 1e-4, 5e-4, 1e-3, 5e-3],\n",
        "#     'epochs': [10, 20],\n",
        "#     'batch': [100, 200],\n",
        "#     'pct_start': [0.45],\n",
        "#     'anneal_strategy': ['linear'],\n",
        "#     'base_momentum': [0.85],\n",
        "#     'max_momentum': [0.95],\n",
        "#     'div_factor': [10, 5, 2],\n",
        "#     'final_div_factor': [1e4],\n",
        "#     'weight_decay': [0]\n",
        "# }]\n",
        "# grid_best = grid_search(grid_config, train_and_evaluate_net, CHECKPOINT_BOUNDED_MAE, conf_validation = config_validation)"
      ],
      "execution_count": null,
      "outputs": []
    },
    {
      "cell_type": "code",
      "metadata": {
        "id": "e76wZkVDR4Bk"
      },
      "source": [
        "# plot_and_evaluate_model_UNcensored(CHECKPOINT_BOUNDED_MAE, lambda: bounded_loss, isGrid = False)\n",
        "# plot_and_evaluate_model_UNcensored(CHECKPOINT_BOUNDED_MAE, lambda: bounded_loss, isGrid = True)"
      ],
      "execution_count": null,
      "outputs": []
    },
    {
      "cell_type": "code",
      "metadata": {
        "id": "ZbqvoFZO_43p"
      },
      "source": [
        "# grid_results = t.load(GRID_RESULTS_FILE)\n",
        "# best_config = grid_results['best']\n",
        "# best_metrics = grid_results[str(best_config)]\n",
        "# print(best_config)\n",
        "# print(best_metrics)"
      ],
      "execution_count": null,
      "outputs": []
    },
    {
      "cell_type": "markdown",
      "metadata": {
        "id": "7NFgEyBRGQCw"
      },
      "source": [
        "# Bounded MAE With Penalty"
      ]
    },
    {
      "cell_type": "code",
      "metadata": {
        "id": "EWDXOA_3GeUT"
      },
      "source": [
        "def below_zero_mae_penalty(y_pred):\n",
        "  y_below_zero = t.clamp(y_pred, min = -math.inf, max = zero_normalized)\n",
        "  return mae(y_below_zero, t.full_like(y_below_zero, zero_normalized))\n",
        "\n",
        "def bounded_loss_with_penalty(y_pred, y):\n",
        "  return bounded_loss(y_pred, y) + below_zero_mae_penalty(y_pred)"
      ],
      "execution_count": null,
      "outputs": []
    },
    {
      "cell_type": "markdown",
      "metadata": {
        "id": "qnSsGazgGnFq"
      },
      "source": [
        "### Learning Rate Range Test"
      ]
    },
    {
      "cell_type": "code",
      "metadata": {
        "id": "E6rj_zD3Gy_L"
      },
      "source": [
        "# lr_range_test_UNcensored(lambda: bounded_loss_with_penalty, batch_size = 100, epochs = 2, start_lr = 1e-2, end_lr = 1e-1, log_view = False, plt_file_name = 'bounded_mae_with_penalty')"
      ],
      "execution_count": null,
      "outputs": []
    },
    {
      "cell_type": "code",
      "metadata": {
        "id": "KiRerto67uz_"
      },
      "source": [
        "train_and_evaluate_net = train_and_evaluate_UNcensored(CHECKPOINT_BOUNDED_MAE_WITH_PENALTY, lambda: bounded_loss_with_penalty, plot = False, log = False)"
      ],
      "execution_count": null,
      "outputs": []
    },
    {
      "cell_type": "code",
      "metadata": {
        "id": "Pq9Z4qcn7yYx"
      },
      "source": [
        "# conf = {\n",
        "#     'max_lr': 2e-2,\n",
        "#     'epochs': 10,\n",
        "#     'batch': 100,\n",
        "#     'pct_start': 0.3,\n",
        "#     'anneal_strategy': 'linear',\n",
        "#     'base_momentum': 0.85,\n",
        "#     'max_momentum': 0.95,\n",
        "#     'div_factor': 2,\n",
        "#     'final_div_factor': 1e4,\n",
        "#     'weight_decay': 0\n",
        "# }\n",
        "# train_and_evaluate_net(conf)"
      ],
      "execution_count": null,
      "outputs": []
    },
    {
      "cell_type": "code",
      "metadata": {
        "id": "RneCjBRn78EF"
      },
      "source": [
        "# grid_config = [{\n",
        "#     'max_lr': [1e-5, 5e-5, 1e-4, 5e-4, 1e-3, 5e-3],\n",
        "#     'epochs': [10, 20],\n",
        "#     'batch': [100, 200],\n",
        "#     'pct_start': [0.45],\n",
        "#     'anneal_strategy': ['linear'],\n",
        "#     'base_momentum': [0.85],\n",
        "#     'max_momentum': [0.95],\n",
        "#     'div_factor': [10, 5, 2],\n",
        "#     'final_div_factor': [1e4],\n",
        "#     'weight_decay': [0]\n",
        "# }]\n",
        "# grid_best = grid_search(grid_config, train_and_evaluate_net, CHECKPOINT_BOUNDED_MAE_WITH_PENALTY, conf_validation = config_validation)"
      ],
      "execution_count": null,
      "outputs": []
    },
    {
      "cell_type": "code",
      "metadata": {
        "id": "sxJroWyT7_t-"
      },
      "source": [
        "# plot_and_evaluate_model_UNcensored(CHECKPOINT_BOUNDED_MAE_WITH_PENALTY, lambda: bounded_loss_with_penalty, isGrid = False)\n",
        "# plot_and_evaluate_model_UNcensored(CHECKPOINT_BOUNDED_MAE_WITH_PENALTY, lambda: bounded_loss_with_penalty, isGrid = True)"
      ],
      "execution_count": null,
      "outputs": []
    },
    {
      "cell_type": "code",
      "metadata": {
        "id": "S2i9fRwdMDug"
      },
      "source": [
        "# grid_results = t.load(GRID_RESULTS_FILE)\n",
        "# best_config = grid_results['best']\n",
        "# best_metrics = grid_results[str(best_config)]\n",
        "# print(best_config)\n",
        "# print(best_metrics)"
      ],
      "execution_count": null,
      "outputs": []
    }
  ]
}