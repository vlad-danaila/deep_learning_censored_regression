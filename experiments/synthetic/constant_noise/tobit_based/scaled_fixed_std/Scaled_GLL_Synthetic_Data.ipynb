{
  "nbformat": 4,
  "nbformat_minor": 0,
  "metadata": {
    "colab": {
      "name": "Scaled GLL - Synthetic Data.ipynb",
      "provenance": [],
      "collapsed_sections": [],
      "toc_visible": true
    },
    "kernelspec": {
      "name": "python3",
      "display_name": "Python 3"
    },
    "widgets": {
      "application/vnd.jupyter.widget-state+json": {
        "bf9c1d076a7249d1b0ba14b6d4e18b1d": {
          "model_module": "@jupyter-widgets/controls",
          "model_name": "HBoxModel",
          "state": {
            "_view_name": "HBoxView",
            "_dom_classes": [],
            "_model_name": "HBoxModel",
            "_view_module": "@jupyter-widgets/controls",
            "_model_module_version": "1.5.0",
            "_view_count": null,
            "_view_module_version": "1.5.0",
            "box_style": "",
            "layout": "IPY_MODEL_0fc8a965972d45fdaad9649fe11f8856",
            "_model_module": "@jupyter-widgets/controls",
            "children": [
              "IPY_MODEL_5c3706dc48fd46a3a77cbea98847eb36",
              "IPY_MODEL_c9faf612aa5f430e9f55a82b52f02c7c"
            ]
          },
          "model_module_version": "1.5.0"
        },
        "0fc8a965972d45fdaad9649fe11f8856": {
          "model_module": "@jupyter-widgets/base",
          "model_name": "LayoutModel",
          "state": {
            "_view_name": "LayoutView",
            "grid_template_rows": null,
            "right": null,
            "justify_content": null,
            "_view_module": "@jupyter-widgets/base",
            "overflow": null,
            "_model_module_version": "1.2.0",
            "_view_count": null,
            "flex_flow": null,
            "width": null,
            "min_width": null,
            "border": null,
            "align_items": null,
            "bottom": null,
            "_model_module": "@jupyter-widgets/base",
            "top": null,
            "grid_column": null,
            "overflow_y": null,
            "overflow_x": null,
            "grid_auto_flow": null,
            "grid_area": null,
            "grid_template_columns": null,
            "flex": null,
            "_model_name": "LayoutModel",
            "justify_items": null,
            "grid_row": null,
            "max_height": null,
            "align_content": null,
            "visibility": null,
            "align_self": null,
            "height": null,
            "min_height": null,
            "padding": null,
            "grid_auto_rows": null,
            "grid_gap": null,
            "max_width": null,
            "order": null,
            "_view_module_version": "1.2.0",
            "grid_template_areas": null,
            "object_position": null,
            "object_fit": null,
            "grid_auto_columns": null,
            "margin": null,
            "display": null,
            "left": null
          },
          "model_module_version": "1.2.0"
        },
        "5c3706dc48fd46a3a77cbea98847eb36": {
          "model_module": "@jupyter-widgets/controls",
          "model_name": "FloatProgressModel",
          "state": {
            "_view_name": "ProgressView",
            "style": "IPY_MODEL_f866c26ab9d946ee9632135dface0bb9",
            "_dom_classes": [],
            "description": "100%",
            "_model_name": "FloatProgressModel",
            "bar_style": "success",
            "max": 200,
            "_view_module": "@jupyter-widgets/controls",
            "_model_module_version": "1.5.0",
            "value": 200,
            "_view_count": null,
            "_view_module_version": "1.5.0",
            "orientation": "horizontal",
            "min": 0,
            "description_tooltip": null,
            "_model_module": "@jupyter-widgets/controls",
            "layout": "IPY_MODEL_e78ba8a0664b403ebe42e37115118762"
          },
          "model_module_version": "1.5.0"
        },
        "c9faf612aa5f430e9f55a82b52f02c7c": {
          "model_module": "@jupyter-widgets/controls",
          "model_name": "HTMLModel",
          "state": {
            "_view_name": "HTMLView",
            "style": "IPY_MODEL_8c55ebb8669d4041a9544ef2207c828b",
            "_dom_classes": [],
            "description": "",
            "_model_name": "HTMLModel",
            "placeholder": "​",
            "_view_module": "@jupyter-widgets/controls",
            "_model_module_version": "1.5.0",
            "value": " 200/200 [00:05&lt;00:00, 33.39it/s]",
            "_view_count": null,
            "_view_module_version": "1.5.0",
            "description_tooltip": null,
            "_model_module": "@jupyter-widgets/controls",
            "layout": "IPY_MODEL_0119928c2c0d43e9b1a667f76f5a11aa"
          },
          "model_module_version": "1.5.0"
        },
        "f866c26ab9d946ee9632135dface0bb9": {
          "model_module": "@jupyter-widgets/controls",
          "model_name": "ProgressStyleModel",
          "state": {
            "_view_name": "StyleView",
            "_model_name": "ProgressStyleModel",
            "description_width": "initial",
            "_view_module": "@jupyter-widgets/base",
            "_model_module_version": "1.5.0",
            "_view_count": null,
            "_view_module_version": "1.2.0",
            "bar_color": null,
            "_model_module": "@jupyter-widgets/controls"
          },
          "model_module_version": "1.5.0"
        },
        "e78ba8a0664b403ebe42e37115118762": {
          "model_module": "@jupyter-widgets/base",
          "model_name": "LayoutModel",
          "state": {
            "_view_name": "LayoutView",
            "grid_template_rows": null,
            "right": null,
            "justify_content": null,
            "_view_module": "@jupyter-widgets/base",
            "overflow": null,
            "_model_module_version": "1.2.0",
            "_view_count": null,
            "flex_flow": null,
            "width": null,
            "min_width": null,
            "border": null,
            "align_items": null,
            "bottom": null,
            "_model_module": "@jupyter-widgets/base",
            "top": null,
            "grid_column": null,
            "overflow_y": null,
            "overflow_x": null,
            "grid_auto_flow": null,
            "grid_area": null,
            "grid_template_columns": null,
            "flex": null,
            "_model_name": "LayoutModel",
            "justify_items": null,
            "grid_row": null,
            "max_height": null,
            "align_content": null,
            "visibility": null,
            "align_self": null,
            "height": null,
            "min_height": null,
            "padding": null,
            "grid_auto_rows": null,
            "grid_gap": null,
            "max_width": null,
            "order": null,
            "_view_module_version": "1.2.0",
            "grid_template_areas": null,
            "object_position": null,
            "object_fit": null,
            "grid_auto_columns": null,
            "margin": null,
            "display": null,
            "left": null
          },
          "model_module_version": "1.2.0"
        },
        "8c55ebb8669d4041a9544ef2207c828b": {
          "model_module": "@jupyter-widgets/controls",
          "model_name": "DescriptionStyleModel",
          "state": {
            "_view_name": "StyleView",
            "_model_name": "DescriptionStyleModel",
            "description_width": "",
            "_view_module": "@jupyter-widgets/base",
            "_model_module_version": "1.5.0",
            "_view_count": null,
            "_view_module_version": "1.2.0",
            "_model_module": "@jupyter-widgets/controls"
          },
          "model_module_version": "1.5.0"
        },
        "0119928c2c0d43e9b1a667f76f5a11aa": {
          "model_module": "@jupyter-widgets/base",
          "model_name": "LayoutModel",
          "state": {
            "_view_name": "LayoutView",
            "grid_template_rows": null,
            "right": null,
            "justify_content": null,
            "_view_module": "@jupyter-widgets/base",
            "overflow": null,
            "_model_module_version": "1.2.0",
            "_view_count": null,
            "flex_flow": null,
            "width": null,
            "min_width": null,
            "border": null,
            "align_items": null,
            "bottom": null,
            "_model_module": "@jupyter-widgets/base",
            "top": null,
            "grid_column": null,
            "overflow_y": null,
            "overflow_x": null,
            "grid_auto_flow": null,
            "grid_area": null,
            "grid_template_columns": null,
            "flex": null,
            "_model_name": "LayoutModel",
            "justify_items": null,
            "grid_row": null,
            "max_height": null,
            "align_content": null,
            "visibility": null,
            "align_self": null,
            "height": null,
            "min_height": null,
            "padding": null,
            "grid_auto_rows": null,
            "grid_gap": null,
            "max_width": null,
            "order": null,
            "_view_module_version": "1.2.0",
            "grid_template_areas": null,
            "object_position": null,
            "object_fit": null,
            "grid_auto_columns": null,
            "margin": null,
            "display": null,
            "left": null
          },
          "model_module_version": "1.2.0"
        }
      }
    }
  },
  "cells": [
    {
      "cell_type": "markdown",
      "metadata": {
        "id": "btSh7YlEbkiV"
      },
      "source": [
        "# General Setup"
      ]
    },
    {
      "cell_type": "code",
      "metadata": {
        "id": "qFfU7l-Ebqea",
        "colab": {
          "base_uri": "https://localhost:8080/"
        },
        "outputId": "3d7a1932-33fd-4538-d5d2-ddbde635e65f"
      },
      "source": [
        "!pip install 'torch-lr-finder==0.2.0'\n",
        "!rm -vrf '/content/tobit_loss'\n",
        "!git clone https://github.com/vlad-danaila/tobit_loss.git"
      ],
      "execution_count": null,
      "outputs": [
        {
          "output_type": "stream",
          "text": [
            "Collecting torch-lr-finder==0.2.0\n",
            "  Downloading https://files.pythonhosted.org/packages/3b/a1/b0745ba7312465342f8480b88bf55c67c2ca035cad77146f91db4843f2e2/torch_lr_finder-0.2.0-py3-none-any.whl\n",
            "Requirement already satisfied: torch>=0.4.1 in /usr/local/lib/python3.7/dist-packages (from torch-lr-finder==0.2.0) (1.8.1+cu101)\n",
            "Requirement already satisfied: tqdm in /usr/local/lib/python3.7/dist-packages (from torch-lr-finder==0.2.0) (4.41.1)\n",
            "Requirement already satisfied: packaging in /usr/local/lib/python3.7/dist-packages (from torch-lr-finder==0.2.0) (20.9)\n",
            "Requirement already satisfied: numpy in /usr/local/lib/python3.7/dist-packages (from torch-lr-finder==0.2.0) (1.19.5)\n",
            "Requirement already satisfied: matplotlib in /usr/local/lib/python3.7/dist-packages (from torch-lr-finder==0.2.0) (3.2.2)\n",
            "Requirement already satisfied: typing-extensions in /usr/local/lib/python3.7/dist-packages (from torch>=0.4.1->torch-lr-finder==0.2.0) (3.7.4.3)\n",
            "Requirement already satisfied: pyparsing>=2.0.2 in /usr/local/lib/python3.7/dist-packages (from packaging->torch-lr-finder==0.2.0) (2.4.7)\n",
            "Requirement already satisfied: kiwisolver>=1.0.1 in /usr/local/lib/python3.7/dist-packages (from matplotlib->torch-lr-finder==0.2.0) (1.3.1)\n",
            "Requirement already satisfied: python-dateutil>=2.1 in /usr/local/lib/python3.7/dist-packages (from matplotlib->torch-lr-finder==0.2.0) (2.8.1)\n",
            "Requirement already satisfied: cycler>=0.10 in /usr/local/lib/python3.7/dist-packages (from matplotlib->torch-lr-finder==0.2.0) (0.10.0)\n",
            "Requirement already satisfied: six>=1.5 in /usr/local/lib/python3.7/dist-packages (from python-dateutil>=2.1->matplotlib->torch-lr-finder==0.2.0) (1.15.0)\n",
            "Installing collected packages: torch-lr-finder\n",
            "Successfully installed torch-lr-finder-0.2.0\n",
            "Cloning into 'tobit_loss'...\n",
            "remote: Enumerating objects: 118, done.\u001b[K\n",
            "remote: Counting objects: 100% (118/118), done.\u001b[K\n",
            "remote: Compressing objects: 100% (79/79), done.\u001b[K\n",
            "remote: Total 118 (delta 75), reused 68 (delta 35), pack-reused 0\u001b[K\n",
            "Receiving objects: 100% (118/118), 27.91 KiB | 1.12 MiB/s, done.\n",
            "Resolving deltas: 100% (75/75), done.\n"
          ],
          "name": "stdout"
        }
      ]
    },
    {
      "cell_type": "markdown",
      "metadata": {
        "id": "qLGXhtwT84YZ"
      },
      "source": [
        "Add the Tobit loss to Python path."
      ]
    },
    {
      "cell_type": "code",
      "metadata": {
        "id": "ShX4Mc1H8vy7"
      },
      "source": [
        "import sys\n",
        "sys.path.insert(0, '/content/tobit_loss')"
      ],
      "execution_count": null,
      "outputs": []
    },
    {
      "cell_type": "markdown",
      "metadata": {
        "id": "24sQN6HpC0gb"
      },
      "source": [
        "Imports"
      ]
    },
    {
      "cell_type": "code",
      "metadata": {
        "id": "bEo1lLmv9BOA"
      },
      "source": [
        "import torch as t\n",
        "from deep_tobit.util import to_torch, to_numpy, normalize, unnormalize\n",
        "import numpy as np\n",
        "import matplotlib.pyplot as plt\n",
        "from scipy.stats import beta\n",
        "import random\n",
        "import numpy as np\n",
        "import sklearn as sk\n",
        "import sklearn.metrics\n",
        "import math\n",
        "from sklearn.model_selection import ParameterGrid\n",
        "from torch_lr_finder import LRFinder, TrainDataLoaderIter, ValDataLoaderIter\n",
        "import os\n",
        "import numpy.random\n",
        "import collections\n",
        "from typing import Tuple, Union"
      ],
      "execution_count": null,
      "outputs": []
    },
    {
      "cell_type": "markdown",
      "metadata": {
        "id": "6Gvvee1ORB-9"
      },
      "source": [
        "Constants"
      ]
    },
    {
      "cell_type": "code",
      "metadata": {
        "id": "w-p4kq80REIS"
      },
      "source": [
        "CHECKPOINT_GLL = 'gausian log likelihood model'\n",
        "CENSOR_LOW_BOUND = 0.3\n",
        "CENSOR_HIGH_BOUND = 1.7\n",
        "ALPHA = 2\n",
        "BETA = 4\n",
        "NOISE = 0.3\n",
        "LAYER_SIZE = 10\n",
        "DATASET_LEN = 10_000\n",
        "CHECKPOINT_FREQUENCY = 10\n",
        "GRID_RESULTS_FILE = 'grid_results.tar'"
      ],
      "execution_count": null,
      "outputs": []
    },
    {
      "cell_type": "markdown",
      "metadata": {
        "id": "I8WJLGKcQAzb"
      },
      "source": [
        "Reproducible experiments"
      ]
    },
    {
      "cell_type": "code",
      "metadata": {
        "id": "9cQ7XazCQAOA"
      },
      "source": [
        "SEED = 0\n",
        "t.manual_seed(SEED)\n",
        "t.cuda.manual_seed(SEED)\n",
        "t.cuda.manual_seed_all(SEED)\n",
        "t.backends.cudnn.deterministic = True\n",
        "t.backends.cudnn.benchmark = False\n",
        "np.random.seed(SEED)\n",
        "random.seed(SEED)"
      ],
      "execution_count": null,
      "outputs": []
    },
    {
      "cell_type": "markdown",
      "metadata": {
        "id": "xr20oFx6bf4m"
      },
      "source": [
        "# Model"
      ]
    },
    {
      "cell_type": "code",
      "metadata": {
        "id": "l3wmC7JXJyge"
      },
      "source": [
        "class DenseNetwork(t.nn.Module):\n",
        "\n",
        "  def __init__(self):\n",
        "    super().__init__()\n",
        "    self.layer_in = t.nn.Linear(1, LAYER_SIZE)\n",
        "    self.norm_1 = t.nn.BatchNorm1d(LAYER_SIZE, affine = False)\n",
        "    self.layer_hidden_1 = t.nn.Linear(LAYER_SIZE, LAYER_SIZE)\n",
        "    self.norm_2 = t.nn.BatchNorm1d(LAYER_SIZE, affine = False)\n",
        "    self.layer_out = t.nn.Linear(LAYER_SIZE, 1)\n",
        "\n",
        "  def forward(self, x):\n",
        "    x = t.nn.functional.relu(self.norm_1(self.layer_in(x)))\n",
        "    x = t.nn.functional.relu(self.norm_2(self.layer_hidden_1(x)))\n",
        "    x = self.layer_out(x)\n",
        "    return x"
      ],
      "execution_count": null,
      "outputs": []
    },
    {
      "cell_type": "markdown",
      "metadata": {
        "id": "KZOvdckibSUD"
      },
      "source": [
        "# Datasets"
      ]
    },
    {
      "cell_type": "code",
      "metadata": {
        "id": "P9z0FjI9GzXc",
        "colab": {
          "base_uri": "https://localhost:8080/"
        },
        "outputId": "a2b44789-0111-49c0-dbc4-7f7654dab757"
      },
      "source": [
        "def calculate_mean_std(lower_bound = -math.inf, upper_bound = math.inf, nb_samples = DATASET_LEN, distribution_alpha = ALPHA, distribution_beta = BETA, start = 0, end = 1, noise = NOISE):\n",
        "    assert lower_bound <= upper_bound\n",
        "    beta_distribution = beta(a = distribution_alpha, b = distribution_beta)\n",
        "    x = np.linspace(start, end, nb_samples)\n",
        "    y = beta_distribution.pdf(x)\n",
        "    y += np.random.normal(0, noise, nb_samples)\n",
        "    y = np.clip(y, lower_bound, upper_bound) \n",
        "    return x.mean(), x.std(), y.mean(), y.std()\n",
        "\n",
        "x_mean, x_std, y_mean, y_std = calculate_mean_std(lower_bound = CENSOR_LOW_BOUND, upper_bound = CENSOR_HIGH_BOUND)\n",
        "print('x mean =', x_mean, 'x std =', x_std, 'y mean =', y_mean, 'y std =', y_std)"
      ],
      "execution_count": null,
      "outputs": [
        {
          "output_type": "stream",
          "text": [
            "x mean = 0.5 x std = 0.2887040035517924 y mean = 0.9890484101333353 y std = 0.58598128548115\n"
          ],
          "name": "stdout"
        }
      ]
    },
    {
      "cell_type": "code",
      "metadata": {
        "id": "-vbA4ilEOaOZ"
      },
      "source": [
        "class TruncatedBetaDistributionDataset(t.utils.data.Dataset):\n",
        "\n",
        "  def __init__(self, lower_bound = -math.inf, upper_bound = math.inf, nb_samples = DATASET_LEN, distribution_alpha = ALPHA, distribution_beta = BETA, noise = NOISE):\n",
        "    super().__init__()\n",
        "    assert lower_bound <= upper_bound\n",
        "    self.beta_distribution = beta(a = distribution_alpha, b = distribution_beta)\n",
        "    self.lower_bound = lower_bound\n",
        "    self.upper_bound = upper_bound\n",
        "    self.noise = noise\n",
        "    self.nb_samples = nb_samples\n",
        "  \n",
        "  def __getitem__(self, i):\n",
        "    x = random.uniform(0, 1)\n",
        "    y = self.beta_distribution.pdf(x)\n",
        "    y += random.gauss(0, self.noise)\n",
        "    y = np.clip(y, self.lower_bound, self.upper_bound)\n",
        "    x = normalize(x, mean = x_mean, std = x_std)\n",
        "    y = normalize(y, mean = y_mean, std = y_std)\n",
        "    return t.tensor([x], requires_grad = True, dtype=t.float32), t.tensor([y], requires_grad = True, dtype=t.float32)\n",
        "\n",
        "  def __len__(self):\n",
        "    return self.nb_samples"
      ],
      "execution_count": null,
      "outputs": []
    },
    {
      "cell_type": "code",
      "metadata": {
        "id": "DtKXaeOA_BCg"
      },
      "source": [
        "class TruncatedBetaDistributionValidationDataset(TruncatedBetaDistributionDataset):\n",
        "\n",
        "  def __init__(self, lower_bound = -math.inf, upper_bound = math.inf, nb_samples = DATASET_LEN, distribution_alpha = ALPHA, distribution_beta = BETA, start = 0, end = 1, noise = NOISE):\n",
        "    super().__init__(lower_bound, upper_bound, nb_samples, distribution_alpha, distribution_beta)\n",
        "    self.x = np.linspace(start, end, nb_samples)\n",
        "    self.y = self.beta_distribution.pdf(self.x)\n",
        "    self.y += np.random.normal(0, noise, nb_samples)\n",
        "    self.y = np.clip(self.y, self.lower_bound, self.upper_bound)\n",
        "    self.x = normalize(self.x, mean = x_mean, std = x_std)\n",
        "    self.y = normalize(self.y, mean = y_mean, std = y_std)\n",
        "    self.x = np.expand_dims(self.x, axis = 1)\n",
        "    self.y = np.expand_dims(self.y, axis = 1)\n",
        "    self.x = t.tensor(self.x, requires_grad = False, dtype = t.float32)\n",
        "    self.y = t.tensor(self.y, requires_grad = False, dtype = t.float32)\n",
        "\n",
        "  def __getitem__(self, i):\n",
        "    return self.x[i], self.y[i]"
      ],
      "execution_count": null,
      "outputs": []
    },
    {
      "cell_type": "code",
      "metadata": {
        "id": "G2S5-awAOqV-"
      },
      "source": [
        "dataset_train = TruncatedBetaDistributionDataset(lower_bound = CENSOR_LOW_BOUND, upper_bound = CENSOR_HIGH_BOUND)\n",
        "dataset_val = TruncatedBetaDistributionValidationDataset(lower_bound = CENSOR_LOW_BOUND, upper_bound = CENSOR_HIGH_BOUND, nb_samples = 1000)\n",
        "dataset_test = TruncatedBetaDistributionValidationDataset()"
      ],
      "execution_count": null,
      "outputs": []
    },
    {
      "cell_type": "markdown",
      "metadata": {
        "id": "WKMHYoHCa5bW"
      },
      "source": [
        "# Plotting"
      ]
    },
    {
      "cell_type": "code",
      "metadata": {
        "id": "0mrFyPZdQ8Tn"
      },
      "source": [
        "def plot_beta(lower = -math.inf, upper = math.inf, color = None, label = None, std = None):\n",
        "  x = np.linspace(0, 1, 1000)\n",
        "  beta_distribution = beta(a = ALPHA, b = BETA)\n",
        "  y = beta_distribution.pdf(x)\n",
        "  y = np.clip(y, lower, upper)\n",
        "  x = normalize(x, x_mean, x_std)\n",
        "  y = normalize(y, y_mean, y_std)\n",
        "  plt.scatter(x, y, s = .1, color = color, label = label)\n",
        "  if std:\n",
        "    plt.fill_between(x, y + std, y - std, facecolor='blue', alpha=0.1, label = 'real std')"
      ],
      "execution_count": null,
      "outputs": []
    },
    {
      "cell_type": "code",
      "metadata": {
        "id": "4hRXFDQ_aEp7"
      },
      "source": [
        "def plot_dataset(dataset, size = .01, label = None):\n",
        "  x_list, y_list = [], []\n",
        "  for i in range(len(dataset)):\n",
        "    x, y = dataset[i]\n",
        "    x_list.append(x[0].item())\n",
        "    y_list.append(y[0].item())\n",
        "  plt.scatter(x_list, y_list, s = size, label = label)"
      ],
      "execution_count": null,
      "outputs": []
    },
    {
      "cell_type": "code",
      "metadata": {
        "id": "SYG6v2BQqDHC"
      },
      "source": [
        "LOSS = 0\n",
        "ABS_ERR = 1\n",
        "R_SQUARED = 2"
      ],
      "execution_count": null,
      "outputs": []
    },
    {
      "cell_type": "code",
      "metadata": {
        "id": "hvQgu2vfuCjr"
      },
      "source": [
        "def plot_train_test(train, test, title, y_title):\n",
        "    plt.plot(range(len(train)), train, label = 'Train')\n",
        "    plt.plot(range(len(test)), test, label = 'Test')\n",
        "    plt.xlabel('Epochs')\n",
        "    plt.ylabel(y_title)\n",
        "    plt.title(title)\n",
        "    plt.legend()\n",
        "    # plt.savefig(title + '.png', dpi = 300, format = 'png')\n",
        "    plt.show()"
      ],
      "execution_count": null,
      "outputs": []
    },
    {
      "cell_type": "code",
      "metadata": {
        "id": "8nWeaULRuGF-"
      },
      "source": [
        "def plot_epochs(train_metrics_list, test_metrics_list):\n",
        "  test_err = list(map(lambda m: m[ABS_ERR], test_metrics_list))\n",
        "  test_loss = list(map(lambda m: m[LOSS], test_metrics_list))\n",
        "  train_err = list(map(lambda m: m[ABS_ERR], train_metrics_list))\n",
        "  train_loss = list(map(lambda m: m[LOSS], train_metrics_list))\n",
        "  plot_train_test(train_loss, test_loss, 'Loss', 'Loss')\n",
        "  plot_train_test(train_err, test_err, 'Absolute error', 'Absolute error')"
      ],
      "execution_count": null,
      "outputs": []
    },
    {
      "cell_type": "code",
      "metadata": {
        "id": "eQP63BJieGHN"
      },
      "source": [
        "def plot_net(model, start = 0, end = 1, sigma = None, label = 'model prediction', with_std = False):\n",
        "  model.eval()\n",
        "  x_list, y_list = [], []\n",
        "  for i in range(len(dataset_val)):\n",
        "    x, _ = dataset_val[i]\n",
        "    y = model.forward(x.reshape(1, 1))\n",
        "    # if sigma:\n",
        "      # y = y * sigma\n",
        "    x_list.append(x[0].item())\n",
        "    y_list.append(y[0].item())\n",
        "  plt.scatter(x_list, y_list, s = .1, label = label)\n",
        "  if with_std and sigma:\n",
        "    std = sigma.item()\n",
        "    np_y = np.array(y_list)\n",
        "    plt.fill_between(x_list, np_y + std, np_y - std, facecolor='gray', alpha=0.1, label = 'Tobit std')"
      ],
      "execution_count": null,
      "outputs": []
    },
    {
      "cell_type": "markdown",
      "metadata": {
        "id": "iFb_01Z2avwQ"
      },
      "source": [
        "# Training"
      ]
    },
    {
      "cell_type": "code",
      "metadata": {
        "id": "BWgGzkLHFlC5",
        "colab": {
          "base_uri": "https://localhost:8080/"
        },
        "outputId": "519984af-5358-4a0b-9231-37b7bae544e9"
      },
      "source": [
        "# n is the nb of samples, k is the nb of regressors (features)\n",
        "n = len(dataset_train)\n",
        "k = len(dataset_train[0][0])\n",
        "print(f'While calculating the adjusted R2, n = {n} and k = {k}')\n",
        "\n",
        "def adjusted_R2(y, y_pred):\n",
        "  r2 = sk.metrics.r2_score(y, y_pred)\n",
        "  return 1 - ( ( (1 - r2) * (n - 1) ) / (n - k - 1) )"
      ],
      "execution_count": null,
      "outputs": [
        {
          "output_type": "stream",
          "text": [
            "While calculating the adjusted R2, n = 10000 and k = 1\n"
          ],
          "name": "stdout"
        }
      ]
    },
    {
      "cell_type": "code",
      "metadata": {
        "id": "kPDm9XIKnMPD"
      },
      "source": [
        "bound_min = normalize(CENSOR_LOW_BOUND, y_mean, y_std)\n",
        "bound_max = normalize(CENSOR_HIGH_BOUND, y_mean, y_std)\n",
        "zero_normalized = normalize(0, y_mean, y_std)"
      ],
      "execution_count": null,
      "outputs": []
    },
    {
      "cell_type": "code",
      "metadata": {
        "id": "741SKP5JfZzH"
      },
      "source": [
        "def eval_network(model, loader, loss_fn, batch_size, is_eval_bounded = True):\n",
        "  model.eval()\n",
        "  with t.no_grad():\n",
        "    metrics = np.zeros(3)\n",
        "    total_weight = 0\n",
        "    for x, y in loader:\n",
        "      y_pred = model.forward(x)\n",
        "      loss = loss_fn(y_pred, y)\n",
        "      if len(y_pred) == 3:\n",
        "        y_pred = t.cat(y_pred)\n",
        "        y = t.cat(y)\n",
        "      # y_pred = y_pred * (loss_fn.sigma)\n",
        "      if is_eval_bounded:\n",
        "        y_pred = t.clamp(y_pred, min = bound_min, max = bound_max)\n",
        "      y_pred, y = to_numpy(y_pred), to_numpy(y)\n",
        "      weight = len(y) / batch_size\n",
        "      metrics[LOSS] += (loss.item() * weight)\n",
        "      metrics[ABS_ERR] += (sk.metrics.mean_absolute_error(y, y_pred) * weight)\n",
        "      metrics[R_SQUARED] += (adjusted_R2(y, y_pred) * weight)\n",
        "      total_weight += weight\n",
        "    metrics /= total_weight\n",
        "    return metrics"
      ],
      "execution_count": null,
      "outputs": []
    },
    {
      "cell_type": "code",
      "metadata": {
        "id": "H9_ebC0HraIU"
      },
      "source": [
        "def train_network(model, loss_fn, optimizer, scheduler, loader_train, loader_val, checkpoint_name, batch_size_train, batch_size_val, epochs, log = True):\n",
        "  metrics_train_per_epochs, metrics_test_per_epochs = [], []\n",
        "  best = [math.inf, math.inf, -math.inf]\n",
        "  try:\n",
        "    counter = 0\n",
        "    total_weight = 0\n",
        "    train_metrics = np.zeros(3)  \n",
        "    for epoch in range(epochs):    \n",
        "      try:\n",
        "        model.train()        \n",
        "        for x, y in loader_train:\n",
        "          counter += 1\n",
        "          y_pred = model.forward(x)\n",
        "          loss = loss_fn(y_pred, y)\n",
        "          loss.backward()\n",
        "          optimizer.step()\n",
        "          optimizer.zero_grad()\n",
        "          # y_pred = y_pred * (loss_fn.sigma)\n",
        "          y_pred = t.clamp(y_pred, min = bound_min, max = bound_max)\n",
        "          y_pred, y = to_numpy(y_pred), to_numpy(y)\n",
        "          weight = len(y) / batch_size_train\n",
        "          train_metrics[LOSS] += (loss.item() * weight)\n",
        "          train_metrics[ABS_ERR] += (sk.metrics.mean_absolute_error(y, y_pred) * weight)\n",
        "          train_metrics[R_SQUARED] += (adjusted_R2(y, y_pred) * weight)\n",
        "          total_weight += weight\n",
        "          scheduler.step()\n",
        "          if counter % CHECKPOINT_FREQUENCY == 0:\n",
        "            train_metrics /= total_weight  \n",
        "            metrics_train_per_epochs.append(train_metrics)\n",
        "            train_metrics = np.zeros(3)\n",
        "            total_weight = 0\n",
        "            test_metrics = eval_network(model, loader_val, loss_fn, batch_size_val)\n",
        "            metrics_test_per_epochs.append(test_metrics)\n",
        "            # if test_metrics[R_SQUARED] > best[R_SQUARED]:\n",
        "            if test_metrics[ABS_ERR] < best[ABS_ERR]:  \n",
        "            # if test_metrics[LOSS] < best[LOSS]: \n",
        "              best = test_metrics\n",
        "              checkpoint_dict = {'model': model.state_dict()}\n",
        "              checkpoint_dict['sigma'] = loss_fn.sigma\n",
        "              t.save(checkpoint_dict, '{}.tar'.format(checkpoint_name))\n",
        "            if log:\n",
        "              print('Iteration {} abs err {} R2 {}'.format(counter, test_metrics[ABS_ERR], test_metrics[R_SQUARED]))\n",
        "      except Exception as e:\n",
        "        print(e)\n",
        "        break\n",
        "    print('Best absolute error:', best[ABS_ERR], 'R2:', best[R_SQUARED])\n",
        "    return metrics_train_per_epochs, metrics_test_per_epochs, best\n",
        "  except KeyboardInterrupt as e:\n",
        "    print('Training interrupted at epoch', epoch)"
      ],
      "execution_count": null,
      "outputs": []
    },
    {
      "cell_type": "markdown",
      "metadata": {
        "id": "bvSeai3n2cdp"
      },
      "source": [
        "# Learning Rate Range Test Setup"
      ]
    },
    {
      "cell_type": "code",
      "metadata": {
        "id": "qOZN9k1hESSx"
      },
      "source": [
        "class CustomTrainIter(TrainDataLoaderIter):\n",
        "    def inputs_labels_from_batch(self, batch_data):\n",
        "        return batch_data\n",
        "\n",
        "class CustomValIter(ValDataLoaderIter):\n",
        "    def inputs_labels_from_batch(self, batch_data):\n",
        "        return batch_data"
      ],
      "execution_count": null,
      "outputs": []
    },
    {
      "cell_type": "code",
      "metadata": {
        "id": "_A_rb28w2hZ0"
      },
      "source": [
        "def lr_range_test_UNcensored(criterion, model = None, batch_size = 128, epochs = 5, \n",
        "  start_lr = 1e-8, end_lr = 10, device = 'cpu', log_view = True, loader_train = None, loader_val = None, plt_file_name = ''):\n",
        "  if model == None:\n",
        "    model = DenseNetwork()\n",
        "  sigma = t.tensor(1., requires_grad = True)\n",
        "  loss_fn = criterion(sigma)\n",
        "  params = [\n",
        "    {'params': model.parameters()},\n",
        "    {'params': sigma}\n",
        "  ]\n",
        "  optimizer = t.optim.SGD(params, lr = start_lr)\n",
        "  if not loader_train:\n",
        "    loader_train = t.utils.data.DataLoader(dataset_train, batch_size, shuffle = False, num_workers = 0)\n",
        "  if not loader_val:\n",
        "    loader_val = t.utils.data.DataLoader(dataset_val, batch_size, shuffle = False, num_workers = 0)\n",
        "  lr_finder = LRFinder(model, optimizer, loss_fn, device = device)\n",
        "  lr_finder.range_test(loader_train, val_loader = loader_val, end_lr = end_lr, num_iter = len(loader_train) * epochs, step_mode=\"linear\")\n",
        "  lr_range_test_plot = lr_finder.plot(skip_start=0, skip_end=0, log_lr = log_view)\n",
        "  lr_range_test_plot.figure.savefig('lr_range_test_{}.pdf'.format(plt_file_name), dpi = 300, format = 'pdf')\n",
        "  lr_finder.reset()"
      ],
      "execution_count": null,
      "outputs": []
    },
    {
      "cell_type": "markdown",
      "metadata": {
        "id": "uw214cctyA5t"
      },
      "source": [
        "# Grid Search Setup"
      ]
    },
    {
      "cell_type": "code",
      "metadata": {
        "id": "VCoFR-BjkyQ_"
      },
      "source": [
        "def grid_search(grid_config, train_callback, checkpoint_name, nb_iterations = 1, conf_validation = None):\n",
        "  configs = ParameterGrid(grid_config)\n",
        "  configs_len = len(configs)\n",
        "  counter = 0\n",
        "  checkpoint_file = checkpoint_name + '.tar'\n",
        "  grid_checkpoint_file = 'grid ' + checkpoint_file\n",
        "  try:\n",
        "    resume_grid_search = t.load(GRID_RESULTS_FILE)\n",
        "  except FileNotFoundError:\n",
        "    resume_grid_search = None\n",
        "\n",
        "  results = {}\n",
        "  best = [math.inf, math.inf, -math.inf]\n",
        "  if resume_grid_search is not None and 'best' in resume_grid_search:\n",
        "    best_conf = resume_grid_search['best']\n",
        "    print('Best previous configuration', best_conf)\n",
        "    best = resume_grid_search[str(best_conf)]\n",
        "    print(f'Best previous metrics abs err = {best[ABS_ERR]}, R2 = {best[R_SQUARED]}')\n",
        "    results = resume_grid_search\n",
        "\n",
        "  for conf in ParameterGrid(grid_config):\n",
        "    counter += 1\n",
        "    \n",
        "    if resume_grid_search is not None and str(conf) in resume_grid_search:\n",
        "        print('Allready evaluated configuration', conf)\n",
        "        continue\n",
        "\n",
        "    if not conf_validation(conf):\n",
        "      print('Skipping over configuration', conf)\n",
        "      results[str(conf)] = 'invalid'\n",
        "      continue\n",
        "    \n",
        "    print('-' * 5, 'grid search {}/{}'.format(counter, configs_len), '-' * 5)\n",
        "    print('Config:', conf)\n",
        "    \n",
        "    best_from_iterations = [math.inf, math.inf, -math.inf]\n",
        "    \n",
        "    for i in range(nb_iterations):\n",
        "      if nb_iterations != 1:\n",
        "        print('Iteration', i + 1)\n",
        "      metrics = train_callback(conf)\n",
        "      \n",
        "      # if metrics[R_SQUARED] > best[R_SQUARED]:\n",
        "      if metrics[ABS_ERR] < best[ABS_ERR]:  \n",
        "        best_from_iterations = metrics\n",
        "\n",
        "      # if metrics[R_SQUARED] > best[R_SQUARED]:\n",
        "      if metrics[ABS_ERR] < best[ABS_ERR] and not (math.isnan(metrics[LOSS] or math.isnan(metrics[ABS_ERR]) or math.isnan(metrics[R_SQUARED]))):  \n",
        "        best = metrics\n",
        "        results['best'] = conf\n",
        "        if os.path.exists(grid_checkpoint_file):\n",
        "          os.remove(grid_checkpoint_file)\n",
        "        os.rename(checkpoint_file, grid_checkpoint_file)  \n",
        "    else:\n",
        "      results[str(conf)] = best_from_iterations\n",
        "      t.save(results, GRID_RESULTS_FILE)\n",
        "    \n",
        "  return best"
      ],
      "execution_count": null,
      "outputs": []
    },
    {
      "cell_type": "code",
      "metadata": {
        "id": "HqtAMBVGunuK"
      },
      "source": [
        "def train_and_evaluate_UNcensored(checkpoint, criterion, model_fn = DenseNetwork, plot = False, log = True, loader_train_fn = None, loader_val_fn = None):\n",
        "  def grid_callback(conf):\n",
        "    model = model_fn()\n",
        "    if not loader_train_fn:\n",
        "      loader_train = t.utils.data.DataLoader(dataset_train, conf['batch'], shuffle = False, num_workers = 0)\n",
        "    else:\n",
        "      loader_train = loader_train_fn(conf['batch'])\n",
        "    if not loader_val_fn:\n",
        "      loader_val = t.utils.data.DataLoader(dataset_val, len(dataset_val), shuffle = False, num_workers = 0)\n",
        "    else:\n",
        "      loader_val = loader_val_fn(len(dataset_val))\n",
        "    sigma = t.tensor(1., requires_grad = True)\n",
        "    loss_fn = criterion(sigma)\n",
        "    params = [\n",
        "      {'params': model.parameters()},\n",
        "      {'params': sigma}\n",
        "    ] \n",
        "    optimizer = t.optim.SGD(params, lr = conf['max_lr'] / conf['div_factor'], momentum = conf['max_momentum'], weight_decay = conf['weight_decay'])\n",
        "    scheduler = t.optim.lr_scheduler.OneCycleLR(\n",
        "      optimizer, \n",
        "      max_lr = conf['max_lr'], \n",
        "      steps_per_epoch = len(loader_train), \n",
        "      epochs = conf['epochs'],\n",
        "      pct_start = conf['pct_start'],\n",
        "      anneal_strategy = conf['anneal_strategy'],\n",
        "      base_momentum = conf['base_momentum'],\n",
        "      max_momentum = conf['max_momentum'],\n",
        "      div_factor = conf['div_factor'],\n",
        "      final_div_factor = conf['final_div_factor']\n",
        "    )\n",
        "    train_metrics, val_metrics, best = train_network(\n",
        "        model, loss_fn, optimizer, scheduler, loader_train, loader_val, checkpoint, conf['batch'], len(dataset_val), conf['epochs'], log = log)    \n",
        "    if plot:\n",
        "      plot_epochs(train_metrics, val_metrics)\n",
        "    return best\n",
        "  return grid_callback"
      ],
      "execution_count": null,
      "outputs": []
    },
    {
      "cell_type": "code",
      "metadata": {
        "id": "xMFl7-RVzKq1"
      },
      "source": [
        "def config_validation(conf):\n",
        "  return conf['div_factor'] <= conf['final_div_factor'] and conf['max_momentum'] >= conf['base_momentum']"
      ],
      "execution_count": null,
      "outputs": []
    },
    {
      "cell_type": "markdown",
      "metadata": {
        "id": "uNEONLmCeB3v"
      },
      "source": [
        "# Plot Selected(With Grid) Model"
      ]
    },
    {
      "cell_type": "code",
      "metadata": {
        "id": "XeVazIfzyGyf"
      },
      "source": [
        "def plot_and_evaluate_model_UNcensored(checkpoint_name, criterion, isGrid = True, model_fn = DenseNetwork, loader_val = None):\n",
        "  model = model_fn()\n",
        "  checkpoint = t.load(('grid ' if isGrid else '') + checkpoint_name + '.tar')\n",
        "  model.load_state_dict(checkpoint['model'])\n",
        "  plot_beta(label = 'true distribution')\n",
        "  # plot_dataset(dataset_test, size = .3, label = 'test data')\n",
        "  plot_dataset(dataset_val, size = .3, label = 'validation data')\n",
        "  plot_net(model, sigma = checkpoint['sigma'])\n",
        "  loss_fn = criterion(checkpoint['sigma'])\n",
        "  plt.xlabel('input (standardized)')\n",
        "  plt.ylabel('outcome (standardized)')\n",
        "  lgnd = plt.legend()\n",
        "  lgnd.legendHandles[0]._sizes = [10]\n",
        "  lgnd.legendHandles[1]._sizes = [10]\n",
        "  lgnd.legendHandles[2]._sizes = [10]\n",
        "  plt.savefig('{}.pdf'.format(checkpoint_name), dpi = 300, format = 'pdf')\n",
        "  plt.savefig('{}.svg'.format(checkpoint_name), dpi = 300, format = 'svg')\n",
        "  plt.show()\n",
        "\n",
        "  plot_beta(label = 'true distribution')\n",
        "  # plot_dataset(dataset_test, size = .3, label = 'test data')\n",
        "  plot_dataset(dataset_val, size = .3, label = 'validation data')\n",
        "  plot_net(model, sigma = checkpoint['sigma'], with_std = True)\n",
        "  loss_fn = criterion(checkpoint['sigma'])\n",
        "  plt.xlabel('input (standardized)')\n",
        "  plt.ylabel('outcome (standardized)')\n",
        "  lgnd = plt.legend()\n",
        "  lgnd.legendHandles[0]._sizes = [10]\n",
        "  lgnd.legendHandles[1]._sizes = [10]\n",
        "  lgnd.legendHandles[2]._sizes = [10]\n",
        "  plt.savefig('{}-with-std.pdf'.format(checkpoint_name), dpi = 300, format = 'pdf')\n",
        "  plt.savefig('{}-with-std.svg'.format(checkpoint_name), dpi = 300, format = 'svg')\n",
        "  plt.show()\n",
        "\n",
        "  if not loader_val:\n",
        "    loader_val = t.utils.data.DataLoader(dataset_val, len(dataset_val), shuffle = False, num_workers = 0)\n",
        "  val_metrics = eval_network(model, loader_val, loss_fn, len(dataset_val))\n",
        "  print('Absolute error - validation', val_metrics[ABS_ERR])\n",
        "  print('R2 - validation', val_metrics[R_SQUARED])\n",
        "\n",
        "  loader_test = t.utils.data.DataLoader(dataset_test, len(dataset_test), shuffle = False, num_workers = 0)\n",
        "  test_metrics = eval_network(model, loader_test, loss_fn, len(dataset_test), is_eval_bounded = False)\n",
        "  print('Absolute error - test', test_metrics[ABS_ERR])\n",
        "  print('R2 - test', test_metrics[R_SQUARED])"
      ],
      "execution_count": null,
      "outputs": []
    },
    {
      "cell_type": "markdown",
      "metadata": {
        "id": "fFf8GbFVkuFY"
      },
      "source": [
        "# PDF Log-Likelihood"
      ]
    },
    {
      "cell_type": "code",
      "metadata": {
        "id": "A9JbYwBVqG9C"
      },
      "source": [
        "class GausianLogLikelihoodLoss(t.nn.Module):\n",
        "  \n",
        "  def __init__(self, sigma):\n",
        "    super(GausianLogLikelihoodLoss, self).__init__()\n",
        "    self.sigma = sigma\n",
        "    self.epsilon = t.tensor(1e-40, dtype = t.float32, requires_grad = False)\n",
        "\n",
        "  def forward(self, y_pred: t.Tensor, y_true: t.Tensor):\n",
        "    sigma = t.abs(self.sigma)\n",
        "    return t.sum(t.log(sigma + self.epsilon) + (((y_true - y_pred)/sigma) ** 2) / 2)"
      ],
      "execution_count": null,
      "outputs": []
    },
    {
      "cell_type": "markdown",
      "metadata": {
        "id": "6WLAFoP95FIX"
      },
      "source": [
        "### Learning Rate Range Test"
      ]
    },
    {
      "cell_type": "code",
      "metadata": {
        "id": "i3GRlR2f5Tdn",
        "colab": {
          "base_uri": "https://localhost:8080/",
          "height": 343,
          "referenced_widgets": [
            "bf9c1d076a7249d1b0ba14b6d4e18b1d",
            "0fc8a965972d45fdaad9649fe11f8856",
            "5c3706dc48fd46a3a77cbea98847eb36",
            "c9faf612aa5f430e9f55a82b52f02c7c",
            "f866c26ab9d946ee9632135dface0bb9",
            "e78ba8a0664b403ebe42e37115118762",
            "8c55ebb8669d4041a9544ef2207c828b",
            "0119928c2c0d43e9b1a667f76f5a11aa"
          ]
        },
        "outputId": "6faf5969-065c-4c8d-a68a-23ec9557071f"
      },
      "source": [
        "lr_range_test_UNcensored(GausianLogLikelihoodLoss, batch_size = 100, epochs = 2, start_lr = 1e-8, end_lr = 1e-1, log_view = False, plt_file_name = 'pdf_log_likelihood')"
      ],
      "execution_count": null,
      "outputs": [
        {
          "output_type": "display_data",
          "data": {
            "application/vnd.jupyter.widget-view+json": {
              "model_id": "bf9c1d076a7249d1b0ba14b6d4e18b1d",
              "version_minor": 0,
              "version_major": 2
            },
            "text/plain": [
              "HBox(children=(FloatProgress(value=0.0, max=200.0), HTML(value='')))"
            ]
          },
          "metadata": {
            "tags": []
          }
        },
        {
          "output_type": "stream",
          "text": [
            "\n",
            "Learning rate search finished. See the graph with {finder_name}.plot()\n"
          ],
          "name": "stdout"
        },
        {
          "output_type": "display_data",
          "data": {
            "image/png": "[encoded data removed]",
            "text/plain": [
              "<Figure size 432x288 with 1 Axes>"
            ]
          },
          "metadata": {
            "tags": [],
            "needs_background": "light"
          }
        }
      ]
    },
    {
      "cell_type": "markdown",
      "metadata": {
        "id": "2uora-7keqKc"
      },
      "source": [
        "### Grid Search"
      ]
    },
    {
      "cell_type": "code",
      "metadata": {
        "id": "s7EcAdlg7DGY"
      },
      "source": [
        "train_and_evaluate_net = train_and_evaluate_UNcensored(CHECKPOINT_GLL, GausianLogLikelihoodLoss, log = False, plot = False)"
      ],
      "execution_count": null,
      "outputs": []
    },
    {
      "cell_type": "code",
      "metadata": {
        "id": "SEmRa2AX8bFn"
      },
      "source": [
        "# conf = {\n",
        "#     'max_lr': 1e-4,\n",
        "#     'epochs': 10,\n",
        "#     'batch': 100,\n",
        "#     'pct_start': 0.3,\n",
        "#     'anneal_strategy': 'linear',\n",
        "#     'base_momentum': 0.85,\n",
        "#     'max_momentum': 0.95,\n",
        "#     'div_factor': 5,\n",
        "#     'final_div_factor': 1e4,\n",
        "#     'weight_decay': 0\n",
        "# }\n",
        "# train_and_evaluate_net(conf)"
      ],
      "execution_count": null,
      "outputs": []
    },
    {
      "cell_type": "code",
      "metadata": {
        "id": "O9diVdes_LtH",
        "colab": {
          "base_uri": "https://localhost:8080/"
        },
        "outputId": "ee0b355c-a200-4a54-906f-2af8e852241a"
      },
      "source": [
        "grid_config = [{\n",
        "    'max_lr': [1e-5, 5e-5, 1e-4, 5e-4, 1e-3, 5e-3],\n",
        "    'epochs': [10, 20],\n",
        "    'batch': [100, 200],\n",
        "    'pct_start': [0.45],\n",
        "    'anneal_strategy': ['linear'],\n",
        "    'base_momentum': [0.85],\n",
        "    'max_momentum': [0.95],\n",
        "    'div_factor': [10, 5, 2],\n",
        "    'final_div_factor': [1e4],\n",
        "    'weight_decay': [0]\n",
        "}]\n",
        "grid_best = grid_search(grid_config, train_and_evaluate_net, CHECKPOINT_GLL, conf_validation = config_validation)\n",
        "# print(grid_best)"
      ],
      "execution_count": null,
      "outputs": [
        {
          "output_type": "stream",
          "text": [
            "----- grid search 1/72 -----\n",
            "Config: {'anneal_strategy': 'linear', 'base_momentum': 0.85, 'batch': 100, 'div_factor': 10, 'epochs': 10, 'final_div_factor': 10000.0, 'max_lr': 1e-05, 'max_momentum': 0.95, 'pct_start': 0.45, 'weight_decay': 0}\n",
            "Best absolute error: 0.25942328572273254 R2: 0.8475334766582452\n",
            "----- grid search 2/72 -----\n",
            "Config: {'anneal_strategy': 'linear', 'base_momentum': 0.85, 'batch': 100, 'div_factor': 10, 'epochs': 10, 'final_div_factor': 10000.0, 'max_lr': 5e-05, 'max_momentum': 0.95, 'pct_start': 0.45, 'weight_decay': 0}\n",
            "Best absolute error: 0.22749154269695282 R2: 0.8738850167744794\n",
            "----- grid search 3/72 -----\n",
            "Config: {'anneal_strategy': 'linear', 'base_momentum': 0.85, 'batch': 100, 'div_factor': 10, 'epochs': 10, 'final_div_factor': 10000.0, 'max_lr': 0.0001, 'max_momentum': 0.95, 'pct_start': 0.45, 'weight_decay': 0}\n",
            "Best absolute error: 0.2284659445285797 R2: 0.884595323314619\n",
            "----- grid search 4/72 -----\n",
            "Config: {'anneal_strategy': 'linear', 'base_momentum': 0.85, 'batch': 100, 'div_factor': 10, 'epochs': 10, 'final_div_factor': 10000.0, 'max_lr': 0.0005, 'max_momentum': 0.95, 'pct_start': 0.45, 'weight_decay': 0}\n",
            "Best absolute error: 0.21676279604434967 R2: 0.880462295197265\n",
            "----- grid search 5/72 -----\n",
            "Config: {'anneal_strategy': 'linear', 'base_momentum': 0.85, 'batch': 100, 'div_factor': 10, 'epochs': 10, 'final_div_factor': 10000.0, 'max_lr': 0.001, 'max_momentum': 0.95, 'pct_start': 0.45, 'weight_decay': 0}\n",
            "Best absolute error: 0.22415350377559662 R2: 0.884993802934844\n",
            "----- grid search 6/72 -----\n",
            "Config: {'anneal_strategy': 'linear', 'base_momentum': 0.85, 'batch': 100, 'div_factor': 10, 'epochs': 10, 'final_div_factor': 10000.0, 'max_lr': 0.005, 'max_momentum': 0.95, 'pct_start': 0.45, 'weight_decay': 0}\n",
            "Best absolute error: 0.30049553513526917 R2: 0.8136559673520646\n",
            "----- grid search 7/72 -----\n",
            "Config: {'anneal_strategy': 'linear', 'base_momentum': 0.85, 'batch': 100, 'div_factor': 10, 'epochs': 20, 'final_div_factor': 10000.0, 'max_lr': 1e-05, 'max_momentum': 0.95, 'pct_start': 0.45, 'weight_decay': 0}\n",
            "Best absolute error: 0.23754169046878815 R2: 0.8635346706215233\n",
            "----- grid search 8/72 -----\n",
            "Config: {'anneal_strategy': 'linear', 'base_momentum': 0.85, 'batch': 100, 'div_factor': 10, 'epochs': 20, 'final_div_factor': 10000.0, 'max_lr': 5e-05, 'max_momentum': 0.95, 'pct_start': 0.45, 'weight_decay': 0}\n",
            "Best absolute error: 0.22835864126682281 R2: 0.8705184172733091\n",
            "----- grid search 9/72 -----\n",
            "Config: {'anneal_strategy': 'linear', 'base_momentum': 0.85, 'batch': 100, 'div_factor': 10, 'epochs': 20, 'final_div_factor': 10000.0, 'max_lr': 0.0001, 'max_momentum': 0.95, 'pct_start': 0.45, 'weight_decay': 0}\n",
            "Best absolute error: 0.2189912348985672 R2: 0.8711229670509067\n",
            "----- grid search 10/72 -----\n",
            "Config: {'anneal_strategy': 'linear', 'base_momentum': 0.85, 'batch': 100, 'div_factor': 10, 'epochs': 20, 'final_div_factor': 10000.0, 'max_lr': 0.0005, 'max_momentum': 0.95, 'pct_start': 0.45, 'weight_decay': 0}\n",
            "Best absolute error: 0.2222350537776947 R2: 0.8646555867814029\n",
            "----- grid search 11/72 -----\n",
            "Config: {'anneal_strategy': 'linear', 'base_momentum': 0.85, 'batch': 100, 'div_factor': 10, 'epochs': 20, 'final_div_factor': 10000.0, 'max_lr': 0.001, 'max_momentum': 0.95, 'pct_start': 0.45, 'weight_decay': 0}\n",
            "Best absolute error: 0.25462430715560913 R2: 0.7969468362408302\n",
            "----- grid search 12/72 -----\n",
            "Config: {'anneal_strategy': 'linear', 'base_momentum': 0.85, 'batch': 100, 'div_factor': 10, 'epochs': 20, 'final_div_factor': 10000.0, 'max_lr': 0.005, 'max_momentum': 0.95, 'pct_start': 0.45, 'weight_decay': 0}\n",
            "Best absolute error: 0.28067511320114136 R2: 0.8237288377022327\n",
            "----- grid search 13/72 -----\n",
            "Config: {'anneal_strategy': 'linear', 'base_momentum': 0.85, 'batch': 100, 'div_factor': 5, 'epochs': 10, 'final_div_factor': 10000.0, 'max_lr': 1e-05, 'max_momentum': 0.95, 'pct_start': 0.45, 'weight_decay': 0}\n",
            "Best absolute error: 0.26110196113586426 R2: 0.843624471447721\n",
            "----- grid search 14/72 -----\n",
            "Config: {'anneal_strategy': 'linear', 'base_momentum': 0.85, 'batch': 100, 'div_factor': 5, 'epochs': 10, 'final_div_factor': 10000.0, 'max_lr': 5e-05, 'max_momentum': 0.95, 'pct_start': 0.45, 'weight_decay': 0}\n",
            "Best absolute error: 0.23379623889923096 R2: 0.8682388958932086\n",
            "----- grid search 15/72 -----\n",
            "Config: {'anneal_strategy': 'linear', 'base_momentum': 0.85, 'batch': 100, 'div_factor': 5, 'epochs': 10, 'final_div_factor': 10000.0, 'max_lr': 0.0001, 'max_momentum': 0.95, 'pct_start': 0.45, 'weight_decay': 0}\n",
            "Best absolute error: 0.21220624446868896 R2: 0.8733524017723202\n",
            "----- grid search 16/72 -----\n",
            "Config: {'anneal_strategy': 'linear', 'base_momentum': 0.85, 'batch': 100, 'div_factor': 5, 'epochs': 10, 'final_div_factor': 10000.0, 'max_lr': 0.0005, 'max_momentum': 0.95, 'pct_start': 0.45, 'weight_decay': 0}\n",
            "Best absolute error: 0.21238617599010468 R2: 0.8875911665028766\n",
            "----- grid search 17/72 -----\n",
            "Config: {'anneal_strategy': 'linear', 'base_momentum': 0.85, 'batch': 100, 'div_factor': 5, 'epochs': 10, 'final_div_factor': 10000.0, 'max_lr': 0.001, 'max_momentum': 0.95, 'pct_start': 0.45, 'weight_decay': 0}\n",
            "Best absolute error: 0.22257354855537415 R2: 0.8639943405546697\n",
            "----- grid search 18/72 -----\n",
            "Config: {'anneal_strategy': 'linear', 'base_momentum': 0.85, 'batch': 100, 'div_factor': 5, 'epochs': 10, 'final_div_factor': 10000.0, 'max_lr': 0.005, 'max_momentum': 0.95, 'pct_start': 0.45, 'weight_decay': 0}\n",
            "Best absolute error: 0.4085322618484497 R2: 0.6184673442950919\n",
            "----- grid search 19/72 -----\n",
            "Config: {'anneal_strategy': 'linear', 'base_momentum': 0.85, 'batch': 100, 'div_factor': 5, 'epochs': 20, 'final_div_factor': 10000.0, 'max_lr': 1e-05, 'max_momentum': 0.95, 'pct_start': 0.45, 'weight_decay': 0}\n",
            "Best absolute error: 0.2282898873090744 R2: 0.8638564499891429\n",
            "----- grid search 20/72 -----\n",
            "Config: {'anneal_strategy': 'linear', 'base_momentum': 0.85, 'batch': 100, 'div_factor': 5, 'epochs': 20, 'final_div_factor': 10000.0, 'max_lr': 5e-05, 'max_momentum': 0.95, 'pct_start': 0.45, 'weight_decay': 0}\n",
            "Best absolute error: 0.22243216633796692 R2: 0.8782446003457998\n",
            "----- grid search 21/72 -----\n",
            "Config: {'anneal_strategy': 'linear', 'base_momentum': 0.85, 'batch': 100, 'div_factor': 5, 'epochs': 20, 'final_div_factor': 10000.0, 'max_lr': 0.0001, 'max_momentum': 0.95, 'pct_start': 0.45, 'weight_decay': 0}\n",
            "Best absolute error: 0.21965721249580383 R2: 0.8809958468073478\n",
            "----- grid search 22/72 -----\n",
            "Config: {'anneal_strategy': 'linear', 'base_momentum': 0.85, 'batch': 100, 'div_factor': 5, 'epochs': 20, 'final_div_factor': 10000.0, 'max_lr': 0.0005, 'max_momentum': 0.95, 'pct_start': 0.45, 'weight_decay': 0}\n",
            "Best absolute error: 0.22196076810359955 R2: 0.8720130977776919\n",
            "----- grid search 23/72 -----\n",
            "Config: {'anneal_strategy': 'linear', 'base_momentum': 0.85, 'batch': 100, 'div_factor': 5, 'epochs': 20, 'final_div_factor': 10000.0, 'max_lr': 0.001, 'max_momentum': 0.95, 'pct_start': 0.45, 'weight_decay': 0}\n",
            "Best absolute error: 0.23253215849399567 R2: 0.8802429537364164\n",
            "----- grid search 24/72 -----\n",
            "Config: {'anneal_strategy': 'linear', 'base_momentum': 0.85, 'batch': 100, 'div_factor': 5, 'epochs': 20, 'final_div_factor': 10000.0, 'max_lr': 0.005, 'max_momentum': 0.95, 'pct_start': 0.45, 'weight_decay': 0}\n",
            "Best absolute error: 0.3463985323905945 R2: 0.5802994292188909\n",
            "----- grid search 25/72 -----\n",
            "Config: {'anneal_strategy': 'linear', 'base_momentum': 0.85, 'batch': 100, 'div_factor': 2, 'epochs': 10, 'final_div_factor': 10000.0, 'max_lr': 1e-05, 'max_momentum': 0.95, 'pct_start': 0.45, 'weight_decay': 0}\n",
            "Best absolute error: 0.271027147769928 R2: 0.8248836843039927\n",
            "----- grid search 26/72 -----\n",
            "Config: {'anneal_strategy': 'linear', 'base_momentum': 0.85, 'batch': 100, 'div_factor': 2, 'epochs': 10, 'final_div_factor': 10000.0, 'max_lr': 5e-05, 'max_momentum': 0.95, 'pct_start': 0.45, 'weight_decay': 0}\n",
            "Best absolute error: 0.237561896443367 R2: 0.8609666988447517\n",
            "----- grid search 27/72 -----\n",
            "Config: {'anneal_strategy': 'linear', 'base_momentum': 0.85, 'batch': 100, 'div_factor': 2, 'epochs': 10, 'final_div_factor': 10000.0, 'max_lr': 0.0001, 'max_momentum': 0.95, 'pct_start': 0.45, 'weight_decay': 0}\n",
            "Best absolute error: 0.23773956298828125 R2: 0.8729868706140014\n",
            "----- grid search 28/72 -----\n",
            "Config: {'anneal_strategy': 'linear', 'base_momentum': 0.85, 'batch': 100, 'div_factor': 2, 'epochs': 10, 'final_div_factor': 10000.0, 'max_lr': 0.0005, 'max_momentum': 0.95, 'pct_start': 0.45, 'weight_decay': 0}\n",
            "Best absolute error: 0.22567375004291534 R2: 0.8879763631594078\n",
            "----- grid search 29/72 -----\n",
            "Config: {'anneal_strategy': 'linear', 'base_momentum': 0.85, 'batch': 100, 'div_factor': 2, 'epochs': 10, 'final_div_factor': 10000.0, 'max_lr': 0.001, 'max_momentum': 0.95, 'pct_start': 0.45, 'weight_decay': 0}\n",
            "Best absolute error: 0.3640063405036926 R2: 0.5954122676404772\n",
            "----- grid search 30/72 -----\n",
            "Config: {'anneal_strategy': 'linear', 'base_momentum': 0.85, 'batch': 100, 'div_factor': 2, 'epochs': 10, 'final_div_factor': 10000.0, 'max_lr': 0.005, 'max_momentum': 0.95, 'pct_start': 0.45, 'weight_decay': 0}\n",
            "Best absolute error: 0.3668542504310608 R2: 0.762278670594274\n",
            "----- grid search 31/72 -----\n",
            "Config: {'anneal_strategy': 'linear', 'base_momentum': 0.85, 'batch': 100, 'div_factor': 2, 'epochs': 20, 'final_div_factor': 10000.0, 'max_lr': 1e-05, 'max_momentum': 0.95, 'pct_start': 0.45, 'weight_decay': 0}\n",
            "Best absolute error: 0.23297829926013947 R2: 0.8588373210666034\n",
            "----- grid search 32/72 -----\n",
            "Config: {'anneal_strategy': 'linear', 'base_momentum': 0.85, 'batch': 100, 'div_factor': 2, 'epochs': 20, 'final_div_factor': 10000.0, 'max_lr': 5e-05, 'max_momentum': 0.95, 'pct_start': 0.45, 'weight_decay': 0}\n",
            "Best absolute error: 0.21804364025592804 R2: 0.8800610543490979\n",
            "----- grid search 33/72 -----\n",
            "Config: {'anneal_strategy': 'linear', 'base_momentum': 0.85, 'batch': 100, 'div_factor': 2, 'epochs': 20, 'final_div_factor': 10000.0, 'max_lr': 0.0001, 'max_momentum': 0.95, 'pct_start': 0.45, 'weight_decay': 0}\n",
            "Best absolute error: 0.22030718624591827 R2: 0.8782732861674392\n",
            "----- grid search 34/72 -----\n",
            "Config: {'anneal_strategy': 'linear', 'base_momentum': 0.85, 'batch': 100, 'div_factor': 2, 'epochs': 20, 'final_div_factor': 10000.0, 'max_lr': 0.0005, 'max_momentum': 0.95, 'pct_start': 0.45, 'weight_decay': 0}\n",
            "Best absolute error: 0.22387078404426575 R2: 0.8791455105316403\n",
            "----- grid search 35/72 -----\n",
            "Config: {'anneal_strategy': 'linear', 'base_momentum': 0.85, 'batch': 100, 'div_factor': 2, 'epochs': 20, 'final_div_factor': 10000.0, 'max_lr': 0.001, 'max_momentum': 0.95, 'pct_start': 0.45, 'weight_decay': 0}\n",
            "Best absolute error: 0.27300024032592773 R2: 0.7910185110659154\n",
            "----- grid search 36/72 -----\n",
            "Config: {'anneal_strategy': 'linear', 'base_momentum': 0.85, 'batch': 100, 'div_factor': 2, 'epochs': 20, 'final_div_factor': 10000.0, 'max_lr': 0.005, 'max_momentum': 0.95, 'pct_start': 0.45, 'weight_decay': 0}\n",
            "Best absolute error: 0.39027824997901917 R2: 0.7190855392204027\n",
            "----- grid search 37/72 -----\n",
            "Config: {'anneal_strategy': 'linear', 'base_momentum': 0.85, 'batch': 200, 'div_factor': 10, 'epochs': 10, 'final_div_factor': 10000.0, 'max_lr': 1e-05, 'max_momentum': 0.95, 'pct_start': 0.45, 'weight_decay': 0}\n",
            "Best absolute error: 0.2717905044555664 R2: 0.8289911919704182\n",
            "----- grid search 38/72 -----\n",
            "Config: {'anneal_strategy': 'linear', 'base_momentum': 0.85, 'batch': 200, 'div_factor': 10, 'epochs': 10, 'final_div_factor': 10000.0, 'max_lr': 5e-05, 'max_momentum': 0.95, 'pct_start': 0.45, 'weight_decay': 0}\n",
            "Best absolute error: 0.2281014323234558 R2: 0.8750599636652442\n",
            "----- grid search 39/72 -----\n",
            "Config: {'anneal_strategy': 'linear', 'base_momentum': 0.85, 'batch': 200, 'div_factor': 10, 'epochs': 10, 'final_div_factor': 10000.0, 'max_lr': 0.0001, 'max_momentum': 0.95, 'pct_start': 0.45, 'weight_decay': 0}\n",
            "Best absolute error: 0.23163118958473206 R2: 0.8786727307543895\n",
            "----- grid search 40/72 -----\n",
            "Config: {'anneal_strategy': 'linear', 'base_momentum': 0.85, 'batch': 200, 'div_factor': 10, 'epochs': 10, 'final_div_factor': 10000.0, 'max_lr': 0.0005, 'max_momentum': 0.95, 'pct_start': 0.45, 'weight_decay': 0}\n",
            "Best absolute error: 0.3030944764614105 R2: 0.8027375309660945\n",
            "----- grid search 41/72 -----\n",
            "Config: {'anneal_strategy': 'linear', 'base_momentum': 0.85, 'batch': 200, 'div_factor': 10, 'epochs': 10, 'final_div_factor': 10000.0, 'max_lr': 0.001, 'max_momentum': 0.95, 'pct_start': 0.45, 'weight_decay': 0}\n",
            "Best absolute error: 0.3031323552131653 R2: 0.8227934650288101\n",
            "----- grid search 42/72 -----\n",
            "Config: {'anneal_strategy': 'linear', 'base_momentum': 0.85, 'batch': 200, 'div_factor': 10, 'epochs': 10, 'final_div_factor': 10000.0, 'max_lr': 0.005, 'max_momentum': 0.95, 'pct_start': 0.45, 'weight_decay': 0}\n",
            "Best absolute error: 0.30503520369529724 R2: 0.654126287570433\n",
            "----- grid search 43/72 -----\n",
            "Config: {'anneal_strategy': 'linear', 'base_momentum': 0.85, 'batch': 200, 'div_factor': 10, 'epochs': 20, 'final_div_factor': 10000.0, 'max_lr': 1e-05, 'max_momentum': 0.95, 'pct_start': 0.45, 'weight_decay': 0}\n",
            "Best absolute error: 0.25236862897872925 R2: 0.8556203172911159\n",
            "----- grid search 44/72 -----\n",
            "Config: {'anneal_strategy': 'linear', 'base_momentum': 0.85, 'batch': 200, 'div_factor': 10, 'epochs': 20, 'final_div_factor': 10000.0, 'max_lr': 5e-05, 'max_momentum': 0.95, 'pct_start': 0.45, 'weight_decay': 0}\n",
            "Best absolute error: 0.23206844925880432 R2: 0.8616297831357251\n",
            "----- grid search 45/72 -----\n",
            "Config: {'anneal_strategy': 'linear', 'base_momentum': 0.85, 'batch': 200, 'div_factor': 10, 'epochs': 20, 'final_div_factor': 10000.0, 'max_lr': 0.0001, 'max_momentum': 0.95, 'pct_start': 0.45, 'weight_decay': 0}\n",
            "Best absolute error: 0.22915472090244293 R2: 0.8812289448363367\n",
            "----- grid search 46/72 -----\n",
            "Config: {'anneal_strategy': 'linear', 'base_momentum': 0.85, 'batch': 200, 'div_factor': 10, 'epochs': 20, 'final_div_factor': 10000.0, 'max_lr': 0.0005, 'max_momentum': 0.95, 'pct_start': 0.45, 'weight_decay': 0}\n",
            "Best absolute error: 0.2612755596637726 R2: 0.8448730364626946\n",
            "----- grid search 47/72 -----\n",
            "Config: {'anneal_strategy': 'linear', 'base_momentum': 0.85, 'batch': 200, 'div_factor': 10, 'epochs': 20, 'final_div_factor': 10000.0, 'max_lr': 0.001, 'max_momentum': 0.95, 'pct_start': 0.45, 'weight_decay': 0}\n",
            "Best absolute error: 0.2489059418439865 R2: 0.8298445157799756\n",
            "----- grid search 48/72 -----\n",
            "Config: {'anneal_strategy': 'linear', 'base_momentum': 0.85, 'batch': 200, 'div_factor': 10, 'epochs': 20, 'final_div_factor': 10000.0, 'max_lr': 0.005, 'max_momentum': 0.95, 'pct_start': 0.45, 'weight_decay': 0}\n",
            "Best absolute error: 0.43797656893730164 R2: 0.6141517711666244\n",
            "----- grid search 49/72 -----\n",
            "Config: {'anneal_strategy': 'linear', 'base_momentum': 0.85, 'batch': 200, 'div_factor': 5, 'epochs': 10, 'final_div_factor': 10000.0, 'max_lr': 1e-05, 'max_momentum': 0.95, 'pct_start': 0.45, 'weight_decay': 0}\n",
            "Best absolute error: 0.2937803268432617 R2: 0.8201559892786672\n",
            "----- grid search 50/72 -----\n",
            "Config: {'anneal_strategy': 'linear', 'base_momentum': 0.85, 'batch': 200, 'div_factor': 5, 'epochs': 10, 'final_div_factor': 10000.0, 'max_lr': 5e-05, 'max_momentum': 0.95, 'pct_start': 0.45, 'weight_decay': 0}\n",
            "Best absolute error: 0.2423202246427536 R2: 0.8745735286587676\n",
            "----- grid search 51/72 -----\n",
            "Config: {'anneal_strategy': 'linear', 'base_momentum': 0.85, 'batch': 200, 'div_factor': 5, 'epochs': 10, 'final_div_factor': 10000.0, 'max_lr': 0.0001, 'max_momentum': 0.95, 'pct_start': 0.45, 'weight_decay': 0}\n",
            "Best absolute error: 0.23566684126853943 R2: 0.8664119966402846\n",
            "----- grid search 52/72 -----\n",
            "Config: {'anneal_strategy': 'linear', 'base_momentum': 0.85, 'batch': 200, 'div_factor': 5, 'epochs': 10, 'final_div_factor': 10000.0, 'max_lr': 0.0005, 'max_momentum': 0.95, 'pct_start': 0.45, 'weight_decay': 0}\n",
            "Best absolute error: 0.2641393542289734 R2: 0.8093133550296081\n",
            "----- grid search 53/72 -----\n",
            "Config: {'anneal_strategy': 'linear', 'base_momentum': 0.85, 'batch': 200, 'div_factor': 5, 'epochs': 10, 'final_div_factor': 10000.0, 'max_lr': 0.001, 'max_momentum': 0.95, 'pct_start': 0.45, 'weight_decay': 0}\n",
            "Best absolute error: 0.2527695596218109 R2: 0.846983225398858\n",
            "----- grid search 54/72 -----\n",
            "Config: {'anneal_strategy': 'linear', 'base_momentum': 0.85, 'batch': 200, 'div_factor': 5, 'epochs': 10, 'final_div_factor': 10000.0, 'max_lr': 0.005, 'max_momentum': 0.95, 'pct_start': 0.45, 'weight_decay': 0}\n",
            "Best absolute error: 0.46020373702049255 R2: 0.49525654989871115\n",
            "----- grid search 55/72 -----\n",
            "Config: {'anneal_strategy': 'linear', 'base_momentum': 0.85, 'batch': 200, 'div_factor': 5, 'epochs': 20, 'final_div_factor': 10000.0, 'max_lr': 1e-05, 'max_momentum': 0.95, 'pct_start': 0.45, 'weight_decay': 0}\n",
            "Best absolute error: 0.2529376745223999 R2: 0.8278788597460599\n",
            "----- grid search 56/72 -----\n",
            "Config: {'anneal_strategy': 'linear', 'base_momentum': 0.85, 'batch': 200, 'div_factor': 5, 'epochs': 20, 'final_div_factor': 10000.0, 'max_lr': 5e-05, 'max_momentum': 0.95, 'pct_start': 0.45, 'weight_decay': 0}\n",
            "Best absolute error: 0.22482439875602722 R2: 0.8789268953081671\n",
            "----- grid search 57/72 -----\n",
            "Config: {'anneal_strategy': 'linear', 'base_momentum': 0.85, 'batch': 200, 'div_factor': 5, 'epochs': 20, 'final_div_factor': 10000.0, 'max_lr': 0.0001, 'max_momentum': 0.95, 'pct_start': 0.45, 'weight_decay': 0}\n",
            "Best absolute error: 0.2298125922679901 R2: 0.8736800331423415\n",
            "----- grid search 58/72 -----\n",
            "Config: {'anneal_strategy': 'linear', 'base_momentum': 0.85, 'batch': 200, 'div_factor': 5, 'epochs': 20, 'final_div_factor': 10000.0, 'max_lr': 0.0005, 'max_momentum': 0.95, 'pct_start': 0.45, 'weight_decay': 0}\n",
            "Best absolute error: 0.26105886697769165 R2: 0.8344748483753102\n",
            "----- grid search 59/72 -----\n",
            "Config: {'anneal_strategy': 'linear', 'base_momentum': 0.85, 'batch': 200, 'div_factor': 5, 'epochs': 20, 'final_div_factor': 10000.0, 'max_lr': 0.001, 'max_momentum': 0.95, 'pct_start': 0.45, 'weight_decay': 0}\n",
            "Best absolute error: 0.30740129947662354 R2: 0.8129732863039725\n",
            "----- grid search 60/72 -----\n",
            "Config: {'anneal_strategy': 'linear', 'base_momentum': 0.85, 'batch': 200, 'div_factor': 5, 'epochs': 20, 'final_div_factor': 10000.0, 'max_lr': 0.005, 'max_momentum': 0.95, 'pct_start': 0.45, 'weight_decay': 0}\n",
            "Best absolute error: 0.4789719581604004 R2: 0.6696936626139882\n",
            "----- grid search 61/72 -----\n",
            "Config: {'anneal_strategy': 'linear', 'base_momentum': 0.85, 'batch': 200, 'div_factor': 2, 'epochs': 10, 'final_div_factor': 10000.0, 'max_lr': 1e-05, 'max_momentum': 0.95, 'pct_start': 0.45, 'weight_decay': 0}\n",
            "Best absolute error: 0.26598241925239563 R2: 0.8508147908556652\n",
            "----- grid search 62/72 -----\n",
            "Config: {'anneal_strategy': 'linear', 'base_momentum': 0.85, 'batch': 200, 'div_factor': 2, 'epochs': 10, 'final_div_factor': 10000.0, 'max_lr': 5e-05, 'max_momentum': 0.95, 'pct_start': 0.45, 'weight_decay': 0}\n",
            "Best absolute error: 0.23910748958587646 R2: 0.8735511458808765\n",
            "----- grid search 63/72 -----\n",
            "Config: {'anneal_strategy': 'linear', 'base_momentum': 0.85, 'batch': 200, 'div_factor': 2, 'epochs': 10, 'final_div_factor': 10000.0, 'max_lr': 0.0001, 'max_momentum': 0.95, 'pct_start': 0.45, 'weight_decay': 0}\n",
            "Best absolute error: 0.23553387820720673 R2: 0.8698590821758931\n",
            "----- grid search 64/72 -----\n",
            "Config: {'anneal_strategy': 'linear', 'base_momentum': 0.85, 'batch': 200, 'div_factor': 2, 'epochs': 10, 'final_div_factor': 10000.0, 'max_lr': 0.0005, 'max_momentum': 0.95, 'pct_start': 0.45, 'weight_decay': 0}\n",
            "Best absolute error: 0.32119041681289673 R2: 0.7672465322916091\n",
            "----- grid search 65/72 -----\n",
            "Config: {'anneal_strategy': 'linear', 'base_momentum': 0.85, 'batch': 200, 'div_factor': 2, 'epochs': 10, 'final_div_factor': 10000.0, 'max_lr': 0.001, 'max_momentum': 0.95, 'pct_start': 0.45, 'weight_decay': 0}\n",
            "Best absolute error: 0.32489389181137085 R2: 0.7751116794847981\n",
            "----- grid search 66/72 -----\n",
            "Config: {'anneal_strategy': 'linear', 'base_momentum': 0.85, 'batch': 200, 'div_factor': 2, 'epochs': 10, 'final_div_factor': 10000.0, 'max_lr': 0.005, 'max_momentum': 0.95, 'pct_start': 0.45, 'weight_decay': 0}\n",
            "Best absolute error: 0.31920337677001953 R2: 0.6366408449613737\n",
            "----- grid search 67/72 -----\n",
            "Config: {'anneal_strategy': 'linear', 'base_momentum': 0.85, 'batch': 200, 'div_factor': 2, 'epochs': 20, 'final_div_factor': 10000.0, 'max_lr': 1e-05, 'max_momentum': 0.95, 'pct_start': 0.45, 'weight_decay': 0}\n",
            "Best absolute error: 0.24429678916931152 R2: 0.8607252330115831\n",
            "----- grid search 68/72 -----\n",
            "Config: {'anneal_strategy': 'linear', 'base_momentum': 0.85, 'batch': 200, 'div_factor': 2, 'epochs': 20, 'final_div_factor': 10000.0, 'max_lr': 5e-05, 'max_momentum': 0.95, 'pct_start': 0.45, 'weight_decay': 0}\n",
            "Best absolute error: 0.21726036071777344 R2: 0.8735622584942743\n",
            "----- grid search 69/72 -----\n",
            "Config: {'anneal_strategy': 'linear', 'base_momentum': 0.85, 'batch': 200, 'div_factor': 2, 'epochs': 20, 'final_div_factor': 10000.0, 'max_lr': 0.0001, 'max_momentum': 0.95, 'pct_start': 0.45, 'weight_decay': 0}\n",
            "Best absolute error: 0.2512151002883911 R2: 0.8533022714267202\n",
            "----- grid search 70/72 -----\n",
            "Config: {'anneal_strategy': 'linear', 'base_momentum': 0.85, 'batch': 200, 'div_factor': 2, 'epochs': 20, 'final_div_factor': 10000.0, 'max_lr': 0.0005, 'max_momentum': 0.95, 'pct_start': 0.45, 'weight_decay': 0}\n",
            "Best absolute error: 0.30624377727508545 R2: 0.6430116683599825\n",
            "----- grid search 71/72 -----\n",
            "Config: {'anneal_strategy': 'linear', 'base_momentum': 0.85, 'batch': 200, 'div_factor': 2, 'epochs': 20, 'final_div_factor': 10000.0, 'max_lr': 0.001, 'max_momentum': 0.95, 'pct_start': 0.45, 'weight_decay': 0}\n",
            "Best absolute error: 0.3285120725631714 R2: 0.6941110166877857\n",
            "----- grid search 72/72 -----\n",
            "Config: {'anneal_strategy': 'linear', 'base_momentum': 0.85, 'batch': 200, 'div_factor': 2, 'epochs': 20, 'final_div_factor': 10000.0, 'max_lr': 0.005, 'max_momentum': 0.95, 'pct_start': 0.45, 'weight_decay': 0}\n",
            "Best absolute error: 0.32002049684524536 R2: 0.6190435553652565\n"
          ],
          "name": "stdout"
        }
      ]
    },
    {
      "cell_type": "code",
      "metadata": {
        "id": "tErEQwNk9Ttm",
        "colab": {
          "base_uri": "https://localhost:8080/",
          "height": 606
        },
        "outputId": "d6a85fff-7b5c-4a72-a21c-07dc859a0cd9"
      },
      "source": [
        "# plot_and_evaluate_model_UNcensored(CHECKPOINT_GLL, GausianLogLikelihoodLoss, isGrid = False)\n",
        "plot_and_evaluate_model_UNcensored(CHECKPOINT_GLL, GausianLogLikelihoodLoss, isGrid = True)"
      ],
      "execution_count": null,
      "outputs": [
        {
          "output_type": "display_data",
          "data": {
            "image/png": "[encoded data removed]",
            "text/plain": [
              "<Figure size 432x288 with 1 Axes>"
            ]
          },
          "metadata": {
            "tags": [],
            "needs_background": "light"
          }
        },
        {
          "output_type": "display_data",
          "data": {
            "image/png": "[encoded data removed]",
            "text/plain": [
              "<Figure size 432x288 with 1 Axes>"
            ]
          },
          "metadata": {
            "tags": [],
            "needs_background": "light"
          }
        },
        {
          "output_type": "stream",
          "text": [
            "Absolute error - validation 0.21220624446868896\n",
            "R2 - validation 0.8733524017723202\n",
            "Absolute error - test 0.48218345642089844\n",
            "R2 - test 0.8139551613110568\n"
          ],
          "name": "stdout"
        }
      ]
    },
    {
      "cell_type": "code",
      "metadata": {
        "id": "0VVc4BR2lCQE",
        "colab": {
          "base_uri": "https://localhost:8080/"
        },
        "outputId": "5997982c-d79a-4029-e7bf-d0ec75cd7c83"
      },
      "source": [
        "grid_results = t.load(GRID_RESULTS_FILE)\n",
        "best_config = grid_results['best']\n",
        "best_metrics = grid_results[str(best_config)]\n",
        "print(len(grid_results))\n",
        "print(best_config)\n",
        "print(best_metrics)"
      ],
      "execution_count": null,
      "outputs": [
        {
          "output_type": "stream",
          "text": [
            "73\n",
            "{'anneal_strategy': 'linear', 'base_momentum': 0.85, 'batch': 100, 'div_factor': 5, 'epochs': 10, 'final_div_factor': 10000.0, 'max_lr': 0.0001, 'max_momentum': 0.95, 'pct_start': 0.45, 'weight_decay': 0}\n",
            "[-4.80921661e+02  2.12206244e-01  8.73352402e-01]\n"
          ],
          "name": "stdout"
        }
      ]
    }
  ]
}