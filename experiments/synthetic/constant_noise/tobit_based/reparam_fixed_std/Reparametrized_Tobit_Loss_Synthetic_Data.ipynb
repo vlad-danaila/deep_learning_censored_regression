{
  "nbformat": 4,
  "nbformat_minor": 0,
  "metadata": {
    "colab": {
      "name": "Reparametrized Tobit Loss - Synthetic Data.ipynb",
      "provenance": [],
      "collapsed_sections": []
    },
    "kernelspec": {
      "name": "python3",
      "display_name": "Python 3"
    }
  },
  "cells": [
    {
      "cell_type": "markdown",
      "metadata": {
        "id": "btSh7YlEbkiV"
      },
      "source": [
        "# General Setup"
      ]
    },
    {
      "cell_type": "code",
      "metadata": {
        "id": "qFfU7l-Ebqea",
        "colab": {
          "base_uri": "https://localhost:8080/"
        },
        "outputId": "12401ab3-513e-4576-cc93-b53ae1b8027d"
      },
      "source": [
        "!pip install 'torch-lr-finder==0.2.0'\n",
        "!rm -vrf '/content/tobit_loss'\n",
        "!git clone https://github.com/vlad-danaila/tobit_loss.git"
      ],
      "execution_count": null,
      "outputs": [
        {
          "output_type": "stream",
          "name": "stdout",
          "text": [
            "Looking in indexes: https://pypi.org/simple, https://us-python.pkg.dev/colab-wheels/public/simple/\n",
            "Requirement already satisfied: torch-lr-finder==0.2.0 in /usr/local/lib/python3.7/dist-packages (0.2.0)\n",
            "Requirement already satisfied: tqdm in /usr/local/lib/python3.7/dist-packages (from torch-lr-finder==0.2.0) (4.64.0)\n",
            "Requirement already satisfied: numpy in /usr/local/lib/python3.7/dist-packages (from torch-lr-finder==0.2.0) (1.21.6)\n",
            "Requirement already satisfied: packaging in /usr/local/lib/python3.7/dist-packages (from torch-lr-finder==0.2.0) (21.3)\n",
            "Requirement already satisfied: torch>=0.4.1 in /usr/local/lib/python3.7/dist-packages (from torch-lr-finder==0.2.0) (1.12.0+cu113)\n",
            "Requirement already satisfied: matplotlib in /usr/local/lib/python3.7/dist-packages (from torch-lr-finder==0.2.0) (3.2.2)\n",
            "Requirement already satisfied: typing-extensions in /usr/local/lib/python3.7/dist-packages (from torch>=0.4.1->torch-lr-finder==0.2.0) (4.1.1)\n",
            "Requirement already satisfied: pyparsing!=2.0.4,!=2.1.2,!=2.1.6,>=2.0.1 in /usr/local/lib/python3.7/dist-packages (from matplotlib->torch-lr-finder==0.2.0) (3.0.9)\n",
            "Requirement already satisfied: kiwisolver>=1.0.1 in /usr/local/lib/python3.7/dist-packages (from matplotlib->torch-lr-finder==0.2.0) (1.4.3)\n",
            "Requirement already satisfied: cycler>=0.10 in /usr/local/lib/python3.7/dist-packages (from matplotlib->torch-lr-finder==0.2.0) (0.11.0)\n",
            "Requirement already satisfied: python-dateutil>=2.1 in /usr/local/lib/python3.7/dist-packages (from matplotlib->torch-lr-finder==0.2.0) (2.8.2)\n",
            "Requirement already satisfied: six>=1.5 in /usr/local/lib/python3.7/dist-packages (from python-dateutil>=2.1->matplotlib->torch-lr-finder==0.2.0) (1.15.0)\n",
            "removed '/content/tobit_loss/censored_mae_mse/loss.py'\n",
            "removed '/content/tobit_loss/censored_mae_mse/__init__.py'\n",
            "removed '/content/tobit_loss/censored_mae_mse/test/censored_mse_with_truncation_clamp_all_test.py'\n",
            "removed '/content/tobit_loss/censored_mae_mse/test/censored_mae_with_truncation_clamp_all_test.py'\n",
            "removed '/content/tobit_loss/censored_mae_mse/test/censored_mae_with_truncation_clamp_censored_test.py'\n",
            "removed '/content/tobit_loss/censored_mae_mse/test/__init__.py'\n",
            "removed '/content/tobit_loss/censored_mae_mse/test/censored_mse_with_truncation_clamp_censored_test.py'\n",
            "removed directory '/content/tobit_loss/censored_mae_mse/test'\n",
            "removed directory '/content/tobit_loss/censored_mae_mse'\n",
            "removed '/content/tobit_loss/LICENSE'\n",
            "removed '/content/tobit_loss/deep_tobit/__pycache__/__init__.cpython-37.pyc'\n",
            "removed '/content/tobit_loss/deep_tobit/__pycache__/loss.cpython-37.pyc'\n",
            "removed '/content/tobit_loss/deep_tobit/__pycache__/normal_cumulative_distribution_function.cpython-37.pyc'\n",
            "removed '/content/tobit_loss/deep_tobit/__pycache__/util.cpython-37.pyc'\n",
            "removed directory '/content/tobit_loss/deep_tobit/__pycache__'\n",
            "removed '/content/tobit_loss/deep_tobit/normal_cumulative_distribution_function.py'\n",
            "removed '/content/tobit_loss/deep_tobit/loss.py'\n",
            "removed '/content/tobit_loss/deep_tobit/__init__.py'\n",
            "removed '/content/tobit_loss/deep_tobit/test/normal_cumulative_distribution_function_GPU_test.ipynb'\n",
            "removed '/content/tobit_loss/deep_tobit/test/normal_cumulative_distribution_function_test.py'\n",
            "removed '/content/tobit_loss/deep_tobit/test/unscaled_tobit_loss_mean_std_test.py'\n",
            "removed '/content/tobit_loss/deep_tobit/test/reparametrized_scaled_tobit_loss_mean_std_test.py'\n",
            "removed '/content/tobit_loss/deep_tobit/test/__init__.py'\n",
            "removed '/content/tobit_loss/deep_tobit/test/scaled_tobit_loss_mean_std_test.py'\n",
            "removed directory '/content/tobit_loss/deep_tobit/test'\n",
            "removed '/content/tobit_loss/deep_tobit/util.py'\n",
            "removed '/content/tobit_loss/deep_tobit/examples/__init__.py'\n",
            "removed directory '/content/tobit_loss/deep_tobit/examples'\n",
            "removed directory '/content/tobit_loss/deep_tobit'\n",
            "removed '/content/tobit_loss/README.md'\n",
            "removed '/content/tobit_loss/.gitignore'\n",
            "removed '/content/tobit_loss/.git/config'\n",
            "removed '/content/tobit_loss/.git/logs/refs/heads/master'\n",
            "removed directory '/content/tobit_loss/.git/logs/refs/heads'\n",
            "removed '/content/tobit_loss/.git/logs/refs/remotes/origin/HEAD'\n",
            "removed directory '/content/tobit_loss/.git/logs/refs/remotes/origin'\n",
            "removed directory '/content/tobit_loss/.git/logs/refs/remotes'\n",
            "removed directory '/content/tobit_loss/.git/logs/refs'\n",
            "removed '/content/tobit_loss/.git/logs/HEAD'\n",
            "removed directory '/content/tobit_loss/.git/logs'\n",
            "removed '/content/tobit_loss/.git/refs/heads/master'\n",
            "removed directory '/content/tobit_loss/.git/refs/heads'\n",
            "removed '/content/tobit_loss/.git/refs/remotes/origin/HEAD'\n",
            "removed directory '/content/tobit_loss/.git/refs/remotes/origin'\n",
            "removed directory '/content/tobit_loss/.git/refs/remotes'\n",
            "removed directory '/content/tobit_loss/.git/refs/tags'\n",
            "removed directory '/content/tobit_loss/.git/refs'\n",
            "removed directory '/content/tobit_loss/.git/objects/info'\n",
            "removed '/content/tobit_loss/.git/objects/pack/pack-3cccfab28380cfed88caafef919b6f66a77e9d63.pack'\n",
            "removed '/content/tobit_loss/.git/objects/pack/pack-3cccfab28380cfed88caafef919b6f66a77e9d63.idx'\n",
            "removed directory '/content/tobit_loss/.git/objects/pack'\n",
            "removed directory '/content/tobit_loss/.git/objects'\n",
            "removed '/content/tobit_loss/.git/HEAD'\n",
            "removed '/content/tobit_loss/.git/index'\n",
            "removed '/content/tobit_loss/.git/packed-refs'\n",
            "removed directory '/content/tobit_loss/.git/branches'\n",
            "removed '/content/tobit_loss/.git/description'\n",
            "removed '/content/tobit_loss/.git/info/exclude'\n",
            "removed directory '/content/tobit_loss/.git/info'\n",
            "removed '/content/tobit_loss/.git/hooks/applypatch-msg.sample'\n",
            "removed '/content/tobit_loss/.git/hooks/commit-msg.sample'\n",
            "removed '/content/tobit_loss/.git/hooks/post-update.sample'\n",
            "removed '/content/tobit_loss/.git/hooks/fsmonitor-watchman.sample'\n",
            "removed '/content/tobit_loss/.git/hooks/prepare-commit-msg.sample'\n",
            "removed '/content/tobit_loss/.git/hooks/pre-applypatch.sample'\n",
            "removed '/content/tobit_loss/.git/hooks/update.sample'\n",
            "removed '/content/tobit_loss/.git/hooks/pre-push.sample'\n",
            "removed '/content/tobit_loss/.git/hooks/pre-rebase.sample'\n",
            "removed '/content/tobit_loss/.git/hooks/pre-receive.sample'\n",
            "removed '/content/tobit_loss/.git/hooks/pre-commit.sample'\n",
            "removed directory '/content/tobit_loss/.git/hooks'\n",
            "removed directory '/content/tobit_loss/.git'\n",
            "removed directory '/content/tobit_loss'\n",
            "Cloning into 'tobit_loss'...\n",
            "remote: Enumerating objects: 154, done.\u001b[K\n",
            "remote: Counting objects: 100% (154/154), done.\u001b[K\n",
            "remote: Compressing objects: 100% (107/107), done.\u001b[K\n",
            "remote: Total 154 (delta 92), reused 95 (delta 43), pack-reused 0\u001b[K\n",
            "Receiving objects: 100% (154/154), 33.09 KiB | 11.03 MiB/s, done.\n",
            "Resolving deltas: 100% (92/92), done.\n"
          ]
        }
      ]
    },
    {
      "cell_type": "markdown",
      "metadata": {
        "id": "qLGXhtwT84YZ"
      },
      "source": [
        "Add the Tobit loss to Python path."
      ]
    },
    {
      "cell_type": "code",
      "metadata": {
        "id": "ShX4Mc1H8vy7"
      },
      "source": [
        "import sys\n",
        "sys.path.insert(0, '/content/tobit_loss')"
      ],
      "execution_count": null,
      "outputs": []
    },
    {
      "cell_type": "markdown",
      "metadata": {
        "id": "24sQN6HpC0gb"
      },
      "source": [
        "Imports"
      ]
    },
    {
      "cell_type": "code",
      "metadata": {
        "id": "bEo1lLmv9BOA"
      },
      "source": [
        "import torch as t\n",
        "from deep_tobit.util import to_torch, to_numpy, normalize, unnormalize, distinguish_censored_versus_observed_data\n",
        "from deep_tobit.loss import Reparametrized_Scaled_Tobit_Loss\n",
        "from deep_tobit.normal_cumulative_distribution_function import cdf\n",
        "import numpy as np\n",
        "import matplotlib.pyplot as plt\n",
        "from scipy.stats import beta\n",
        "import random\n",
        "import numpy as np\n",
        "import sklearn as sk\n",
        "import sklearn.metrics\n",
        "import math\n",
        "from sklearn.model_selection import ParameterGrid\n",
        "from torch_lr_finder import LRFinder, TrainDataLoaderIter, ValDataLoaderIter\n",
        "import os\n",
        "import numpy.random\n",
        "import collections\n",
        "from typing import Tuple, Union"
      ],
      "execution_count": null,
      "outputs": []
    },
    {
      "cell_type": "markdown",
      "metadata": {
        "id": "6Gvvee1ORB-9"
      },
      "source": [
        "Constants"
      ]
    },
    {
      "cell_type": "code",
      "metadata": {
        "id": "w-p4kq80REIS"
      },
      "source": [
        "CHECKPOINT_DEEP_TOBIT_REPARAMETRIZED = 'reparametrized deep tobit model'\n",
        "CHECKPOINT_DEEP_TOBIT_REPARAMETRIZED_TRUNCATED = 'reparametrized truncated deep tobit model'\n",
        "CHECKPOINT_LINEAR_TOBIT_REPARAMETRIZED = 'reparametrized linear tobit model'\n",
        "CHECKPOINT_LINEAR_TRUNCATED_TOBIT_REPARAMETRIZED = 'reparametrized truncated linear tobit model'\n",
        "CENSOR_LOW_BOUND = 0.3\n",
        "CENSOR_HIGH_BOUND = 1.7\n",
        "ALPHA = 2\n",
        "BETA = 4\n",
        "NOISE = 0.3\n",
        "LAYER_SIZE = 10\n",
        "DATASET_LEN = 10_000\n",
        "CHECKPOINT_FREQUENCY = 10\n",
        "GRID_RESULTS_FILE = 'grid_results.tar'"
      ],
      "execution_count": null,
      "outputs": []
    },
    {
      "cell_type": "markdown",
      "metadata": {
        "id": "I8WJLGKcQAzb"
      },
      "source": [
        "Reproducible experiments"
      ]
    },
    {
      "cell_type": "code",
      "metadata": {
        "id": "9cQ7XazCQAOA"
      },
      "source": [
        "SEED = 0\n",
        "t.manual_seed(SEED)\n",
        "t.cuda.manual_seed(SEED)\n",
        "t.cuda.manual_seed_all(SEED)\n",
        "t.backends.cudnn.deterministic = True\n",
        "t.backends.cudnn.benchmark = False\n",
        "np.random.seed(SEED)\n",
        "random.seed(SEED)"
      ],
      "execution_count": null,
      "outputs": []
    },
    {
      "cell_type": "markdown",
      "metadata": {
        "id": "xr20oFx6bf4m"
      },
      "source": [
        "# Model"
      ]
    },
    {
      "cell_type": "code",
      "metadata": {
        "id": "l3wmC7JXJyge"
      },
      "source": [
        "class DenseNetwork(t.nn.Module):\n",
        "\n",
        "  def __init__(self):\n",
        "    super().__init__()\n",
        "    self.layer_in = t.nn.Linear(1, LAYER_SIZE)\n",
        "    self.norm_1 = t.nn.BatchNorm1d(LAYER_SIZE, affine = False)\n",
        "    self.layer_hidden_1 = t.nn.Linear(LAYER_SIZE, LAYER_SIZE)\n",
        "    self.norm_2 = t.nn.BatchNorm1d(LAYER_SIZE, affine = False)\n",
        "    self.layer_out = t.nn.Linear(LAYER_SIZE, 1)\n",
        "\n",
        "  def forward(self, x):\n",
        "    x = t.nn.functional.relu(self.norm_1(self.layer_in(x)))\n",
        "    x = t.nn.functional.relu(self.norm_2(self.layer_hidden_1(x)))\n",
        "    x = self.layer_out(x)\n",
        "    return x"
      ],
      "execution_count": null,
      "outputs": []
    },
    {
      "cell_type": "markdown",
      "metadata": {
        "id": "KZOvdckibSUD"
      },
      "source": [
        "# Datasets"
      ]
    },
    {
      "cell_type": "code",
      "metadata": {
        "id": "P9z0FjI9GzXc",
        "colab": {
          "base_uri": "https://localhost:8080/"
        },
        "outputId": "347b4a49-7a17-4ec7-b058-3e0f6f2854d7"
      },
      "source": [
        "def calculate_mean_std(lower_bound = -math.inf, upper_bound = math.inf, nb_samples = DATASET_LEN, distribution_alpha = ALPHA, distribution_beta = BETA, start = 0, end = 1, noise = NOISE):\n",
        "    assert lower_bound <= upper_bound\n",
        "    beta_distribution = beta(a = distribution_alpha, b = distribution_beta)\n",
        "    x = np.linspace(start, end, nb_samples)\n",
        "    y = beta_distribution.pdf(x)\n",
        "    y += np.random.normal(0, noise, nb_samples)\n",
        "    y = np.clip(y, lower_bound, upper_bound) \n",
        "    return x.mean(), x.std(), y.mean(), y.std()\n",
        "\n",
        "x_mean, x_std, y_mean, y_std = calculate_mean_std(lower_bound = CENSOR_LOW_BOUND, upper_bound = CENSOR_HIGH_BOUND)\n",
        "print('x mean =', x_mean, 'x std =', x_std, 'y mean =', y_mean, 'y std =', y_std)"
      ],
      "execution_count": null,
      "outputs": [
        {
          "output_type": "stream",
          "name": "stdout",
          "text": [
            "x mean = 0.5 x std = 0.2887040035517924 y mean = 0.9890484101333353 y std = 0.58598128548115\n"
          ]
        }
      ]
    },
    {
      "cell_type": "code",
      "metadata": {
        "id": "-vbA4ilEOaOZ"
      },
      "source": [
        "class TruncatedBetaDistributionDataset(t.utils.data.Dataset):\n",
        "\n",
        "  def __init__(self, lower_bound = -math.inf, upper_bound = math.inf, nb_samples = DATASET_LEN, distribution_alpha = ALPHA, distribution_beta = BETA, noise = NOISE):\n",
        "    super().__init__()\n",
        "    assert lower_bound <= upper_bound\n",
        "    self.beta_distribution = beta(a = distribution_alpha, b = distribution_beta)\n",
        "    self.lower_bound = lower_bound\n",
        "    self.upper_bound = upper_bound\n",
        "    self.noise = noise\n",
        "    self.nb_samples = nb_samples\n",
        "  \n",
        "  def __getitem__(self, i):\n",
        "    x = random.uniform(0, 1)\n",
        "    y = self.beta_distribution.pdf(x)\n",
        "    y += random.gauss(0, self.noise)\n",
        "    y = np.clip(y, self.lower_bound, self.upper_bound)\n",
        "    x = normalize(x, mean = x_mean, std = x_std)\n",
        "    y = normalize(y, mean = y_mean, std = y_std)\n",
        "    return t.tensor([x], requires_grad = True, dtype=t.float32), t.tensor([y], requires_grad = True, dtype=t.float32)\n",
        "\n",
        "  def __len__(self):\n",
        "    return self.nb_samples"
      ],
      "execution_count": null,
      "outputs": []
    },
    {
      "cell_type": "code",
      "metadata": {
        "id": "DtKXaeOA_BCg"
      },
      "source": [
        "class TruncatedBetaDistributionValidationDataset(TruncatedBetaDistributionDataset):\n",
        "\n",
        "  def __init__(self, lower_bound = -math.inf, upper_bound = math.inf, nb_samples = DATASET_LEN, distribution_alpha = ALPHA, distribution_beta = BETA, start = 0, end = 1, noise = NOISE):\n",
        "    super().__init__(lower_bound, upper_bound, nb_samples, distribution_alpha, distribution_beta)\n",
        "    self.x = np.linspace(start, end, nb_samples)\n",
        "    self.y = self.beta_distribution.pdf(self.x)\n",
        "    self.y += np.random.normal(0, noise, nb_samples)\n",
        "    self.y = np.clip(self.y, self.lower_bound, self.upper_bound)\n",
        "    self.x = normalize(self.x, mean = x_mean, std = x_std)\n",
        "    self.y = normalize(self.y, mean = y_mean, std = y_std)\n",
        "    self.x = np.expand_dims(self.x, axis = 1)\n",
        "    self.y = np.expand_dims(self.y, axis = 1)\n",
        "    self.x = t.tensor(self.x, requires_grad = False, dtype = t.float32)\n",
        "    self.y = t.tensor(self.y, requires_grad = False, dtype = t.float32)\n",
        "\n",
        "  def __getitem__(self, i):\n",
        "    return self.x[i], self.y[i]"
      ],
      "execution_count": null,
      "outputs": []
    },
    {
      "cell_type": "code",
      "metadata": {
        "id": "G2S5-awAOqV-"
      },
      "source": [
        "dataset_train = TruncatedBetaDistributionDataset(lower_bound = CENSOR_LOW_BOUND, upper_bound = CENSOR_HIGH_BOUND)\n",
        "dataset_val = TruncatedBetaDistributionValidationDataset(lower_bound = CENSOR_LOW_BOUND, upper_bound = CENSOR_HIGH_BOUND, nb_samples = 1000)\n",
        "dataset_test = TruncatedBetaDistributionValidationDataset()"
      ],
      "execution_count": null,
      "outputs": []
    },
    {
      "cell_type": "markdown",
      "metadata": {
        "id": "WKMHYoHCa5bW"
      },
      "source": [
        "# Plotting"
      ]
    },
    {
      "cell_type": "code",
      "metadata": {
        "id": "0mrFyPZdQ8Tn"
      },
      "source": [
        "def plot_beta(lower = -math.inf, upper = math.inf, color = None, label = None, std = None):\n",
        "  x = np.linspace(0, 1, 1000)\n",
        "  beta_distribution = beta(a = ALPHA, b = BETA)\n",
        "  y = beta_distribution.pdf(x)\n",
        "  y = np.clip(y, lower, upper)\n",
        "  x = normalize(x, x_mean, x_std)\n",
        "  y = normalize(y, y_mean, y_std)\n",
        "  plt.scatter(x, y, s = .1, color = color, label = label)\n",
        "  if std:\n",
        "    plt.fill_between(x, y + std, y - std, facecolor='blue', alpha=0.1, label = 'real std')"
      ],
      "execution_count": null,
      "outputs": []
    },
    {
      "cell_type": "code",
      "metadata": {
        "id": "4hRXFDQ_aEp7"
      },
      "source": [
        "def plot_dataset(dataset, size = .01, label = None):\n",
        "  x_list, y_list = [], []\n",
        "  for i in range(len(dataset)):\n",
        "    x, y = dataset[i]\n",
        "    x_list.append(x[0].item())\n",
        "    y_list.append(y[0].item())\n",
        "  plt.scatter(x_list, y_list, s = size, label = label)"
      ],
      "execution_count": null,
      "outputs": []
    },
    {
      "cell_type": "code",
      "metadata": {
        "id": "SYG6v2BQqDHC"
      },
      "source": [
        "LOSS = 0\n",
        "ABS_ERR = 1\n",
        "R_SQUARED = 2"
      ],
      "execution_count": null,
      "outputs": []
    },
    {
      "cell_type": "code",
      "metadata": {
        "id": "hvQgu2vfuCjr"
      },
      "source": [
        "def plot_train_test(train, test, title, y_title):\n",
        "    plt.plot(range(len(train)), train, label = 'Train')\n",
        "    plt.plot(range(len(test)), test, label = 'Test')\n",
        "    plt.xlabel('Epochs')\n",
        "    plt.ylabel(y_title)\n",
        "    plt.title(title)\n",
        "    plt.legend()\n",
        "    # plt.savefig(title + '.png', dpi = 300, format = 'png')\n",
        "    plt.show()"
      ],
      "execution_count": null,
      "outputs": []
    },
    {
      "cell_type": "code",
      "metadata": {
        "id": "8nWeaULRuGF-"
      },
      "source": [
        "def plot_epochs(train_metrics_list, test_metrics_list):\n",
        "  test_err = list(map(lambda m: m[ABS_ERR], test_metrics_list))\n",
        "  test_loss = list(map(lambda m: m[LOSS], test_metrics_list))\n",
        "  train_err = list(map(lambda m: m[ABS_ERR], train_metrics_list))\n",
        "  train_loss = list(map(lambda m: m[LOSS], train_metrics_list))\n",
        "  plot_train_test(train_loss, test_loss, 'Loss', 'Loss')\n",
        "  plot_train_test(train_err, test_err, 'Absolute error', 'Absolute error')"
      ],
      "execution_count": null,
      "outputs": []
    },
    {
      "cell_type": "code",
      "metadata": {
        "id": "eQP63BJieGHN"
      },
      "source": [
        "def plot_net(model, start = 0, end = 1, gamma = None, label = 'model prediction', with_std = False):\n",
        "  model.eval()\n",
        "  x_list, y_list = [], []\n",
        "  for i in range(len(dataset_val)):\n",
        "    x, _ = dataset_val[i]\n",
        "    y = model.forward(x.reshape(1, 1))\n",
        "    if gamma:\n",
        "      y = y / gamma\n",
        "    x_list.append(x[0].item())\n",
        "    y_list.append(y[0].item())\n",
        "  plt.scatter(x_list, y_list, s = .1, label = label)\n",
        "  if with_std and gamma:\n",
        "    std = 1 / gamma.item()\n",
        "    np_y = np.array(y_list)\n",
        "    plt.fill_between(x_list, np_y + std, np_y - std, facecolor='gray', alpha=0.1, label = 'Tobit std')"
      ],
      "execution_count": null,
      "outputs": []
    },
    {
      "cell_type": "markdown",
      "metadata": {
        "id": "iFb_01Z2avwQ"
      },
      "source": [
        "# Training"
      ]
    },
    {
      "cell_type": "code",
      "metadata": {
        "id": "BWgGzkLHFlC5",
        "colab": {
          "base_uri": "https://localhost:8080/"
        },
        "outputId": "689f219a-7030-4ec2-9076-2e799a8e172c"
      },
      "source": [
        "# n is the nb of samples, k is the nb of regressors (features)\n",
        "n = len(dataset_train)\n",
        "k = len(dataset_train[0][0])\n",
        "print(f'While calculating the adjusted R2, n = {n} and k = {k}')\n",
        "\n",
        "def adjusted_R2(y, y_pred):\n",
        "  r2 = sk.metrics.r2_score(y, y_pred)\n",
        "  return 1 - ( ( (1 - r2) * (n - 1) ) / (n - k - 1) )"
      ],
      "execution_count": null,
      "outputs": [
        {
          "output_type": "stream",
          "name": "stdout",
          "text": [
            "While calculating the adjusted R2, n = 10000 and k = 1\n"
          ]
        }
      ]
    },
    {
      "cell_type": "code",
      "metadata": {
        "id": "kPDm9XIKnMPD"
      },
      "source": [
        "bound_min = normalize(CENSOR_LOW_BOUND, y_mean, y_std)\n",
        "bound_max = normalize(CENSOR_HIGH_BOUND, y_mean, y_std)\n",
        "zero_normalized = normalize(0, y_mean, y_std)"
      ],
      "execution_count": null,
      "outputs": []
    },
    {
      "cell_type": "code",
      "metadata": {
        "id": "741SKP5JfZzH"
      },
      "source": [
        "def eval_network(model, loader, loss_fn, batch_size, is_eval_bounded = True):\n",
        "  model.eval()\n",
        "  with t.no_grad():\n",
        "    metrics = np.zeros(3)\n",
        "    total_weight = 0\n",
        "    for x, y, single_valued_indexes, left_censored_indexes, right_censored_indexes in loader:\n",
        "      y_single_valued = y[single_valued_indexes]\n",
        "      y_left_censored = y[left_censored_indexes]\n",
        "      y_right_censored = y[right_censored_indexes]\n",
        "      y_tuple = y_single_valued, y_left_censored, y_right_censored\n",
        "      y_pred = model.forward(x)\n",
        "      y_pred_single_valued = y_pred[single_valued_indexes]\n",
        "      y_pred_left_censored = y_pred[left_censored_indexes]\n",
        "      y_pred_right_censored = y_pred[right_censored_indexes]\n",
        "      y_pred_tuple = y_pred_single_valued, y_pred_left_censored, y_pred_right_censored\n",
        "      loss = loss_fn(y_pred_tuple, y_tuple)\n",
        "      y_pred = y_pred / (loss_fn.gamma)\n",
        "      if is_eval_bounded:\n",
        "        y_pred = t.clamp(y_pred, min = bound_min, max = bound_max)\n",
        "      y_pred, y = to_numpy(y_pred), to_numpy(y)\n",
        "      weight = len(y) / batch_size\n",
        "      metrics[LOSS] += (loss.item() * weight)\n",
        "      metrics[ABS_ERR] += (sk.metrics.mean_absolute_error(y, y_pred) * weight)\n",
        "      metrics[R_SQUARED] += (adjusted_R2(y, y_pred) * weight)\n",
        "      total_weight += weight\n",
        "    metrics /= total_weight\n",
        "    return metrics"
      ],
      "execution_count": null,
      "outputs": []
    },
    {
      "cell_type": "code",
      "metadata": {
        "id": "H9_ebC0HraIU"
      },
      "source": [
        "def train_network(model, loss_fn, optimizer, scheduler, loader_train, loader_val, checkpoint_name, batch_size_train, batch_size_val, epochs, log = True):\n",
        "  metrics_train_per_epochs, metrics_test_per_epochs = [], []\n",
        "  best = [math.inf, math.inf, -math.inf]\n",
        "  try:\n",
        "    counter = 0\n",
        "    total_weight = 0\n",
        "    train_metrics = np.zeros(3)  \n",
        "    for epoch in range(epochs):    \n",
        "      try:\n",
        "        model.train()        \n",
        "        for x, y, single_valued_indexes, left_censored_indexes, right_censored_indexes in loader_train:\n",
        "          counter += 1\n",
        "          y_single_valued = y[single_valued_indexes]\n",
        "          y_left_censored = y[left_censored_indexes]\n",
        "          y_right_censored = y[right_censored_indexes]\n",
        "          y_tuple = y_single_valued, y_left_censored, y_right_censored\n",
        "          y_pred = model.forward(x)\n",
        "          y_pred_single_valued = y_pred[single_valued_indexes]\n",
        "          y_pred_left_censored = y_pred[left_censored_indexes]\n",
        "          y_pred_right_censored = y_pred[right_censored_indexes]\n",
        "          y_pred_tuple = y_pred_single_valued, y_pred_left_censored, y_pred_right_censored\n",
        "          loss = loss_fn(y_pred_tuple, y_tuple)\n",
        "          loss.backward()\n",
        "          optimizer.step()\n",
        "          optimizer.zero_grad()\n",
        "          y_pred = y_pred / (loss_fn.gamma)\n",
        "          y_pred = t.clamp(y_pred, min = bound_min, max = bound_max)\n",
        "          y_pred, y = to_numpy(y_pred), to_numpy(y)\n",
        "          weight = len(y) / batch_size_train\n",
        "          train_metrics[LOSS] += (loss.item() * weight)\n",
        "          train_metrics[ABS_ERR] += (sk.metrics.mean_absolute_error(y, y_pred) * weight)\n",
        "          train_metrics[R_SQUARED] += (adjusted_R2(y, y_pred) * weight)\n",
        "          total_weight += weight\n",
        "          scheduler.step()\n",
        "          if counter % CHECKPOINT_FREQUENCY == 0:\n",
        "            train_metrics /= total_weight  \n",
        "            metrics_train_per_epochs.append(train_metrics)\n",
        "            train_metrics = np.zeros(3)\n",
        "            total_weight = 0\n",
        "            test_metrics = eval_network(model, loader_val, loss_fn, batch_size_val)\n",
        "            metrics_test_per_epochs.append(test_metrics)\n",
        "            # if test_metrics[R_SQUARED] > best[R_SQUARED]:\n",
        "            if test_metrics[ABS_ERR] < best[ABS_ERR]:  \n",
        "            # if test_metrics[LOSS] < best[LOSS]: \n",
        "              best = test_metrics\n",
        "              checkpoint_dict = {'model': model.state_dict()}\n",
        "              checkpoint_dict['gamma'] = loss_fn.gamma\n",
        "              t.save(checkpoint_dict, '{}.tar'.format(checkpoint_name))\n",
        "            if log:\n",
        "              print('Iteration {} abs err {} R2 {}'.format(counter, test_metrics[ABS_ERR], test_metrics[R_SQUARED]))\n",
        "      except Exception as e:\n",
        "        print(e)\n",
        "        break\n",
        "    print('Best absolute error:', best[ABS_ERR], 'R2:', best[R_SQUARED])\n",
        "    return metrics_train_per_epochs, metrics_test_per_epochs, best\n",
        "  except KeyboardInterrupt as e:\n",
        "    print('Training interrupted at epoch', epoch)"
      ],
      "execution_count": null,
      "outputs": []
    },
    {
      "cell_type": "markdown",
      "metadata": {
        "id": "bvSeai3n2cdp"
      },
      "source": [
        "# Learning Rate Range Test Setup"
      ]
    },
    {
      "cell_type": "code",
      "metadata": {
        "id": "qOZN9k1hESSx"
      },
      "source": [
        "def lr_iterator_callback(batch_data):\n",
        "  x, y, single_valued_indexes, left_censored_indexes, right_censored_indexes = batch_data\n",
        "  x_single_valued, y_single_valued = x[single_valued_indexes], y[single_valued_indexes]\n",
        "  x_left_censored, y_left_censored = x[left_censored_indexes], y[left_censored_indexes]\n",
        "  x_right_censored, y_right_censored = x[right_censored_indexes], y[right_censored_indexes]\n",
        "      \n",
        "  # Duplicate records if group contains only one record, otherwise it will not work with the normalisation layers of the model. \n",
        "  # It does not make sense to normalize a group of one element, and if doing so will throw an error.\n",
        "  if len(x_single_valued) == 1:\n",
        "    x_single_valued = t.cat((x_single_valued, x_single_valued))\n",
        "    y_single_valued = t.cat((y_single_valued, y_single_valued))\n",
        "  if len(x_left_censored) == 1:\n",
        "    x_left_censored = t.cat((x_left_censored, x_left_censored))\n",
        "    y_left_censored = t.cat((y_left_censored, y_left_censored))\n",
        "  if len(x_right_censored) == 1:\n",
        "    x_right_censored = t.cat((x_right_censored, x_right_censored))\n",
        "    y_right_censored = t.cat((y_right_censored, y_right_censored))\n",
        "\n",
        "  x_tuple = x_single_valued, x_left_censored, x_right_censored\n",
        "  y_tuple = y_single_valued, y_left_censored, y_right_censored\n",
        "  return x_tuple, y_tuple\n",
        "\n",
        "class CustomTrainIter(TrainDataLoaderIter):\n",
        "    def inputs_labels_from_batch(self, batch_data):\n",
        "        return lr_iterator_callback(batch_data)\n",
        "\n",
        "class CustomValIter(ValDataLoaderIter):\n",
        "    def inputs_labels_from_batch(self, batch_data):\n",
        "        return lr_iterator_callback(batch_data)"
      ],
      "execution_count": null,
      "outputs": []
    },
    {
      "cell_type": "code",
      "metadata": {
        "id": "hlhj97nwa0o6"
      },
      "source": [
        "class TobitModelWrapper(t.nn.Module):\n",
        "\n",
        "  def __init__(self, model):\n",
        "    super().__init__()\n",
        "    self.model = model\n",
        "\n",
        "  def forward(self, x):\n",
        "    # must be a list of single valued, left censored and right censored data\n",
        "    assert len(x) == 3\n",
        "    result = []\n",
        "    for i in range(3):\n",
        "      if x[i] is not None and len(x[i]) > 0:\n",
        "        result.append(self.model.forward(x[i]))\n",
        "      else:\n",
        "        result.append(t.tensor([], dtype = t.float32, device = get_device()))\n",
        "    return result"
      ],
      "execution_count": null,
      "outputs": []
    },
    {
      "cell_type": "code",
      "metadata": {
        "id": "BaJdZUEiEb7X"
      },
      "source": [
        "def lr_range_test_CEnsored(model = None, batch_size = 128, epochs = 5, start_lr = 1e-8, end_lr = 10, device = 'cpu', log_view = False, plt_file_name = '', truncated_low = None, truncated_high = None):\n",
        "  if model == None:\n",
        "    model = DenseNetwork()\n",
        "  tobit_loader_train = t.utils.data.DataLoader(dataset_train, batch_size = batch_size, shuffle = True, num_workers = 0, collate_fn = censored_collate_fn)\n",
        "  tobit_loader_val = t.utils.data.DataLoader(dataset_val, batch_size = len(dataset_val), shuffle = False, num_workers = 0, collate_fn = censored_collate_fn)\n",
        "  custom_train_iter = CustomTrainIter(tobit_loader_train)\n",
        "  custom_val_iter = CustomValIter(tobit_loader_val)\n",
        "  model = TobitModelWrapper(model)\n",
        "  gamma = t.tensor(1., requires_grad = True)\n",
        "  loss_fn = Reparametrized_Scaled_Tobit_Loss(gamma, device, truncated_low = truncated_low, truncated_high = truncated_high)\n",
        "  params = [\n",
        "    {'params': model.parameters()},\n",
        "    {'params': gamma}\n",
        "  ]\n",
        "  optimizer = t.optim.SGD(params, lr = start_lr)\n",
        "  lr_finder = LRFinder(model, optimizer, loss_fn, device = device)\n",
        "  lr_finder.range_test(custom_train_iter, val_loader = custom_val_iter, end_lr = end_lr, num_iter = len(tobit_loader_val) * epochs, step_mode=\"linear\")\n",
        "  lr_range_test_plot = lr_finder.plot(skip_start=0, skip_end=0, log_lr = log_view)\n",
        "  lr_range_test_plot.figure.savefig('lr_range_test_{}.pdf'.format(plt_file_name), dpi = 300, format = 'pdf')\n",
        "  lr_finder.reset()"
      ],
      "execution_count": null,
      "outputs": []
    },
    {
      "cell_type": "markdown",
      "metadata": {
        "id": "uw214cctyA5t"
      },
      "source": [
        "# Grid Search Setup"
      ]
    },
    {
      "cell_type": "code",
      "metadata": {
        "id": "VCoFR-BjkyQ_"
      },
      "source": [
        "def grid_search(grid_config, train_callback, checkpoint_name, nb_iterations = 1, conf_validation = None):\n",
        "  configs = ParameterGrid(grid_config)\n",
        "  configs_len = len(configs)\n",
        "  counter = 0\n",
        "  checkpoint_file = checkpoint_name + '.tar'\n",
        "  grid_checkpoint_file = 'grid ' + checkpoint_file\n",
        "  try:\n",
        "    resume_grid_search = t.load(GRID_RESULTS_FILE)\n",
        "  except FileNotFoundError:\n",
        "    resume_grid_search = None\n",
        "\n",
        "  results = {}\n",
        "  best = [math.inf, math.inf, -math.inf]\n",
        "  if resume_grid_search is not None and 'best' in resume_grid_search:\n",
        "    best_conf = resume_grid_search['best']\n",
        "    print('Best previous configuration', best_conf)\n",
        "    best = resume_grid_search[str(best_conf)]\n",
        "    print(f'Best previous metrics abs err = {best[ABS_ERR]}, R2 = {best[R_SQUARED]}')\n",
        "    results = resume_grid_search\n",
        "\n",
        "  for conf in ParameterGrid(grid_config):\n",
        "    counter += 1\n",
        "    \n",
        "    if resume_grid_search is not None and str(conf) in resume_grid_search:\n",
        "        print('Allready evaluated configuration', conf)\n",
        "        continue\n",
        "\n",
        "    if not conf_validation(conf):\n",
        "      print('Skipping over configuration', conf)\n",
        "      results[str(conf)] = 'invalid'\n",
        "      continue\n",
        "    \n",
        "    print('-' * 5, 'grid search {}/{}'.format(counter, configs_len), '-' * 5)\n",
        "    print('Config:', conf)\n",
        "    \n",
        "    best_from_iterations = [math.inf, math.inf, -math.inf]\n",
        "    \n",
        "    for i in range(nb_iterations):\n",
        "      if nb_iterations != 1:\n",
        "        print('Iteration', i + 1)\n",
        "      metrics = train_callback(conf)\n",
        "      \n",
        "      # if metrics[R_SQUARED] > best[R_SQUARED]:\n",
        "      if metrics[ABS_ERR] < best[ABS_ERR]:  \n",
        "        best_from_iterations = metrics\n",
        "\n",
        "      # if metrics[R_SQUARED] > best[R_SQUARED]:\n",
        "      if metrics[ABS_ERR] < best[ABS_ERR] and not (math.isnan(metrics[LOSS] or math.isnan(metrics[ABS_ERR]) or math.isnan(metrics[R_SQUARED]))):  \n",
        "        best = metrics\n",
        "        results['best'] = conf\n",
        "        if os.path.exists(grid_checkpoint_file):\n",
        "          os.remove(grid_checkpoint_file)\n",
        "        os.rename(checkpoint_file, grid_checkpoint_file)  \n",
        "    else:\n",
        "      results[str(conf)] = best_from_iterations\n",
        "      t.save(results, GRID_RESULTS_FILE)\n",
        "    \n",
        "  return best"
      ],
      "execution_count": null,
      "outputs": []
    },
    {
      "cell_type": "code",
      "metadata": {
        "id": "ne5cZSv4Habn"
      },
      "source": [
        "def train_and_evaluate_CEnsored(checkpoint, model_fn = DenseNetwork, plot = False, log = True, device = 'cpu', truncated_low = None, truncated_high = None):\n",
        "  def grid_callback(conf):\n",
        "    model = model_fn()\n",
        "    loader_train = t.utils.data.DataLoader(dataset_train, batch_size = conf['batch'], shuffle = True, num_workers = 0, collate_fn = censored_collate_fn)\n",
        "    loader_val = t.utils.data.DataLoader(dataset_val, batch_size = len(dataset_val), shuffle = False, num_workers = 0, collate_fn = censored_collate_fn)\n",
        "    gamma = t.tensor(1., requires_grad = True)\n",
        "    loss_fn = Reparametrized_Scaled_Tobit_Loss(gamma, device, truncated_low = truncated_low, truncated_high = truncated_high)\n",
        "    params = [\n",
        "      {'params': model.parameters()},\n",
        "      {'params': gamma}\n",
        "    ]\n",
        "    optimizer = t.optim.SGD(params, lr = conf['max_lr'] / conf['div_factor'], momentum = conf['max_momentum'], weight_decay = conf['weight_decay'])\n",
        "    scheduler = t.optim.lr_scheduler.OneCycleLR(\n",
        "      optimizer, \n",
        "      max_lr = conf['max_lr'], \n",
        "      steps_per_epoch = len(loader_train), \n",
        "      epochs = conf['epochs'],\n",
        "      pct_start = conf['pct_start'],\n",
        "      anneal_strategy = conf['anneal_strategy'],\n",
        "      base_momentum = conf['base_momentum'],\n",
        "      max_momentum = conf['max_momentum'],\n",
        "      div_factor = conf['div_factor'],\n",
        "      final_div_factor = conf['final_div_factor']\n",
        "    )\n",
        "    train_metrics, val_metrics, best = train_network(\n",
        "        model, loss_fn, optimizer, scheduler, loader_train, loader_val, checkpoint, conf['batch'], len(dataset_val), conf['epochs'], log = log)\n",
        "    if plot:\n",
        "      plot_epochs(train_metrics, val_metrics)\n",
        "    return best\n",
        "  return grid_callback"
      ],
      "execution_count": null,
      "outputs": []
    },
    {
      "cell_type": "code",
      "metadata": {
        "id": "xMFl7-RVzKq1"
      },
      "source": [
        "def config_validation(conf):\n",
        "  return conf['div_factor'] <= conf['final_div_factor'] and conf['max_momentum'] >= conf['base_momentum']"
      ],
      "execution_count": null,
      "outputs": []
    },
    {
      "cell_type": "markdown",
      "metadata": {
        "id": "uNEONLmCeB3v"
      },
      "source": [
        "# Plot Selected(With Grid) Model"
      ]
    },
    {
      "cell_type": "code",
      "metadata": {
        "id": "zQODjvFmA_TU"
      },
      "source": [
        "def plot_and_evaluate_CEnsored(checkpoint_name, isGrid = True, model_fn = DenseNetwork, truncated_low = None, truncated_high = None):\n",
        "  model = model_fn()\n",
        "  checkpoint = t.load(('grid ' if isGrid else '') + checkpoint_name + '.tar')\n",
        "  model.load_state_dict(checkpoint['model'])\n",
        "  plot_beta(label = 'true distribution')\n",
        "  plot_dataset(dataset_val, size = .3, label = 'validation data')\n",
        "  plot_net(model, gamma = checkpoint['gamma'])\n",
        "  plt.xlabel('input (standardized)')\n",
        "  plt.ylabel('outcome (standardized)')\n",
        "  plt.ylim((-2.5, 2.5))\n",
        "  lgnd = plt.legend()\n",
        "  lgnd.legendHandles[0]._sizes = [10]\n",
        "  lgnd.legendHandles[1]._sizes = [10]\n",
        "  lgnd.legendHandles[2]._sizes = [10]\n",
        "  plt.savefig('{}.pdf'.format(checkpoint_name), dpi = 300, format = 'pdf')\n",
        "  plt.savefig('{}.svg'.format(checkpoint_name), dpi = 300, format = 'svg')\n",
        "  plt.savefig('{}.png'.format(checkpoint_name), dpi = 200, format = 'png')\n",
        "  plt.show()\n",
        "\n",
        "  plot_beta(label = 'true distribution')\n",
        "  plot_dataset(dataset_val, size = .3, label = 'validation data')\n",
        "  plot_net(model, gamma = checkpoint['gamma'], with_std = True)\n",
        "  plt.xlabel('input (standardized)')\n",
        "  plt.ylabel('outcome (standardized)')\n",
        "  plt.ylim((-2.5, 2.5))\n",
        "  lgnd = plt.legend()\n",
        "  lgnd.legendHandles[0]._sizes = [10]\n",
        "  lgnd.legendHandles[1]._sizes = [10]\n",
        "  lgnd.legendHandles[2]._sizes = [10]\n",
        "  plt.savefig('{}-with-std.pdf'.format(checkpoint_name), dpi = 300, format = 'pdf')\n",
        "  plt.savefig('{}-with-std.svg'.format(checkpoint_name), dpi = 300, format = 'svg')\n",
        "  plt.savefig('{}-with-std.png'.format(checkpoint_name), dpi = 200, format = 'png')\n",
        "  plt.show()\n",
        "\n",
        "  loss_fn = Reparametrized_Scaled_Tobit_Loss(checkpoint['gamma'], 'cpu', truncated_low = truncated_low, truncated_high = truncated_high)\n",
        "\n",
        "  loader_val = t.utils.data.DataLoader(dataset_val, batch_size = len(dataset_val), shuffle = False, num_workers = 0, collate_fn = censored_collate_fn)\n",
        "  val_metrics = eval_network(model, loader_val, loss_fn, len(dataset_val))\n",
        "  print('Absolute error - validation', val_metrics[ABS_ERR])\n",
        "  print('R2 - validation', val_metrics[R_SQUARED])\n",
        "\n",
        "  loader_test = t.utils.data.DataLoader(dataset_test, batch_size = len(dataset_test), shuffle = False, num_workers = 0, collate_fn = uncensored_collate_fn)\n",
        "  test_metrics = eval_network(model, loader_test, loss_fn, len(dataset_test), is_eval_bounded = False)\n",
        "  print('Absolute error - test', test_metrics[ABS_ERR])\n",
        "  print('R2 - test', test_metrics[R_SQUARED])"
      ],
      "execution_count": null,
      "outputs": []
    },
    {
      "cell_type": "markdown",
      "metadata": {
        "id": "DpBVq2yam9OQ"
      },
      "source": [
        "# Common Tobit Setup"
      ]
    },
    {
      "cell_type": "code",
      "metadata": {
        "id": "_NcTGWKk8MbW"
      },
      "source": [
        "censored_collate_fn = distinguish_censored_versus_observed_data(bound_min, bound_max)\n",
        "uncensored_collate_fn = distinguish_censored_versus_observed_data(-math.inf, math.inf)"
      ],
      "execution_count": null,
      "outputs": []
    },
    {
      "cell_type": "code",
      "metadata": {
        "id": "WoXcVqPnSH0E"
      },
      "source": [
        "def plot_tobit_loader(loader):\n",
        "  x_list, y_list = [], []\n",
        "  for x, y, single_valued_indexes, left_censored_indexes, right_censored_indexes in loader:\n",
        "      for k in range(len(x)):\n",
        "        x_list.append(to_numpy(x[k]))\n",
        "        y_list.append(y[k].item())\n",
        "  plt.scatter(x_list, y_list, s = .01)\n",
        "  plt.show()"
      ],
      "execution_count": null,
      "outputs": []
    },
    {
      "cell_type": "code",
      "metadata": {
        "id": "f3EaZLwYQk9y"
      },
      "source": [
        "tobit_loader_train = t.utils.data.DataLoader(dataset_train, batch_size = 100, shuffle = True, num_workers = 0, collate_fn = censored_collate_fn)\n",
        "tobit_loader_val = t.utils.data.DataLoader(dataset_val, batch_size = len(dataset_val), shuffle = False, num_workers = 0, collate_fn = censored_collate_fn)\n",
        "tobit_loader_test = t.utils.data.DataLoader(dataset_test, batch_size = len(dataset_test), shuffle = False, num_workers = 0, collate_fn = uncensored_collate_fn)"
      ],
      "execution_count": null,
      "outputs": []
    },
    {
      "cell_type": "code",
      "metadata": {
        "id": "5GDZ2rN9SX5g"
      },
      "source": [
        "# plot_tobit_loader(tobit_loader_train)\n",
        "# plot_tobit_loader(tobit_loader_val)\n",
        "# plot_tobit_loader(tobit_loader_test)"
      ],
      "execution_count": null,
      "outputs": []
    },
    {
      "cell_type": "markdown",
      "metadata": {
        "id": "3XEy3G3_FgQe"
      },
      "source": [
        "# Reparametrized Deep Tobit"
      ]
    },
    {
      "cell_type": "markdown",
      "metadata": {
        "id": "2z-GIF1Tmhsn"
      },
      "source": [
        "## Learning Rate Range Test"
      ]
    },
    {
      "cell_type": "code",
      "metadata": {
        "id": "mv3DusxdO5wX"
      },
      "source": [
        "# lr_range_test_CEnsored(model = DenseNetwork(), batch_size = 100, epochs = 10, start_lr = 1e-4, end_lr = 1e-3, log_view = False, device = 'cpu', plt_file_name = 'deep_tobit')"
      ],
      "execution_count": null,
      "outputs": []
    },
    {
      "cell_type": "markdown",
      "metadata": {
        "id": "64m45RoD4GC6"
      },
      "source": [
        "## Grid Search"
      ]
    },
    {
      "cell_type": "code",
      "metadata": {
        "id": "DVJI0U_AyOr-"
      },
      "source": [
        "train_and_evaluate_net = train_and_evaluate_CEnsored(CHECKPOINT_DEEP_TOBIT_REPARAMETRIZED, model_fn = DenseNetwork, plot = False, log = False)"
      ],
      "execution_count": null,
      "outputs": []
    },
    {
      "cell_type": "code",
      "metadata": {
        "id": "J03sqm5VxqlY"
      },
      "source": [
        "# conf = {\n",
        "#     'max_lr': 2e-4,\n",
        "#     'epochs': 10,\n",
        "#     'batch': 100,\n",
        "#     'pct_start': 0.3,\n",
        "#     'anneal_strategy': 'linear',\n",
        "#     'base_momentum': 0.85,\n",
        "#     'max_momentum': 0.95,\n",
        "#     'div_factor': 4,\n",
        "#     'final_div_factor': 1e4,\n",
        "#     'weight_decay': 0\n",
        "# }\n",
        "# train_and_evaluate_net(conf)"
      ],
      "execution_count": null,
      "outputs": []
    },
    {
      "cell_type": "code",
      "metadata": {
        "id": "yaA0fend1pnR"
      },
      "source": [
        "# grid_config = [{\n",
        "#     'max_lr': [1e-5, 5e-5, 1e-4, 5e-4, 1e-3, 5e-3],\n",
        "#     'epochs': [10, 20],\n",
        "#     'batch': [100, 200],\n",
        "#     'pct_start': [0.45],\n",
        "#     'anneal_strategy': ['linear'],\n",
        "#     'base_momentum': [0.85],\n",
        "#     'max_momentum': [0.95],\n",
        "#     'div_factor': [10, 5, 2],\n",
        "#     'final_div_factor': [1e4],\n",
        "#     'weight_decay': [0]\n",
        "# }]\n",
        "# grid_best = grid_search(grid_config, train_and_evaluate_net, CHECKPOINT_DEEP_TOBIT_REPARAMETRIZED, conf_validation = config_validation)\n",
        "# print(grid_best)"
      ],
      "execution_count": null,
      "outputs": []
    },
    {
      "cell_type": "code",
      "metadata": {
        "id": "Rgtzmp4DyPDO"
      },
      "source": [
        "# plot_and_evaluate_CEnsored(CHECKPOINT_DEEP_TOBIT_REPARAMETRIZED, model_fn = DenseNetwork, isGrid = False)\n",
        "# plot_and_evaluate_CEnsored(CHECKPOINT_DEEP_TOBIT_REPARAMETRIZED, model_fn = DenseNetwork, isGrid = True)"
      ],
      "execution_count": null,
      "outputs": []
    },
    {
      "cell_type": "code",
      "metadata": {
        "id": "Zp74deYr2dvA"
      },
      "source": [
        "# grid_results = t.load(GRID_RESULTS_FILE)\n",
        "# best_config = grid_results['best']\n",
        "# best_metrics = grid_results[str(best_config)]\n",
        "# print(best_config)\n",
        "# print(best_metrics)"
      ],
      "execution_count": null,
      "outputs": []
    },
    {
      "cell_type": "markdown",
      "metadata": {
        "id": "WqjahEPSms8K"
      },
      "source": [
        "# Reparametrized Deep Tobit With Truncation"
      ]
    },
    {
      "cell_type": "markdown",
      "metadata": {
        "id": "9KE0CmK0rzfA"
      },
      "source": [
        "## Learning Rate Range Test"
      ]
    },
    {
      "cell_type": "code",
      "metadata": {
        "id": "5j-ID4OUr3Q-"
      },
      "source": [
        "# lr_range_test_CEnsored(model = DenseNetwork(), batch_size = 100, epochs = 10, start_lr = 1e-4, end_lr = 1e-3, log_view = False, device = 'cpu', plt_file_name = 'deep_tobit_truncated', truncated_low = zero_normalized)"
      ],
      "execution_count": null,
      "outputs": []
    },
    {
      "cell_type": "markdown",
      "metadata": {
        "id": "ZzMeqCIte3Ij"
      },
      "source": [
        "## Grid Search"
      ]
    },
    {
      "cell_type": "code",
      "metadata": {
        "id": "0ANlHLwfe6ly"
      },
      "source": [
        "train_and_evaluate_net = train_and_evaluate_CEnsored(CHECKPOINT_DEEP_TOBIT_REPARAMETRIZED_TRUNCATED, model_fn = DenseNetwork, plot = False, log = False, truncated_low = zero_normalized)"
      ],
      "execution_count": null,
      "outputs": []
    },
    {
      "cell_type": "code",
      "metadata": {
        "id": "hrcRbirFfHBE"
      },
      "source": [
        "# conf = {\n",
        "#     'max_lr': 2e-4,\n",
        "#     'epochs': 10,\n",
        "#     'batch': 100,\n",
        "#     'pct_start': 0.3,\n",
        "#     'anneal_strategy': 'linear',\n",
        "#     'base_momentum': 0.85,\n",
        "#     'max_momentum': 0.95,\n",
        "#     'div_factor': 4,\n",
        "#     'final_div_factor': 1e4,\n",
        "#     'weight_decay': 0\n",
        "# }\n",
        "# train_and_evaluate_net(conf)"
      ],
      "execution_count": null,
      "outputs": []
    },
    {
      "cell_type": "code",
      "metadata": {
        "id": "SncWUDYSfadZ"
      },
      "source": [
        "# grid_config = [{\n",
        "#     'max_lr': [1e-5, 5e-5, 1e-4, 5e-4, 1e-3, 5e-3],\n",
        "#     'epochs': [10, 20],\n",
        "#     'batch': [100, 200],\n",
        "#     'pct_start': [0.45],\n",
        "#     'anneal_strategy': ['linear'],\n",
        "#     'base_momentum': [0.85],\n",
        "#     'max_momentum': [0.95],\n",
        "#     'div_factor': [10, 5, 2],\n",
        "#     'final_div_factor': [1e4],\n",
        "#     'weight_decay': [0]\n",
        "# }]\n",
        "# grid_best = grid_search(grid_config, train_and_evaluate_net, CHECKPOINT_DEEP_TOBIT_REPARAMETRIZED_TRUNCATED, conf_validation = config_validation)\n",
        "# print(grid_best)"
      ],
      "execution_count": null,
      "outputs": []
    },
    {
      "cell_type": "code",
      "metadata": {
        "id": "cFJPhmq1faoa"
      },
      "source": [
        "# plot_and_evaluate_CEnsored(CHECKPOINT_DEEP_TOBIT_REPARAMETRIZED_TRUNCATED, model_fn = DenseNetwork, isGrid = False)\n",
        "# plot_and_evaluate_CEnsored(CHECKPOINT_DEEP_TOBIT_REPARAMETRIZED_TRUNCATED, model_fn = DenseNetwork, isGrid = True)"
      ],
      "execution_count": null,
      "outputs": []
    },
    {
      "cell_type": "code",
      "metadata": {
        "id": "l1lboDrF46xq"
      },
      "source": [
        "# grid_results = t.load(GRID_RESULTS_FILE)\n",
        "# best_config = grid_results['best']\n",
        "# best_metrics = grid_results[str(best_config)]\n",
        "# print(best_config)\n",
        "# print(best_metrics)"
      ],
      "execution_count": null,
      "outputs": []
    },
    {
      "cell_type": "markdown",
      "metadata": {
        "id": "-9oonGlQuCku"
      },
      "source": [
        "# Reparametrized Linear Tobit"
      ]
    },
    {
      "cell_type": "markdown",
      "metadata": {
        "id": "R0U_I6RVyYiW"
      },
      "source": [
        "## Learning Rate Range Test"
      ]
    },
    {
      "cell_type": "code",
      "metadata": {
        "id": "QYu8jKrIuSA7"
      },
      "source": [
        "# lr_range_test_CEnsored(model = t.nn.Linear(1, 1), batch_size = 100, epochs = 3, start_lr = 1e-3, end_lr = 1e-2, log_view = False, device = 'cpu', plt_file_name = 'linear_tobit')"
      ],
      "execution_count": null,
      "outputs": []
    },
    {
      "cell_type": "markdown",
      "metadata": {
        "id": "MX8Bqhmoy-s4"
      },
      "source": [
        "## Grid Search"
      ]
    },
    {
      "cell_type": "code",
      "metadata": {
        "id": "JY7y2ZLozBfA"
      },
      "source": [
        "train_and_evaluate_net = train_and_evaluate_CEnsored(CHECKPOINT_LINEAR_TOBIT_REPARAMETRIZED, model_fn = lambda: t.nn.Linear(1, 1), plot = False, log = False)"
      ],
      "execution_count": null,
      "outputs": []
    },
    {
      "cell_type": "code",
      "metadata": {
        "id": "2oZ3u05QzwU4"
      },
      "source": [
        "# conf = {\n",
        "#     'max_lr': 5e-3,\n",
        "#     'epochs': 10,\n",
        "#     'batch': 100,\n",
        "#     'pct_start': 0.3,\n",
        "#     'anneal_strategy': 'linear',\n",
        "#     'base_momentum': 0.85,\n",
        "#     'max_momentum': 0.95,\n",
        "#     'div_factor': 5,\n",
        "#     'final_div_factor': 1e4,\n",
        "#     'weight_decay': 0\n",
        "# }\n",
        "# train_and_evaluate_net(conf)"
      ],
      "execution_count": null,
      "outputs": []
    },
    {
      "cell_type": "code",
      "metadata": {
        "id": "W6KbFlLAzvqX"
      },
      "source": [
        "# grid_config = [{\n",
        "#     'max_lr': [1e-5, 5e-5, 1e-4, 5e-4, 1e-3, 5e-3],\n",
        "#     'epochs': [10, 20],\n",
        "#     'batch': [100, 200],\n",
        "#     'pct_start': [0.45],\n",
        "#     'anneal_strategy': ['linear'],\n",
        "#     'base_momentum': [0.85],\n",
        "#     'max_momentum': [0.95],\n",
        "#     'div_factor': [10, 5, 2],\n",
        "#     'final_div_factor': [1e4],\n",
        "#     'weight_decay': [0]\n",
        "# }]\n",
        "# grid_best = grid_search(grid_config, train_and_evaluate_net, CHECKPOINT_LINEAR_TOBIT_REPARAMETRIZED, conf_validation = config_validation)\n",
        "# print(grid_best)"
      ],
      "execution_count": null,
      "outputs": []
    },
    {
      "cell_type": "code",
      "metadata": {
        "id": "y7Lo_7aO0pG3",
        "colab": {
          "base_uri": "https://localhost:8080/",
          "height": 610
        },
        "outputId": "91960668-d5de-40da-ebaf-c7131a5729fd"
      },
      "source": [
        "# plot_and_evaluate_CEnsored(CHECKPOINT_LINEAR_TOBIT_REPARAMETRIZED, model_fn = lambda: t.nn.Linear(1, 1), isGrid = False)\n",
        "plot_and_evaluate_CEnsored(CHECKPOINT_LINEAR_TOBIT_REPARAMETRIZED, model_fn = lambda: t.nn.Linear(1, 1), isGrid = True)"
      ],
      "execution_count": null,
      "outputs": [
        {
          "output_type": "display_data",
          "data": {
            "text/plain": [
              "<Figure size 432x288 with 1 Axes>"
            ],
            "image/png": "[encoded data removed]"
          },
          "metadata": {
            "needs_background": "light"
          }
        },
        {
          "output_type": "display_data",
          "data": {
            "text/plain": [
              "<Figure size 432x288 with 1 Axes>"
            ],
            "image/png": "[encoded data removed]"
          },
          "metadata": {
            "needs_background": "light"
          }
        },
        {
          "output_type": "stream",
          "name": "stdout",
          "text": [
            "Absolute error - validation 0.30477410554885864\n",
            "R2 - validation 0.6460447704188645\n",
            "Absolute error - test 1.1414686441421509\n",
            "R2 - test -0.5271821502139613\n"
          ]
        }
      ]
    },
    {
      "cell_type": "code",
      "metadata": {
        "id": "lCLoSnRJEdsX"
      },
      "source": [
        "# grid_results = t.load(GRID_RESULTS_FILE)\n",
        "# best_config = grid_results['best']\n",
        "# best_metrics = grid_results[str(best_config)]\n",
        "# print(best_config)\n",
        "# print(best_metrics)"
      ],
      "execution_count": null,
      "outputs": []
    },
    {
      "cell_type": "markdown",
      "metadata": {
        "id": "zAPa-0CZhW09"
      },
      "source": [
        "# Reparametrized Linear Tobit With Truncation"
      ]
    },
    {
      "cell_type": "markdown",
      "metadata": {
        "id": "SLPazuKthkvh"
      },
      "source": [
        "## Learning Rate Range Test"
      ]
    },
    {
      "cell_type": "code",
      "metadata": {
        "id": "N6f1o63ahoGZ"
      },
      "source": [
        "# lr_range_test_CEnsored(model = t.nn.Linear(1, 1), batch_size = 100, epochs = 3, start_lr = 1e-3, end_lr = 1e-2, log_view = False, device = 'cpu', plt_file_name = 'linear_tobit_truncated', truncated_low = zero_normalized)"
      ],
      "execution_count": null,
      "outputs": []
    },
    {
      "cell_type": "markdown",
      "metadata": {
        "id": "b_Oq85GDhnCM"
      },
      "source": [
        "## Grid Search"
      ]
    },
    {
      "cell_type": "code",
      "metadata": {
        "id": "OGjGRsJVgmqy"
      },
      "source": [
        "train_and_evaluate_net = train_and_evaluate_CEnsored(CHECKPOINT_LINEAR_TRUNCATED_TOBIT_REPARAMETRIZED, model_fn = lambda: t.nn.Linear(1, 1), plot = False, log = False, truncated_low = zero_normalized)"
      ],
      "execution_count": null,
      "outputs": []
    },
    {
      "cell_type": "code",
      "metadata": {
        "id": "4xPyqkTkhokn"
      },
      "source": [
        "# conf = {\n",
        "#     'max_lr': 5e-3,\n",
        "#     'epochs': 10,\n",
        "#     'batch': 100,\n",
        "#     'pct_start': 0.3,\n",
        "#     'anneal_strategy': 'linear',\n",
        "#     'base_momentum': 0.85,\n",
        "#     'max_momentum': 0.95,\n",
        "#     'div_factor': 5,\n",
        "#     'final_div_factor': 1e4,\n",
        "#     'weight_decay': 0\n",
        "# }\n",
        "# train_and_evaluate_net(conf)"
      ],
      "execution_count": null,
      "outputs": []
    },
    {
      "cell_type": "code",
      "metadata": {
        "id": "iDNVQskGhotf"
      },
      "source": [
        "# grid_config = [{\n",
        "#     'max_lr': [1e-5, 5e-5, 1e-4, 5e-4, 1e-3, 5e-3],\n",
        "#     'epochs': [10, 20],\n",
        "#     'batch': [100, 200],\n",
        "#     'pct_start': [0.45],\n",
        "#     'anneal_strategy': ['linear'],\n",
        "#     'base_momentum': [0.85],\n",
        "#     'max_momentum': [0.95],\n",
        "#     'div_factor': [10, 5, 2],\n",
        "#     'final_div_factor': [1e4],\n",
        "#     'weight_decay': [0]\n",
        "# }]\n",
        "# grid_best = grid_search(grid_config, train_and_evaluate_net, CHECKPOINT_LINEAR_TRUNCATED_TOBIT_REPARAMETRIZED, conf_validation = config_validation)\n",
        "# print(grid_best)"
      ],
      "execution_count": null,
      "outputs": []
    },
    {
      "cell_type": "code",
      "metadata": {
        "id": "gf51i9RKioql"
      },
      "source": [
        "# plot_and_evaluate_CEnsored(CHECKPOINT_LINEAR_TRUNCATED_TOBIT_REPARAMETRIZED, model_fn = lambda: t.nn.Linear(1, 1), isGrid = False)\n",
        "# plot_and_evaluate_CEnsored(CHECKPOINT_LINEAR_TRUNCATED_TOBIT_REPARAMETRIZED, model_fn = lambda: t.nn.Linear(1, 1), isGrid = True)"
      ],
      "execution_count": null,
      "outputs": []
    },
    {
      "cell_type": "code",
      "metadata": {
        "id": "WnLHSANIQ6Wj"
      },
      "source": [
        "# grid_results = t.load(GRID_RESULTS_FILE)\n",
        "# best_config = grid_results['best']\n",
        "# best_metrics = grid_results[str(best_config)]\n",
        "# print(best_config)\n",
        "# print(best_metrics)"
      ],
      "execution_count": null,
      "outputs": []
    }
  ]
}