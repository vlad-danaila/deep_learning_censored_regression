{
  "nbformat": 4,
  "nbformat_minor": 0,
  "metadata": {
    "colab": {
      "name": "Reparametrized Tobit Loss Dynamic Std - Synthetic Const Noise Data.ipynb",
      "provenance": [],
      "collapsed_sections": [],
      "toc_visible": true
    },
    "kernelspec": {
      "display_name": "Python 3",
      "name": "python3"
    },
    "accelerator": "GPU",
    "gpuClass": "standard"
  },
  "cells": [
    {
      "cell_type": "markdown",
      "metadata": {
        "id": "btSh7YlEbkiV"
      },
      "source": [
        "# General Setup"
      ]
    },
    {
      "cell_type": "code",
      "metadata": {
        "colab": {
          "base_uri": "https://localhost:8080/"
        },
        "id": "qFfU7l-Ebqea",
        "outputId": "7c3bd53b-3f00-4c0f-a2ca-83638155a940"
      },
      "source": [
        "!pip install 'torch-lr-finder==0.2.0'\n",
        "!rm -vrf '/content/tobit_loss'\n",
        "!git clone https://github.com/vlad-danaila/tobit_loss.git"
      ],
      "execution_count": null,
      "outputs": [
        {
          "output_type": "stream",
          "name": "stdout",
          "text": [
            "Looking in indexes: https://pypi.org/simple, https://us-python.pkg.dev/colab-wheels/public/simple/\n",
            "Requirement already satisfied: torch-lr-finder==0.2.0 in /usr/local/lib/python3.7/dist-packages (0.2.0)\n",
            "Requirement already satisfied: torch>=0.4.1 in /usr/local/lib/python3.7/dist-packages (from torch-lr-finder==0.2.0) (1.12.0+cu113)\n",
            "Requirement already satisfied: packaging in /usr/local/lib/python3.7/dist-packages (from torch-lr-finder==0.2.0) (21.3)\n",
            "Requirement already satisfied: matplotlib in /usr/local/lib/python3.7/dist-packages (from torch-lr-finder==0.2.0) (3.2.2)\n",
            "Requirement already satisfied: tqdm in /usr/local/lib/python3.7/dist-packages (from torch-lr-finder==0.2.0) (4.64.0)\n",
            "Requirement already satisfied: numpy in /usr/local/lib/python3.7/dist-packages (from torch-lr-finder==0.2.0) (1.21.6)\n",
            "Requirement already satisfied: typing-extensions in /usr/local/lib/python3.7/dist-packages (from torch>=0.4.1->torch-lr-finder==0.2.0) (4.1.1)\n",
            "Requirement already satisfied: kiwisolver>=1.0.1 in /usr/local/lib/python3.7/dist-packages (from matplotlib->torch-lr-finder==0.2.0) (1.4.4)\n",
            "Requirement already satisfied: cycler>=0.10 in /usr/local/lib/python3.7/dist-packages (from matplotlib->torch-lr-finder==0.2.0) (0.11.0)\n",
            "Requirement already satisfied: pyparsing!=2.0.4,!=2.1.2,!=2.1.6,>=2.0.1 in /usr/local/lib/python3.7/dist-packages (from matplotlib->torch-lr-finder==0.2.0) (3.0.9)\n",
            "Requirement already satisfied: python-dateutil>=2.1 in /usr/local/lib/python3.7/dist-packages (from matplotlib->torch-lr-finder==0.2.0) (2.8.2)\n",
            "Requirement already satisfied: six>=1.5 in /usr/local/lib/python3.7/dist-packages (from python-dateutil>=2.1->matplotlib->torch-lr-finder==0.2.0) (1.15.0)\n",
            "removed '/content/tobit_loss/.gitignore'\n",
            "removed '/content/tobit_loss/censored_mae_mse/__init__.py'\n",
            "removed '/content/tobit_loss/censored_mae_mse/test/__init__.py'\n",
            "removed '/content/tobit_loss/censored_mae_mse/test/censored_mae_with_truncation_clamp_all_test.py'\n",
            "removed '/content/tobit_loss/censored_mae_mse/test/censored_mae_with_truncation_clamp_censored_test.py'\n",
            "removed '/content/tobit_loss/censored_mae_mse/test/censored_mse_with_truncation_clamp_censored_test.py'\n",
            "removed '/content/tobit_loss/censored_mae_mse/test/censored_mse_with_truncation_clamp_all_test.py'\n",
            "removed directory '/content/tobit_loss/censored_mae_mse/test'\n",
            "removed '/content/tobit_loss/censored_mae_mse/loss.py'\n",
            "removed directory '/content/tobit_loss/censored_mae_mse'\n",
            "removed '/content/tobit_loss/.git/info/exclude'\n",
            "removed directory '/content/tobit_loss/.git/info'\n",
            "removed '/content/tobit_loss/.git/hooks/update.sample'\n",
            "removed '/content/tobit_loss/.git/hooks/pre-rebase.sample'\n",
            "removed '/content/tobit_loss/.git/hooks/applypatch-msg.sample'\n",
            "removed '/content/tobit_loss/.git/hooks/commit-msg.sample'\n",
            "removed '/content/tobit_loss/.git/hooks/pre-push.sample'\n",
            "removed '/content/tobit_loss/.git/hooks/pre-applypatch.sample'\n",
            "removed '/content/tobit_loss/.git/hooks/fsmonitor-watchman.sample'\n",
            "removed '/content/tobit_loss/.git/hooks/prepare-commit-msg.sample'\n",
            "removed '/content/tobit_loss/.git/hooks/pre-commit.sample'\n",
            "removed '/content/tobit_loss/.git/hooks/pre-receive.sample'\n",
            "removed '/content/tobit_loss/.git/hooks/post-update.sample'\n",
            "removed directory '/content/tobit_loss/.git/hooks'\n",
            "removed '/content/tobit_loss/.git/config'\n",
            "removed '/content/tobit_loss/.git/logs/refs/heads/master'\n",
            "removed directory '/content/tobit_loss/.git/logs/refs/heads'\n",
            "removed '/content/tobit_loss/.git/logs/refs/remotes/origin/HEAD'\n",
            "removed directory '/content/tobit_loss/.git/logs/refs/remotes/origin'\n",
            "removed directory '/content/tobit_loss/.git/logs/refs/remotes'\n",
            "removed directory '/content/tobit_loss/.git/logs/refs'\n",
            "removed '/content/tobit_loss/.git/logs/HEAD'\n",
            "removed directory '/content/tobit_loss/.git/logs'\n",
            "removed directory '/content/tobit_loss/.git/branches'\n",
            "removed '/content/tobit_loss/.git/index'\n",
            "removed '/content/tobit_loss/.git/description'\n",
            "removed '/content/tobit_loss/.git/refs/heads/master'\n",
            "removed directory '/content/tobit_loss/.git/refs/heads'\n",
            "removed directory '/content/tobit_loss/.git/refs/tags'\n",
            "removed '/content/tobit_loss/.git/refs/remotes/origin/HEAD'\n",
            "removed directory '/content/tobit_loss/.git/refs/remotes/origin'\n",
            "removed directory '/content/tobit_loss/.git/refs/remotes'\n",
            "removed directory '/content/tobit_loss/.git/refs'\n",
            "removed '/content/tobit_loss/.git/HEAD'\n",
            "removed '/content/tobit_loss/.git/packed-refs'\n",
            "removed '/content/tobit_loss/.git/objects/pack/pack-86e22ac3610fcb09dab37f6134ba19a39e412909.idx'\n",
            "removed '/content/tobit_loss/.git/objects/pack/pack-86e22ac3610fcb09dab37f6134ba19a39e412909.pack'\n",
            "removed directory '/content/tobit_loss/.git/objects/pack'\n",
            "removed directory '/content/tobit_loss/.git/objects/info'\n",
            "removed directory '/content/tobit_loss/.git/objects'\n",
            "removed directory '/content/tobit_loss/.git'\n",
            "removed '/content/tobit_loss/README.md'\n",
            "removed '/content/tobit_loss/deep_tobit/examples/__init__.py'\n",
            "removed directory '/content/tobit_loss/deep_tobit/examples'\n",
            "removed '/content/tobit_loss/deep_tobit/__init__.py'\n",
            "removed '/content/tobit_loss/deep_tobit/normal_cumulative_distribution_function.py'\n",
            "removed '/content/tobit_loss/deep_tobit/test/normal_cumulative_distribution_function_test.py'\n",
            "removed '/content/tobit_loss/deep_tobit/test/normal_cumulative_distribution_function_GPU_test.ipynb'\n",
            "removed '/content/tobit_loss/deep_tobit/test/__init__.py'\n",
            "removed '/content/tobit_loss/deep_tobit/test/unscaled_tobit_loss_mean_std_test.py'\n",
            "removed '/content/tobit_loss/deep_tobit/test/reparametrized_scaled_tobit_loss_mean_std_test.py'\n",
            "removed '/content/tobit_loss/deep_tobit/test/scaled_tobit_loss_mean_std_test.py'\n",
            "removed directory '/content/tobit_loss/deep_tobit/test'\n",
            "removed '/content/tobit_loss/deep_tobit/loss.py'\n",
            "removed '/content/tobit_loss/deep_tobit/__pycache__/normal_cumulative_distribution_function.cpython-37.pyc'\n",
            "removed '/content/tobit_loss/deep_tobit/__pycache__/util.cpython-37.pyc'\n",
            "removed '/content/tobit_loss/deep_tobit/__pycache__/loss.cpython-37.pyc'\n",
            "removed '/content/tobit_loss/deep_tobit/__pycache__/__init__.cpython-37.pyc'\n",
            "removed directory '/content/tobit_loss/deep_tobit/__pycache__'\n",
            "removed '/content/tobit_loss/deep_tobit/util.py'\n",
            "removed directory '/content/tobit_loss/deep_tobit'\n",
            "removed '/content/tobit_loss/LICENSE'\n",
            "removed '/content/tobit_loss/experiments/__init__.py'\n",
            "removed '/content/tobit_loss/experiments/synthetic/plot.py'\n",
            "removed '/content/tobit_loss/experiments/synthetic/__init__.py'\n",
            "removed '/content/tobit_loss/experiments/synthetic/grid_search.py'\n",
            "removed '/content/tobit_loss/experiments/synthetic/constant_noise/mae_based/mae_based_synthetic_const_noise.py'\n",
            "removed '/content/tobit_loss/experiments/synthetic/constant_noise/mae_based/mae_based_synthetic_const_noise_deprecated.py'\n",
            "removed '/content/tobit_loss/experiments/synthetic/constant_noise/mae_based/__init__.py'\n",
            "removed '/content/tobit_loss/experiments/synthetic/constant_noise/mae_based/MAE_Based_Synthetic_Const_Noise.ipynb'\n",
            "removed '/content/tobit_loss/experiments/synthetic/constant_noise/mae_based/mae_cens_WITH_trunc/mae bounded with penalty model.svg'\n",
            "removed '/content/tobit_loss/experiments/synthetic/constant_noise/mae_based/mae_cens_WITH_trunc/grid mae bounded with penalty model.tar'\n",
            "removed '/content/tobit_loss/experiments/synthetic/constant_noise/mae_based/mae_cens_WITH_trunc/grid_results.tar'\n",
            "removed '/content/tobit_loss/experiments/synthetic/constant_noise/mae_based/mae_cens_WITH_trunc/mae bounded with penalty model.pdf'\n",
            "removed '/content/tobit_loss/experiments/synthetic/constant_noise/mae_based/mae_cens_WITH_trunc/mae bounded with penalty model.png'\n",
            "removed directory '/content/tobit_loss/experiments/synthetic/constant_noise/mae_based/mae_cens_WITH_trunc'\n",
            "removed '/content/tobit_loss/experiments/synthetic/constant_noise/mae_based/mae_simple/mae model.svg'\n",
            "removed '/content/tobit_loss/experiments/synthetic/constant_noise/mae_based/mae_simple/mae model.png'\n",
            "removed '/content/tobit_loss/experiments/synthetic/constant_noise/mae_based/mae_simple/grid mae model.tar'\n",
            "removed '/content/tobit_loss/experiments/synthetic/constant_noise/mae_based/mae_simple/grid_results.tar'\n",
            "removed '/content/tobit_loss/experiments/synthetic/constant_noise/mae_based/mae_simple/mae model.pdf'\n",
            "removed directory '/content/tobit_loss/experiments/synthetic/constant_noise/mae_based/mae_simple'\n",
            "removed '/content/tobit_loss/experiments/synthetic/constant_noise/mae_based/mae_cens_NO_trunc/mae bounded model.svg'\n",
            "removed '/content/tobit_loss/experiments/synthetic/constant_noise/mae_based/mae_cens_NO_trunc/mae bounded model.pdf'\n",
            "removed '/content/tobit_loss/experiments/synthetic/constant_noise/mae_based/mae_cens_NO_trunc/grid mae bounded model.tar'\n",
            "removed '/content/tobit_loss/experiments/synthetic/constant_noise/mae_based/mae_cens_NO_trunc/grid_results.tar'\n",
            "removed '/content/tobit_loss/experiments/synthetic/constant_noise/mae_based/mae_cens_NO_trunc/mae bounded model.png'\n",
            "removed directory '/content/tobit_loss/experiments/synthetic/constant_noise/mae_based/mae_cens_NO_trunc'\n",
            "removed directory '/content/tobit_loss/experiments/synthetic/constant_noise/mae_based'\n",
            "removed '/content/tobit_loss/experiments/synthetic/constant_noise/dataset.py'\n",
            "removed '/content/tobit_loss/experiments/synthetic/constant_noise/__init__.py'\n",
            "removed '/content/tobit_loss/experiments/synthetic/constant_noise/run_all.py'\n",
            "removed '/content/tobit_loss/experiments/synthetic/constant_noise/tobit_based/reparam_fixed_std/reparametrized_gll_synthetic_data_deprecated.py'\n",
            "removed '/content/tobit_loss/experiments/synthetic/constant_noise/tobit_based/reparam_fixed_std/Reparametrized_GLL_Synthetic_Data.ipynb'\n",
            "removed '/content/tobit_loss/experiments/synthetic/constant_noise/tobit_based/reparam_fixed_std/deep_tobit_cens_NO_trunc/reparametrized deep tobit model-with-std.pdf'\n",
            "removed '/content/tobit_loss/experiments/synthetic/constant_noise/tobit_based/reparam_fixed_std/deep_tobit_cens_NO_trunc/reparametrized deep tobit model.png'\n",
            "removed '/content/tobit_loss/experiments/synthetic/constant_noise/tobit_based/reparam_fixed_std/deep_tobit_cens_NO_trunc/grid reparametrized deep tobit model.tar'\n",
            "removed '/content/tobit_loss/experiments/synthetic/constant_noise/tobit_based/reparam_fixed_std/deep_tobit_cens_NO_trunc/reparametrized deep tobit model.pdf'\n",
            "removed '/content/tobit_loss/experiments/synthetic/constant_noise/tobit_based/reparam_fixed_std/deep_tobit_cens_NO_trunc/reparametrized deep tobit model-with-std.png'\n",
            "removed '/content/tobit_loss/experiments/synthetic/constant_noise/tobit_based/reparam_fixed_std/deep_tobit_cens_NO_trunc/grid_results.tar'\n",
            "removed '/content/tobit_loss/experiments/synthetic/constant_noise/tobit_based/reparam_fixed_std/deep_tobit_cens_NO_trunc/reparametrized deep tobit model.svg'\n",
            "removed '/content/tobit_loss/experiments/synthetic/constant_noise/tobit_based/reparam_fixed_std/deep_tobit_cens_NO_trunc/reparametrized deep tobit model-with-std.svg'\n",
            "removed directory '/content/tobit_loss/experiments/synthetic/constant_noise/tobit_based/reparam_fixed_std/deep_tobit_cens_NO_trunc'\n",
            "removed '/content/tobit_loss/experiments/synthetic/constant_noise/tobit_based/reparam_fixed_std/liniar_tobit_WITH_trunc/reparametrized truncated linear tobit model-with-std.png'\n",
            "removed '/content/tobit_loss/experiments/synthetic/constant_noise/tobit_based/reparam_fixed_std/liniar_tobit_WITH_trunc/reparametrized truncated linear tobit model.svg'\n",
            "removed '/content/tobit_loss/experiments/synthetic/constant_noise/tobit_based/reparam_fixed_std/liniar_tobit_WITH_trunc/grid reparametrized truncated linear tobit model.tar'\n",
            "removed '/content/tobit_loss/experiments/synthetic/constant_noise/tobit_based/reparam_fixed_std/liniar_tobit_WITH_trunc/reparametrized truncated linear tobit model.pdf'\n",
            "removed '/content/tobit_loss/experiments/synthetic/constant_noise/tobit_based/reparam_fixed_std/liniar_tobit_WITH_trunc/reparametrized truncated linear tobit model-with-std.pdf'\n",
            "removed '/content/tobit_loss/experiments/synthetic/constant_noise/tobit_based/reparam_fixed_std/liniar_tobit_WITH_trunc/reparametrized truncated linear tobit model-with-std.svg'\n",
            "removed '/content/tobit_loss/experiments/synthetic/constant_noise/tobit_based/reparam_fixed_std/liniar_tobit_WITH_trunc/reparametrized truncated linear tobit model.png'\n",
            "removed '/content/tobit_loss/experiments/synthetic/constant_noise/tobit_based/reparam_fixed_std/liniar_tobit_WITH_trunc/grid_results.tar'\n",
            "removed directory '/content/tobit_loss/experiments/synthetic/constant_noise/tobit_based/reparam_fixed_std/liniar_tobit_WITH_trunc'\n",
            "removed '/content/tobit_loss/experiments/synthetic/constant_noise/tobit_based/reparam_fixed_std/__init__.py'\n",
            "removed '/content/tobit_loss/experiments/synthetic/constant_noise/tobit_based/reparam_fixed_std/reparametrized_tobit_loss_synthetic_data_deprecated.py'\n",
            "removed '/content/tobit_loss/experiments/synthetic/constant_noise/tobit_based/reparam_fixed_std/reparametrized_tobit_loss_synthetic_data.py'\n",
            "removed '/content/tobit_loss/experiments/synthetic/constant_noise/tobit_based/reparam_fixed_std/Reparametrized_Tobit_Loss_Synthetic_Data.ipynb'\n",
            "removed '/content/tobit_loss/experiments/synthetic/constant_noise/tobit_based/reparam_fixed_std/liniar_tobit_NO_trunc/reparametrized linear tobit model-with-std.png'\n",
            "removed '/content/tobit_loss/experiments/synthetic/constant_noise/tobit_based/reparam_fixed_std/liniar_tobit_NO_trunc/reparametrized linear tobit model.svg'\n",
            "removed '/content/tobit_loss/experiments/synthetic/constant_noise/tobit_based/reparam_fixed_std/liniar_tobit_NO_trunc/reparametrized linear tobit model-with-std.pdf'\n",
            "removed '/content/tobit_loss/experiments/synthetic/constant_noise/tobit_based/reparam_fixed_std/liniar_tobit_NO_trunc/reparametrized linear tobit model-with-std.svg'\n",
            "removed '/content/tobit_loss/experiments/synthetic/constant_noise/tobit_based/reparam_fixed_std/liniar_tobit_NO_trunc/reparametrized linear tobit model.pdf'\n",
            "removed '/content/tobit_loss/experiments/synthetic/constant_noise/tobit_based/reparam_fixed_std/liniar_tobit_NO_trunc/reparametrized linear tobit model.png'\n",
            "removed '/content/tobit_loss/experiments/synthetic/constant_noise/tobit_based/reparam_fixed_std/liniar_tobit_NO_trunc/grid reparametrized linear tobit model.tar'\n",
            "removed '/content/tobit_loss/experiments/synthetic/constant_noise/tobit_based/reparam_fixed_std/liniar_tobit_NO_trunc/grid_results.tar'\n",
            "removed directory '/content/tobit_loss/experiments/synthetic/constant_noise/tobit_based/reparam_fixed_std/liniar_tobit_NO_trunc'\n",
            "removed '/content/tobit_loss/experiments/synthetic/constant_noise/tobit_based/reparam_fixed_std/reparametrized_gll_synthetic_data.py'\n",
            "removed '/content/tobit_loss/experiments/synthetic/constant_noise/tobit_based/reparam_fixed_std/deep_tobit_cens_WITH_trunc/grid reparametrized truncated deep tobit model.tar'\n",
            "removed '/content/tobit_loss/experiments/synthetic/constant_noise/tobit_based/reparam_fixed_std/deep_tobit_cens_WITH_trunc/reparametrized truncated deep tobit model.png'\n",
            "removed '/content/tobit_loss/experiments/synthetic/constant_noise/tobit_based/reparam_fixed_std/deep_tobit_cens_WITH_trunc/reparametrized truncated deep tobit model.svg'\n",
            "removed '/content/tobit_loss/experiments/synthetic/constant_noise/tobit_based/reparam_fixed_std/deep_tobit_cens_WITH_trunc/reparametrized truncated deep tobit model-with-std.svg'\n",
            "removed '/content/tobit_loss/experiments/synthetic/constant_noise/tobit_based/reparam_fixed_std/deep_tobit_cens_WITH_trunc/reparametrized truncated deep tobit model.pdf'\n",
            "removed '/content/tobit_loss/experiments/synthetic/constant_noise/tobit_based/reparam_fixed_std/deep_tobit_cens_WITH_trunc/grid_results.tar'\n",
            "removed '/content/tobit_loss/experiments/synthetic/constant_noise/tobit_based/reparam_fixed_std/deep_tobit_cens_WITH_trunc/reparametrized truncated deep tobit model-with-std.png'\n",
            "removed '/content/tobit_loss/experiments/synthetic/constant_noise/tobit_based/reparam_fixed_std/deep_tobit_cens_WITH_trunc/reparametrized truncated deep tobit model-with-std.pdf'\n",
            "removed directory '/content/tobit_loss/experiments/synthetic/constant_noise/tobit_based/reparam_fixed_std/deep_tobit_cens_WITH_trunc'\n",
            "removed '/content/tobit_loss/experiments/synthetic/constant_noise/tobit_based/reparam_fixed_std/gll/gausian log likelihood model.png'\n",
            "removed '/content/tobit_loss/experiments/synthetic/constant_noise/tobit_based/reparam_fixed_std/gll/gausian log likelihood model-with-std.pdf'\n",
            "removed '/content/tobit_loss/experiments/synthetic/constant_noise/tobit_based/reparam_fixed_std/gll/gausian log likelihood model.svg'\n",
            "removed '/content/tobit_loss/experiments/synthetic/constant_noise/tobit_based/reparam_fixed_std/gll/gausian log likelihood model-with-std.png'\n",
            "removed '/content/tobit_loss/experiments/synthetic/constant_noise/tobit_based/reparam_fixed_std/gll/gausian log likelihood model-with-std.svg'\n",
            "removed '/content/tobit_loss/experiments/synthetic/constant_noise/tobit_based/reparam_fixed_std/gll/grid gausian log likelihood model.tar'\n",
            "removed '/content/tobit_loss/experiments/synthetic/constant_noise/tobit_based/reparam_fixed_std/gll/gausian log likelihood model.pdf'\n",
            "removed '/content/tobit_loss/experiments/synthetic/constant_noise/tobit_based/reparam_fixed_std/gll/grid_results.tar'\n",
            "removed directory '/content/tobit_loss/experiments/synthetic/constant_noise/tobit_based/reparam_fixed_std/gll'\n",
            "removed directory '/content/tobit_loss/experiments/synthetic/constant_noise/tobit_based/reparam_fixed_std'\n",
            "removed '/content/tobit_loss/experiments/synthetic/constant_noise/tobit_based/__init__.py'\n",
            "removed '/content/tobit_loss/experiments/synthetic/constant_noise/tobit_based/reparam_dynamic_std/__init__.py'\n",
            "removed directory '/content/tobit_loss/experiments/synthetic/constant_noise/tobit_based/reparam_dynamic_std'\n",
            "removed '/content/tobit_loss/experiments/synthetic/constant_noise/tobit_based/scaled_dynamic_std/__init__.py'\n",
            "removed directory '/content/tobit_loss/experiments/synthetic/constant_noise/tobit_based/scaled_dynamic_std'\n",
            "removed '/content/tobit_loss/experiments/synthetic/constant_noise/tobit_based/scaled_fixed_std/deep_tobit_cens_NO_trunc/scaled deep tobit model-with-std.pdf'\n",
            "removed '/content/tobit_loss/experiments/synthetic/constant_noise/tobit_based/scaled_fixed_std/deep_tobit_cens_NO_trunc/scaled deep tobit model.pdf'\n",
            "removed '/content/tobit_loss/experiments/synthetic/constant_noise/tobit_based/scaled_fixed_std/deep_tobit_cens_NO_trunc/scaled deep tobit model-with-std.svg'\n",
            "removed '/content/tobit_loss/experiments/synthetic/constant_noise/tobit_based/scaled_fixed_std/deep_tobit_cens_NO_trunc/scaled deep tobit model.svg'\n",
            "removed '/content/tobit_loss/experiments/synthetic/constant_noise/tobit_based/scaled_fixed_std/deep_tobit_cens_NO_trunc/scaled deep tobit model.png'\n",
            "removed '/content/tobit_loss/experiments/synthetic/constant_noise/tobit_based/scaled_fixed_std/deep_tobit_cens_NO_trunc/grid_results.tar'\n",
            "removed '/content/tobit_loss/experiments/synthetic/constant_noise/tobit_based/scaled_fixed_std/deep_tobit_cens_NO_trunc/grid scaled deep tobit model.tar'\n",
            "removed '/content/tobit_loss/experiments/synthetic/constant_noise/tobit_based/scaled_fixed_std/deep_tobit_cens_NO_trunc/scaled deep tobit model-with-std.png'\n",
            "removed directory '/content/tobit_loss/experiments/synthetic/constant_noise/tobit_based/scaled_fixed_std/deep_tobit_cens_NO_trunc'\n",
            "removed '/content/tobit_loss/experiments/synthetic/constant_noise/tobit_based/scaled_fixed_std/Scaled_GLL_Synthetic_Data.ipynb'\n",
            "removed '/content/tobit_loss/experiments/synthetic/constant_noise/tobit_based/scaled_fixed_std/scaled_tobit_loss_synthetic_data_deprecated.py'\n",
            "removed '/content/tobit_loss/experiments/synthetic/constant_noise/tobit_based/scaled_fixed_std/__init__.py'\n",
            "removed '/content/tobit_loss/experiments/synthetic/constant_noise/tobit_based/scaled_fixed_std/liniar_tobit_cens_NO_trunc/scaled linear tobit model.pdf'\n",
            "removed '/content/tobit_loss/experiments/synthetic/constant_noise/tobit_based/scaled_fixed_std/liniar_tobit_cens_NO_trunc/scaled linear tobit model.png'\n",
            "removed '/content/tobit_loss/experiments/synthetic/constant_noise/tobit_based/scaled_fixed_std/liniar_tobit_cens_NO_trunc/scaled linear tobit model-with-std.pdf'\n",
            "removed '/content/tobit_loss/experiments/synthetic/constant_noise/tobit_based/scaled_fixed_std/liniar_tobit_cens_NO_trunc/scaled linear tobit model.svg'\n",
            "removed '/content/tobit_loss/experiments/synthetic/constant_noise/tobit_based/scaled_fixed_std/liniar_tobit_cens_NO_trunc/grid scaled linear tobit model.tar'\n",
            "removed '/content/tobit_loss/experiments/synthetic/constant_noise/tobit_based/scaled_fixed_std/liniar_tobit_cens_NO_trunc/scaled linear tobit model-with-std.png'\n",
            "removed '/content/tobit_loss/experiments/synthetic/constant_noise/tobit_based/scaled_fixed_std/liniar_tobit_cens_NO_trunc/grid_results.tar'\n",
            "removed '/content/tobit_loss/experiments/synthetic/constant_noise/tobit_based/scaled_fixed_std/liniar_tobit_cens_NO_trunc/scaled linear tobit model-with-std.svg'\n",
            "removed directory '/content/tobit_loss/experiments/synthetic/constant_noise/tobit_based/scaled_fixed_std/liniar_tobit_cens_NO_trunc'\n",
            "removed '/content/tobit_loss/experiments/synthetic/constant_noise/tobit_based/scaled_fixed_std/scaled_tobit_loss_synthetic_data.py'\n",
            "removed '/content/tobit_loss/experiments/synthetic/constant_noise/tobit_based/scaled_fixed_std/deep_tobit_cens_WITH_trunc/grid scaled truncated deep tobit model.tar'\n",
            "removed '/content/tobit_loss/experiments/synthetic/constant_noise/tobit_based/scaled_fixed_std/deep_tobit_cens_WITH_trunc/scaled truncated deep tobit model.svg'\n",
            "removed '/content/tobit_loss/experiments/synthetic/constant_noise/tobit_based/scaled_fixed_std/deep_tobit_cens_WITH_trunc/scaled truncated deep tobit model.png'\n",
            "removed '/content/tobit_loss/experiments/synthetic/constant_noise/tobit_based/scaled_fixed_std/deep_tobit_cens_WITH_trunc/scaled truncated deep tobit model-with-std.svg'\n",
            "removed '/content/tobit_loss/experiments/synthetic/constant_noise/tobit_based/scaled_fixed_std/deep_tobit_cens_WITH_trunc/scaled truncated deep tobit model-with-std.png'\n",
            "removed '/content/tobit_loss/experiments/synthetic/constant_noise/tobit_based/scaled_fixed_std/deep_tobit_cens_WITH_trunc/grid_results.tar'\n",
            "removed '/content/tobit_loss/experiments/synthetic/constant_noise/tobit_based/scaled_fixed_std/deep_tobit_cens_WITH_trunc/scaled truncated deep tobit model-with-std.pdf'\n",
            "removed '/content/tobit_loss/experiments/synthetic/constant_noise/tobit_based/scaled_fixed_std/deep_tobit_cens_WITH_trunc/scaled truncated deep tobit model.pdf'\n",
            "removed directory '/content/tobit_loss/experiments/synthetic/constant_noise/tobit_based/scaled_fixed_std/deep_tobit_cens_WITH_trunc'\n",
            "removed '/content/tobit_loss/experiments/synthetic/constant_noise/tobit_based/scaled_fixed_std/liniar_tobit_cens_WITH_trunc/scaled truncated linear tobit model.pdf'\n",
            "removed '/content/tobit_loss/experiments/synthetic/constant_noise/tobit_based/scaled_fixed_std/liniar_tobit_cens_WITH_trunc/grid scaled truncated linear tobit model.tar'\n",
            "removed '/content/tobit_loss/experiments/synthetic/constant_noise/tobit_based/scaled_fixed_std/liniar_tobit_cens_WITH_trunc/scaled truncated linear tobit model-with-std.png'\n",
            "removed '/content/tobit_loss/experiments/synthetic/constant_noise/tobit_based/scaled_fixed_std/liniar_tobit_cens_WITH_trunc/scaled truncated linear tobit model-with-std.pdf'\n",
            "removed '/content/tobit_loss/experiments/synthetic/constant_noise/tobit_based/scaled_fixed_std/liniar_tobit_cens_WITH_trunc/scaled truncated linear tobit model.png'\n",
            "removed '/content/tobit_loss/experiments/synthetic/constant_noise/tobit_based/scaled_fixed_std/liniar_tobit_cens_WITH_trunc/grid_results.tar'\n",
            "removed '/content/tobit_loss/experiments/synthetic/constant_noise/tobit_based/scaled_fixed_std/liniar_tobit_cens_WITH_trunc/scaled truncated linear tobit model-with-std.svg'\n",
            "removed '/content/tobit_loss/experiments/synthetic/constant_noise/tobit_based/scaled_fixed_std/liniar_tobit_cens_WITH_trunc/scaled truncated linear tobit model.svg'\n",
            "removed directory '/content/tobit_loss/experiments/synthetic/constant_noise/tobit_based/scaled_fixed_std/liniar_tobit_cens_WITH_trunc'\n",
            "removed '/content/tobit_loss/experiments/synthetic/constant_noise/tobit_based/scaled_fixed_std/scaled_gll_synthetic_data.py'\n",
            "removed '/content/tobit_loss/experiments/synthetic/constant_noise/tobit_based/scaled_fixed_std/scaled_gll_synthetic_data_deprecated.py'\n",
            "removed '/content/tobit_loss/experiments/synthetic/constant_noise/tobit_based/scaled_fixed_std/Scaled_Tobit_Loss_Synthetic_Data.ipynb'\n",
            "removed '/content/tobit_loss/experiments/synthetic/constant_noise/tobit_based/scaled_fixed_std/gll/gausian log likelihood model.png'\n",
            "removed '/content/tobit_loss/experiments/synthetic/constant_noise/tobit_based/scaled_fixed_std/gll/gausian log likelihood model-with-std.pdf'\n",
            "removed '/content/tobit_loss/experiments/synthetic/constant_noise/tobit_based/scaled_fixed_std/gll/gausian log likelihood model.svg'\n",
            "removed '/content/tobit_loss/experiments/synthetic/constant_noise/tobit_based/scaled_fixed_std/gll/gausian log likelihood model-with-std.png'\n",
            "removed '/content/tobit_loss/experiments/synthetic/constant_noise/tobit_based/scaled_fixed_std/gll/gausian log likelihood model-with-std.svg'\n",
            "removed '/content/tobit_loss/experiments/synthetic/constant_noise/tobit_based/scaled_fixed_std/gll/grid gausian log likelihood model.tar'\n",
            "removed '/content/tobit_loss/experiments/synthetic/constant_noise/tobit_based/scaled_fixed_std/gll/gausian log likelihood model.pdf'\n",
            "removed '/content/tobit_loss/experiments/synthetic/constant_noise/tobit_based/scaled_fixed_std/gll/grid_results.tar'\n",
            "removed directory '/content/tobit_loss/experiments/synthetic/constant_noise/tobit_based/scaled_fixed_std/gll'\n",
            "removed directory '/content/tobit_loss/experiments/synthetic/constant_noise/tobit_based/scaled_fixed_std'\n",
            "removed directory '/content/tobit_loss/experiments/synthetic/constant_noise/tobit_based'\n",
            "removed '/content/tobit_loss/experiments/synthetic/constant_noise/mse_based/mse_based_synthetic_const_noise_deprecated.py'\n",
            "removed '/content/tobit_loss/experiments/synthetic/constant_noise/mse_based/mse_based_synthetic_const_noise.py'\n",
            "removed '/content/tobit_loss/experiments/synthetic/constant_noise/mse_based/__init__.py'\n",
            "removed '/content/tobit_loss/experiments/synthetic/constant_noise/mse_based/MSE_Based_Synthetic_Const_Noise.ipynb'\n",
            "removed '/content/tobit_loss/experiments/synthetic/constant_noise/mse_based/mse_cens_NO_trunc/mse bounded model.svg'\n",
            "removed '/content/tobit_loss/experiments/synthetic/constant_noise/mse_based/mse_cens_NO_trunc/grid mse bounded model.tar'\n",
            "removed '/content/tobit_loss/experiments/synthetic/constant_noise/mse_based/mse_cens_NO_trunc/mse bounded model.pdf'\n",
            "removed '/content/tobit_loss/experiments/synthetic/constant_noise/mse_based/mse_cens_NO_trunc/mse bounded model.png'\n",
            "removed '/content/tobit_loss/experiments/synthetic/constant_noise/mse_based/mse_cens_NO_trunc/grid_results.tar'\n",
            "removed directory '/content/tobit_loss/experiments/synthetic/constant_noise/mse_based/mse_cens_NO_trunc'\n",
            "removed '/content/tobit_loss/experiments/synthetic/constant_noise/mse_based/mse_simple/mse model.png'\n",
            "removed '/content/tobit_loss/experiments/synthetic/constant_noise/mse_based/mse_simple/mse model.svg'\n",
            "removed '/content/tobit_loss/experiments/synthetic/constant_noise/mse_based/mse_simple/mse model.pdf'\n",
            "removed '/content/tobit_loss/experiments/synthetic/constant_noise/mse_based/mse_simple/grid mse model.tar'\n",
            "removed '/content/tobit_loss/experiments/synthetic/constant_noise/mse_based/mse_simple/grid_results.tar'\n",
            "removed directory '/content/tobit_loss/experiments/synthetic/constant_noise/mse_based/mse_simple'\n",
            "removed '/content/tobit_loss/experiments/synthetic/constant_noise/mse_based/mse_cens_WITH_trunc/grid mse bounded with penalty model.tar'\n",
            "removed '/content/tobit_loss/experiments/synthetic/constant_noise/mse_based/mse_cens_WITH_trunc/mse bounded with penalty model.pdf'\n",
            "removed '/content/tobit_loss/experiments/synthetic/constant_noise/mse_based/mse_cens_WITH_trunc/mse bounded with penalty model.png'\n",
            "removed '/content/tobit_loss/experiments/synthetic/constant_noise/mse_based/mse_cens_WITH_trunc/mse bounded with penalty model.svg'\n",
            "removed '/content/tobit_loss/experiments/synthetic/constant_noise/mse_based/mse_cens_WITH_trunc/grid_results.tar'\n",
            "removed directory '/content/tobit_loss/experiments/synthetic/constant_noise/mse_based/mse_cens_WITH_trunc'\n",
            "removed directory '/content/tobit_loss/experiments/synthetic/constant_noise/mse_based'\n",
            "removed directory '/content/tobit_loss/experiments/synthetic/constant_noise'\n",
            "removed '/content/tobit_loss/experiments/synthetic/heteroscedastic/__init__.py'\n",
            "removed directory '/content/tobit_loss/experiments/synthetic/heteroscedastic'\n",
            "removed '/content/tobit_loss/experiments/synthetic/train.py'\n",
            "removed '/content/tobit_loss/experiments/synthetic/constants.py'\n",
            "removed directory '/content/tobit_loss/experiments/synthetic'\n",
            "removed '/content/tobit_loss/experiments/real/bike_sharing/__init__.py'\n",
            "removed directory '/content/tobit_loss/experiments/real/bike_sharing'\n",
            "removed '/content/tobit_loss/experiments/real/__init__.py'\n",
            "removed '/content/tobit_loss/experiments/real/pm25/__init__.py'\n",
            "removed directory '/content/tobit_loss/experiments/real/pm25'\n",
            "removed directory '/content/tobit_loss/experiments/real'\n",
            "removed '/content/tobit_loss/experiments/models.py'\n",
            "removed '/content/tobit_loss/experiments/util.py'\n",
            "removed directory '/content/tobit_loss/experiments'\n",
            "removed directory '/content/tobit_loss'\n",
            "Cloning into 'tobit_loss'...\n",
            "remote: Enumerating objects: 729, done.\u001b[K\n",
            "remote: Counting objects: 100% (379/379), done.\u001b[K\n",
            "remote: Compressing objects: 100% (263/263), done.\u001b[K\n",
            "remote: Total 729 (delta 269), reused 225 (delta 116), pack-reused 350\u001b[K\n",
            "Receiving objects: 100% (729/729), 4.19 MiB | 16.94 MiB/s, done.\n",
            "Resolving deltas: 100% (499/499), done.\n"
          ]
        }
      ]
    },
    {
      "cell_type": "markdown",
      "metadata": {
        "id": "qLGXhtwT84YZ"
      },
      "source": [
        "Add the Tobit loss to Python path."
      ]
    },
    {
      "cell_type": "code",
      "metadata": {
        "id": "ShX4Mc1H8vy7"
      },
      "source": [
        "import sys\n",
        "sys.path.insert(0, '/content/tobit_loss')"
      ],
      "execution_count": null,
      "outputs": []
    },
    {
      "cell_type": "markdown",
      "metadata": {
        "id": "24sQN6HpC0gb"
      },
      "source": [
        "Imports"
      ]
    },
    {
      "cell_type": "code",
      "metadata": {
        "id": "bEo1lLmv9BOA"
      },
      "source": [
        "import torch as t\n",
        "from deep_tobit.util import to_torch, to_numpy, normalize, unnormalize, distinguish_censored_versus_observed_data\n",
        "from deep_tobit.loss import Heteroscedastic_Reparametrized_Scaled_Tobit_Loss\n",
        "from deep_tobit.normal_cumulative_distribution_function import cdf\n",
        "import numpy as np\n",
        "import matplotlib.pyplot as plt\n",
        "from scipy.stats import beta\n",
        "import random\n",
        "import numpy as np\n",
        "import sklearn as sk\n",
        "import sklearn.metrics\n",
        "import math\n",
        "from sklearn.model_selection import ParameterGrid\n",
        "from torch_lr_finder import LRFinder, TrainDataLoaderIter, ValDataLoaderIter\n",
        "import os\n",
        "import numpy.random\n",
        "import collections\n",
        "from typing import Tuple, Union\n",
        "import traceback"
      ],
      "execution_count": null,
      "outputs": []
    },
    {
      "cell_type": "markdown",
      "metadata": {
        "id": "6Gvvee1ORB-9"
      },
      "source": [
        "Constants"
      ]
    },
    {
      "cell_type": "code",
      "metadata": {
        "id": "w-p4kq80REIS"
      },
      "source": [
        "CHECKPOINT_DEEP_TOBIT_REPARAMETRIZED = 'reparametrized deep tobit model'\n",
        "CHECKPOINT_DEEP_TOBIT_REPARAMETRIZED_TRUNCATED = 'reparametrized truncated deep tobit model'\n",
        "CHECKPOINT_LINEAR_TOBIT_REPARAMETRIZED = 'reparametrized linear tobit model'\n",
        "CHECKPOINT_LINEAR_TRUNCATED_TOBIT_REPARAMETRIZED = 'reparametrized truncated linear tobit model'\n",
        "CENSOR_LOW_BOUND = 0.3\n",
        "CENSOR_HIGH_BOUND = 1.7\n",
        "ALPHA = 2\n",
        "BETA = 4\n",
        "NOISE = 0.3\n",
        "LAYER_SIZE = 10\n",
        "DATASET_LEN = 10_000\n",
        "CHECKPOINT_FREQUENCY = 10\n",
        "GRID_RESULTS_FILE = 'grid_results.tar'\n",
        "GRADIENT_CLIP = 1000"
      ],
      "execution_count": null,
      "outputs": []
    },
    {
      "cell_type": "markdown",
      "metadata": {
        "id": "I8WJLGKcQAzb"
      },
      "source": [
        "Reproducible experiments"
      ]
    },
    {
      "cell_type": "code",
      "metadata": {
        "id": "9cQ7XazCQAOA"
      },
      "source": [
        "SEED = 0\n",
        "t.manual_seed(SEED)\n",
        "t.cuda.manual_seed(SEED)\n",
        "t.cuda.manual_seed_all(SEED)\n",
        "t.backends.cudnn.deterministic = True\n",
        "t.backends.cudnn.benchmark = False\n",
        "np.random.seed(SEED)\n",
        "random.seed(SEED)"
      ],
      "execution_count": null,
      "outputs": []
    },
    {
      "cell_type": "markdown",
      "metadata": {
        "id": "xr20oFx6bf4m"
      },
      "source": [
        "# Model"
      ]
    },
    {
      "cell_type": "code",
      "metadata": {
        "id": "l3wmC7JXJyge"
      },
      "source": [
        "class DenseNetwork(t.nn.Module):\n",
        "\n",
        "  def __init__(self):\n",
        "    super().__init__()\n",
        "    self.layer_in = t.nn.Linear(1, LAYER_SIZE)\n",
        "    self.norm_1 = t.nn.BatchNorm1d(LAYER_SIZE, affine = False)\n",
        "    self.layer_hidden_1 = t.nn.Linear(LAYER_SIZE, LAYER_SIZE)\n",
        "    self.norm_2 = t.nn.BatchNorm1d(LAYER_SIZE, affine = False)\n",
        "    self.layer_out = t.nn.Linear(LAYER_SIZE, 1)\n",
        "\n",
        "  def forward(self, x):\n",
        "    x = t.nn.functional.relu(self.norm_1(self.layer_in(x)))\n",
        "    x = t.nn.functional.relu(self.norm_2(self.layer_hidden_1(x)))\n",
        "    x = self.layer_out(x)\n",
        "    return x"
      ],
      "execution_count": null,
      "outputs": []
    },
    {
      "cell_type": "code",
      "metadata": {
        "id": "FgG96dANIWeN"
      },
      "source": [
        "class GammaNetwork(t.nn.Module):\n",
        "\n",
        "  def __init__(self):\n",
        "    super().__init__()\n",
        "    self.layer_in = t.nn.Linear(1, LAYER_SIZE)\n",
        "    self.norm_1 = t.nn.BatchNorm1d(LAYER_SIZE, affine = False)\n",
        "    self.layer_out = t.nn.Linear(LAYER_SIZE, 1)\n",
        "\n",
        "  def forward(self, x):\n",
        "    x = self.layer_in(x)\n",
        "    x = self.norm_1(x)\n",
        "    x = t.nn.functional.relu(x)    \n",
        "    x = self.layer_out(x)  \n",
        "    return x"
      ],
      "execution_count": null,
      "outputs": []
    },
    {
      "cell_type": "code",
      "metadata": {
        "id": "6yH0sxMqkyjb"
      },
      "source": [
        "def get_gamma():\n",
        "  gamma = GammaNetwork()\n",
        "  return gamma"
      ],
      "execution_count": null,
      "outputs": []
    },
    {
      "cell_type": "markdown",
      "metadata": {
        "id": "KZOvdckibSUD"
      },
      "source": [
        "# Datasets"
      ]
    },
    {
      "cell_type": "code",
      "metadata": {
        "colab": {
          "base_uri": "https://localhost:8080/"
        },
        "id": "P9z0FjI9GzXc",
        "outputId": "3536a054-9caf-44ff-bab8-84e52a1276d5"
      },
      "source": [
        "def calculate_mean_std(lower_bound = -math.inf, upper_bound = math.inf, nb_samples = DATASET_LEN, distribution_alpha = ALPHA, distribution_beta = BETA, start = 0, end = 1, noise = NOISE):\n",
        "    assert lower_bound <= upper_bound\n",
        "    beta_distribution = beta(a = distribution_alpha, b = distribution_beta)\n",
        "    x = np.linspace(start, end, nb_samples)\n",
        "    y = beta_distribution.pdf(x)\n",
        "    y += np.random.normal(0, noise, nb_samples)\n",
        "    y = np.clip(y, lower_bound, upper_bound) \n",
        "    return x.mean(), x.std(), y.mean(), y.std()\n",
        "\n",
        "x_mean, x_std, y_mean, y_std = calculate_mean_std(lower_bound = CENSOR_LOW_BOUND, upper_bound = CENSOR_HIGH_BOUND)\n",
        "print('x mean =', x_mean, 'x std =', x_std, 'y mean =', y_mean, 'y std =', y_std)"
      ],
      "execution_count": null,
      "outputs": [
        {
          "output_type": "stream",
          "name": "stdout",
          "text": [
            "x mean = 0.5 x std = 0.2887040035517924 y mean = 0.9890484101333353 y std = 0.5859812854811501\n"
          ]
        }
      ]
    },
    {
      "cell_type": "code",
      "metadata": {
        "id": "-vbA4ilEOaOZ"
      },
      "source": [
        "class TruncatedBetaDistributionDataset(t.utils.data.Dataset):\n",
        "\n",
        "  def __init__(self, lower_bound = -math.inf, upper_bound = math.inf, nb_samples = DATASET_LEN, distribution_alpha = ALPHA, distribution_beta = BETA, noise = NOISE):\n",
        "    super().__init__()\n",
        "    assert lower_bound <= upper_bound\n",
        "    self.beta_distribution = beta(a = distribution_alpha, b = distribution_beta)\n",
        "    self.lower_bound = lower_bound\n",
        "    self.upper_bound = upper_bound\n",
        "    self.noise = noise\n",
        "    self.nb_samples = nb_samples\n",
        "  \n",
        "  def __getitem__(self, i):\n",
        "    x = random.uniform(0, 1)\n",
        "    y = self.beta_distribution.pdf(x)\n",
        "    y += random.gauss(0, self.noise)\n",
        "    y = np.clip(y, self.lower_bound, self.upper_bound)\n",
        "    x = normalize(x, mean = x_mean, std = x_std)\n",
        "    y = normalize(y, mean = y_mean, std = y_std)\n",
        "    return t.tensor([x], requires_grad = True, dtype=t.float32), t.tensor([y], requires_grad = True, dtype=t.float32)\n",
        "\n",
        "  def __len__(self):\n",
        "    return self.nb_samples"
      ],
      "execution_count": null,
      "outputs": []
    },
    {
      "cell_type": "code",
      "metadata": {
        "id": "DtKXaeOA_BCg"
      },
      "source": [
        "class TruncatedBetaDistributionValidationDataset(TruncatedBetaDistributionDataset):\n",
        "\n",
        "  def __init__(self, lower_bound = -math.inf, upper_bound = math.inf, nb_samples = DATASET_LEN, distribution_alpha = ALPHA, distribution_beta = BETA, start = 0, end = 1, noise = NOISE):\n",
        "    super().__init__(lower_bound, upper_bound, nb_samples, distribution_alpha, distribution_beta)\n",
        "    self.x = np.linspace(start, end, nb_samples)\n",
        "    self.y = self.beta_distribution.pdf(self.x)\n",
        "    self.y += np.random.normal(0, noise, nb_samples)\n",
        "    self.y = np.clip(self.y, self.lower_bound, self.upper_bound)\n",
        "    self.x = normalize(self.x, mean = x_mean, std = x_std)\n",
        "    self.y = normalize(self.y, mean = y_mean, std = y_std)\n",
        "    self.x = np.expand_dims(self.x, axis = 1)\n",
        "    self.y = np.expand_dims(self.y, axis = 1)\n",
        "    self.x = t.tensor(self.x, requires_grad = False, dtype = t.float32)\n",
        "    self.y = t.tensor(self.y, requires_grad = False, dtype = t.float32)\n",
        "\n",
        "  def __getitem__(self, i):\n",
        "    return self.x[i], self.y[i]"
      ],
      "execution_count": null,
      "outputs": []
    },
    {
      "cell_type": "code",
      "metadata": {
        "id": "G2S5-awAOqV-"
      },
      "source": [
        "dataset_train = TruncatedBetaDistributionDataset(lower_bound = CENSOR_LOW_BOUND, upper_bound = CENSOR_HIGH_BOUND)\n",
        "dataset_val = TruncatedBetaDistributionValidationDataset(lower_bound = CENSOR_LOW_BOUND, upper_bound = CENSOR_HIGH_BOUND, nb_samples = 1000)\n",
        "dataset_test = TruncatedBetaDistributionValidationDataset()"
      ],
      "execution_count": null,
      "outputs": []
    },
    {
      "cell_type": "markdown",
      "metadata": {
        "id": "WKMHYoHCa5bW"
      },
      "source": [
        "# Plotting"
      ]
    },
    {
      "cell_type": "code",
      "metadata": {
        "id": "0mrFyPZdQ8Tn"
      },
      "source": [
        "def plot_beta(lower = -math.inf, upper = math.inf, color = None, label = None, std = None):\n",
        "  x = np.linspace(0, 1, 1000)\n",
        "  beta_distribution = beta(a = ALPHA, b = BETA)\n",
        "  y = beta_distribution.pdf(x)\n",
        "  y = np.clip(y, lower, upper)\n",
        "  x = normalize(x, x_mean, x_std)\n",
        "  y = normalize(y, y_mean, y_std)\n",
        "  plt.scatter(x, y, s = .1, color = color, label = label)\n",
        "  if std:\n",
        "    plt.fill_between(x, y + std, y - std, facecolor='blue', alpha=0.1, label = 'real std')"
      ],
      "execution_count": null,
      "outputs": []
    },
    {
      "cell_type": "code",
      "metadata": {
        "id": "4hRXFDQ_aEp7"
      },
      "source": [
        "def plot_dataset(dataset, size = .01, label = None):\n",
        "  x_list, y_list = [], []\n",
        "  for i in range(len(dataset)):\n",
        "    x, y = dataset[i]\n",
        "    x_list.append(x[0].item())\n",
        "    y_list.append(y[0].item())\n",
        "  plt.scatter(x_list, y_list, s = size, label = label)"
      ],
      "execution_count": null,
      "outputs": []
    },
    {
      "cell_type": "code",
      "metadata": {
        "id": "SYG6v2BQqDHC"
      },
      "source": [
        "LOSS = 0\n",
        "ABS_ERR = 1\n",
        "R_SQUARED = 2"
      ],
      "execution_count": null,
      "outputs": []
    },
    {
      "cell_type": "code",
      "metadata": {
        "id": "hvQgu2vfuCjr"
      },
      "source": [
        "def plot_train_test(train, test, title, y_title):\n",
        "    plt.plot(range(len(train)), train, label = 'Train')\n",
        "    plt.plot(range(len(test)), test, label = 'Test')\n",
        "    plt.xlabel('Epochs')\n",
        "    plt.ylabel(y_title)\n",
        "    plt.title(title)\n",
        "    plt.legend()\n",
        "    # plt.savefig(title + '.png', dpi = 300, format = 'png')\n",
        "    plt.show()"
      ],
      "execution_count": null,
      "outputs": []
    },
    {
      "cell_type": "code",
      "metadata": {
        "id": "8nWeaULRuGF-"
      },
      "source": [
        "def plot_epochs(train_metrics_list, test_metrics_list):\n",
        "  test_err = list(map(lambda m: m[ABS_ERR], test_metrics_list))\n",
        "  test_loss = list(map(lambda m: m[LOSS], test_metrics_list))\n",
        "  train_err = list(map(lambda m: m[ABS_ERR], train_metrics_list))\n",
        "  train_loss = list(map(lambda m: m[LOSS], train_metrics_list))\n",
        "  plot_train_test(train_loss, test_loss, 'Loss', 'Loss')\n",
        "  plot_train_test(train_err, test_err, 'Absolute error', 'Absolute error')"
      ],
      "execution_count": null,
      "outputs": []
    },
    {
      "cell_type": "code",
      "metadata": {
        "id": "eQP63BJieGHN"
      },
      "source": [
        "def plot_net(model, gamma_model, start = 0, end = 1, label = 'model prediction', with_std = False):\n",
        "  model.eval()\n",
        "  gamma_model.eval()\n",
        "  x_list, y_list = [], []\n",
        "  for i in range(len(dataset_val)):\n",
        "    x, _ = dataset_val[i]\n",
        "    y = model.forward(x.reshape(1, 1))\n",
        "    if gamma_model:\n",
        "      y = y / t.abs(gamma_model.forward(x.reshape(-1, 1)))\n",
        "    x_list.append(x[0].item())\n",
        "    y_list.append(y[0].item())\n",
        "  x_list = np.array(x_list).squeeze()\n",
        "  np_y = np.array(y_list).squeeze()\n",
        "  if with_std and gamma_model:\n",
        "    std = to_numpy(1 / t.abs(gamma_model(t.tensor(x_list.reshape(-1, 1), dtype=t.float32))))\n",
        "    std = std.squeeze()\n",
        "    print(x_list.shape, np_y.shape, std.shape)\n",
        "    plt.fill_between(x_list, np_y + std, np_y - std, facecolor='gray', alpha=0.1, label = 'Tobit std')\n",
        "  plt.scatter(x_list, y_list, s = .1, label = label)"
      ],
      "execution_count": null,
      "outputs": []
    },
    {
      "cell_type": "code",
      "metadata": {
        "id": "zYrRVhkIRTZM"
      },
      "source": [
        "def plot_fixed_and_dynamic_std(model, gamma_model, fixed_gamma):\n",
        "  gamma_model.eval()\n",
        "  x_list, y_list = [], []\n",
        "  for i in range(len(dataset_val)):\n",
        "    x, _ = dataset_val[i]\n",
        "    x_list.append(x[0].item())\n",
        "  x_list = np.array(x_list).squeeze()\n",
        "  std = to_numpy(1 / t.abs(gamma_model(t.tensor(x_list.reshape(-1, 1), dtype=t.float32))))\n",
        "  std = std.squeeze()\n",
        "  plt.plot(x_list, std, label = 'dynamic std', linewidth = 1)\n",
        "  plt.plot(x_list, [fixed_gamma] * len(x_list), label = 'fixed std', linewidth = 1)"
      ],
      "execution_count": null,
      "outputs": []
    },
    {
      "cell_type": "markdown",
      "metadata": {
        "id": "iFb_01Z2avwQ"
      },
      "source": [
        "# Training"
      ]
    },
    {
      "cell_type": "code",
      "metadata": {
        "colab": {
          "base_uri": "https://localhost:8080/"
        },
        "id": "BWgGzkLHFlC5",
        "outputId": "8c4ca8aa-5441-4d35-c4d7-bf9b4bb5ad87"
      },
      "source": [
        "# n is the nb of samples, k is the nb of regressors (features)\n",
        "n = len(dataset_train)\n",
        "k = len(dataset_train[0][0])\n",
        "print(f'While calculating the adjusted R2, n = {n} and k = {k}')\n",
        "\n",
        "def adjusted_R2(y, y_pred):\n",
        "  r2 = sk.metrics.r2_score(y, y_pred)\n",
        "  return 1 - ( ( (1 - r2) * (n - 1) ) / (n - k - 1) )"
      ],
      "execution_count": null,
      "outputs": [
        {
          "output_type": "stream",
          "name": "stdout",
          "text": [
            "While calculating the adjusted R2, n = 10000 and k = 1\n"
          ]
        }
      ]
    },
    {
      "cell_type": "code",
      "metadata": {
        "id": "kPDm9XIKnMPD"
      },
      "source": [
        "bound_min = normalize(CENSOR_LOW_BOUND, y_mean, y_std)\n",
        "bound_max = normalize(CENSOR_HIGH_BOUND, y_mean, y_std)\n",
        "zero_normalized = normalize(0, y_mean, y_std)"
      ],
      "execution_count": null,
      "outputs": []
    },
    {
      "cell_type": "code",
      "metadata": {
        "id": "741SKP5JfZzH"
      },
      "source": [
        "def eval_network(model, gamma_model, loader, loss_fn, batch_size, is_eval_bounded = True):\n",
        "  model.eval()\n",
        "  gamma_model.eval()\n",
        "  with t.no_grad():\n",
        "    metrics = np.zeros(3)\n",
        "    total_weight = 0\n",
        "    for x, y, single_valued_indexes, left_censored_indexes, right_censored_indexes in loader:\n",
        "      y_single_valued = y[single_valued_indexes]\n",
        "      y_left_censored = y[left_censored_indexes]\n",
        "      y_right_censored = y[right_censored_indexes]\n",
        "      y_tuple = y_single_valued, y_left_censored, y_right_censored\n",
        "      y_pred = model.forward(x)\n",
        "      y_pred_single_valued = y_pred[single_valued_indexes]\n",
        "      y_pred_left_censored = y_pred[left_censored_indexes]\n",
        "      y_pred_right_censored = y_pred[right_censored_indexes]\n",
        "      y_pred_tuple = y_pred_single_valued, y_pred_left_censored, y_pred_right_censored\n",
        "      gamma = gamma_model(x)\n",
        "      gamma_single_valued = gamma[single_valued_indexes]\n",
        "      gamma_left_censored = gamma[left_censored_indexes]\n",
        "      gamma_right_censored = gamma[right_censored_indexes]\n",
        "      gamma_tuple = gamma_single_valued, gamma_left_censored, gamma_right_censored\n",
        "      loss = loss_fn(y_pred_tuple, y_tuple, gamma_tuple)\n",
        "      y_pred = y_pred / t.abs(gamma)\n",
        "      if is_eval_bounded:\n",
        "        y_pred = t.clamp(y_pred, min = bound_min, max = bound_max)\n",
        "      y_pred, y = to_numpy(y_pred), to_numpy(y)\n",
        "      weight = len(y) / batch_size\n",
        "      metrics[LOSS] += (loss.item() * weight)\n",
        "      metrics[ABS_ERR] += (sk.metrics.mean_absolute_error(y, y_pred) * weight)\n",
        "      metrics[R_SQUARED] += (adjusted_R2(y, y_pred) * weight)\n",
        "      total_weight += weight\n",
        "    metrics /= total_weight\n",
        "    return metrics"
      ],
      "execution_count": null,
      "outputs": []
    },
    {
      "cell_type": "code",
      "metadata": {
        "id": "H9_ebC0HraIU"
      },
      "source": [
        "def train_network(model, gamma_model, loss_fn, optimizer, scheduler, loader_train, loader_val, checkpoint_name, batch_size_train, batch_size_val, epochs, grad_clip = GRADIENT_CLIP, log = True):\n",
        "  metrics_train_per_epochs, metrics_test_per_epochs = [], []\n",
        "  best = [math.inf, math.inf, -math.inf]\n",
        "  try:\n",
        "    counter = 0\n",
        "    total_weight = 0\n",
        "    train_metrics = np.zeros(3)  \n",
        "    for epoch in range(epochs):    \n",
        "      try:\n",
        "        model.train()\n",
        "        gamma_model.train()        \n",
        "        for x, y, single_valued_indexes, left_censored_indexes, right_censored_indexes in loader_train:\n",
        "          counter += 1\n",
        "          y_single_valued = y[single_valued_indexes]\n",
        "          y_left_censored = y[left_censored_indexes]\n",
        "          y_right_censored = y[right_censored_indexes]\n",
        "          y_tuple = y_single_valued, y_left_censored, y_right_censored\n",
        "          y_pred = model.forward(x)\n",
        "          y_pred_single_valued = y_pred[single_valued_indexes]\n",
        "          y_pred_left_censored = y_pred[left_censored_indexes]\n",
        "          y_pred_right_censored = y_pred[right_censored_indexes]\n",
        "          y_pred_tuple = y_pred_single_valued, y_pred_left_censored, y_pred_right_censored\n",
        "          gamma = gamma_model(x)\n",
        "          gamma_single_valued = gamma[single_valued_indexes]\n",
        "          gamma_left_censored = gamma[left_censored_indexes]\n",
        "          gamma_right_censored = gamma[right_censored_indexes]\n",
        "          gamma_tuple = gamma_single_valued, gamma_left_censored, gamma_right_censored\n",
        "          loss = loss_fn(y_pred_tuple, y_tuple, gamma_tuple)\n",
        "          loss.backward()\n",
        "          t.nn.utils.clip_grad_norm_(model.parameters(), grad_clip)\n",
        "          t.nn.utils.clip_grad_norm_(gamma_model.parameters(), grad_clip)\n",
        "          optimizer.step()\n",
        "          optimizer.zero_grad()\n",
        "          y_pred = y_pred / t.abs(gamma)\n",
        "          y_pred = t.clamp(y_pred, min = bound_min, max = bound_max)\n",
        "          y_pred, y = to_numpy(y_pred), to_numpy(y)\n",
        "          weight = len(y) / batch_size_train\n",
        "          train_metrics[LOSS] += (loss.item() * weight)\n",
        "          train_metrics[ABS_ERR] += (sk.metrics.mean_absolute_error(y, y_pred) * weight)\n",
        "          train_metrics[R_SQUARED] += (adjusted_R2(y, y_pred) * weight)\n",
        "          total_weight += weight\n",
        "          scheduler.step()\n",
        "          if counter % CHECKPOINT_FREQUENCY == 0:\n",
        "            train_metrics /= total_weight  \n",
        "            metrics_train_per_epochs.append(train_metrics)\n",
        "            train_metrics = np.zeros(3)\n",
        "            total_weight = 0\n",
        "            test_metrics = eval_network(model, gamma_model, loader_val, loss_fn, batch_size_val)\n",
        "            metrics_test_per_epochs.append(test_metrics)\n",
        "            # if test_metrics[R_SQUARED] > best[R_SQUARED]:\n",
        "            if test_metrics[ABS_ERR] < best[ABS_ERR]:  \n",
        "            # if test_metrics[LOSS] < best[LOSS]: \n",
        "              best = test_metrics\n",
        "              checkpoint_dict = {'model': model.state_dict()}\n",
        "              checkpoint_dict['gamma'] = gamma_model.state_dict()\n",
        "              t.save(checkpoint_dict, '{}.tar'.format(checkpoint_name))\n",
        "            if log:\n",
        "              print('Iteration {} abs err {} R2 {}'.format(counter, test_metrics[ABS_ERR], test_metrics[R_SQUARED]))\n",
        "      except:\n",
        "        traceback.print_exc() \n",
        "        break\n",
        "    print('Best absolute error:', best[ABS_ERR], 'R2:', best[R_SQUARED])\n",
        "    return metrics_train_per_epochs, metrics_test_per_epochs, best\n",
        "  except KeyboardInterrupt as e:\n",
        "    print('Training interrupted at epoch', epoch)"
      ],
      "execution_count": null,
      "outputs": []
    },
    {
      "cell_type": "markdown",
      "metadata": {
        "id": "uw214cctyA5t"
      },
      "source": [
        "# Grid Search Setup"
      ]
    },
    {
      "cell_type": "code",
      "metadata": {
        "id": "VCoFR-BjkyQ_"
      },
      "source": [
        "def grid_search(grid_config, train_callback, checkpoint_name, nb_iterations = 1, conf_validation = None):\n",
        "  configs = ParameterGrid(grid_config)\n",
        "  configs_len = len(configs)\n",
        "  counter = 0\n",
        "  checkpoint_file = checkpoint_name + '.tar'\n",
        "  grid_checkpoint_file = 'grid ' + checkpoint_file\n",
        "  try:\n",
        "    resume_grid_search = t.load(GRID_RESULTS_FILE)\n",
        "  except FileNotFoundError:\n",
        "    resume_grid_search = None\n",
        "\n",
        "  results = {}\n",
        "  best = [math.inf, math.inf, -math.inf]\n",
        "  if resume_grid_search is not None and 'best' in resume_grid_search:\n",
        "    best_conf = resume_grid_search['best']\n",
        "    print('Best previous configuration', best_conf)\n",
        "    best = resume_grid_search[str(best_conf)]\n",
        "    print(f'Best previous metrics abs err = {best[ABS_ERR]}, R2 = {best[R_SQUARED]}')\n",
        "    results = resume_grid_search\n",
        "\n",
        "  for conf in ParameterGrid(grid_config):\n",
        "    counter += 1\n",
        "    \n",
        "    if resume_grid_search is not None and str(conf) in resume_grid_search:\n",
        "        print('Allready evaluated configuration', conf)\n",
        "        continue\n",
        "\n",
        "    if not conf_validation(conf):\n",
        "      print('Skipping over configuration', conf)\n",
        "      results[str(conf)] = 'invalid'\n",
        "      continue\n",
        "    \n",
        "    print('-' * 5, 'grid search {}/{}'.format(counter, configs_len), '-' * 5)\n",
        "    print('Config:', conf)\n",
        "    \n",
        "    best_from_iterations = [math.inf, math.inf, -math.inf]\n",
        "    \n",
        "    for i in range(nb_iterations):\n",
        "      if nb_iterations != 1:\n",
        "        print('Iteration', i + 1)\n",
        "      metrics = train_callback(conf)    \n",
        "\n",
        "      # if metrics[R_SQUARED] > best[R_SQUARED]:\n",
        "      if metrics[ABS_ERR] < best[ABS_ERR] and not (math.isnan(metrics[LOSS] or math.isnan(metrics[ABS_ERR]) or math.isnan(metrics[R_SQUARED]))):  \n",
        "        best_from_iterations = metrics\n",
        "        best = metrics\n",
        "        results['best'] = conf\n",
        "        if os.path.exists(grid_checkpoint_file):\n",
        "          os.remove(grid_checkpoint_file)\n",
        "        os.rename(checkpoint_file, grid_checkpoint_file)  \n",
        "    else:\n",
        "      results[str(conf)] = best_from_iterations\n",
        "      t.save(results, GRID_RESULTS_FILE)\n",
        "    \n",
        "  return best"
      ],
      "execution_count": null,
      "outputs": []
    },
    {
      "cell_type": "code",
      "metadata": {
        "id": "ne5cZSv4Habn"
      },
      "source": [
        "def train_and_evaluate_CEnsored(checkpoint, model_fn = DenseNetwork, plot = False, log = True, device = 'cpu', truncated_low = None, truncated_high = None):\n",
        "  def grid_callback(conf):\n",
        "    model = model_fn()\n",
        "    loader_train = t.utils.data.DataLoader(dataset_train, batch_size = conf['batch'], shuffle = True, num_workers = 0, collate_fn = censored_collate_fn)\n",
        "    loader_val = t.utils.data.DataLoader(dataset_val, batch_size = len(dataset_val), shuffle = False, num_workers = 0, collate_fn = censored_collate_fn)\n",
        "    gamma_model = get_gamma()\n",
        "    loss_fn = Heteroscedastic_Reparametrized_Scaled_Tobit_Loss(device, truncated_low = truncated_low, truncated_high = truncated_high)\n",
        "    params = [\n",
        "      {'params': model.parameters()},\n",
        "      {'params': gamma_model.parameters()}\n",
        "    ]\n",
        "    optimizer = t.optim.SGD(params, lr = conf['max_lr'] / conf['div_factor'], momentum = conf['max_momentum'], weight_decay = conf['weight_decay'])\n",
        "    scheduler = t.optim.lr_scheduler.OneCycleLR(\n",
        "      optimizer, \n",
        "      max_lr = conf['max_lr'], \n",
        "      steps_per_epoch = len(loader_train), \n",
        "      epochs = conf['epochs'],\n",
        "      pct_start = conf['pct_start'],\n",
        "      anneal_strategy = conf['anneal_strategy'],\n",
        "      base_momentum = conf['base_momentum'],\n",
        "      max_momentum = conf['max_momentum'],\n",
        "      div_factor = conf['div_factor'],\n",
        "      final_div_factor = conf['final_div_factor']\n",
        "    )\n",
        "    train_metrics, val_metrics, best = train_network(\n",
        "        model, gamma_model, loss_fn, optimizer, scheduler, loader_train, loader_val, checkpoint, conf['batch'], len(dataset_val), conf['epochs'], grad_clip = conf['grad_clip'], log = log)\n",
        "    if plot:\n",
        "      plot_epochs(train_metrics, val_metrics)\n",
        "    return best\n",
        "  return grid_callback"
      ],
      "execution_count": null,
      "outputs": []
    },
    {
      "cell_type": "code",
      "metadata": {
        "id": "xMFl7-RVzKq1"
      },
      "source": [
        "def config_validation(conf):\n",
        "  return conf['div_factor'] <= conf['final_div_factor'] and conf['max_momentum'] >= conf['base_momentum']"
      ],
      "execution_count": null,
      "outputs": []
    },
    {
      "cell_type": "markdown",
      "metadata": {
        "id": "uNEONLmCeB3v"
      },
      "source": [
        "# Plot Selected(With Grid) Model"
      ]
    },
    {
      "cell_type": "code",
      "metadata": {
        "id": "zQODjvFmA_TU"
      },
      "source": [
        "def plot_and_evaluate_CEnsored(checkpoint_name, isGrid = True, model_fn = DenseNetwork, truncated_low = None, truncated_high = None):\n",
        "  model = model_fn()\n",
        "  checkpoint = t.load(('grid ' if isGrid else '') + checkpoint_name + '.tar')\n",
        "  model.load_state_dict(checkpoint['model'])\n",
        "  model.eval()\n",
        "\n",
        "  gamma_model = get_gamma()\n",
        "  gamma_model.load_state_dict(checkpoint['gamma'])\n",
        "  gamma_model.eval()\n",
        "\n",
        "  plot_beta(label = 'true distribution')\n",
        "  plot_dataset(dataset_val, size = .3, label = 'validation data')\n",
        "  plot_net(model, gamma_model)\n",
        "  plt.ylim([-2.5, 2.5])\n",
        "  plt.xlabel('input (standardized)')\n",
        "  plt.ylabel('outcome (standardized)')\n",
        "  lgnd = plt.legend()\n",
        "  lgnd.legendHandles[0]._sizes = [10]\n",
        "  lgnd.legendHandles[1]._sizes = [10]\n",
        "  lgnd.legendHandles[2]._sizes = [10]\n",
        "  plt.savefig('{}.pdf'.format(checkpoint_name), dpi = 300, format = 'pdf')\n",
        "  plt.savefig('{}.svg'.format(checkpoint_name), dpi = 300, format = 'svg')\n",
        "  plt.savefig('{}.png'.format(checkpoint_name), dpi = 200, format = 'png')\n",
        "  plt.show()\n",
        "\n",
        "  plot_beta(label = 'true distribution')\n",
        "  plot_dataset(dataset_val, size = .3, label = 'validation data')\n",
        "  plot_net(model, gamma_model, with_std = True)\n",
        "  plt.ylim([-2.5, 2.5])\n",
        "  plt.xlabel('input (standardized)')\n",
        "  plt.ylabel('outcome (standardized)')\n",
        "  lgnd = plt.legend()\n",
        "  lgnd.legendHandles[0]._sizes = [10]\n",
        "  lgnd.legendHandles[1]._sizes = [10]\n",
        "  lgnd.legendHandles[2]._sizes = [10]\n",
        "  lgnd.legendHandles[3]._sizes = [10]\n",
        "  plt.savefig('{}-with-std.pdf'.format(checkpoint_name), dpi = 300, format = 'pdf')\n",
        "  plt.savefig('{}-with-std.svg'.format(checkpoint_name), dpi = 300, format = 'svg')\n",
        "  plt.savefig('{}-with-std.png'.format(checkpoint_name), dpi = 200, format = 'png')\n",
        "  plt.show()\n",
        "\n",
        "  plot_fixed_and_dynamic_std(model, gamma_model, 0.5203)\n",
        "  plt.xlabel('unidimensional PCA')\n",
        "  plt.ylabel('standard deviation')\n",
        "  lgnd = plt.legend()\n",
        "  lgnd.legendHandles[0]._sizes = [10]\n",
        "  lgnd.legendHandles[1]._sizes = [10]\n",
        "  plt.savefig('{}-two-std.pdf'.format(checkpoint_name), dpi = 300, format = 'pdf')\n",
        "  plt.savefig('{}-two-std.svg'.format(checkpoint_name), dpi = 300, format = 'svg')\n",
        "  plt.savefig('{}-two-std.png'.format(checkpoint_name), dpi = 300, format = 'png')\n",
        "  plt.show()\n",
        "\n",
        "  loss_fn = Heteroscedastic_Reparametrized_Scaled_Tobit_Loss('cpu', truncated_low = truncated_low, truncated_high = truncated_high)\n",
        "\n",
        "  loader_val = t.utils.data.DataLoader(dataset_val, batch_size = len(dataset_val), shuffle = False, num_workers = 0, collate_fn = censored_collate_fn)\n",
        "  val_metrics = eval_network(model, gamma_model, loader_val, loss_fn, len(dataset_val))\n",
        "  print('Absolute error - validation', val_metrics[ABS_ERR])\n",
        "  print('R2 - validation', val_metrics[R_SQUARED])\n",
        "\n",
        "  loader_test = t.utils.data.DataLoader(dataset_test, batch_size = len(dataset_test), shuffle = False, num_workers = 0, collate_fn = uncensored_collate_fn)\n",
        "  test_metrics = eval_network(model, gamma_model, loader_test, loss_fn, len(dataset_test), is_eval_bounded = False)\n",
        "  print('Absolute error - test', test_metrics[ABS_ERR])\n",
        "  print('R2 - test', test_metrics[R_SQUARED])"
      ],
      "execution_count": null,
      "outputs": []
    },
    {
      "cell_type": "markdown",
      "metadata": {
        "id": "DpBVq2yam9OQ"
      },
      "source": [
        "# Common Tobit Setup"
      ]
    },
    {
      "cell_type": "code",
      "metadata": {
        "id": "_NcTGWKk8MbW"
      },
      "source": [
        "censored_collate_fn = distinguish_censored_versus_observed_data(bound_min, bound_max)\n",
        "uncensored_collate_fn = distinguish_censored_versus_observed_data(-math.inf, math.inf)"
      ],
      "execution_count": null,
      "outputs": []
    },
    {
      "cell_type": "code",
      "metadata": {
        "id": "WoXcVqPnSH0E"
      },
      "source": [
        "def plot_tobit_loader(loader):\n",
        "  x_list, y_list = [], []\n",
        "  for x, y, single_valued_indexes, left_censored_indexes, right_censored_indexes in loader:\n",
        "      for k in range(len(x)):\n",
        "        x_list.append(to_numpy(x[k]))\n",
        "        y_list.append(y[k].item())\n",
        "  plt.scatter(x_list, y_list, s = .01)\n",
        "  plt.show()"
      ],
      "execution_count": null,
      "outputs": []
    },
    {
      "cell_type": "code",
      "metadata": {
        "id": "f3EaZLwYQk9y"
      },
      "source": [
        "tobit_loader_train = t.utils.data.DataLoader(dataset_train, batch_size = 100, shuffle = True, num_workers = 0, collate_fn = censored_collate_fn)\n",
        "tobit_loader_val = t.utils.data.DataLoader(dataset_val, batch_size = len(dataset_val), shuffle = False, num_workers = 0, collate_fn = censored_collate_fn)\n",
        "tobit_loader_test = t.utils.data.DataLoader(dataset_test, batch_size = len(dataset_test), shuffle = False, num_workers = 0, collate_fn = uncensored_collate_fn)"
      ],
      "execution_count": null,
      "outputs": []
    },
    {
      "cell_type": "code",
      "metadata": {
        "id": "5GDZ2rN9SX5g"
      },
      "source": [
        "# plot_tobit_loader(tobit_loader_train)\n",
        "# plot_tobit_loader(tobit_loader_val)\n",
        "# plot_tobit_loader(tobit_loader_test)"
      ],
      "execution_count": null,
      "outputs": []
    },
    {
      "cell_type": "markdown",
      "metadata": {
        "id": "WqjahEPSms8K"
      },
      "source": [
        "# Reparametrized Deep Tobit With Truncation"
      ]
    },
    {
      "cell_type": "markdown",
      "metadata": {
        "id": "ZzMeqCIte3Ij"
      },
      "source": [
        "## Grid Search"
      ]
    },
    {
      "cell_type": "code",
      "metadata": {
        "id": "0ANlHLwfe6ly"
      },
      "source": [
        "train_and_evaluate_net = train_and_evaluate_CEnsored(CHECKPOINT_DEEP_TOBIT_REPARAMETRIZED_TRUNCATED, model_fn = DenseNetwork, plot = False, log = False, truncated_low = zero_normalized)"
      ],
      "execution_count": null,
      "outputs": []
    },
    {
      "cell_type": "code",
      "metadata": {
        "id": "hrcRbirFfHBE"
      },
      "source": [
        "# conf = {\n",
        "#     'anneal_strategy': 'linear', \n",
        "#     'base_momentum': 0.85, \n",
        "#     'batch': 100, \n",
        "#     'div_factor': 5, \n",
        "#     'epochs': 20, \n",
        "#     'final_div_factor': 10000.0, \n",
        "#     'grad_clip': 1e-1, \n",
        "#     'max_lr': 0.0005, \n",
        "#     'max_momentum': 0.95, \n",
        "#     'pct_start': 0.45, \n",
        "#     'weight_decay': 0\n",
        "#   }\n",
        "# train_and_evaluate_net(conf)"
      ],
      "execution_count": null,
      "outputs": []
    },
    {
      "cell_type": "code",
      "metadata": {
        "id": "SncWUDYSfadZ",
        "colab": {
          "base_uri": "https://localhost:8080/"
        },
        "outputId": "796806c9-ba68-4d06-bbc4-3715fbd325d5"
      },
      "source": [
        "grid_config = [{\n",
        "    'max_lr': [1e-5, 5e-5, 1e-4, 5e-4, 1e-3, 5e-3],\n",
        "    'epochs': [10, 20],\n",
        "    'batch': [100, 200],\n",
        "    'pct_start': [0.45],\n",
        "    'anneal_strategy': ['linear'],\n",
        "    'base_momentum': [0.85],\n",
        "    'max_momentum': [0.95],\n",
        "    'div_factor': [10, 5, 2],\n",
        "    'final_div_factor': [1e4],\n",
        "    'weight_decay': [0],\n",
        "    'grad_clip': [1, 10, 100]\n",
        "}]\n",
        "grid_best = grid_search(grid_config, train_and_evaluate_net, CHECKPOINT_DEEP_TOBIT_REPARAMETRIZED_TRUNCATED, conf_validation = config_validation, nb_iterations = 1)"
      ],
      "execution_count": null,
      "outputs": [
        {
          "output_type": "stream",
          "name": "stdout",
          "text": [
            "----- grid search 1/216 -----\n",
            "Config: {'anneal_strategy': 'linear', 'base_momentum': 0.85, 'batch': 100, 'div_factor': 10, 'epochs': 10, 'final_div_factor': 10000.0, 'grad_clip': 1, 'max_lr': 1e-05, 'max_momentum': 0.95, 'pct_start': 0.45, 'weight_decay': 0}\n",
            "Best absolute error: 0.8446890711784363 R2: -0.1645939961136016\n",
            "----- grid search 2/216 -----\n",
            "Config: {'anneal_strategy': 'linear', 'base_momentum': 0.85, 'batch': 100, 'div_factor': 10, 'epochs': 10, 'final_div_factor': 10000.0, 'grad_clip': 1, 'max_lr': 5e-05, 'max_momentum': 0.95, 'pct_start': 0.45, 'weight_decay': 0}\n",
            "Best absolute error: 0.3036527931690216 R2: 0.7692248630462084\n",
            "----- grid search 3/216 -----\n",
            "Config: {'anneal_strategy': 'linear', 'base_momentum': 0.85, 'batch': 100, 'div_factor': 10, 'epochs': 10, 'final_div_factor': 10000.0, 'grad_clip': 1, 'max_lr': 0.0001, 'max_momentum': 0.95, 'pct_start': 0.45, 'weight_decay': 0}\n",
            "Best absolute error: 0.36812105774879456 R2: 0.6153888631386408\n",
            "----- grid search 4/216 -----\n",
            "Config: {'anneal_strategy': 'linear', 'base_momentum': 0.85, 'batch': 100, 'div_factor': 10, 'epochs': 10, 'final_div_factor': 10000.0, 'grad_clip': 1, 'max_lr': 0.0005, 'max_momentum': 0.95, 'pct_start': 0.45, 'weight_decay': 0}\n",
            "Best absolute error: 0.271353155374527 R2: 0.7904461257802707\n",
            "----- grid search 5/216 -----\n",
            "Config: {'anneal_strategy': 'linear', 'base_momentum': 0.85, 'batch': 100, 'div_factor': 10, 'epochs': 10, 'final_div_factor': 10000.0, 'grad_clip': 1, 'max_lr': 0.001, 'max_momentum': 0.95, 'pct_start': 0.45, 'weight_decay': 0}\n",
            "Best absolute error: 0.30483776330947876 R2: 0.7250180072855692\n",
            "----- grid search 6/216 -----\n",
            "Config: {'anneal_strategy': 'linear', 'base_momentum': 0.85, 'batch': 100, 'div_factor': 10, 'epochs': 10, 'final_div_factor': 10000.0, 'grad_clip': 1, 'max_lr': 0.005, 'max_momentum': 0.95, 'pct_start': 0.45, 'weight_decay': 0}\n",
            "Best absolute error: 0.2195286601781845 R2: 0.8701711318336733\n",
            "----- grid search 7/216 -----\n",
            "Config: {'anneal_strategy': 'linear', 'base_momentum': 0.85, 'batch': 100, 'div_factor': 10, 'epochs': 10, 'final_div_factor': 10000.0, 'grad_clip': 10, 'max_lr': 1e-05, 'max_momentum': 0.95, 'pct_start': 0.45, 'weight_decay': 0}\n",
            "Best absolute error: 1.1276549100875854 R2: -1.0545780969729566\n",
            "----- grid search 8/216 -----\n",
            "Config: {'anneal_strategy': 'linear', 'base_momentum': 0.85, 'batch': 100, 'div_factor': 10, 'epochs': 10, 'final_div_factor': 10000.0, 'grad_clip': 10, 'max_lr': 5e-05, 'max_momentum': 0.95, 'pct_start': 0.45, 'weight_decay': 0}\n",
            "Best absolute error: 0.28286072611808777 R2: 0.7491093098870258\n",
            "----- grid search 9/216 -----\n",
            "Config: {'anneal_strategy': 'linear', 'base_momentum': 0.85, 'batch': 100, 'div_factor': 10, 'epochs': 10, 'final_div_factor': 10000.0, 'grad_clip': 10, 'max_lr': 0.0001, 'max_momentum': 0.95, 'pct_start': 0.45, 'weight_decay': 0}\n",
            "Best absolute error: 0.23613174259662628 R2: 0.8400067252722323\n",
            "----- grid search 10/216 -----\n",
            "Config: {'anneal_strategy': 'linear', 'base_momentum': 0.85, 'batch': 100, 'div_factor': 10, 'epochs': 10, 'final_div_factor': 10000.0, 'grad_clip': 10, 'max_lr': 0.0005, 'max_momentum': 0.95, 'pct_start': 0.45, 'weight_decay': 0}\n",
            "Best absolute error: 0.21585601568222046 R2: 0.8657178052377165\n",
            "----- grid search 11/216 -----\n",
            "Config: {'anneal_strategy': 'linear', 'base_momentum': 0.85, 'batch': 100, 'div_factor': 10, 'epochs': 10, 'final_div_factor': 10000.0, 'grad_clip': 10, 'max_lr': 0.001, 'max_momentum': 0.95, 'pct_start': 0.45, 'weight_decay': 0}\n",
            "Best absolute error: 0.21537171304225922 R2: 0.8651780086469906\n",
            "----- grid search 12/216 -----\n",
            "Config: {'anneal_strategy': 'linear', 'base_momentum': 0.85, 'batch': 100, 'div_factor': 10, 'epochs': 10, 'final_div_factor': 10000.0, 'grad_clip': 10, 'max_lr': 0.005, 'max_momentum': 0.95, 'pct_start': 0.45, 'weight_decay': 0}\n",
            "Best absolute error: 0.20321887731552124 R2: 0.8800195122752745\n",
            "----- grid search 13/216 -----\n",
            "Config: {'anneal_strategy': 'linear', 'base_momentum': 0.85, 'batch': 100, 'div_factor': 10, 'epochs': 10, 'final_div_factor': 10000.0, 'grad_clip': 100, 'max_lr': 1e-05, 'max_momentum': 0.95, 'pct_start': 0.45, 'weight_decay': 0}\n",
            "Best absolute error: 0.24037466943264008 R2: 0.8401835125692332\n",
            "----- grid search 14/216 -----\n",
            "Config: {'anneal_strategy': 'linear', 'base_momentum': 0.85, 'batch': 100, 'div_factor': 10, 'epochs': 10, 'final_div_factor': 10000.0, 'grad_clip': 100, 'max_lr': 5e-05, 'max_momentum': 0.95, 'pct_start': 0.45, 'weight_decay': 0}\n",
            "Best absolute error: 0.21327798068523407 R2: 0.8754173883788259\n",
            "----- grid search 15/216 -----\n",
            "Config: {'anneal_strategy': 'linear', 'base_momentum': 0.85, 'batch': 100, 'div_factor': 10, 'epochs': 10, 'final_div_factor': 10000.0, 'grad_clip': 100, 'max_lr': 0.0001, 'max_momentum': 0.95, 'pct_start': 0.45, 'weight_decay': 0}\n",
            "Best absolute error: 0.212988018989563 R2: 0.8763893452736724\n",
            "----- grid search 16/216 -----\n",
            "Config: {'anneal_strategy': 'linear', 'base_momentum': 0.85, 'batch': 100, 'div_factor': 10, 'epochs': 10, 'final_div_factor': 10000.0, 'grad_clip': 100, 'max_lr': 0.0005, 'max_momentum': 0.95, 'pct_start': 0.45, 'weight_decay': 0}\n",
            "Best absolute error: 0.20224884152412415 R2: 0.8813158239190484\n",
            "----- grid search 17/216 -----\n",
            "Config: {'anneal_strategy': 'linear', 'base_momentum': 0.85, 'batch': 100, 'div_factor': 10, 'epochs': 10, 'final_div_factor': 10000.0, 'grad_clip': 100, 'max_lr': 0.001, 'max_momentum': 0.95, 'pct_start': 0.45, 'weight_decay': 0}\n",
            "Best absolute error: 0.20226866006851196 R2: 0.8756447888661233\n",
            "----- grid search 18/216 -----\n",
            "Config: {'anneal_strategy': 'linear', 'base_momentum': 0.85, 'batch': 100, 'div_factor': 10, 'epochs': 10, 'final_div_factor': 10000.0, 'grad_clip': 100, 'max_lr': 0.005, 'max_momentum': 0.95, 'pct_start': 0.45, 'weight_decay': 0}\n"
          ]
        },
        {
          "output_type": "stream",
          "name": "stderr",
          "text": [
            "Traceback (most recent call last):\n",
            "  File \"<ipython-input-23-25d27a143aa6>\", line 39, in train_network\n",
            "    train_metrics[ABS_ERR] += (sk.metrics.mean_absolute_error(y, y_pred) * weight)\n",
            "  File \"/usr/local/lib/python3.7/dist-packages/sklearn/metrics/_regression.py\", line 192, in mean_absolute_error\n",
            "    y_true, y_pred, multioutput\n",
            "  File \"/usr/local/lib/python3.7/dist-packages/sklearn/metrics/_regression.py\", line 96, in _check_reg_targets\n",
            "    y_pred = check_array(y_pred, ensure_2d=False, dtype=dtype)\n",
            "  File \"/usr/local/lib/python3.7/dist-packages/sklearn/utils/validation.py\", line 800, in check_array\n",
            "    _assert_all_finite(array, allow_nan=force_all_finite == \"allow-nan\")\n",
            "  File \"/usr/local/lib/python3.7/dist-packages/sklearn/utils/validation.py\", line 116, in _assert_all_finite\n",
            "    type_err, msg_dtype if msg_dtype is not None else X.dtype\n",
            "ValueError: Input contains NaN, infinity or a value too large for dtype('float32').\n"
          ]
        },
        {
          "output_type": "stream",
          "name": "stdout",
          "text": [
            "Best absolute error: 0.2041676640510559 R2: 0.8742876453784432\n",
            "----- grid search 19/216 -----\n",
            "Config: {'anneal_strategy': 'linear', 'base_momentum': 0.85, 'batch': 100, 'div_factor': 10, 'epochs': 20, 'final_div_factor': 10000.0, 'grad_clip': 1, 'max_lr': 1e-05, 'max_momentum': 0.95, 'pct_start': 0.45, 'weight_decay': 0}\n",
            "Best absolute error: 1.0491572618484497 R2: -0.33600885533122726\n",
            "----- grid search 20/216 -----\n",
            "Config: {'anneal_strategy': 'linear', 'base_momentum': 0.85, 'batch': 100, 'div_factor': 10, 'epochs': 20, 'final_div_factor': 10000.0, 'grad_clip': 1, 'max_lr': 5e-05, 'max_momentum': 0.95, 'pct_start': 0.45, 'weight_decay': 0}\n",
            "Best absolute error: 0.6343656778335571 R2: 0.45796805942293417\n",
            "----- grid search 21/216 -----\n",
            "Config: {'anneal_strategy': 'linear', 'base_momentum': 0.85, 'batch': 100, 'div_factor': 10, 'epochs': 20, 'final_div_factor': 10000.0, 'grad_clip': 1, 'max_lr': 0.0001, 'max_momentum': 0.95, 'pct_start': 0.45, 'weight_decay': 0}\n",
            "Best absolute error: 0.49541106820106506 R2: 0.5082323662305428\n",
            "----- grid search 22/216 -----\n",
            "Config: {'anneal_strategy': 'linear', 'base_momentum': 0.85, 'batch': 100, 'div_factor': 10, 'epochs': 20, 'final_div_factor': 10000.0, 'grad_clip': 1, 'max_lr': 0.0005, 'max_momentum': 0.95, 'pct_start': 0.45, 'weight_decay': 0}\n",
            "Best absolute error: 0.23921990394592285 R2: 0.8454169596416583\n",
            "----- grid search 23/216 -----\n",
            "Config: {'anneal_strategy': 'linear', 'base_momentum': 0.85, 'batch': 100, 'div_factor': 10, 'epochs': 20, 'final_div_factor': 10000.0, 'grad_clip': 1, 'max_lr': 0.001, 'max_momentum': 0.95, 'pct_start': 0.45, 'weight_decay': 0}\n",
            "Best absolute error: 0.22653597593307495 R2: 0.8633263788155942\n",
            "----- grid search 24/216 -----\n",
            "Config: {'anneal_strategy': 'linear', 'base_momentum': 0.85, 'batch': 100, 'div_factor': 10, 'epochs': 20, 'final_div_factor': 10000.0, 'grad_clip': 1, 'max_lr': 0.005, 'max_momentum': 0.95, 'pct_start': 0.45, 'weight_decay': 0}\n",
            "Best absolute error: 0.21351830661296844 R2: 0.8754083876256435\n",
            "----- grid search 25/216 -----\n",
            "Config: {'anneal_strategy': 'linear', 'base_momentum': 0.85, 'batch': 100, 'div_factor': 10, 'epochs': 20, 'final_div_factor': 10000.0, 'grad_clip': 10, 'max_lr': 1e-05, 'max_momentum': 0.95, 'pct_start': 0.45, 'weight_decay': 0}\n",
            "Best absolute error: 0.355204701423645 R2: 0.7032231834467506\n",
            "----- grid search 26/216 -----\n",
            "Config: {'anneal_strategy': 'linear', 'base_momentum': 0.85, 'batch': 100, 'div_factor': 10, 'epochs': 20, 'final_div_factor': 10000.0, 'grad_clip': 10, 'max_lr': 5e-05, 'max_momentum': 0.95, 'pct_start': 0.45, 'weight_decay': 0}\n",
            "Best absolute error: 0.23426006734371185 R2: 0.847588577517753\n",
            "----- grid search 27/216 -----\n",
            "Config: {'anneal_strategy': 'linear', 'base_momentum': 0.85, 'batch': 100, 'div_factor': 10, 'epochs': 20, 'final_div_factor': 10000.0, 'grad_clip': 10, 'max_lr': 0.0001, 'max_momentum': 0.95, 'pct_start': 0.45, 'weight_decay': 0}\n",
            "Best absolute error: 0.24287816882133484 R2: 0.8286457768556237\n",
            "----- grid search 28/216 -----\n",
            "Config: {'anneal_strategy': 'linear', 'base_momentum': 0.85, 'batch': 100, 'div_factor': 10, 'epochs': 20, 'final_div_factor': 10000.0, 'grad_clip': 10, 'max_lr': 0.0005, 'max_momentum': 0.95, 'pct_start': 0.45, 'weight_decay': 0}\n",
            "Best absolute error: 0.20907220244407654 R2: 0.8794735754369\n",
            "----- grid search 29/216 -----\n",
            "Config: {'anneal_strategy': 'linear', 'base_momentum': 0.85, 'batch': 100, 'div_factor': 10, 'epochs': 20, 'final_div_factor': 10000.0, 'grad_clip': 10, 'max_lr': 0.001, 'max_momentum': 0.95, 'pct_start': 0.45, 'weight_decay': 0}\n",
            "Best absolute error: 0.20444411039352417 R2: 0.8744799092597195\n",
            "----- grid search 30/216 -----\n",
            "Config: {'anneal_strategy': 'linear', 'base_momentum': 0.85, 'batch': 100, 'div_factor': 10, 'epochs': 20, 'final_div_factor': 10000.0, 'grad_clip': 10, 'max_lr': 0.005, 'max_momentum': 0.95, 'pct_start': 0.45, 'weight_decay': 0}\n",
            "Best absolute error: 0.19960682094097137 R2: 0.8831024026486762\n",
            "----- grid search 31/216 -----\n",
            "Config: {'anneal_strategy': 'linear', 'base_momentum': 0.85, 'batch': 100, 'div_factor': 10, 'epochs': 20, 'final_div_factor': 10000.0, 'grad_clip': 100, 'max_lr': 1e-05, 'max_momentum': 0.95, 'pct_start': 0.45, 'weight_decay': 0}\n",
            "Best absolute error: 0.22695153951644897 R2: 0.8631159901752343\n",
            "----- grid search 32/216 -----\n",
            "Config: {'anneal_strategy': 'linear', 'base_momentum': 0.85, 'batch': 100, 'div_factor': 10, 'epochs': 20, 'final_div_factor': 10000.0, 'grad_clip': 100, 'max_lr': 5e-05, 'max_momentum': 0.95, 'pct_start': 0.45, 'weight_decay': 0}\n",
            "Best absolute error: 0.2103188931941986 R2: 0.8724028670521715\n",
            "----- grid search 33/216 -----\n",
            "Config: {'anneal_strategy': 'linear', 'base_momentum': 0.85, 'batch': 100, 'div_factor': 10, 'epochs': 20, 'final_div_factor': 10000.0, 'grad_clip': 100, 'max_lr': 0.0001, 'max_momentum': 0.95, 'pct_start': 0.45, 'weight_decay': 0}\n",
            "Best absolute error: 0.20936065912246704 R2: 0.8724246556292594\n",
            "----- grid search 34/216 -----\n",
            "Config: {'anneal_strategy': 'linear', 'base_momentum': 0.85, 'batch': 100, 'div_factor': 10, 'epochs': 20, 'final_div_factor': 10000.0, 'grad_clip': 100, 'max_lr': 0.0005, 'max_momentum': 0.95, 'pct_start': 0.45, 'weight_decay': 0}\n",
            "Best absolute error: 0.20310498774051666 R2: 0.8829420180021056\n",
            "----- grid search 35/216 -----\n",
            "Config: {'anneal_strategy': 'linear', 'base_momentum': 0.85, 'batch': 100, 'div_factor': 10, 'epochs': 20, 'final_div_factor': 10000.0, 'grad_clip': 100, 'max_lr': 0.001, 'max_momentum': 0.95, 'pct_start': 0.45, 'weight_decay': 0}\n",
            "Best absolute error: 0.1988130807876587 R2: 0.8859755023548125\n",
            "----- grid search 36/216 -----\n",
            "Config: {'anneal_strategy': 'linear', 'base_momentum': 0.85, 'batch': 100, 'div_factor': 10, 'epochs': 20, 'final_div_factor': 10000.0, 'grad_clip': 100, 'max_lr': 0.005, 'max_momentum': 0.95, 'pct_start': 0.45, 'weight_decay': 0}\n"
          ]
        },
        {
          "output_type": "stream",
          "name": "stderr",
          "text": [
            "Traceback (most recent call last):\n",
            "  File \"<ipython-input-23-25d27a143aa6>\", line 39, in train_network\n",
            "    train_metrics[ABS_ERR] += (sk.metrics.mean_absolute_error(y, y_pred) * weight)\n",
            "  File \"/usr/local/lib/python3.7/dist-packages/sklearn/metrics/_regression.py\", line 192, in mean_absolute_error\n",
            "    y_true, y_pred, multioutput\n",
            "  File \"/usr/local/lib/python3.7/dist-packages/sklearn/metrics/_regression.py\", line 96, in _check_reg_targets\n",
            "    y_pred = check_array(y_pred, ensure_2d=False, dtype=dtype)\n",
            "  File \"/usr/local/lib/python3.7/dist-packages/sklearn/utils/validation.py\", line 800, in check_array\n",
            "    _assert_all_finite(array, allow_nan=force_all_finite == \"allow-nan\")\n",
            "  File \"/usr/local/lib/python3.7/dist-packages/sklearn/utils/validation.py\", line 116, in _assert_all_finite\n",
            "    type_err, msg_dtype if msg_dtype is not None else X.dtype\n",
            "ValueError: Input contains NaN, infinity or a value too large for dtype('float32').\n"
          ]
        },
        {
          "output_type": "stream",
          "name": "stdout",
          "text": [
            "Best absolute error: 0.2115754336118698 R2: 0.8574687211291283\n",
            "----- grid search 37/216 -----\n",
            "Config: {'anneal_strategy': 'linear', 'base_momentum': 0.85, 'batch': 100, 'div_factor': 5, 'epochs': 10, 'final_div_factor': 10000.0, 'grad_clip': 1, 'max_lr': 1e-05, 'max_momentum': 0.95, 'pct_start': 0.45, 'weight_decay': 0}\n",
            "Best absolute error: 0.32616961002349854 R2: 0.7244046005392358\n",
            "----- grid search 38/216 -----\n",
            "Config: {'anneal_strategy': 'linear', 'base_momentum': 0.85, 'batch': 100, 'div_factor': 5, 'epochs': 10, 'final_div_factor': 10000.0, 'grad_clip': 1, 'max_lr': 5e-05, 'max_momentum': 0.95, 'pct_start': 0.45, 'weight_decay': 0}\n",
            "Best absolute error: 0.5802566409111023 R2: 0.42486254460411155\n",
            "----- grid search 39/216 -----\n",
            "Config: {'anneal_strategy': 'linear', 'base_momentum': 0.85, 'batch': 100, 'div_factor': 5, 'epochs': 10, 'final_div_factor': 10000.0, 'grad_clip': 1, 'max_lr': 0.0001, 'max_momentum': 0.95, 'pct_start': 0.45, 'weight_decay': 0}\n",
            "Best absolute error: 0.37371814250946045 R2: 0.7255508270252928\n",
            "----- grid search 40/216 -----\n",
            "Config: {'anneal_strategy': 'linear', 'base_momentum': 0.85, 'batch': 100, 'div_factor': 5, 'epochs': 10, 'final_div_factor': 10000.0, 'grad_clip': 1, 'max_lr': 0.0005, 'max_momentum': 0.95, 'pct_start': 0.45, 'weight_decay': 0}\n",
            "Best absolute error: 0.27906090021133423 R2: 0.7535021729398015\n",
            "----- grid search 41/216 -----\n",
            "Config: {'anneal_strategy': 'linear', 'base_momentum': 0.85, 'batch': 100, 'div_factor': 5, 'epochs': 10, 'final_div_factor': 10000.0, 'grad_clip': 1, 'max_lr': 0.001, 'max_momentum': 0.95, 'pct_start': 0.45, 'weight_decay': 0}\n",
            "Best absolute error: 0.2318955659866333 R2: 0.8503844045534746\n",
            "----- grid search 42/216 -----\n",
            "Config: {'anneal_strategy': 'linear', 'base_momentum': 0.85, 'batch': 100, 'div_factor': 5, 'epochs': 10, 'final_div_factor': 10000.0, 'grad_clip': 1, 'max_lr': 0.005, 'max_momentum': 0.95, 'pct_start': 0.45, 'weight_decay': 0}\n",
            "Best absolute error: 0.22593630850315094 R2: 0.8550273873656581\n",
            "----- grid search 43/216 -----\n",
            "Config: {'anneal_strategy': 'linear', 'base_momentum': 0.85, 'batch': 100, 'div_factor': 5, 'epochs': 10, 'final_div_factor': 10000.0, 'grad_clip': 10, 'max_lr': 1e-05, 'max_momentum': 0.95, 'pct_start': 0.45, 'weight_decay': 0}\n",
            "Best absolute error: 0.3549502193927765 R2: 0.6026842806245843\n",
            "----- grid search 44/216 -----\n",
            "Config: {'anneal_strategy': 'linear', 'base_momentum': 0.85, 'batch': 100, 'div_factor': 5, 'epochs': 10, 'final_div_factor': 10000.0, 'grad_clip': 10, 'max_lr': 5e-05, 'max_momentum': 0.95, 'pct_start': 0.45, 'weight_decay': 0}\n",
            "Best absolute error: 0.2485959827899933 R2: 0.8278599819756114\n",
            "----- grid search 45/216 -----\n",
            "Config: {'anneal_strategy': 'linear', 'base_momentum': 0.85, 'batch': 100, 'div_factor': 5, 'epochs': 10, 'final_div_factor': 10000.0, 'grad_clip': 10, 'max_lr': 0.0001, 'max_momentum': 0.95, 'pct_start': 0.45, 'weight_decay': 0}\n",
            "Best absolute error: 0.2373345047235489 R2: 0.8363903425475808\n",
            "----- grid search 46/216 -----\n",
            "Config: {'anneal_strategy': 'linear', 'base_momentum': 0.85, 'batch': 100, 'div_factor': 5, 'epochs': 10, 'final_div_factor': 10000.0, 'grad_clip': 10, 'max_lr': 0.0005, 'max_momentum': 0.95, 'pct_start': 0.45, 'weight_decay': 0}\n",
            "Best absolute error: 0.2191239893436432 R2: 0.8696132885941517\n",
            "----- grid search 47/216 -----\n",
            "Config: {'anneal_strategy': 'linear', 'base_momentum': 0.85, 'batch': 100, 'div_factor': 5, 'epochs': 10, 'final_div_factor': 10000.0, 'grad_clip': 10, 'max_lr': 0.001, 'max_momentum': 0.95, 'pct_start': 0.45, 'weight_decay': 0}\n",
            "Best absolute error: 0.21518588066101074 R2: 0.8753246224660624\n",
            "----- grid search 48/216 -----\n",
            "Config: {'anneal_strategy': 'linear', 'base_momentum': 0.85, 'batch': 100, 'div_factor': 5, 'epochs': 10, 'final_div_factor': 10000.0, 'grad_clip': 10, 'max_lr': 0.005, 'max_momentum': 0.95, 'pct_start': 0.45, 'weight_decay': 0}\n",
            "Best absolute error: 0.2014210969209671 R2: 0.8773040258045813\n",
            "----- grid search 49/216 -----\n",
            "Config: {'anneal_strategy': 'linear', 'base_momentum': 0.85, 'batch': 100, 'div_factor': 5, 'epochs': 10, 'final_div_factor': 10000.0, 'grad_clip': 100, 'max_lr': 1e-05, 'max_momentum': 0.95, 'pct_start': 0.45, 'weight_decay': 0}\n",
            "Best absolute error: 0.23760662972927094 R2: 0.8458842715275926\n",
            "----- grid search 50/216 -----\n",
            "Config: {'anneal_strategy': 'linear', 'base_momentum': 0.85, 'batch': 100, 'div_factor': 5, 'epochs': 10, 'final_div_factor': 10000.0, 'grad_clip': 100, 'max_lr': 5e-05, 'max_momentum': 0.95, 'pct_start': 0.45, 'weight_decay': 0}\n",
            "Best absolute error: 0.23034557700157166 R2: 0.8573808963326965\n",
            "----- grid search 51/216 -----\n",
            "Config: {'anneal_strategy': 'linear', 'base_momentum': 0.85, 'batch': 100, 'div_factor': 5, 'epochs': 10, 'final_div_factor': 10000.0, 'grad_clip': 100, 'max_lr': 0.0001, 'max_momentum': 0.95, 'pct_start': 0.45, 'weight_decay': 0}\n",
            "Best absolute error: 0.20776627957820892 R2: 0.8773286694961127\n",
            "----- grid search 52/216 -----\n",
            "Config: {'anneal_strategy': 'linear', 'base_momentum': 0.85, 'batch': 100, 'div_factor': 5, 'epochs': 10, 'final_div_factor': 10000.0, 'grad_clip': 100, 'max_lr': 0.0005, 'max_momentum': 0.95, 'pct_start': 0.45, 'weight_decay': 0}\n",
            "Best absolute error: 0.20126621425151825 R2: 0.8827697546573282\n",
            "----- grid search 53/216 -----\n",
            "Config: {'anneal_strategy': 'linear', 'base_momentum': 0.85, 'batch': 100, 'div_factor': 5, 'epochs': 10, 'final_div_factor': 10000.0, 'grad_clip': 100, 'max_lr': 0.001, 'max_momentum': 0.95, 'pct_start': 0.45, 'weight_decay': 0}\n",
            "Best absolute error: 0.2032732218503952 R2: 0.8776058971500282\n",
            "----- grid search 54/216 -----\n",
            "Config: {'anneal_strategy': 'linear', 'base_momentum': 0.85, 'batch': 100, 'div_factor': 5, 'epochs': 10, 'final_div_factor': 10000.0, 'grad_clip': 100, 'max_lr': 0.005, 'max_momentum': 0.95, 'pct_start': 0.45, 'weight_decay': 0}\n"
          ]
        },
        {
          "output_type": "stream",
          "name": "stderr",
          "text": [
            "Traceback (most recent call last):\n",
            "  File \"<ipython-input-23-25d27a143aa6>\", line 39, in train_network\n",
            "    train_metrics[ABS_ERR] += (sk.metrics.mean_absolute_error(y, y_pred) * weight)\n",
            "  File \"/usr/local/lib/python3.7/dist-packages/sklearn/metrics/_regression.py\", line 192, in mean_absolute_error\n",
            "    y_true, y_pred, multioutput\n",
            "  File \"/usr/local/lib/python3.7/dist-packages/sklearn/metrics/_regression.py\", line 96, in _check_reg_targets\n",
            "    y_pred = check_array(y_pred, ensure_2d=False, dtype=dtype)\n",
            "  File \"/usr/local/lib/python3.7/dist-packages/sklearn/utils/validation.py\", line 800, in check_array\n",
            "    _assert_all_finite(array, allow_nan=force_all_finite == \"allow-nan\")\n",
            "  File \"/usr/local/lib/python3.7/dist-packages/sklearn/utils/validation.py\", line 116, in _assert_all_finite\n",
            "    type_err, msg_dtype if msg_dtype is not None else X.dtype\n",
            "ValueError: Input contains NaN, infinity or a value too large for dtype('float32').\n"
          ]
        },
        {
          "output_type": "stream",
          "name": "stdout",
          "text": [
            "Best absolute error: 0.44861650466918945 R2: 0.6584102168478538\n",
            "----- grid search 55/216 -----\n",
            "Config: {'anneal_strategy': 'linear', 'base_momentum': 0.85, 'batch': 100, 'div_factor': 5, 'epochs': 20, 'final_div_factor': 10000.0, 'grad_clip': 1, 'max_lr': 1e-05, 'max_momentum': 0.95, 'pct_start': 0.45, 'weight_decay': 0}\n",
            "Best absolute error: 0.5920183062553406 R2: 0.2891069631159665\n",
            "----- grid search 56/216 -----\n",
            "Config: {'anneal_strategy': 'linear', 'base_momentum': 0.85, 'batch': 100, 'div_factor': 5, 'epochs': 20, 'final_div_factor': 10000.0, 'grad_clip': 1, 'max_lr': 5e-05, 'max_momentum': 0.95, 'pct_start': 0.45, 'weight_decay': 0}\n",
            "Best absolute error: 0.41159018874168396 R2: 0.6852121119367782\n",
            "----- grid search 57/216 -----\n",
            "Config: {'anneal_strategy': 'linear', 'base_momentum': 0.85, 'batch': 100, 'div_factor': 5, 'epochs': 20, 'final_div_factor': 10000.0, 'grad_clip': 1, 'max_lr': 0.0001, 'max_momentum': 0.95, 'pct_start': 0.45, 'weight_decay': 0}\n",
            "Best absolute error: 0.5083152651786804 R2: 0.5532247844538869\n",
            "----- grid search 58/216 -----\n",
            "Config: {'anneal_strategy': 'linear', 'base_momentum': 0.85, 'batch': 100, 'div_factor': 5, 'epochs': 20, 'final_div_factor': 10000.0, 'grad_clip': 1, 'max_lr': 0.0005, 'max_momentum': 0.95, 'pct_start': 0.45, 'weight_decay': 0}\n",
            "Best absolute error: 0.27889013290405273 R2: 0.7723630035667032\n",
            "----- grid search 59/216 -----\n",
            "Config: {'anneal_strategy': 'linear', 'base_momentum': 0.85, 'batch': 100, 'div_factor': 5, 'epochs': 20, 'final_div_factor': 10000.0, 'grad_clip': 1, 'max_lr': 0.001, 'max_momentum': 0.95, 'pct_start': 0.45, 'weight_decay': 0}\n",
            "Best absolute error: 0.23990479111671448 R2: 0.8389220325058455\n",
            "----- grid search 60/216 -----\n",
            "Config: {'anneal_strategy': 'linear', 'base_momentum': 0.85, 'batch': 100, 'div_factor': 5, 'epochs': 20, 'final_div_factor': 10000.0, 'grad_clip': 1, 'max_lr': 0.005, 'max_momentum': 0.95, 'pct_start': 0.45, 'weight_decay': 0}\n",
            "Best absolute error: 0.2107090801000595 R2: 0.8743232841682064\n",
            "----- grid search 61/216 -----\n",
            "Config: {'anneal_strategy': 'linear', 'base_momentum': 0.85, 'batch': 100, 'div_factor': 5, 'epochs': 20, 'final_div_factor': 10000.0, 'grad_clip': 10, 'max_lr': 1e-05, 'max_momentum': 0.95, 'pct_start': 0.45, 'weight_decay': 0}\n",
            "Best absolute error: 0.30685654282569885 R2: 0.6716676755237861\n",
            "----- grid search 62/216 -----\n",
            "Config: {'anneal_strategy': 'linear', 'base_momentum': 0.85, 'batch': 100, 'div_factor': 5, 'epochs': 20, 'final_div_factor': 10000.0, 'grad_clip': 10, 'max_lr': 5e-05, 'max_momentum': 0.95, 'pct_start': 0.45, 'weight_decay': 0}\n",
            "Best absolute error: 0.23903705179691315 R2: 0.8472450588871078\n",
            "----- grid search 63/216 -----\n",
            "Config: {'anneal_strategy': 'linear', 'base_momentum': 0.85, 'batch': 100, 'div_factor': 5, 'epochs': 20, 'final_div_factor': 10000.0, 'grad_clip': 10, 'max_lr': 0.0001, 'max_momentum': 0.95, 'pct_start': 0.45, 'weight_decay': 0}\n",
            "Best absolute error: 0.23894110321998596 R2: 0.8469140186346721\n",
            "----- grid search 64/216 -----\n",
            "Config: {'anneal_strategy': 'linear', 'base_momentum': 0.85, 'batch': 100, 'div_factor': 5, 'epochs': 20, 'final_div_factor': 10000.0, 'grad_clip': 10, 'max_lr': 0.0005, 'max_momentum': 0.95, 'pct_start': 0.45, 'weight_decay': 0}\n",
            "Best absolute error: 0.20966584980487823 R2: 0.8755314993199022\n",
            "----- grid search 65/216 -----\n",
            "Config: {'anneal_strategy': 'linear', 'base_momentum': 0.85, 'batch': 100, 'div_factor': 5, 'epochs': 20, 'final_div_factor': 10000.0, 'grad_clip': 10, 'max_lr': 0.001, 'max_momentum': 0.95, 'pct_start': 0.45, 'weight_decay': 0}\n",
            "Best absolute error: 0.21016936004161835 R2: 0.8750570608757589\n",
            "----- grid search 66/216 -----\n",
            "Config: {'anneal_strategy': 'linear', 'base_momentum': 0.85, 'batch': 100, 'div_factor': 5, 'epochs': 20, 'final_div_factor': 10000.0, 'grad_clip': 10, 'max_lr': 0.005, 'max_momentum': 0.95, 'pct_start': 0.45, 'weight_decay': 0}\n"
          ]
        },
        {
          "output_type": "stream",
          "name": "stderr",
          "text": [
            "Traceback (most recent call last):\n",
            "  File \"<ipython-input-23-25d27a143aa6>\", line 39, in train_network\n",
            "    train_metrics[ABS_ERR] += (sk.metrics.mean_absolute_error(y, y_pred) * weight)\n",
            "  File \"/usr/local/lib/python3.7/dist-packages/sklearn/metrics/_regression.py\", line 192, in mean_absolute_error\n",
            "    y_true, y_pred, multioutput\n",
            "  File \"/usr/local/lib/python3.7/dist-packages/sklearn/metrics/_regression.py\", line 96, in _check_reg_targets\n",
            "    y_pred = check_array(y_pred, ensure_2d=False, dtype=dtype)\n",
            "  File \"/usr/local/lib/python3.7/dist-packages/sklearn/utils/validation.py\", line 800, in check_array\n",
            "    _assert_all_finite(array, allow_nan=force_all_finite == \"allow-nan\")\n",
            "  File \"/usr/local/lib/python3.7/dist-packages/sklearn/utils/validation.py\", line 116, in _assert_all_finite\n",
            "    type_err, msg_dtype if msg_dtype is not None else X.dtype\n",
            "ValueError: Input contains NaN, infinity or a value too large for dtype('float32').\n"
          ]
        },
        {
          "output_type": "stream",
          "name": "stdout",
          "text": [
            "Best absolute error: 0.21153444051742554 R2: 0.8713311247610191\n",
            "----- grid search 67/216 -----\n",
            "Config: {'anneal_strategy': 'linear', 'base_momentum': 0.85, 'batch': 100, 'div_factor': 5, 'epochs': 20, 'final_div_factor': 10000.0, 'grad_clip': 100, 'max_lr': 1e-05, 'max_momentum': 0.95, 'pct_start': 0.45, 'weight_decay': 0}\n",
            "Best absolute error: 0.23014159500598907 R2: 0.8569978700654628\n",
            "----- grid search 68/216 -----\n",
            "Config: {'anneal_strategy': 'linear', 'base_momentum': 0.85, 'batch': 100, 'div_factor': 5, 'epochs': 20, 'final_div_factor': 10000.0, 'grad_clip': 100, 'max_lr': 5e-05, 'max_momentum': 0.95, 'pct_start': 0.45, 'weight_decay': 0}\n",
            "Best absolute error: 0.21035414934158325 R2: 0.8766744019592038\n",
            "----- grid search 69/216 -----\n",
            "Config: {'anneal_strategy': 'linear', 'base_momentum': 0.85, 'batch': 100, 'div_factor': 5, 'epochs': 20, 'final_div_factor': 10000.0, 'grad_clip': 100, 'max_lr': 0.0001, 'max_momentum': 0.95, 'pct_start': 0.45, 'weight_decay': 0}\n",
            "Best absolute error: 0.20350711047649384 R2: 0.8850080068139814\n",
            "----- grid search 70/216 -----\n",
            "Config: {'anneal_strategy': 'linear', 'base_momentum': 0.85, 'batch': 100, 'div_factor': 5, 'epochs': 20, 'final_div_factor': 10000.0, 'grad_clip': 100, 'max_lr': 0.0005, 'max_momentum': 0.95, 'pct_start': 0.45, 'weight_decay': 0}\n",
            "Best absolute error: 0.2014974057674408 R2: 0.8788669204508593\n",
            "----- grid search 71/216 -----\n",
            "Config: {'anneal_strategy': 'linear', 'base_momentum': 0.85, 'batch': 100, 'div_factor': 5, 'epochs': 20, 'final_div_factor': 10000.0, 'grad_clip': 100, 'max_lr': 0.001, 'max_momentum': 0.95, 'pct_start': 0.45, 'weight_decay': 0}\n",
            "Best absolute error: 0.20060470700263977 R2: 0.8792881438031568\n",
            "----- grid search 72/216 -----\n",
            "Config: {'anneal_strategy': 'linear', 'base_momentum': 0.85, 'batch': 100, 'div_factor': 5, 'epochs': 20, 'final_div_factor': 10000.0, 'grad_clip': 100, 'max_lr': 0.005, 'max_momentum': 0.95, 'pct_start': 0.45, 'weight_decay': 0}\n"
          ]
        },
        {
          "output_type": "stream",
          "name": "stderr",
          "text": [
            "Traceback (most recent call last):\n",
            "  File \"<ipython-input-23-25d27a143aa6>\", line 39, in train_network\n",
            "    train_metrics[ABS_ERR] += (sk.metrics.mean_absolute_error(y, y_pred) * weight)\n",
            "  File \"/usr/local/lib/python3.7/dist-packages/sklearn/metrics/_regression.py\", line 192, in mean_absolute_error\n",
            "    y_true, y_pred, multioutput\n",
            "  File \"/usr/local/lib/python3.7/dist-packages/sklearn/metrics/_regression.py\", line 96, in _check_reg_targets\n",
            "    y_pred = check_array(y_pred, ensure_2d=False, dtype=dtype)\n",
            "  File \"/usr/local/lib/python3.7/dist-packages/sklearn/utils/validation.py\", line 800, in check_array\n",
            "    _assert_all_finite(array, allow_nan=force_all_finite == \"allow-nan\")\n",
            "  File \"/usr/local/lib/python3.7/dist-packages/sklearn/utils/validation.py\", line 116, in _assert_all_finite\n",
            "    type_err, msg_dtype if msg_dtype is not None else X.dtype\n",
            "ValueError: Input contains NaN, infinity or a value too large for dtype('float32').\n"
          ]
        },
        {
          "output_type": "stream",
          "name": "stdout",
          "text": [
            "Best absolute error: 0.20170818269252777 R2: 0.8754326604783861\n",
            "----- grid search 73/216 -----\n",
            "Config: {'anneal_strategy': 'linear', 'base_momentum': 0.85, 'batch': 100, 'div_factor': 2, 'epochs': 10, 'final_div_factor': 10000.0, 'grad_clip': 1, 'max_lr': 1e-05, 'max_momentum': 0.95, 'pct_start': 0.45, 'weight_decay': 0}\n",
            "Best absolute error: 1.1439476013183594 R2: -0.8137763093321722\n",
            "----- grid search 74/216 -----\n",
            "Config: {'anneal_strategy': 'linear', 'base_momentum': 0.85, 'batch': 100, 'div_factor': 2, 'epochs': 10, 'final_div_factor': 10000.0, 'grad_clip': 1, 'max_lr': 5e-05, 'max_momentum': 0.95, 'pct_start': 0.45, 'weight_decay': 0}\n",
            "Best absolute error: 0.9213336110115051 R2: -0.009858259394300628\n",
            "----- grid search 75/216 -----\n",
            "Config: {'anneal_strategy': 'linear', 'base_momentum': 0.85, 'batch': 100, 'div_factor': 2, 'epochs': 10, 'final_div_factor': 10000.0, 'grad_clip': 1, 'max_lr': 0.0001, 'max_momentum': 0.95, 'pct_start': 0.45, 'weight_decay': 0}\n",
            "Best absolute error: 0.33094513416290283 R2: 0.7256370652178552\n",
            "----- grid search 76/216 -----\n",
            "Config: {'anneal_strategy': 'linear', 'base_momentum': 0.85, 'batch': 100, 'div_factor': 2, 'epochs': 10, 'final_div_factor': 10000.0, 'grad_clip': 1, 'max_lr': 0.0005, 'max_momentum': 0.95, 'pct_start': 0.45, 'weight_decay': 0}\n",
            "Best absolute error: 0.23939281702041626 R2: 0.8333581542883748\n",
            "----- grid search 77/216 -----\n",
            "Config: {'anneal_strategy': 'linear', 'base_momentum': 0.85, 'batch': 100, 'div_factor': 2, 'epochs': 10, 'final_div_factor': 10000.0, 'grad_clip': 1, 'max_lr': 0.001, 'max_momentum': 0.95, 'pct_start': 0.45, 'weight_decay': 0}\n",
            "Best absolute error: 0.22893106937408447 R2: 0.8568575623179709\n",
            "----- grid search 78/216 -----\n",
            "Config: {'anneal_strategy': 'linear', 'base_momentum': 0.85, 'batch': 100, 'div_factor': 2, 'epochs': 10, 'final_div_factor': 10000.0, 'grad_clip': 1, 'max_lr': 0.005, 'max_momentum': 0.95, 'pct_start': 0.45, 'weight_decay': 0}\n",
            "Best absolute error: 0.2316097468137741 R2: 0.8437223792775107\n",
            "----- grid search 79/216 -----\n",
            "Config: {'anneal_strategy': 'linear', 'base_momentum': 0.85, 'batch': 100, 'div_factor': 2, 'epochs': 10, 'final_div_factor': 10000.0, 'grad_clip': 10, 'max_lr': 1e-05, 'max_momentum': 0.95, 'pct_start': 0.45, 'weight_decay': 0}\n",
            "Best absolute error: 0.4516749680042267 R2: 0.6624134000763994\n",
            "----- grid search 80/216 -----\n",
            "Config: {'anneal_strategy': 'linear', 'base_momentum': 0.85, 'batch': 100, 'div_factor': 2, 'epochs': 10, 'final_div_factor': 10000.0, 'grad_clip': 10, 'max_lr': 5e-05, 'max_momentum': 0.95, 'pct_start': 0.45, 'weight_decay': 0}\n",
            "Best absolute error: 0.2879571318626404 R2: 0.7463734188782201\n",
            "----- grid search 81/216 -----\n",
            "Config: {'anneal_strategy': 'linear', 'base_momentum': 0.85, 'batch': 100, 'div_factor': 2, 'epochs': 10, 'final_div_factor': 10000.0, 'grad_clip': 10, 'max_lr': 0.0001, 'max_momentum': 0.95, 'pct_start': 0.45, 'weight_decay': 0}\n",
            "Best absolute error: 0.24302661418914795 R2: 0.8403249610106119\n",
            "----- grid search 82/216 -----\n",
            "Config: {'anneal_strategy': 'linear', 'base_momentum': 0.85, 'batch': 100, 'div_factor': 2, 'epochs': 10, 'final_div_factor': 10000.0, 'grad_clip': 10, 'max_lr': 0.0005, 'max_momentum': 0.95, 'pct_start': 0.45, 'weight_decay': 0}\n",
            "Best absolute error: 0.2089400589466095 R2: 0.8814430564889539\n",
            "----- grid search 83/216 -----\n",
            "Config: {'anneal_strategy': 'linear', 'base_momentum': 0.85, 'batch': 100, 'div_factor': 2, 'epochs': 10, 'final_div_factor': 10000.0, 'grad_clip': 10, 'max_lr': 0.001, 'max_momentum': 0.95, 'pct_start': 0.45, 'weight_decay': 0}\n",
            "Best absolute error: 0.21192917227745056 R2: 0.8779399035743191\n",
            "----- grid search 84/216 -----\n",
            "Config: {'anneal_strategy': 'linear', 'base_momentum': 0.85, 'batch': 100, 'div_factor': 2, 'epochs': 10, 'final_div_factor': 10000.0, 'grad_clip': 10, 'max_lr': 0.005, 'max_momentum': 0.95, 'pct_start': 0.45, 'weight_decay': 0}\n",
            "Best absolute error: 0.2052813619375229 R2: 0.8759421617001047\n",
            "----- grid search 85/216 -----\n",
            "Config: {'anneal_strategy': 'linear', 'base_momentum': 0.85, 'batch': 100, 'div_factor': 2, 'epochs': 10, 'final_div_factor': 10000.0, 'grad_clip': 100, 'max_lr': 1e-05, 'max_momentum': 0.95, 'pct_start': 0.45, 'weight_decay': 0}\n",
            "Best absolute error: 0.25494787096977234 R2: 0.8144599999419263\n",
            "----- grid search 86/216 -----\n",
            "Config: {'anneal_strategy': 'linear', 'base_momentum': 0.85, 'batch': 100, 'div_factor': 2, 'epochs': 10, 'final_div_factor': 10000.0, 'grad_clip': 100, 'max_lr': 5e-05, 'max_momentum': 0.95, 'pct_start': 0.45, 'weight_decay': 0}\n",
            "Best absolute error: 0.2205871343612671 R2: 0.8658914478553772\n",
            "----- grid search 87/216 -----\n",
            "Config: {'anneal_strategy': 'linear', 'base_momentum': 0.85, 'batch': 100, 'div_factor': 2, 'epochs': 10, 'final_div_factor': 10000.0, 'grad_clip': 100, 'max_lr': 0.0001, 'max_momentum': 0.95, 'pct_start': 0.45, 'weight_decay': 0}\n",
            "Best absolute error: 0.2161712795495987 R2: 0.8664217068300454\n",
            "----- grid search 88/216 -----\n",
            "Config: {'anneal_strategy': 'linear', 'base_momentum': 0.85, 'batch': 100, 'div_factor': 2, 'epochs': 10, 'final_div_factor': 10000.0, 'grad_clip': 100, 'max_lr': 0.0005, 'max_momentum': 0.95, 'pct_start': 0.45, 'weight_decay': 0}\n",
            "Best absolute error: 0.20406444370746613 R2: 0.8800029510026379\n",
            "----- grid search 89/216 -----\n",
            "Config: {'anneal_strategy': 'linear', 'base_momentum': 0.85, 'batch': 100, 'div_factor': 2, 'epochs': 10, 'final_div_factor': 10000.0, 'grad_clip': 100, 'max_lr': 0.001, 'max_momentum': 0.95, 'pct_start': 0.45, 'weight_decay': 0}\n"
          ]
        },
        {
          "output_type": "stream",
          "name": "stderr",
          "text": [
            "Traceback (most recent call last):\n",
            "  File \"<ipython-input-23-25d27a143aa6>\", line 39, in train_network\n",
            "    train_metrics[ABS_ERR] += (sk.metrics.mean_absolute_error(y, y_pred) * weight)\n",
            "  File \"/usr/local/lib/python3.7/dist-packages/sklearn/metrics/_regression.py\", line 192, in mean_absolute_error\n",
            "    y_true, y_pred, multioutput\n",
            "  File \"/usr/local/lib/python3.7/dist-packages/sklearn/metrics/_regression.py\", line 96, in _check_reg_targets\n",
            "    y_pred = check_array(y_pred, ensure_2d=False, dtype=dtype)\n",
            "  File \"/usr/local/lib/python3.7/dist-packages/sklearn/utils/validation.py\", line 800, in check_array\n",
            "    _assert_all_finite(array, allow_nan=force_all_finite == \"allow-nan\")\n",
            "  File \"/usr/local/lib/python3.7/dist-packages/sklearn/utils/validation.py\", line 116, in _assert_all_finite\n",
            "    type_err, msg_dtype if msg_dtype is not None else X.dtype\n",
            "ValueError: Input contains NaN, infinity or a value too large for dtype('float32').\n"
          ]
        },
        {
          "output_type": "stream",
          "name": "stdout",
          "text": [
            "Best absolute error: 0.20467790961265564 R2: 0.8735824665290413\n",
            "----- grid search 90/216 -----\n",
            "Config: {'anneal_strategy': 'linear', 'base_momentum': 0.85, 'batch': 100, 'div_factor': 2, 'epochs': 10, 'final_div_factor': 10000.0, 'grad_clip': 100, 'max_lr': 0.005, 'max_momentum': 0.95, 'pct_start': 0.45, 'weight_decay': 0}\n"
          ]
        },
        {
          "output_type": "stream",
          "name": "stderr",
          "text": [
            "Traceback (most recent call last):\n",
            "  File \"<ipython-input-23-25d27a143aa6>\", line 39, in train_network\n",
            "    train_metrics[ABS_ERR] += (sk.metrics.mean_absolute_error(y, y_pred) * weight)\n",
            "  File \"/usr/local/lib/python3.7/dist-packages/sklearn/metrics/_regression.py\", line 192, in mean_absolute_error\n",
            "    y_true, y_pred, multioutput\n",
            "  File \"/usr/local/lib/python3.7/dist-packages/sklearn/metrics/_regression.py\", line 96, in _check_reg_targets\n",
            "    y_pred = check_array(y_pred, ensure_2d=False, dtype=dtype)\n",
            "  File \"/usr/local/lib/python3.7/dist-packages/sklearn/utils/validation.py\", line 800, in check_array\n",
            "    _assert_all_finite(array, allow_nan=force_all_finite == \"allow-nan\")\n",
            "  File \"/usr/local/lib/python3.7/dist-packages/sklearn/utils/validation.py\", line 116, in _assert_all_finite\n",
            "    type_err, msg_dtype if msg_dtype is not None else X.dtype\n",
            "ValueError: Input contains NaN, infinity or a value too large for dtype('float32').\n"
          ]
        },
        {
          "output_type": "stream",
          "name": "stdout",
          "text": [
            "Best absolute error: 0.6378048658370972 R2: 0.4255702208068085\n",
            "----- grid search 91/216 -----\n",
            "Config: {'anneal_strategy': 'linear', 'base_momentum': 0.85, 'batch': 100, 'div_factor': 2, 'epochs': 20, 'final_div_factor': 10000.0, 'grad_clip': 1, 'max_lr': 1e-05, 'max_momentum': 0.95, 'pct_start': 0.45, 'weight_decay': 0}\n",
            "Best absolute error: 1.1401411294937134 R2: -1.125673341882126\n",
            "----- grid search 92/216 -----\n",
            "Config: {'anneal_strategy': 'linear', 'base_momentum': 0.85, 'batch': 100, 'div_factor': 2, 'epochs': 20, 'final_div_factor': 10000.0, 'grad_clip': 1, 'max_lr': 5e-05, 'max_momentum': 0.95, 'pct_start': 0.45, 'weight_decay': 0}\n",
            "Best absolute error: 0.4152466356754303 R2: 0.7035983073789398\n",
            "----- grid search 93/216 -----\n",
            "Config: {'anneal_strategy': 'linear', 'base_momentum': 0.85, 'batch': 100, 'div_factor': 2, 'epochs': 20, 'final_div_factor': 10000.0, 'grad_clip': 1, 'max_lr': 0.0001, 'max_momentum': 0.95, 'pct_start': 0.45, 'weight_decay': 0}\n",
            "Best absolute error: 0.44412311911582947 R2: 0.6132024852426473\n",
            "----- grid search 94/216 -----\n",
            "Config: {'anneal_strategy': 'linear', 'base_momentum': 0.85, 'batch': 100, 'div_factor': 2, 'epochs': 20, 'final_div_factor': 10000.0, 'grad_clip': 1, 'max_lr': 0.0005, 'max_momentum': 0.95, 'pct_start': 0.45, 'weight_decay': 0}\n",
            "Best absolute error: 0.27190837264060974 R2: 0.7844338699342834\n",
            "----- grid search 95/216 -----\n",
            "Config: {'anneal_strategy': 'linear', 'base_momentum': 0.85, 'batch': 100, 'div_factor': 2, 'epochs': 20, 'final_div_factor': 10000.0, 'grad_clip': 1, 'max_lr': 0.001, 'max_momentum': 0.95, 'pct_start': 0.45, 'weight_decay': 0}\n",
            "Best absolute error: 0.2676658630371094 R2: 0.7976491490888313\n",
            "----- grid search 96/216 -----\n",
            "Config: {'anneal_strategy': 'linear', 'base_momentum': 0.85, 'batch': 100, 'div_factor': 2, 'epochs': 20, 'final_div_factor': 10000.0, 'grad_clip': 1, 'max_lr': 0.005, 'max_momentum': 0.95, 'pct_start': 0.45, 'weight_decay': 0}\n",
            "Best absolute error: 0.2045440971851349 R2: 0.8765595105644811\n",
            "----- grid search 97/216 -----\n",
            "Config: {'anneal_strategy': 'linear', 'base_momentum': 0.85, 'batch': 100, 'div_factor': 2, 'epochs': 20, 'final_div_factor': 10000.0, 'grad_clip': 10, 'max_lr': 1e-05, 'max_momentum': 0.95, 'pct_start': 0.45, 'weight_decay': 0}\n",
            "Best absolute error: 0.4877673089504242 R2: 0.6002970842113584\n",
            "----- grid search 98/216 -----\n",
            "Config: {'anneal_strategy': 'linear', 'base_momentum': 0.85, 'batch': 100, 'div_factor': 2, 'epochs': 20, 'final_div_factor': 10000.0, 'grad_clip': 10, 'max_lr': 5e-05, 'max_momentum': 0.95, 'pct_start': 0.45, 'weight_decay': 0}\n",
            "Best absolute error: 0.26385968923568726 R2: 0.7832832979979965\n",
            "----- grid search 99/216 -----\n",
            "Config: {'anneal_strategy': 'linear', 'base_momentum': 0.85, 'batch': 100, 'div_factor': 2, 'epochs': 20, 'final_div_factor': 10000.0, 'grad_clip': 10, 'max_lr': 0.0001, 'max_momentum': 0.95, 'pct_start': 0.45, 'weight_decay': 0}\n",
            "Best absolute error: 0.21947656571865082 R2: 0.8615270195480869\n",
            "----- grid search 100/216 -----\n",
            "Config: {'anneal_strategy': 'linear', 'base_momentum': 0.85, 'batch': 100, 'div_factor': 2, 'epochs': 20, 'final_div_factor': 10000.0, 'grad_clip': 10, 'max_lr': 0.0005, 'max_momentum': 0.95, 'pct_start': 0.45, 'weight_decay': 0}\n",
            "Best absolute error: 0.20808257162570953 R2: 0.8714507786522827\n",
            "----- grid search 101/216 -----\n",
            "Config: {'anneal_strategy': 'linear', 'base_momentum': 0.85, 'batch': 100, 'div_factor': 2, 'epochs': 20, 'final_div_factor': 10000.0, 'grad_clip': 10, 'max_lr': 0.001, 'max_momentum': 0.95, 'pct_start': 0.45, 'weight_decay': 0}\n",
            "Best absolute error: 0.20755012333393097 R2: 0.8788351816005046\n",
            "----- grid search 102/216 -----\n",
            "Config: {'anneal_strategy': 'linear', 'base_momentum': 0.85, 'batch': 100, 'div_factor': 2, 'epochs': 20, 'final_div_factor': 10000.0, 'grad_clip': 10, 'max_lr': 0.005, 'max_momentum': 0.95, 'pct_start': 0.45, 'weight_decay': 0}\n",
            "Best absolute error: 0.20052118599414825 R2: 0.8851833201600373\n",
            "----- grid search 103/216 -----\n",
            "Config: {'anneal_strategy': 'linear', 'base_momentum': 0.85, 'batch': 100, 'div_factor': 2, 'epochs': 20, 'final_div_factor': 10000.0, 'grad_clip': 100, 'max_lr': 1e-05, 'max_momentum': 0.95, 'pct_start': 0.45, 'weight_decay': 0}\n",
            "Best absolute error: 0.24813702702522278 R2: 0.8333762467158569\n",
            "----- grid search 104/216 -----\n",
            "Config: {'anneal_strategy': 'linear', 'base_momentum': 0.85, 'batch': 100, 'div_factor': 2, 'epochs': 20, 'final_div_factor': 10000.0, 'grad_clip': 100, 'max_lr': 5e-05, 'max_momentum': 0.95, 'pct_start': 0.45, 'weight_decay': 0}\n",
            "Best absolute error: 0.22073929011821747 R2: 0.8601205952894933\n",
            "----- grid search 105/216 -----\n",
            "Config: {'anneal_strategy': 'linear', 'base_momentum': 0.85, 'batch': 100, 'div_factor': 2, 'epochs': 20, 'final_div_factor': 10000.0, 'grad_clip': 100, 'max_lr': 0.0001, 'max_momentum': 0.95, 'pct_start': 0.45, 'weight_decay': 0}\n",
            "Best absolute error: 0.20331060886383057 R2: 0.8713168720574156\n",
            "----- grid search 106/216 -----\n",
            "Config: {'anneal_strategy': 'linear', 'base_momentum': 0.85, 'batch': 100, 'div_factor': 2, 'epochs': 20, 'final_div_factor': 10000.0, 'grad_clip': 100, 'max_lr': 0.0005, 'max_momentum': 0.95, 'pct_start': 0.45, 'weight_decay': 0}\n",
            "Best absolute error: 0.2001952826976776 R2: 0.8836197629374143\n",
            "----- grid search 107/216 -----\n",
            "Config: {'anneal_strategy': 'linear', 'base_momentum': 0.85, 'batch': 100, 'div_factor': 2, 'epochs': 20, 'final_div_factor': 10000.0, 'grad_clip': 100, 'max_lr': 0.001, 'max_momentum': 0.95, 'pct_start': 0.45, 'weight_decay': 0}\n"
          ]
        },
        {
          "output_type": "stream",
          "name": "stderr",
          "text": [
            "Traceback (most recent call last):\n",
            "  File \"<ipython-input-23-25d27a143aa6>\", line 39, in train_network\n",
            "    train_metrics[ABS_ERR] += (sk.metrics.mean_absolute_error(y, y_pred) * weight)\n",
            "  File \"/usr/local/lib/python3.7/dist-packages/sklearn/metrics/_regression.py\", line 192, in mean_absolute_error\n",
            "    y_true, y_pred, multioutput\n",
            "  File \"/usr/local/lib/python3.7/dist-packages/sklearn/metrics/_regression.py\", line 96, in _check_reg_targets\n",
            "    y_pred = check_array(y_pred, ensure_2d=False, dtype=dtype)\n",
            "  File \"/usr/local/lib/python3.7/dist-packages/sklearn/utils/validation.py\", line 800, in check_array\n",
            "    _assert_all_finite(array, allow_nan=force_all_finite == \"allow-nan\")\n",
            "  File \"/usr/local/lib/python3.7/dist-packages/sklearn/utils/validation.py\", line 116, in _assert_all_finite\n",
            "    type_err, msg_dtype if msg_dtype is not None else X.dtype\n",
            "ValueError: Input contains NaN, infinity or a value too large for dtype('float32').\n"
          ]
        },
        {
          "output_type": "stream",
          "name": "stdout",
          "text": [
            "Best absolute error: 0.20142874121665955 R2: 0.8796102331997995\n",
            "----- grid search 108/216 -----\n",
            "Config: {'anneal_strategy': 'linear', 'base_momentum': 0.85, 'batch': 100, 'div_factor': 2, 'epochs': 20, 'final_div_factor': 10000.0, 'grad_clip': 100, 'max_lr': 0.005, 'max_momentum': 0.95, 'pct_start': 0.45, 'weight_decay': 0}\n"
          ]
        },
        {
          "output_type": "stream",
          "name": "stderr",
          "text": [
            "Traceback (most recent call last):\n",
            "  File \"<ipython-input-23-25d27a143aa6>\", line 39, in train_network\n",
            "    train_metrics[ABS_ERR] += (sk.metrics.mean_absolute_error(y, y_pred) * weight)\n",
            "  File \"/usr/local/lib/python3.7/dist-packages/sklearn/metrics/_regression.py\", line 192, in mean_absolute_error\n",
            "    y_true, y_pred, multioutput\n",
            "  File \"/usr/local/lib/python3.7/dist-packages/sklearn/metrics/_regression.py\", line 96, in _check_reg_targets\n",
            "    y_pred = check_array(y_pred, ensure_2d=False, dtype=dtype)\n",
            "  File \"/usr/local/lib/python3.7/dist-packages/sklearn/utils/validation.py\", line 800, in check_array\n",
            "    _assert_all_finite(array, allow_nan=force_all_finite == \"allow-nan\")\n",
            "  File \"/usr/local/lib/python3.7/dist-packages/sklearn/utils/validation.py\", line 116, in _assert_all_finite\n",
            "    type_err, msg_dtype if msg_dtype is not None else X.dtype\n",
            "ValueError: Input contains NaN, infinity or a value too large for dtype('float32').\n"
          ]
        },
        {
          "output_type": "stream",
          "name": "stdout",
          "text": [
            "Best absolute error: 0.5484798550605774 R2: 0.4904967777296859\n",
            "----- grid search 109/216 -----\n",
            "Config: {'anneal_strategy': 'linear', 'base_momentum': 0.85, 'batch': 200, 'div_factor': 10, 'epochs': 10, 'final_div_factor': 10000.0, 'grad_clip': 1, 'max_lr': 1e-05, 'max_momentum': 0.95, 'pct_start': 0.45, 'weight_decay': 0}\n",
            "Best absolute error: 1.1893788576126099 R2: -1.4289698345934672\n",
            "----- grid search 110/216 -----\n",
            "Config: {'anneal_strategy': 'linear', 'base_momentum': 0.85, 'batch': 200, 'div_factor': 10, 'epochs': 10, 'final_div_factor': 10000.0, 'grad_clip': 1, 'max_lr': 5e-05, 'max_momentum': 0.95, 'pct_start': 0.45, 'weight_decay': 0}\n",
            "Best absolute error: 1.1848372220993042 R2: -1.3697891266038589\n",
            "----- grid search 111/216 -----\n",
            "Config: {'anneal_strategy': 'linear', 'base_momentum': 0.85, 'batch': 200, 'div_factor': 10, 'epochs': 10, 'final_div_factor': 10000.0, 'grad_clip': 1, 'max_lr': 0.0001, 'max_momentum': 0.95, 'pct_start': 0.45, 'weight_decay': 0}\n",
            "Best absolute error: 1.0349018573760986 R2: -0.7306854939850993\n",
            "----- grid search 112/216 -----\n",
            "Config: {'anneal_strategy': 'linear', 'base_momentum': 0.85, 'batch': 200, 'div_factor': 10, 'epochs': 10, 'final_div_factor': 10000.0, 'grad_clip': 1, 'max_lr': 0.0005, 'max_momentum': 0.95, 'pct_start': 0.45, 'weight_decay': 0}\n",
            "Best absolute error: 0.3141362965106964 R2: 0.6922215929919509\n",
            "----- grid search 113/216 -----\n",
            "Config: {'anneal_strategy': 'linear', 'base_momentum': 0.85, 'batch': 200, 'div_factor': 10, 'epochs': 10, 'final_div_factor': 10000.0, 'grad_clip': 1, 'max_lr': 0.001, 'max_momentum': 0.95, 'pct_start': 0.45, 'weight_decay': 0}\n",
            "Best absolute error: 0.2963606119155884 R2: 0.7739332179528013\n",
            "----- grid search 114/216 -----\n",
            "Config: {'anneal_strategy': 'linear', 'base_momentum': 0.85, 'batch': 200, 'div_factor': 10, 'epochs': 10, 'final_div_factor': 10000.0, 'grad_clip': 1, 'max_lr': 0.005, 'max_momentum': 0.95, 'pct_start': 0.45, 'weight_decay': 0}\n",
            "Best absolute error: 0.21751174330711365 R2: 0.8718729464079107\n",
            "----- grid search 115/216 -----\n",
            "Config: {'anneal_strategy': 'linear', 'base_momentum': 0.85, 'batch': 200, 'div_factor': 10, 'epochs': 10, 'final_div_factor': 10000.0, 'grad_clip': 10, 'max_lr': 1e-05, 'max_momentum': 0.95, 'pct_start': 0.45, 'weight_decay': 0}\n",
            "Best absolute error: 0.8054400086402893 R2: 0.16949011011673742\n",
            "----- grid search 116/216 -----\n",
            "Config: {'anneal_strategy': 'linear', 'base_momentum': 0.85, 'batch': 200, 'div_factor': 10, 'epochs': 10, 'final_div_factor': 10000.0, 'grad_clip': 10, 'max_lr': 5e-05, 'max_momentum': 0.95, 'pct_start': 0.45, 'weight_decay': 0}\n",
            "Best absolute error: 0.3235788643360138 R2: 0.7478423455016447\n",
            "----- grid search 117/216 -----\n",
            "Config: {'anneal_strategy': 'linear', 'base_momentum': 0.85, 'batch': 200, 'div_factor': 10, 'epochs': 10, 'final_div_factor': 10000.0, 'grad_clip': 10, 'max_lr': 0.0001, 'max_momentum': 0.95, 'pct_start': 0.45, 'weight_decay': 0}\n",
            "Best absolute error: 0.29569342732429504 R2: 0.7301579855606469\n",
            "----- grid search 118/216 -----\n",
            "Config: {'anneal_strategy': 'linear', 'base_momentum': 0.85, 'batch': 200, 'div_factor': 10, 'epochs': 10, 'final_div_factor': 10000.0, 'grad_clip': 10, 'max_lr': 0.0005, 'max_momentum': 0.95, 'pct_start': 0.45, 'weight_decay': 0}\n",
            "Best absolute error: 0.2179398238658905 R2: 0.8640921902558418\n",
            "----- grid search 119/216 -----\n",
            "Config: {'anneal_strategy': 'linear', 'base_momentum': 0.85, 'batch': 200, 'div_factor': 10, 'epochs': 10, 'final_div_factor': 10000.0, 'grad_clip': 10, 'max_lr': 0.001, 'max_momentum': 0.95, 'pct_start': 0.45, 'weight_decay': 0}\n",
            "Best absolute error: 0.218809112906456 R2: 0.8691560917560108\n",
            "----- grid search 120/216 -----\n",
            "Config: {'anneal_strategy': 'linear', 'base_momentum': 0.85, 'batch': 200, 'div_factor': 10, 'epochs': 10, 'final_div_factor': 10000.0, 'grad_clip': 10, 'max_lr': 0.005, 'max_momentum': 0.95, 'pct_start': 0.45, 'weight_decay': 0}\n",
            "Best absolute error: 0.20255905389785767 R2: 0.8791072434483309\n",
            "----- grid search 121/216 -----\n",
            "Config: {'anneal_strategy': 'linear', 'base_momentum': 0.85, 'batch': 200, 'div_factor': 10, 'epochs': 10, 'final_div_factor': 10000.0, 'grad_clip': 100, 'max_lr': 1e-05, 'max_momentum': 0.95, 'pct_start': 0.45, 'weight_decay': 0}\n",
            "Best absolute error: 0.26964133977890015 R2: 0.7703774178564673\n",
            "----- grid search 122/216 -----\n",
            "Config: {'anneal_strategy': 'linear', 'base_momentum': 0.85, 'batch': 200, 'div_factor': 10, 'epochs': 10, 'final_div_factor': 10000.0, 'grad_clip': 100, 'max_lr': 5e-05, 'max_momentum': 0.95, 'pct_start': 0.45, 'weight_decay': 0}\n",
            "Best absolute error: 0.24899506568908691 R2: 0.8265224870707737\n",
            "----- grid search 123/216 -----\n",
            "Config: {'anneal_strategy': 'linear', 'base_momentum': 0.85, 'batch': 200, 'div_factor': 10, 'epochs': 10, 'final_div_factor': 10000.0, 'grad_clip': 100, 'max_lr': 0.0001, 'max_momentum': 0.95, 'pct_start': 0.45, 'weight_decay': 0}\n",
            "Best absolute error: 0.2157442718744278 R2: 0.8653391309592864\n",
            "----- grid search 124/216 -----\n",
            "Config: {'anneal_strategy': 'linear', 'base_momentum': 0.85, 'batch': 200, 'div_factor': 10, 'epochs': 10, 'final_div_factor': 10000.0, 'grad_clip': 100, 'max_lr': 0.0005, 'max_momentum': 0.95, 'pct_start': 0.45, 'weight_decay': 0}\n",
            "Best absolute error: 0.20540842413902283 R2: 0.8806770167734027\n",
            "----- grid search 125/216 -----\n",
            "Config: {'anneal_strategy': 'linear', 'base_momentum': 0.85, 'batch': 200, 'div_factor': 10, 'epochs': 10, 'final_div_factor': 10000.0, 'grad_clip': 100, 'max_lr': 0.001, 'max_momentum': 0.95, 'pct_start': 0.45, 'weight_decay': 0}\n",
            "Best absolute error: 0.20591577887535095 R2: 0.8826203220057263\n",
            "----- grid search 126/216 -----\n",
            "Config: {'anneal_strategy': 'linear', 'base_momentum': 0.85, 'batch': 200, 'div_factor': 10, 'epochs': 10, 'final_div_factor': 10000.0, 'grad_clip': 100, 'max_lr': 0.005, 'max_momentum': 0.95, 'pct_start': 0.45, 'weight_decay': 0}\n"
          ]
        },
        {
          "output_type": "stream",
          "name": "stderr",
          "text": [
            "Traceback (most recent call last):\n",
            "  File \"<ipython-input-23-25d27a143aa6>\", line 39, in train_network\n",
            "    train_metrics[ABS_ERR] += (sk.metrics.mean_absolute_error(y, y_pred) * weight)\n",
            "  File \"/usr/local/lib/python3.7/dist-packages/sklearn/metrics/_regression.py\", line 192, in mean_absolute_error\n",
            "    y_true, y_pred, multioutput\n",
            "  File \"/usr/local/lib/python3.7/dist-packages/sklearn/metrics/_regression.py\", line 96, in _check_reg_targets\n",
            "    y_pred = check_array(y_pred, ensure_2d=False, dtype=dtype)\n",
            "  File \"/usr/local/lib/python3.7/dist-packages/sklearn/utils/validation.py\", line 800, in check_array\n",
            "    _assert_all_finite(array, allow_nan=force_all_finite == \"allow-nan\")\n",
            "  File \"/usr/local/lib/python3.7/dist-packages/sklearn/utils/validation.py\", line 116, in _assert_all_finite\n",
            "    type_err, msg_dtype if msg_dtype is not None else X.dtype\n",
            "ValueError: Input contains NaN, infinity or a value too large for dtype('float32').\n"
          ]
        },
        {
          "output_type": "stream",
          "name": "stdout",
          "text": [
            "Best absolute error: 0.20411783456802368 R2: 0.873267723474467\n",
            "----- grid search 127/216 -----\n",
            "Config: {'anneal_strategy': 'linear', 'base_momentum': 0.85, 'batch': 200, 'div_factor': 10, 'epochs': 20, 'final_div_factor': 10000.0, 'grad_clip': 1, 'max_lr': 1e-05, 'max_momentum': 0.95, 'pct_start': 0.45, 'weight_decay': 0}\n",
            "Best absolute error: 1.2609195709228516 R2: -1.1975994814577815\n",
            "----- grid search 128/216 -----\n",
            "Config: {'anneal_strategy': 'linear', 'base_momentum': 0.85, 'batch': 200, 'div_factor': 10, 'epochs': 20, 'final_div_factor': 10000.0, 'grad_clip': 1, 'max_lr': 5e-05, 'max_momentum': 0.95, 'pct_start': 0.45, 'weight_decay': 0}\n",
            "Best absolute error: 0.8371375203132629 R2: 0.0016794893547920076\n",
            "----- grid search 129/216 -----\n",
            "Config: {'anneal_strategy': 'linear', 'base_momentum': 0.85, 'batch': 200, 'div_factor': 10, 'epochs': 20, 'final_div_factor': 10000.0, 'grad_clip': 1, 'max_lr': 0.0001, 'max_momentum': 0.95, 'pct_start': 0.45, 'weight_decay': 0}\n",
            "Best absolute error: 0.3225191831588745 R2: 0.7723488178212611\n",
            "----- grid search 130/216 -----\n",
            "Config: {'anneal_strategy': 'linear', 'base_momentum': 0.85, 'batch': 200, 'div_factor': 10, 'epochs': 20, 'final_div_factor': 10000.0, 'grad_clip': 1, 'max_lr': 0.0005, 'max_momentum': 0.95, 'pct_start': 0.45, 'weight_decay': 0}\n",
            "Best absolute error: 0.27477410435676575 R2: 0.8059451326217264\n",
            "----- grid search 131/216 -----\n",
            "Config: {'anneal_strategy': 'linear', 'base_momentum': 0.85, 'batch': 200, 'div_factor': 10, 'epochs': 20, 'final_div_factor': 10000.0, 'grad_clip': 1, 'max_lr': 0.001, 'max_momentum': 0.95, 'pct_start': 0.45, 'weight_decay': 0}\n",
            "Best absolute error: 0.25831812620162964 R2: 0.8091792793137919\n",
            "----- grid search 132/216 -----\n",
            "Config: {'anneal_strategy': 'linear', 'base_momentum': 0.85, 'batch': 200, 'div_factor': 10, 'epochs': 20, 'final_div_factor': 10000.0, 'grad_clip': 1, 'max_lr': 0.005, 'max_momentum': 0.95, 'pct_start': 0.45, 'weight_decay': 0}\n",
            "Best absolute error: 0.2172478288412094 R2: 0.8670154856930442\n",
            "----- grid search 133/216 -----\n",
            "Config: {'anneal_strategy': 'linear', 'base_momentum': 0.85, 'batch': 200, 'div_factor': 10, 'epochs': 20, 'final_div_factor': 10000.0, 'grad_clip': 10, 'max_lr': 1e-05, 'max_momentum': 0.95, 'pct_start': 0.45, 'weight_decay': 0}\n",
            "Best absolute error: 0.3171168863773346 R2: 0.7354579638892171\n",
            "----- grid search 134/216 -----\n",
            "Config: {'anneal_strategy': 'linear', 'base_momentum': 0.85, 'batch': 200, 'div_factor': 10, 'epochs': 20, 'final_div_factor': 10000.0, 'grad_clip': 10, 'max_lr': 5e-05, 'max_momentum': 0.95, 'pct_start': 0.45, 'weight_decay': 0}\n",
            "Best absolute error: 0.2797740399837494 R2: 0.8146484116647704\n",
            "----- grid search 135/216 -----\n",
            "Config: {'anneal_strategy': 'linear', 'base_momentum': 0.85, 'batch': 200, 'div_factor': 10, 'epochs': 20, 'final_div_factor': 10000.0, 'grad_clip': 10, 'max_lr': 0.0001, 'max_momentum': 0.95, 'pct_start': 0.45, 'weight_decay': 0}\n",
            "Best absolute error: 0.24822448194026947 R2: 0.8301237281057687\n",
            "----- grid search 136/216 -----\n",
            "Config: {'anneal_strategy': 'linear', 'base_momentum': 0.85, 'batch': 200, 'div_factor': 10, 'epochs': 20, 'final_div_factor': 10000.0, 'grad_clip': 10, 'max_lr': 0.0005, 'max_momentum': 0.95, 'pct_start': 0.45, 'weight_decay': 0}\n",
            "Best absolute error: 0.23588180541992188 R2: 0.8378158142264603\n",
            "----- grid search 137/216 -----\n",
            "Config: {'anneal_strategy': 'linear', 'base_momentum': 0.85, 'batch': 200, 'div_factor': 10, 'epochs': 20, 'final_div_factor': 10000.0, 'grad_clip': 10, 'max_lr': 0.001, 'max_momentum': 0.95, 'pct_start': 0.45, 'weight_decay': 0}\n",
            "Best absolute error: 0.20816124975681305 R2: 0.8775304080683004\n",
            "----- grid search 138/216 -----\n",
            "Config: {'anneal_strategy': 'linear', 'base_momentum': 0.85, 'batch': 200, 'div_factor': 10, 'epochs': 20, 'final_div_factor': 10000.0, 'grad_clip': 10, 'max_lr': 0.005, 'max_momentum': 0.95, 'pct_start': 0.45, 'weight_decay': 0}\n",
            "Best absolute error: 0.20423540472984314 R2: 0.8807715289694955\n",
            "----- grid search 139/216 -----\n",
            "Config: {'anneal_strategy': 'linear', 'base_momentum': 0.85, 'batch': 200, 'div_factor': 10, 'epochs': 20, 'final_div_factor': 10000.0, 'grad_clip': 100, 'max_lr': 1e-05, 'max_momentum': 0.95, 'pct_start': 0.45, 'weight_decay': 0}\n",
            "Best absolute error: 0.2445293515920639 R2: 0.8307566205676722\n",
            "----- grid search 140/216 -----\n",
            "Config: {'anneal_strategy': 'linear', 'base_momentum': 0.85, 'batch': 200, 'div_factor': 10, 'epochs': 20, 'final_div_factor': 10000.0, 'grad_clip': 100, 'max_lr': 5e-05, 'max_momentum': 0.95, 'pct_start': 0.45, 'weight_decay': 0}\n",
            "Best absolute error: 0.22737160325050354 R2: 0.8505077998515591\n",
            "----- grid search 141/216 -----\n",
            "Config: {'anneal_strategy': 'linear', 'base_momentum': 0.85, 'batch': 200, 'div_factor': 10, 'epochs': 20, 'final_div_factor': 10000.0, 'grad_clip': 100, 'max_lr': 0.0001, 'max_momentum': 0.95, 'pct_start': 0.45, 'weight_decay': 0}\n",
            "Best absolute error: 0.21232281625270844 R2: 0.872093918320287\n",
            "----- grid search 142/216 -----\n",
            "Config: {'anneal_strategy': 'linear', 'base_momentum': 0.85, 'batch': 200, 'div_factor': 10, 'epochs': 20, 'final_div_factor': 10000.0, 'grad_clip': 100, 'max_lr': 0.0005, 'max_momentum': 0.95, 'pct_start': 0.45, 'weight_decay': 0}\n",
            "Best absolute error: 0.2038617879152298 R2: 0.8814212867325923\n",
            "----- grid search 143/216 -----\n",
            "Config: {'anneal_strategy': 'linear', 'base_momentum': 0.85, 'batch': 200, 'div_factor': 10, 'epochs': 20, 'final_div_factor': 10000.0, 'grad_clip': 100, 'max_lr': 0.001, 'max_momentum': 0.95, 'pct_start': 0.45, 'weight_decay': 0}\n",
            "Best absolute error: 0.20568005740642548 R2: 0.8686336102663053\n",
            "----- grid search 144/216 -----\n",
            "Config: {'anneal_strategy': 'linear', 'base_momentum': 0.85, 'batch': 200, 'div_factor': 10, 'epochs': 20, 'final_div_factor': 10000.0, 'grad_clip': 100, 'max_lr': 0.005, 'max_momentum': 0.95, 'pct_start': 0.45, 'weight_decay': 0}\n"
          ]
        },
        {
          "output_type": "stream",
          "name": "stderr",
          "text": [
            "Traceback (most recent call last):\n",
            "  File \"<ipython-input-23-25d27a143aa6>\", line 39, in train_network\n",
            "    train_metrics[ABS_ERR] += (sk.metrics.mean_absolute_error(y, y_pred) * weight)\n",
            "  File \"/usr/local/lib/python3.7/dist-packages/sklearn/metrics/_regression.py\", line 192, in mean_absolute_error\n",
            "    y_true, y_pred, multioutput\n",
            "  File \"/usr/local/lib/python3.7/dist-packages/sklearn/metrics/_regression.py\", line 96, in _check_reg_targets\n",
            "    y_pred = check_array(y_pred, ensure_2d=False, dtype=dtype)\n",
            "  File \"/usr/local/lib/python3.7/dist-packages/sklearn/utils/validation.py\", line 800, in check_array\n",
            "    _assert_all_finite(array, allow_nan=force_all_finite == \"allow-nan\")\n",
            "  File \"/usr/local/lib/python3.7/dist-packages/sklearn/utils/validation.py\", line 116, in _assert_all_finite\n",
            "    type_err, msg_dtype if msg_dtype is not None else X.dtype\n",
            "ValueError: Input contains NaN, infinity or a value too large for dtype('float32').\n"
          ]
        },
        {
          "output_type": "stream",
          "name": "stdout",
          "text": [
            "Best absolute error: 0.3563259243965149 R2: 0.7074255458594347\n",
            "----- grid search 145/216 -----\n",
            "Config: {'anneal_strategy': 'linear', 'base_momentum': 0.85, 'batch': 200, 'div_factor': 5, 'epochs': 10, 'final_div_factor': 10000.0, 'grad_clip': 1, 'max_lr': 1e-05, 'max_momentum': 0.95, 'pct_start': 0.45, 'weight_decay': 0}\n",
            "Best absolute error: 1.2672983407974243 R2: -1.20965666096909\n",
            "----- grid search 146/216 -----\n",
            "Config: {'anneal_strategy': 'linear', 'base_momentum': 0.85, 'batch': 200, 'div_factor': 5, 'epochs': 10, 'final_div_factor': 10000.0, 'grad_clip': 1, 'max_lr': 5e-05, 'max_momentum': 0.95, 'pct_start': 0.45, 'weight_decay': 0}\n",
            "Best absolute error: 0.9885765314102173 R2: -0.8815589419800185\n",
            "----- grid search 147/216 -----\n",
            "Config: {'anneal_strategy': 'linear', 'base_momentum': 0.85, 'batch': 200, 'div_factor': 5, 'epochs': 10, 'final_div_factor': 10000.0, 'grad_clip': 1, 'max_lr': 0.0001, 'max_momentum': 0.95, 'pct_start': 0.45, 'weight_decay': 0}\n",
            "Best absolute error: 0.41162529587745667 R2: 0.6962649630908478\n",
            "----- grid search 148/216 -----\n",
            "Config: {'anneal_strategy': 'linear', 'base_momentum': 0.85, 'batch': 200, 'div_factor': 5, 'epochs': 10, 'final_div_factor': 10000.0, 'grad_clip': 1, 'max_lr': 0.0005, 'max_momentum': 0.95, 'pct_start': 0.45, 'weight_decay': 0}\n",
            "Best absolute error: 0.29008960723876953 R2: 0.7581750854479423\n",
            "----- grid search 149/216 -----\n",
            "Config: {'anneal_strategy': 'linear', 'base_momentum': 0.85, 'batch': 200, 'div_factor': 5, 'epochs': 10, 'final_div_factor': 10000.0, 'grad_clip': 1, 'max_lr': 0.001, 'max_momentum': 0.95, 'pct_start': 0.45, 'weight_decay': 0}\n",
            "Best absolute error: 0.2404884397983551 R2: 0.8338440400675222\n",
            "----- grid search 150/216 -----\n",
            "Config: {'anneal_strategy': 'linear', 'base_momentum': 0.85, 'batch': 200, 'div_factor': 5, 'epochs': 10, 'final_div_factor': 10000.0, 'grad_clip': 1, 'max_lr': 0.005, 'max_momentum': 0.95, 'pct_start': 0.45, 'weight_decay': 0}\n",
            "Best absolute error: 0.22840826213359833 R2: 0.8562866507637504\n",
            "----- grid search 151/216 -----\n",
            "Config: {'anneal_strategy': 'linear', 'base_momentum': 0.85, 'batch': 200, 'div_factor': 5, 'epochs': 10, 'final_div_factor': 10000.0, 'grad_clip': 10, 'max_lr': 1e-05, 'max_momentum': 0.95, 'pct_start': 0.45, 'weight_decay': 0}\n",
            "Best absolute error: 0.6371623873710632 R2: 0.43168304359753695\n",
            "----- grid search 152/216 -----\n",
            "Config: {'anneal_strategy': 'linear', 'base_momentum': 0.85, 'batch': 200, 'div_factor': 5, 'epochs': 10, 'final_div_factor': 10000.0, 'grad_clip': 10, 'max_lr': 5e-05, 'max_momentum': 0.95, 'pct_start': 0.45, 'weight_decay': 0}\n",
            "Best absolute error: 0.3251282274723053 R2: 0.6453807597419111\n",
            "----- grid search 153/216 -----\n",
            "Config: {'anneal_strategy': 'linear', 'base_momentum': 0.85, 'batch': 200, 'div_factor': 5, 'epochs': 10, 'final_div_factor': 10000.0, 'grad_clip': 10, 'max_lr': 0.0001, 'max_momentum': 0.95, 'pct_start': 0.45, 'weight_decay': 0}\n",
            "Best absolute error: 0.24789179861545563 R2: 0.8471606865490992\n",
            "----- grid search 154/216 -----\n",
            "Config: {'anneal_strategy': 'linear', 'base_momentum': 0.85, 'batch': 200, 'div_factor': 5, 'epochs': 10, 'final_div_factor': 10000.0, 'grad_clip': 10, 'max_lr': 0.0005, 'max_momentum': 0.95, 'pct_start': 0.45, 'weight_decay': 0}\n",
            "Best absolute error: 0.21786263585090637 R2: 0.8749051321288409\n",
            "----- grid search 155/216 -----\n",
            "Config: {'anneal_strategy': 'linear', 'base_momentum': 0.85, 'batch': 200, 'div_factor': 5, 'epochs': 10, 'final_div_factor': 10000.0, 'grad_clip': 10, 'max_lr': 0.001, 'max_momentum': 0.95, 'pct_start': 0.45, 'weight_decay': 0}\n",
            "Best absolute error: 0.21451953053474426 R2: 0.8666827842954598\n",
            "----- grid search 156/216 -----\n",
            "Config: {'anneal_strategy': 'linear', 'base_momentum': 0.85, 'batch': 200, 'div_factor': 5, 'epochs': 10, 'final_div_factor': 10000.0, 'grad_clip': 10, 'max_lr': 0.005, 'max_momentum': 0.95, 'pct_start': 0.45, 'weight_decay': 0}\n",
            "Best absolute error: 0.20003610849380493 R2: 0.8810253685725576\n",
            "----- grid search 157/216 -----\n",
            "Config: {'anneal_strategy': 'linear', 'base_momentum': 0.85, 'batch': 200, 'div_factor': 5, 'epochs': 10, 'final_div_factor': 10000.0, 'grad_clip': 100, 'max_lr': 1e-05, 'max_momentum': 0.95, 'pct_start': 0.45, 'weight_decay': 0}\n",
            "Best absolute error: 0.2646457850933075 R2: 0.8356351622303284\n",
            "----- grid search 158/216 -----\n",
            "Config: {'anneal_strategy': 'linear', 'base_momentum': 0.85, 'batch': 200, 'div_factor': 5, 'epochs': 10, 'final_div_factor': 10000.0, 'grad_clip': 100, 'max_lr': 5e-05, 'max_momentum': 0.95, 'pct_start': 0.45, 'weight_decay': 0}\n",
            "Best absolute error: 0.2222459465265274 R2: 0.8665437192336781\n",
            "----- grid search 159/216 -----\n",
            "Config: {'anneal_strategy': 'linear', 'base_momentum': 0.85, 'batch': 200, 'div_factor': 5, 'epochs': 10, 'final_div_factor': 10000.0, 'grad_clip': 100, 'max_lr': 0.0001, 'max_momentum': 0.95, 'pct_start': 0.45, 'weight_decay': 0}\n",
            "Best absolute error: 0.2100028097629547 R2: 0.8762613489632801\n",
            "----- grid search 160/216 -----\n",
            "Config: {'anneal_strategy': 'linear', 'base_momentum': 0.85, 'batch': 200, 'div_factor': 5, 'epochs': 10, 'final_div_factor': 10000.0, 'grad_clip': 100, 'max_lr': 0.0005, 'max_momentum': 0.95, 'pct_start': 0.45, 'weight_decay': 0}\n",
            "Best absolute error: 0.21265016496181488 R2: 0.8708436116229611\n",
            "----- grid search 161/216 -----\n",
            "Config: {'anneal_strategy': 'linear', 'base_momentum': 0.85, 'batch': 200, 'div_factor': 5, 'epochs': 10, 'final_div_factor': 10000.0, 'grad_clip': 100, 'max_lr': 0.001, 'max_momentum': 0.95, 'pct_start': 0.45, 'weight_decay': 0}\n",
            "Best absolute error: 0.20163555443286896 R2: 0.8835107973226448\n",
            "----- grid search 162/216 -----\n",
            "Config: {'anneal_strategy': 'linear', 'base_momentum': 0.85, 'batch': 200, 'div_factor': 5, 'epochs': 10, 'final_div_factor': 10000.0, 'grad_clip': 100, 'max_lr': 0.005, 'max_momentum': 0.95, 'pct_start': 0.45, 'weight_decay': 0}\n"
          ]
        },
        {
          "output_type": "stream",
          "name": "stderr",
          "text": [
            "Traceback (most recent call last):\n",
            "  File \"<ipython-input-23-25d27a143aa6>\", line 39, in train_network\n",
            "    train_metrics[ABS_ERR] += (sk.metrics.mean_absolute_error(y, y_pred) * weight)\n",
            "  File \"/usr/local/lib/python3.7/dist-packages/sklearn/metrics/_regression.py\", line 192, in mean_absolute_error\n",
            "    y_true, y_pred, multioutput\n",
            "  File \"/usr/local/lib/python3.7/dist-packages/sklearn/metrics/_regression.py\", line 96, in _check_reg_targets\n",
            "    y_pred = check_array(y_pred, ensure_2d=False, dtype=dtype)\n",
            "  File \"/usr/local/lib/python3.7/dist-packages/sklearn/utils/validation.py\", line 800, in check_array\n",
            "    _assert_all_finite(array, allow_nan=force_all_finite == \"allow-nan\")\n",
            "  File \"/usr/local/lib/python3.7/dist-packages/sklearn/utils/validation.py\", line 116, in _assert_all_finite\n",
            "    type_err, msg_dtype if msg_dtype is not None else X.dtype\n",
            "ValueError: Input contains NaN, infinity or a value too large for dtype('float32').\n"
          ]
        },
        {
          "output_type": "stream",
          "name": "stdout",
          "text": [
            "Best absolute error: 0.256742388010025 R2: 0.8054854484326827\n",
            "----- grid search 163/216 -----\n",
            "Config: {'anneal_strategy': 'linear', 'base_momentum': 0.85, 'batch': 200, 'div_factor': 5, 'epochs': 20, 'final_div_factor': 10000.0, 'grad_clip': 1, 'max_lr': 1e-05, 'max_momentum': 0.95, 'pct_start': 0.45, 'weight_decay': 0}\n",
            "Best absolute error: 1.1901201009750366 R2: -1.4009039970900874\n",
            "----- grid search 164/216 -----\n",
            "Config: {'anneal_strategy': 'linear', 'base_momentum': 0.85, 'batch': 200, 'div_factor': 5, 'epochs': 20, 'final_div_factor': 10000.0, 'grad_clip': 1, 'max_lr': 5e-05, 'max_momentum': 0.95, 'pct_start': 0.45, 'weight_decay': 0}\n",
            "Best absolute error: 1.114098072052002 R2: -0.5250882609060177\n",
            "----- grid search 165/216 -----\n",
            "Config: {'anneal_strategy': 'linear', 'base_momentum': 0.85, 'batch': 200, 'div_factor': 5, 'epochs': 20, 'final_div_factor': 10000.0, 'grad_clip': 1, 'max_lr': 0.0001, 'max_momentum': 0.95, 'pct_start': 0.45, 'weight_decay': 0}\n",
            "Best absolute error: 0.6939297318458557 R2: 0.3853845488870994\n",
            "----- grid search 166/216 -----\n",
            "Config: {'anneal_strategy': 'linear', 'base_momentum': 0.85, 'batch': 200, 'div_factor': 5, 'epochs': 20, 'final_div_factor': 10000.0, 'grad_clip': 1, 'max_lr': 0.0005, 'max_momentum': 0.95, 'pct_start': 0.45, 'weight_decay': 0}\n",
            "Best absolute error: 0.2602580189704895 R2: 0.8105521422074013\n",
            "----- grid search 167/216 -----\n",
            "Config: {'anneal_strategy': 'linear', 'base_momentum': 0.85, 'batch': 200, 'div_factor': 5, 'epochs': 20, 'final_div_factor': 10000.0, 'grad_clip': 1, 'max_lr': 0.001, 'max_momentum': 0.95, 'pct_start': 0.45, 'weight_decay': 0}\n",
            "Best absolute error: 0.24524295330047607 R2: 0.8299037059891193\n",
            "----- grid search 168/216 -----\n",
            "Config: {'anneal_strategy': 'linear', 'base_momentum': 0.85, 'batch': 200, 'div_factor': 5, 'epochs': 20, 'final_div_factor': 10000.0, 'grad_clip': 1, 'max_lr': 0.005, 'max_momentum': 0.95, 'pct_start': 0.45, 'weight_decay': 0}\n",
            "Best absolute error: 0.21800360083580017 R2: 0.8672932714996943\n",
            "----- grid search 169/216 -----\n",
            "Config: {'anneal_strategy': 'linear', 'base_momentum': 0.85, 'batch': 200, 'div_factor': 5, 'epochs': 20, 'final_div_factor': 10000.0, 'grad_clip': 10, 'max_lr': 1e-05, 'max_momentum': 0.95, 'pct_start': 0.45, 'weight_decay': 0}\n",
            "Best absolute error: 0.4669017195701599 R2: 0.6072306305066841\n",
            "----- grid search 170/216 -----\n",
            "Config: {'anneal_strategy': 'linear', 'base_momentum': 0.85, 'batch': 200, 'div_factor': 5, 'epochs': 20, 'final_div_factor': 10000.0, 'grad_clip': 10, 'max_lr': 5e-05, 'max_momentum': 0.95, 'pct_start': 0.45, 'weight_decay': 0}\n",
            "Best absolute error: 0.28057682514190674 R2: 0.7590831893070507\n",
            "----- grid search 171/216 -----\n",
            "Config: {'anneal_strategy': 'linear', 'base_momentum': 0.85, 'batch': 200, 'div_factor': 5, 'epochs': 20, 'final_div_factor': 10000.0, 'grad_clip': 10, 'max_lr': 0.0001, 'max_momentum': 0.95, 'pct_start': 0.45, 'weight_decay': 0}\n",
            "Best absolute error: 0.2355477660894394 R2: 0.8379080748400193\n",
            "----- grid search 172/216 -----\n",
            "Config: {'anneal_strategy': 'linear', 'base_momentum': 0.85, 'batch': 200, 'div_factor': 5, 'epochs': 20, 'final_div_factor': 10000.0, 'grad_clip': 10, 'max_lr': 0.0005, 'max_momentum': 0.95, 'pct_start': 0.45, 'weight_decay': 0}\n",
            "Best absolute error: 0.21263284981250763 R2: 0.8748915427709758\n",
            "----- grid search 173/216 -----\n",
            "Config: {'anneal_strategy': 'linear', 'base_momentum': 0.85, 'batch': 200, 'div_factor': 5, 'epochs': 20, 'final_div_factor': 10000.0, 'grad_clip': 10, 'max_lr': 0.001, 'max_momentum': 0.95, 'pct_start': 0.45, 'weight_decay': 0}\n",
            "Best absolute error: 0.20913434028625488 R2: 0.8725951642232993\n",
            "----- grid search 174/216 -----\n",
            "Config: {'anneal_strategy': 'linear', 'base_momentum': 0.85, 'batch': 200, 'div_factor': 5, 'epochs': 20, 'final_div_factor': 10000.0, 'grad_clip': 10, 'max_lr': 0.005, 'max_momentum': 0.95, 'pct_start': 0.45, 'weight_decay': 0}\n",
            "Best absolute error: 0.20182424783706665 R2: 0.8807510149272547\n",
            "----- grid search 175/216 -----\n",
            "Config: {'anneal_strategy': 'linear', 'base_momentum': 0.85, 'batch': 200, 'div_factor': 5, 'epochs': 20, 'final_div_factor': 10000.0, 'grad_clip': 100, 'max_lr': 1e-05, 'max_momentum': 0.95, 'pct_start': 0.45, 'weight_decay': 0}\n",
            "Best absolute error: 0.2525346577167511 R2: 0.8383575217538011\n",
            "----- grid search 176/216 -----\n",
            "Config: {'anneal_strategy': 'linear', 'base_momentum': 0.85, 'batch': 200, 'div_factor': 5, 'epochs': 20, 'final_div_factor': 10000.0, 'grad_clip': 100, 'max_lr': 5e-05, 'max_momentum': 0.95, 'pct_start': 0.45, 'weight_decay': 0}\n",
            "Best absolute error: 0.2137136161327362 R2: 0.874153233651786\n",
            "----- grid search 177/216 -----\n",
            "Config: {'anneal_strategy': 'linear', 'base_momentum': 0.85, 'batch': 200, 'div_factor': 5, 'epochs': 20, 'final_div_factor': 10000.0, 'grad_clip': 100, 'max_lr': 0.0001, 'max_momentum': 0.95, 'pct_start': 0.45, 'weight_decay': 0}\n",
            "Best absolute error: 0.206645667552948 R2: 0.8801032642213852\n",
            "----- grid search 178/216 -----\n",
            "Config: {'anneal_strategy': 'linear', 'base_momentum': 0.85, 'batch': 200, 'div_factor': 5, 'epochs': 20, 'final_div_factor': 10000.0, 'grad_clip': 100, 'max_lr': 0.0005, 'max_momentum': 0.95, 'pct_start': 0.45, 'weight_decay': 0}\n",
            "Best absolute error: 0.20346251130104065 R2: 0.8861071528354285\n",
            "----- grid search 179/216 -----\n",
            "Config: {'anneal_strategy': 'linear', 'base_momentum': 0.85, 'batch': 200, 'div_factor': 5, 'epochs': 20, 'final_div_factor': 10000.0, 'grad_clip': 100, 'max_lr': 0.001, 'max_momentum': 0.95, 'pct_start': 0.45, 'weight_decay': 0}\n"
          ]
        },
        {
          "output_type": "stream",
          "name": "stderr",
          "text": [
            "Traceback (most recent call last):\n",
            "  File \"<ipython-input-23-25d27a143aa6>\", line 39, in train_network\n",
            "    train_metrics[ABS_ERR] += (sk.metrics.mean_absolute_error(y, y_pred) * weight)\n",
            "  File \"/usr/local/lib/python3.7/dist-packages/sklearn/metrics/_regression.py\", line 192, in mean_absolute_error\n",
            "    y_true, y_pred, multioutput\n",
            "  File \"/usr/local/lib/python3.7/dist-packages/sklearn/metrics/_regression.py\", line 96, in _check_reg_targets\n",
            "    y_pred = check_array(y_pred, ensure_2d=False, dtype=dtype)\n",
            "  File \"/usr/local/lib/python3.7/dist-packages/sklearn/utils/validation.py\", line 800, in check_array\n",
            "    _assert_all_finite(array, allow_nan=force_all_finite == \"allow-nan\")\n",
            "  File \"/usr/local/lib/python3.7/dist-packages/sklearn/utils/validation.py\", line 116, in _assert_all_finite\n",
            "    type_err, msg_dtype if msg_dtype is not None else X.dtype\n",
            "ValueError: Input contains NaN, infinity or a value too large for dtype('float32').\n"
          ]
        },
        {
          "output_type": "stream",
          "name": "stdout",
          "text": [
            "Best absolute error: 0.21101653575897217 R2: 0.8701325841015113\n",
            "----- grid search 180/216 -----\n",
            "Config: {'anneal_strategy': 'linear', 'base_momentum': 0.85, 'batch': 200, 'div_factor': 5, 'epochs': 20, 'final_div_factor': 10000.0, 'grad_clip': 100, 'max_lr': 0.005, 'max_momentum': 0.95, 'pct_start': 0.45, 'weight_decay': 0}\n"
          ]
        },
        {
          "output_type": "stream",
          "name": "stderr",
          "text": [
            "Traceback (most recent call last):\n",
            "  File \"<ipython-input-23-25d27a143aa6>\", line 39, in train_network\n",
            "    train_metrics[ABS_ERR] += (sk.metrics.mean_absolute_error(y, y_pred) * weight)\n",
            "  File \"/usr/local/lib/python3.7/dist-packages/sklearn/metrics/_regression.py\", line 192, in mean_absolute_error\n",
            "    y_true, y_pred, multioutput\n",
            "  File \"/usr/local/lib/python3.7/dist-packages/sklearn/metrics/_regression.py\", line 96, in _check_reg_targets\n",
            "    y_pred = check_array(y_pred, ensure_2d=False, dtype=dtype)\n",
            "  File \"/usr/local/lib/python3.7/dist-packages/sklearn/utils/validation.py\", line 800, in check_array\n",
            "    _assert_all_finite(array, allow_nan=force_all_finite == \"allow-nan\")\n",
            "  File \"/usr/local/lib/python3.7/dist-packages/sklearn/utils/validation.py\", line 116, in _assert_all_finite\n",
            "    type_err, msg_dtype if msg_dtype is not None else X.dtype\n",
            "ValueError: Input contains NaN, infinity or a value too large for dtype('float32').\n"
          ]
        },
        {
          "output_type": "stream",
          "name": "stdout",
          "text": [
            "Best absolute error: 0.2638966143131256 R2: 0.8429470040097694\n",
            "----- grid search 181/216 -----\n",
            "Config: {'anneal_strategy': 'linear', 'base_momentum': 0.85, 'batch': 200, 'div_factor': 2, 'epochs': 10, 'final_div_factor': 10000.0, 'grad_clip': 1, 'max_lr': 1e-05, 'max_momentum': 0.95, 'pct_start': 0.45, 'weight_decay': 0}\n",
            "Best absolute error: 1.1887694597244263 R2: -1.4203253007708798\n",
            "----- grid search 182/216 -----\n",
            "Config: {'anneal_strategy': 'linear', 'base_momentum': 0.85, 'batch': 200, 'div_factor': 2, 'epochs': 10, 'final_div_factor': 10000.0, 'grad_clip': 1, 'max_lr': 5e-05, 'max_momentum': 0.95, 'pct_start': 0.45, 'weight_decay': 0}\n",
            "Best absolute error: 0.7986425757408142 R2: 0.07839104901070237\n",
            "----- grid search 183/216 -----\n",
            "Config: {'anneal_strategy': 'linear', 'base_momentum': 0.85, 'batch': 200, 'div_factor': 2, 'epochs': 10, 'final_div_factor': 10000.0, 'grad_clip': 1, 'max_lr': 0.0001, 'max_momentum': 0.95, 'pct_start': 0.45, 'weight_decay': 0}\n",
            "Best absolute error: 0.787002682685852 R2: 0.1020043866960717\n",
            "----- grid search 184/216 -----\n",
            "Config: {'anneal_strategy': 'linear', 'base_momentum': 0.85, 'batch': 200, 'div_factor': 2, 'epochs': 10, 'final_div_factor': 10000.0, 'grad_clip': 1, 'max_lr': 0.0005, 'max_momentum': 0.95, 'pct_start': 0.45, 'weight_decay': 0}\n",
            "Best absolute error: 0.35464537143707275 R2: 0.6719362731451154\n",
            "----- grid search 185/216 -----\n",
            "Config: {'anneal_strategy': 'linear', 'base_momentum': 0.85, 'batch': 200, 'div_factor': 2, 'epochs': 10, 'final_div_factor': 10000.0, 'grad_clip': 1, 'max_lr': 0.001, 'max_momentum': 0.95, 'pct_start': 0.45, 'weight_decay': 0}\n",
            "Best absolute error: 0.2695164680480957 R2: 0.7736918937622432\n",
            "----- grid search 186/216 -----\n",
            "Config: {'anneal_strategy': 'linear', 'base_momentum': 0.85, 'batch': 200, 'div_factor': 2, 'epochs': 10, 'final_div_factor': 10000.0, 'grad_clip': 1, 'max_lr': 0.005, 'max_momentum': 0.95, 'pct_start': 0.45, 'weight_decay': 0}\n",
            "Best absolute error: 0.21614870429039001 R2: 0.8694914695065245\n",
            "----- grid search 187/216 -----\n",
            "Config: {'anneal_strategy': 'linear', 'base_momentum': 0.85, 'batch': 200, 'div_factor': 2, 'epochs': 10, 'final_div_factor': 10000.0, 'grad_clip': 10, 'max_lr': 1e-05, 'max_momentum': 0.95, 'pct_start': 0.45, 'weight_decay': 0}\n",
            "Best absolute error: 0.6444225907325745 R2: 0.2204194731676986\n",
            "----- grid search 188/216 -----\n",
            "Config: {'anneal_strategy': 'linear', 'base_momentum': 0.85, 'batch': 200, 'div_factor': 2, 'epochs': 10, 'final_div_factor': 10000.0, 'grad_clip': 10, 'max_lr': 5e-05, 'max_momentum': 0.95, 'pct_start': 0.45, 'weight_decay': 0}\n",
            "Best absolute error: 0.33831244707107544 R2: 0.6453361911477797\n",
            "----- grid search 189/216 -----\n",
            "Config: {'anneal_strategy': 'linear', 'base_momentum': 0.85, 'batch': 200, 'div_factor': 2, 'epochs': 10, 'final_div_factor': 10000.0, 'grad_clip': 10, 'max_lr': 0.0001, 'max_momentum': 0.95, 'pct_start': 0.45, 'weight_decay': 0}\n",
            "Best absolute error: 0.26987525820732117 R2: 0.795577172758731\n",
            "----- grid search 190/216 -----\n",
            "Config: {'anneal_strategy': 'linear', 'base_momentum': 0.85, 'batch': 200, 'div_factor': 2, 'epochs': 10, 'final_div_factor': 10000.0, 'grad_clip': 10, 'max_lr': 0.0005, 'max_momentum': 0.95, 'pct_start': 0.45, 'weight_decay': 0}\n",
            "Best absolute error: 0.2259521782398224 R2: 0.8721458668318789\n",
            "----- grid search 191/216 -----\n",
            "Config: {'anneal_strategy': 'linear', 'base_momentum': 0.85, 'batch': 200, 'div_factor': 2, 'epochs': 10, 'final_div_factor': 10000.0, 'grad_clip': 10, 'max_lr': 0.001, 'max_momentum': 0.95, 'pct_start': 0.45, 'weight_decay': 0}\n",
            "Best absolute error: 0.21672658622264862 R2: 0.8722460787369135\n",
            "----- grid search 192/216 -----\n",
            "Config: {'anneal_strategy': 'linear', 'base_momentum': 0.85, 'batch': 200, 'div_factor': 2, 'epochs': 10, 'final_div_factor': 10000.0, 'grad_clip': 10, 'max_lr': 0.005, 'max_momentum': 0.95, 'pct_start': 0.45, 'weight_decay': 0}\n",
            "Best absolute error: 0.20774535834789276 R2: 0.8809750570660447\n",
            "----- grid search 193/216 -----\n",
            "Config: {'anneal_strategy': 'linear', 'base_momentum': 0.85, 'batch': 200, 'div_factor': 2, 'epochs': 10, 'final_div_factor': 10000.0, 'grad_clip': 100, 'max_lr': 1e-05, 'max_momentum': 0.95, 'pct_start': 0.45, 'weight_decay': 0}\n",
            "Best absolute error: 0.23909759521484375 R2: 0.832381289329122\n",
            "----- grid search 194/216 -----\n",
            "Config: {'anneal_strategy': 'linear', 'base_momentum': 0.85, 'batch': 200, 'div_factor': 2, 'epochs': 10, 'final_div_factor': 10000.0, 'grad_clip': 100, 'max_lr': 5e-05, 'max_momentum': 0.95, 'pct_start': 0.45, 'weight_decay': 0}\n",
            "Best absolute error: 0.22383376955986023 R2: 0.8710804689476328\n",
            "----- grid search 195/216 -----\n",
            "Config: {'anneal_strategy': 'linear', 'base_momentum': 0.85, 'batch': 200, 'div_factor': 2, 'epochs': 10, 'final_div_factor': 10000.0, 'grad_clip': 100, 'max_lr': 0.0001, 'max_momentum': 0.95, 'pct_start': 0.45, 'weight_decay': 0}\n",
            "Best absolute error: 0.2100171148777008 R2: 0.8771750013309101\n",
            "----- grid search 196/216 -----\n",
            "Config: {'anneal_strategy': 'linear', 'base_momentum': 0.85, 'batch': 200, 'div_factor': 2, 'epochs': 10, 'final_div_factor': 10000.0, 'grad_clip': 100, 'max_lr': 0.0005, 'max_momentum': 0.95, 'pct_start': 0.45, 'weight_decay': 0}\n",
            "Best absolute error: 0.20235183835029602 R2: 0.8805516553845625\n",
            "----- grid search 197/216 -----\n",
            "Config: {'anneal_strategy': 'linear', 'base_momentum': 0.85, 'batch': 200, 'div_factor': 2, 'epochs': 10, 'final_div_factor': 10000.0, 'grad_clip': 100, 'max_lr': 0.001, 'max_momentum': 0.95, 'pct_start': 0.45, 'weight_decay': 0}\n"
          ]
        },
        {
          "output_type": "stream",
          "name": "stderr",
          "text": [
            "Traceback (most recent call last):\n",
            "  File \"<ipython-input-23-25d27a143aa6>\", line 39, in train_network\n",
            "    train_metrics[ABS_ERR] += (sk.metrics.mean_absolute_error(y, y_pred) * weight)\n",
            "  File \"/usr/local/lib/python3.7/dist-packages/sklearn/metrics/_regression.py\", line 192, in mean_absolute_error\n",
            "    y_true, y_pred, multioutput\n",
            "  File \"/usr/local/lib/python3.7/dist-packages/sklearn/metrics/_regression.py\", line 96, in _check_reg_targets\n",
            "    y_pred = check_array(y_pred, ensure_2d=False, dtype=dtype)\n",
            "  File \"/usr/local/lib/python3.7/dist-packages/sklearn/utils/validation.py\", line 800, in check_array\n",
            "    _assert_all_finite(array, allow_nan=force_all_finite == \"allow-nan\")\n",
            "  File \"/usr/local/lib/python3.7/dist-packages/sklearn/utils/validation.py\", line 116, in _assert_all_finite\n",
            "    type_err, msg_dtype if msg_dtype is not None else X.dtype\n",
            "ValueError: Input contains NaN, infinity or a value too large for dtype('float32').\n"
          ]
        },
        {
          "output_type": "stream",
          "name": "stdout",
          "text": [
            "Best absolute error: 0.29760876297950745 R2: 0.7312180940898455\n",
            "----- grid search 198/216 -----\n",
            "Config: {'anneal_strategy': 'linear', 'base_momentum': 0.85, 'batch': 200, 'div_factor': 2, 'epochs': 10, 'final_div_factor': 10000.0, 'grad_clip': 100, 'max_lr': 0.005, 'max_momentum': 0.95, 'pct_start': 0.45, 'weight_decay': 0}\n"
          ]
        },
        {
          "output_type": "stream",
          "name": "stderr",
          "text": [
            "Traceback (most recent call last):\n",
            "  File \"<ipython-input-23-25d27a143aa6>\", line 39, in train_network\n",
            "    train_metrics[ABS_ERR] += (sk.metrics.mean_absolute_error(y, y_pred) * weight)\n",
            "  File \"/usr/local/lib/python3.7/dist-packages/sklearn/metrics/_regression.py\", line 192, in mean_absolute_error\n",
            "    y_true, y_pred, multioutput\n",
            "  File \"/usr/local/lib/python3.7/dist-packages/sklearn/metrics/_regression.py\", line 96, in _check_reg_targets\n",
            "    y_pred = check_array(y_pred, ensure_2d=False, dtype=dtype)\n",
            "  File \"/usr/local/lib/python3.7/dist-packages/sklearn/utils/validation.py\", line 800, in check_array\n",
            "    _assert_all_finite(array, allow_nan=force_all_finite == \"allow-nan\")\n",
            "  File \"/usr/local/lib/python3.7/dist-packages/sklearn/utils/validation.py\", line 116, in _assert_all_finite\n",
            "    type_err, msg_dtype if msg_dtype is not None else X.dtype\n",
            "ValueError: Input contains NaN, infinity or a value too large for dtype('float32').\n"
          ]
        },
        {
          "output_type": "stream",
          "name": "stdout",
          "text": [
            "Best absolute error: 0.8977095484733582 R2: -0.6271174499942602\n",
            "----- grid search 199/216 -----\n",
            "Config: {'anneal_strategy': 'linear', 'base_momentum': 0.85, 'batch': 200, 'div_factor': 2, 'epochs': 20, 'final_div_factor': 10000.0, 'grad_clip': 1, 'max_lr': 1e-05, 'max_momentum': 0.95, 'pct_start': 0.45, 'weight_decay': 0}\n",
            "Best absolute error: 0.8875692486763 R2: -0.31163734590788006\n",
            "----- grid search 200/216 -----\n",
            "Config: {'anneal_strategy': 'linear', 'base_momentum': 0.85, 'batch': 200, 'div_factor': 2, 'epochs': 20, 'final_div_factor': 10000.0, 'grad_clip': 1, 'max_lr': 5e-05, 'max_momentum': 0.95, 'pct_start': 0.45, 'weight_decay': 0}\n",
            "Best absolute error: 0.9753445982933044 R2: -0.2702435331331581\n",
            "----- grid search 201/216 -----\n",
            "Config: {'anneal_strategy': 'linear', 'base_momentum': 0.85, 'batch': 200, 'div_factor': 2, 'epochs': 20, 'final_div_factor': 10000.0, 'grad_clip': 1, 'max_lr': 0.0001, 'max_momentum': 0.95, 'pct_start': 0.45, 'weight_decay': 0}\n",
            "Best absolute error: 0.41702800989151 R2: 0.5633784556530954\n",
            "----- grid search 202/216 -----\n",
            "Config: {'anneal_strategy': 'linear', 'base_momentum': 0.85, 'batch': 200, 'div_factor': 2, 'epochs': 20, 'final_div_factor': 10000.0, 'grad_clip': 1, 'max_lr': 0.0005, 'max_momentum': 0.95, 'pct_start': 0.45, 'weight_decay': 0}\n",
            "Best absolute error: 0.29574331641197205 R2: 0.7130116489977987\n",
            "----- grid search 203/216 -----\n",
            "Config: {'anneal_strategy': 'linear', 'base_momentum': 0.85, 'batch': 200, 'div_factor': 2, 'epochs': 20, 'final_div_factor': 10000.0, 'grad_clip': 1, 'max_lr': 0.001, 'max_momentum': 0.95, 'pct_start': 0.45, 'weight_decay': 0}\n",
            "Best absolute error: 0.23849084973335266 R2: 0.8441356054526044\n",
            "----- grid search 204/216 -----\n",
            "Config: {'anneal_strategy': 'linear', 'base_momentum': 0.85, 'batch': 200, 'div_factor': 2, 'epochs': 20, 'final_div_factor': 10000.0, 'grad_clip': 1, 'max_lr': 0.005, 'max_momentum': 0.95, 'pct_start': 0.45, 'weight_decay': 0}\n",
            "Best absolute error: 0.21583464741706848 R2: 0.8726411417108659\n",
            "----- grid search 205/216 -----\n",
            "Config: {'anneal_strategy': 'linear', 'base_momentum': 0.85, 'batch': 200, 'div_factor': 2, 'epochs': 20, 'final_div_factor': 10000.0, 'grad_clip': 10, 'max_lr': 1e-05, 'max_momentum': 0.95, 'pct_start': 0.45, 'weight_decay': 0}\n",
            "Best absolute error: 0.44942641258239746 R2: 0.5533347952630798\n",
            "----- grid search 206/216 -----\n",
            "Config: {'anneal_strategy': 'linear', 'base_momentum': 0.85, 'batch': 200, 'div_factor': 2, 'epochs': 20, 'final_div_factor': 10000.0, 'grad_clip': 10, 'max_lr': 5e-05, 'max_momentum': 0.95, 'pct_start': 0.45, 'weight_decay': 0}\n",
            "Best absolute error: 0.2705877423286438 R2: 0.7695907533995745\n",
            "----- grid search 207/216 -----\n",
            "Config: {'anneal_strategy': 'linear', 'base_momentum': 0.85, 'batch': 200, 'div_factor': 2, 'epochs': 20, 'final_div_factor': 10000.0, 'grad_clip': 10, 'max_lr': 0.0001, 'max_momentum': 0.95, 'pct_start': 0.45, 'weight_decay': 0}\n",
            "Best absolute error: 0.23657327890396118 R2: 0.8493836130875152\n",
            "----- grid search 208/216 -----\n",
            "Config: {'anneal_strategy': 'linear', 'base_momentum': 0.85, 'batch': 200, 'div_factor': 2, 'epochs': 20, 'final_div_factor': 10000.0, 'grad_clip': 10, 'max_lr': 0.0005, 'max_momentum': 0.95, 'pct_start': 0.45, 'weight_decay': 0}\n",
            "Best absolute error: 0.21521690487861633 R2: 0.8730076431882221\n",
            "----- grid search 209/216 -----\n",
            "Config: {'anneal_strategy': 'linear', 'base_momentum': 0.85, 'batch': 200, 'div_factor': 2, 'epochs': 20, 'final_div_factor': 10000.0, 'grad_clip': 10, 'max_lr': 0.001, 'max_momentum': 0.95, 'pct_start': 0.45, 'weight_decay': 0}\n",
            "Best absolute error: 0.22747802734375 R2: 0.8492050627097171\n",
            "----- grid search 210/216 -----\n",
            "Config: {'anneal_strategy': 'linear', 'base_momentum': 0.85, 'batch': 200, 'div_factor': 2, 'epochs': 20, 'final_div_factor': 10000.0, 'grad_clip': 10, 'max_lr': 0.005, 'max_momentum': 0.95, 'pct_start': 0.45, 'weight_decay': 0}\n",
            "Best absolute error: 0.21365326642990112 R2: 0.8691172965547653\n",
            "----- grid search 211/216 -----\n",
            "Config: {'anneal_strategy': 'linear', 'base_momentum': 0.85, 'batch': 200, 'div_factor': 2, 'epochs': 20, 'final_div_factor': 10000.0, 'grad_clip': 100, 'max_lr': 1e-05, 'max_momentum': 0.95, 'pct_start': 0.45, 'weight_decay': 0}\n",
            "Best absolute error: 0.26637381315231323 R2: 0.7873238404315158\n",
            "----- grid search 212/216 -----\n",
            "Config: {'anneal_strategy': 'linear', 'base_momentum': 0.85, 'batch': 200, 'div_factor': 2, 'epochs': 20, 'final_div_factor': 10000.0, 'grad_clip': 100, 'max_lr': 5e-05, 'max_momentum': 0.95, 'pct_start': 0.45, 'weight_decay': 0}\n",
            "Best absolute error: 0.2129247784614563 R2: 0.872961310459208\n",
            "----- grid search 213/216 -----\n",
            "Config: {'anneal_strategy': 'linear', 'base_momentum': 0.85, 'batch': 200, 'div_factor': 2, 'epochs': 20, 'final_div_factor': 10000.0, 'grad_clip': 100, 'max_lr': 0.0001, 'max_momentum': 0.95, 'pct_start': 0.45, 'weight_decay': 0}\n",
            "Best absolute error: 0.20755881071090698 R2: 0.8787438225050757\n",
            "----- grid search 214/216 -----\n",
            "Config: {'anneal_strategy': 'linear', 'base_momentum': 0.85, 'batch': 200, 'div_factor': 2, 'epochs': 20, 'final_div_factor': 10000.0, 'grad_clip': 100, 'max_lr': 0.0005, 'max_momentum': 0.95, 'pct_start': 0.45, 'weight_decay': 0}\n"
          ]
        },
        {
          "output_type": "stream",
          "name": "stderr",
          "text": [
            "Traceback (most recent call last):\n",
            "  File \"<ipython-input-23-25d27a143aa6>\", line 39, in train_network\n",
            "    train_metrics[ABS_ERR] += (sk.metrics.mean_absolute_error(y, y_pred) * weight)\n",
            "  File \"/usr/local/lib/python3.7/dist-packages/sklearn/metrics/_regression.py\", line 192, in mean_absolute_error\n",
            "    y_true, y_pred, multioutput\n",
            "  File \"/usr/local/lib/python3.7/dist-packages/sklearn/metrics/_regression.py\", line 96, in _check_reg_targets\n",
            "    y_pred = check_array(y_pred, ensure_2d=False, dtype=dtype)\n",
            "  File \"/usr/local/lib/python3.7/dist-packages/sklearn/utils/validation.py\", line 800, in check_array\n",
            "    _assert_all_finite(array, allow_nan=force_all_finite == \"allow-nan\")\n",
            "  File \"/usr/local/lib/python3.7/dist-packages/sklearn/utils/validation.py\", line 116, in _assert_all_finite\n",
            "    type_err, msg_dtype if msg_dtype is not None else X.dtype\n",
            "ValueError: Input contains NaN, infinity or a value too large for dtype('float32').\n"
          ]
        },
        {
          "output_type": "stream",
          "name": "stdout",
          "text": [
            "Best absolute error: 0.20830895006656647 R2: 0.878005317914745\n",
            "----- grid search 215/216 -----\n",
            "Config: {'anneal_strategy': 'linear', 'base_momentum': 0.85, 'batch': 200, 'div_factor': 2, 'epochs': 20, 'final_div_factor': 10000.0, 'grad_clip': 100, 'max_lr': 0.001, 'max_momentum': 0.95, 'pct_start': 0.45, 'weight_decay': 0}\n",
            "Best absolute error: 0.20472455024719238 R2: 0.8810088670023737\n",
            "----- grid search 216/216 -----\n",
            "Config: {'anneal_strategy': 'linear', 'base_momentum': 0.85, 'batch': 200, 'div_factor': 2, 'epochs': 20, 'final_div_factor': 10000.0, 'grad_clip': 100, 'max_lr': 0.005, 'max_momentum': 0.95, 'pct_start': 0.45, 'weight_decay': 0}\n",
            "Best absolute error: 0.3357750177383423 R2: 0.6773664416030925\n"
          ]
        },
        {
          "output_type": "stream",
          "name": "stderr",
          "text": [
            "Traceback (most recent call last):\n",
            "  File \"<ipython-input-23-25d27a143aa6>\", line 39, in train_network\n",
            "    train_metrics[ABS_ERR] += (sk.metrics.mean_absolute_error(y, y_pred) * weight)\n",
            "  File \"/usr/local/lib/python3.7/dist-packages/sklearn/metrics/_regression.py\", line 192, in mean_absolute_error\n",
            "    y_true, y_pred, multioutput\n",
            "  File \"/usr/local/lib/python3.7/dist-packages/sklearn/metrics/_regression.py\", line 96, in _check_reg_targets\n",
            "    y_pred = check_array(y_pred, ensure_2d=False, dtype=dtype)\n",
            "  File \"/usr/local/lib/python3.7/dist-packages/sklearn/utils/validation.py\", line 800, in check_array\n",
            "    _assert_all_finite(array, allow_nan=force_all_finite == \"allow-nan\")\n",
            "  File \"/usr/local/lib/python3.7/dist-packages/sklearn/utils/validation.py\", line 116, in _assert_all_finite\n",
            "    type_err, msg_dtype if msg_dtype is not None else X.dtype\n",
            "ValueError: Input contains NaN, infinity or a value too large for dtype('float32').\n"
          ]
        }
      ]
    },
    {
      "cell_type": "code",
      "metadata": {
        "id": "cFJPhmq1faoa",
        "colab": {
          "base_uri": "https://localhost:8080/",
          "height": 890
        },
        "outputId": "accfd1fa-964f-489a-9eaa-7354fd85870f"
      },
      "source": [
        "# plot_and_evaluate_CEnsored(CHECKPOINT_DEEP_TOBIT_REPARAMETRIZED_TRUNCATED, model_fn = DenseNetwork, isGrid = False)\n",
        "plot_and_evaluate_CEnsored(CHECKPOINT_DEEP_TOBIT_REPARAMETRIZED_TRUNCATED, model_fn = DenseNetwork, isGrid = True)"
      ],
      "execution_count": null,
      "outputs": [
        {
          "output_type": "display_data",
          "data": {
            "text/plain": [
              "<Figure size 432x288 with 1 Axes>"
            ],
            "image/png": "[encoded data removed]"
          },
          "metadata": {
            "needs_background": "light"
          }
        },
        {
          "output_type": "stream",
          "name": "stdout",
          "text": [
            "(1000,) (1000,) (1000,)\n"
          ]
        },
        {
          "output_type": "display_data",
          "data": {
            "text/plain": [
              "<Figure size 432x288 with 1 Axes>"
            ],
            "image/png": "[encoded data removed]"
          },
          "metadata": {
            "needs_background": "light"
          }
        },
        {
          "output_type": "display_data",
          "data": {
            "text/plain": [
              "<Figure size 432x288 with 1 Axes>"
            ],
            "image/png": "[encoded data removed]"
          },
          "metadata": {
            "needs_background": "light"
          }
        },
        {
          "output_type": "stream",
          "name": "stdout",
          "text": [
            "Absolute error - validation 0.1988130807876587\n",
            "R2 - validation 0.8859755023548125\n",
            "Absolute error - test 0.42836788296699524\n",
            "R2 - test 0.8537301359278229\n"
          ]
        }
      ]
    },
    {
      "cell_type": "code",
      "metadata": {
        "id": "l1lboDrF46xq",
        "colab": {
          "base_uri": "https://localhost:8080/"
        },
        "outputId": "884cf984-2009-4919-d85c-226e04753e25"
      },
      "source": [
        "grid_results = t.load(GRID_RESULTS_FILE)\n",
        "best_config = grid_results['best']\n",
        "best_metrics = grid_results[str(best_config)]\n",
        "print(best_config)\n",
        "print(best_metrics)"
      ],
      "execution_count": null,
      "outputs": [
        {
          "output_type": "stream",
          "name": "stdout",
          "text": [
            "{'anneal_strategy': 'linear', 'base_momentum': 0.85, 'batch': 100, 'div_factor': 10, 'epochs': 20, 'final_div_factor': 10000.0, 'grad_clip': 100, 'max_lr': 0.001, 'max_momentum': 0.95, 'pct_start': 0.45, 'weight_decay': 0}\n",
            "[2.66325378e+02 1.98813081e-01 8.85975502e-01]\n"
          ]
        }
      ]
    }
  ]
}